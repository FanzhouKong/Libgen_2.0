{
 "cells": [
  {
   "cell_type": "code",
   "execution_count": 2,
   "metadata": {
    "collapsed": true,
    "pycharm": {
     "name": "#%%\n"
    }
   },
   "outputs": [],
   "source": [
    "import time\n",
    "import os\n",
    "import seaborn as sns\n",
    "import numpy as np\n",
    "import pandas as pd\n",
    "import sys\n",
    "%load_ext autoreload\n",
    "%autoreload 2\n",
    "from mimas.tools.spectral_file.extract_ms1_feature import process_mzml_file, extract_ms2_spectra, find_features\n",
    "import logging\n",
    "from toolsets.spectra_operations import entropy_similarity_default\n",
    "from toolsets.std_list_prep import complete_adducts, complete_formula\n",
    "# from toolsets.API_gets import complete_smiles\n",
    "from toolsets.search import string_search, num_search\n",
    "import toolsets.spectra_operations as so\n",
    "from tqdm import tqdm\n",
    "from toolsets.features_by_alphapept import find_features_alphapept\n",
    "import matplotlib.pyplot as plt\n",
    "import seaborn as sns\n",
    "EAD_source = '/Users/fanzhoukong/Documents/GitHub/Libgen_data/EAD'\n",
    "EAD_bio_source = '/Users/fanzhoukong/Documents/GitHub/Libgen_data/EAD/biological_samples/'\n",
    "UVPD_source = \"/Users/fanzhoukong/Documents/GitHub/Libgen_data/UVPD\"\n",
    "figure_source = \"/Users/fanzhoukong/Documents/GitHub/Libgen_data/manuscript\"\n",
    "ead_source_dir = '/Users/fanzhoukong/Documents/GitHub/Libgen_data/EAD'\n",
    "uvpd_source_dir = \"/Users/fanzhoukong/Documents/GitHub/Libgen_data/UVPD\"\n",
    "\n",
    "uvpd_lib = pd.read_csv(os.path.join(uvpd_source_dir, 'UVPD_library_cla.csv'))\n",
    "hcd_lib = pd.read_csv(os.path.join(uvpd_source_dir, 'HCD_library_cla.csv'))\n",
    "ead_lib = pd.read_csv(os.path.join(ead_source_dir, 'EAD_library_cla.csv'))\n",
    "# ead_pfp_lib =pd.read_csv(os.path.join(ead_source_dir, 'data_pfp_lib_final.csv'))\n",
    "# ead_hilic_lib =pd.read_csv(os.path.join(ead_source_dir, 'data_hilic_lib_final.csv'))\n",
    "# ead_lib = pd.concat([ead_pfp_lib, ead_hilic_lib], axis=0, ignore_index=True)"
   ]
  },
  {
   "cell_type": "code",
   "execution_count": 3,
   "outputs": [],
   "source": [
    "ead_replib = pd.read_csv(os.path.join(ead_source_dir, 'matched_mapped_with_duplicates_all_denoised_post.csv'))"
   ],
   "metadata": {
    "collapsed": false,
    "pycharm": {
     "name": "#%%\n"
    }
   }
  },
  {
   "cell_type": "code",
   "execution_count": 11,
   "outputs": [],
   "source": [
    "from toolsets.file_io import read_msp_files"
   ],
   "metadata": {
    "collapsed": false,
    "pycharm": {
     "name": "#%%\n"
    }
   }
  },
  {
   "cell_type": "code",
   "execution_count": 20,
   "outputs": [
    {
     "name": "stdout",
     "output_type": "stream",
     "text": [
      "cleaning incoming spectrum\n"
     ]
    },
    {
     "name": "stderr",
     "output_type": "stream",
     "text": [
      "100%|██████████| 3333/3333 [04:39<00:00, 11.90it/s]\n"
     ]
    },
    {
     "name": "stdout",
     "output_type": "stream",
     "text": [
      "cleaning incoming spectrum\n"
     ]
    },
    {
     "name": "stderr",
     "output_type": "stream",
     "text": [
      "100%|██████████| 2431/2431 [02:32<00:00, 15.91it/s]\n"
     ]
    }
   ],
   "source": [
    "hilic_bio = read_msp_files(os.path.join(EAD_bio_source, 'HILIC_pos.msp'))\n",
    "pfp_bio = read_msp_files(os.path.join(EAD_bio_source, 'PFP_pos.msp'))\n",
    "bio_all = pd.concat([hilic_bio, pfp_bio], axis=0)\n",
    "bio_all.to_csv(os.path.join(EAD_source, 'bio_all.csv'), index = False)"
   ],
   "metadata": {
    "collapsed": false,
    "pycharm": {
     "name": "#%%\n"
    }
   }
  },
  {
   "cell_type": "code",
   "execution_count": 5,
   "outputs": [
    {
     "name": "stdout",
     "output_type": "stream",
     "text": [
      "i am msms_search!!!!!\n"
     ]
    }
   ],
   "source": [
    "from toolsets.msms_search import entropy_search_identity"
   ],
   "metadata": {
    "collapsed": false,
    "pycharm": {
     "name": "#%%\n"
    }
   }
  },
  {
   "cell_type": "code",
   "execution_count": 67,
   "outputs": [
    {
     "name": "stderr",
     "output_type": "stream",
     "text": [
      "100%|██████████| 5764/5764 [05:47<00:00, 16.59it/s]  \n"
     ]
    }
   ],
   "source": [
    "# searched_rip = pd.DataFrame()\n",
    "# bio_peaks_rip = []\n",
    "# rt_rip = []\n",
    "# for index, row in tqdm(bio_all.iterrows(), total=len(bio_all)):\n",
    "#     search_result =entropy_search_identity(row['peaks'], row['PRECURSORMZ'], ead_replib, return_type='max')\n",
    "#     if (search_result) is not np.NAN:\n",
    "#         bio_peaks_rip.append(row['peaks'])\n",
    "#         rt_rip.append(row['RETENTIONTIME'])\n",
    "#         searched_rip= searched_rip.append(search_result)\n"
   ],
   "metadata": {
    "collapsed": false,
    "pycharm": {
     "name": "#%%\n"
    }
   }
  },
  {
   "cell_type": "code",
   "execution_count": 3,
   "outputs": [],
   "source": [
    "bio_all = pd.read_csv(os.path.join(EAD_source, 'bio_all.csv'))"
   ],
   "metadata": {
    "collapsed": false,
    "pycharm": {
     "name": "#%%\n"
    }
   }
  },
  {
   "cell_type": "code",
   "execution_count": 6,
   "outputs": [
    {
     "name": "stderr",
     "output_type": "stream",
     "text": [
      "100%|██████████| 5764/5764 [04:09<00:00, 23.13it/s] \n"
     ]
    }
   ],
   "source": [
    "searched = pd.DataFrame()\n",
    "bio_peaks = []\n",
    "rt = []\n",
    "for index, row in tqdm(bio_all.iterrows(), total=len(bio_all)):\n",
    "    search_result =entropy_search_identity(row['peaks'], row['PRECURSORMZ'], ead_lib, return_type='max')\n",
    "    if (search_result) is not np.NAN:\n",
    "        bio_peaks.append(row['peaks'])\n",
    "        searched= searched.append(search_result)\n",
    "        rt.append(row['RETENTIONTIME'])"
   ],
   "metadata": {
    "collapsed": false,
    "pycharm": {
     "name": "#%%\n"
    }
   }
  },
  {
   "cell_type": "code",
   "execution_count": 8,
   "outputs": [
    {
     "data": {
      "text/plain": "count    89.000000\nmean      0.824958\nstd       0.050258\nmin       0.750015\n25%       0.785599\n50%       0.822591\n75%       0.855771\nmax       0.952315\nName: matched_entropy, dtype: float64"
     },
     "execution_count": 8,
     "metadata": {},
     "output_type": "execute_result"
    }
   ],
   "source": [
    "searched['matched_entropy'].describe()"
   ],
   "metadata": {
    "collapsed": false,
    "pycharm": {
     "name": "#%%\n"
    }
   }
  },
  {
   "cell_type": "code",
   "execution_count": 75,
   "outputs": [],
   "source": [
    "std_list_hilic=pd.read_csv(os.path.join(ead_source_dir, 'std_list_hilic_cleaned.csv'))\n",
    "std_list_pfp=pd.read_csv(os.path.join(ead_source_dir, 'std_list_pfp_cleaned.csv'))"
   ],
   "metadata": {
    "collapsed": false,
    "pycharm": {
     "name": "#%%\n"
    }
   }
  },
  {
   "cell_type": "code",
   "execution_count": 76,
   "outputs": [],
   "source": [
    "std_list_ead = pd.concat([std_list_hilic, std_list_pfp], axis=0)"
   ],
   "metadata": {
    "collapsed": false,
    "pycharm": {
     "name": "#%%\n"
    }
   }
  },
  {
   "cell_type": "code",
   "execution_count": 78,
   "outputs": [
    {
     "data": {
      "text/plain": "2951"
     },
     "execution_count": 78,
     "metadata": {},
     "output_type": "execute_result"
    }
   ],
   "source": [
    "len(std_list_ead['inchikey'].unique())"
   ],
   "metadata": {
    "collapsed": false,
    "pycharm": {
     "name": "#%%\n"
    }
   }
  },
  {
   "cell_type": "code",
   "execution_count": 79,
   "outputs": [],
   "source": [
    "std_list_uvpd = pd.read_csv(os.path.join(uvpd_source_dir, 'std_list_pos_ready.csv'))"
   ],
   "metadata": {
    "collapsed": false,
    "pycharm": {
     "name": "#%%\n"
    }
   }
  },
  {
   "cell_type": "code",
   "execution_count": 81,
   "outputs": [
    {
     "data": {
      "text/plain": "2007"
     },
     "execution_count": 81,
     "metadata": {},
     "output_type": "execute_result"
    }
   ],
   "source": [
    "len(std_list_uvpd['inchikey'].unique())"
   ],
   "metadata": {
    "collapsed": false,
    "pycharm": {
     "name": "#%%\n"
    }
   }
  },
  {
   "cell_type": "code",
   "execution_count": 73,
   "outputs": [
    {
     "data": {
      "text/plain": "1813"
     },
     "execution_count": 73,
     "metadata": {},
     "output_type": "execute_result"
    }
   ],
   "source": [
    "len(ead_lib['reference_inchikey'].unique())"
   ],
   "metadata": {
    "collapsed": false,
    "pycharm": {
     "name": "#%%\n"
    }
   }
  }
 ],
 "metadata": {
  "kernelspec": {
   "name": "alphapept_env",
   "language": "python",
   "display_name": "alphapept_env"
  },
  "language_info": {
   "codemirror_mode": {
    "name": "ipython",
    "version": 2
   },
   "file_extension": ".py",
   "mimetype": "text/x-python",
   "name": "python",
   "nbconvert_exporter": "python",
   "pygments_lexer": "ipython2",
   "version": "2.7.6"
  }
 },
 "nbformat": 4,
 "nbformat_minor": 0
}