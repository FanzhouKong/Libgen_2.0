{
 "cells": [
  {
   "cell_type": "code",
   "execution_count": 2,
   "outputs": [
    {
     "name": "stdout",
     "output_type": "stream",
     "text": [
      "The autoreload extension is already loaded. To reload it, use:\n",
      "  %reload_ext autoreload\n"
     ]
    }
   ],
   "source": [
    "import time\n",
    "import os\n",
    "import seaborn as sns\n",
    "import numpy as np\n",
    "import pandas as pd\n",
    "import sys\n",
    "%load_ext autoreload\n",
    "%autoreload 2\n",
    "from mimas.tools.spectral_file.extract_ms1_feature import process_mzml_file, extract_ms2_spectra, find_features\n",
    "import logging\n",
    "from toolsets.spectra_operations import entropy_similarity_default\n",
    "from toolsets.std_list_prep import complete_adducts, complete_formula\n",
    "# from toolsets.API_gets import complete_smiles\n",
    "from toolsets.search import string_search, num_search\n",
    "import toolsets.spectra_operations as so\n",
    "from tqdm import tqdm\n",
    "from toolsets.features_by_alphapept import find_features_alphapept\n",
    "import matplotlib.pyplot as plt\n",
    "import seaborn as sns\n",
    "import toolsets.spectra_plotter as plotter\n",
    "from toolsets.helpers import find_common_items\n",
    "from toolsets.API_gets import name_to_smiles\n",
    "source_dir = '/Users/fanzhoukong/Documents/GitHub/Libgen_data/Elys_low_conc'\n",
    "data_all = pd.read_csv(os.path.join(source_dir, 'elys_data.csv'))"
   ],
   "metadata": {
    "collapsed": false,
    "pycharm": {
     "name": "#%%\n"
    }
   }
  },
  {
   "cell_type": "code",
   "execution_count": 11,
   "outputs": [],
   "source": [
    "def clean_data(data):\n",
    "    data.reset_index(inplace=True, drop=True)\n",
    "    peaks= []\n",
    "    print('cleaning spectra...')\n",
    "    for index, row in tqdm(data.iterrows(), total = len(data)):\n",
    "        peak_temp = so.convert_scc_to_string(row['peaks'])\n",
    "        peak_temp = so.clean_spectrum(peak_temp, max_mz=row['precursor_mz'], tolerance=0.05)\n",
    "        peaks.append(peak_temp)\n",
    "    data['peaks_cleaned']=peaks\n",
    "    smiles = []\n",
    "    print('fetching smiles...')\n",
    "    for name in tqdm(data['name']):\n",
    "        smiles.append(name_to_smiles(name))\n",
    "    print('finishing up...')\n",
    "    data['reference_smiles']=smiles\n",
    "    data.dropna(subset=['reference_smiles'], inplace=True)\n",
    "    data.reset_index(inplace=True, drop=True)\n",
    "    data['adduct']=data['adduct'].replace({'M-H':'[M-H]-', 'M+H':'[M+H]+'})\n",
    "    data.rename(columns={'adduct':'reference_adduct', 'precursor_mz':'reference_precursor_mz'}, inplace=True)\n",
    "    return(data)"
   ],
   "metadata": {
    "collapsed": false,
    "pycharm": {
     "name": "#%%\n"
    }
   }
  },
  {
   "cell_type": "code",
   "execution_count": 12,
   "outputs": [
    {
     "name": "stdout",
     "output_type": "stream",
     "text": [
      "cleaning spectra...\n"
     ]
    },
    {
     "name": "stderr",
     "output_type": "stream",
     "text": [
      "100%|██████████| 1058/1058 [00:21<00:00, 50.30it/s]\n"
     ]
    },
    {
     "name": "stdout",
     "output_type": "stream",
     "text": [
      "fetching smiles...\n"
     ]
    },
    {
     "name": "stderr",
     "output_type": "stream",
     "text": [
      "100%|██████████| 1058/1058 [20:12<00:00,  1.15s/it]"
     ]
    },
    {
     "name": "stdout",
     "output_type": "stream",
     "text": [
      "finishing up...\n"
     ]
    },
    {
     "name": "stderr",
     "output_type": "stream",
     "text": [
      "\n"
     ]
    }
   ],
   "source": [
    "data_1 = string_search(data_all, 'concentration', 1)\n",
    "data_1= clean_data(data_1)"
   ],
   "metadata": {
    "collapsed": false,
    "pycharm": {
     "name": "#%%\n"
    }
   }
  },
  {
   "cell_type": "code",
   "execution_count": 13,
   "outputs": [
    {
     "name": "stdout",
     "output_type": "stream",
     "text": [
      "cleaning spectra...\n"
     ]
    },
    {
     "name": "stderr",
     "output_type": "stream",
     "text": [
      "100%|██████████| 347/347 [00:02<00:00, 160.41it/s]\n"
     ]
    },
    {
     "name": "stdout",
     "output_type": "stream",
     "text": [
      "fetching smiles...\n"
     ]
    },
    {
     "name": "stderr",
     "output_type": "stream",
     "text": [
      "100%|██████████| 347/347 [05:28<00:00,  1.06it/s]"
     ]
    },
    {
     "name": "stdout",
     "output_type": "stream",
     "text": [
      "finishing up...\n"
     ]
    },
    {
     "name": "stderr",
     "output_type": "stream",
     "text": [
      "\n"
     ]
    }
   ],
   "source": [
    "data_13 = string_search(data_all, 'concentration', 13)\n",
    "data_13= clean_data(data_13)"
   ],
   "metadata": {
    "collapsed": false,
    "pycharm": {
     "name": "#%%\n"
    }
   }
  },
  {
   "cell_type": "code",
   "execution_count": 14,
   "outputs": [],
   "source": [
    "data_1.to_csv(os.path.join(source_dir, 'data_1.csv'), index=False)\n",
    "data_13.to_csv(os.path.join(source_dir, 'data_13.csv'), index=False)"
   ],
   "metadata": {
    "collapsed": false,
    "pycharm": {
     "name": "#%%\n"
    }
   }
  },
  {
   "cell_type": "code",
   "execution_count": null,
   "outputs": [],
   "source": [],
   "metadata": {
    "collapsed": false,
    "pycharm": {
     "name": "#%%\n"
    }
   }
  },
  {
   "cell_type": "code",
   "execution_count": 21,
   "outputs": [],
   "source": [
    "def get_formula(data):\n",
    "    from rdkit import Chem\n",
    "    from rdkit.Chem.rdMolDescriptors import CalcMolFormula\n",
    "    formula = []\n",
    "    for index, row in data.iterrows():\n",
    "        mol_temp = Chem.MolFromSmiles(row['reference_smiles'])\n",
    "        try:\n",
    "            formula.append(CalcMolFormula(mol_temp))\n",
    "        except:\n",
    "            formula.append(np.NAN)\n",
    "    data['reference_formula']=formula\n",
    "    data.dropna(subset=['reference_formula'], inplace=True)\n",
    "    data.reset_index(inplace = True, drop = True)\n",
    "    return(data)"
   ],
   "metadata": {
    "collapsed": false,
    "pycharm": {
     "name": "#%%\n"
    }
   }
  },
  {
   "cell_type": "code",
   "execution_count": 22,
   "outputs": [
    {
     "name": "stderr",
     "output_type": "stream",
     "text": [
      "[19:13:59] WARNING: not removing hydrogen atom without neighbors\n",
      "[19:13:59] WARNING: not removing hydrogen atom without neighbors\n",
      "[19:13:59] WARNING: not removing hydrogen atom without neighbors\n",
      "[19:13:59] WARNING: not removing hydrogen atom without neighbors\n",
      "[19:13:59] WARNING: not removing hydrogen atom without neighbors\n",
      "[19:13:59] WARNING: not removing hydrogen atom without neighbors\n",
      "[19:13:59] WARNING: not removing hydrogen atom without neighbors\n",
      "[19:13:59] WARNING: not removing hydrogen atom without neighbors\n",
      "[19:13:59] WARNING: not removing hydrogen atom without neighbors\n",
      "[19:13:59] WARNING: not removing hydrogen atom without neighbors\n",
      "[19:13:59] WARNING: not removing hydrogen atom without neighbors\n",
      "[19:13:59] WARNING: not removing hydrogen atom without neighbors\n",
      "[19:13:59] WARNING: not removing hydrogen atom without neighbors\n",
      "[19:13:59] WARNING: not removing hydrogen atom without neighbors\n",
      "[19:13:59] WARNING: not removing hydrogen atom without neighbors\n"
     ]
    }
   ],
   "source": [
    "data_1 = get_formula(data_1)\n",
    "data_13=get_formula(data_13)"
   ],
   "metadata": {
    "collapsed": false,
    "pycharm": {
     "name": "#%%\n"
    }
   }
  },
  {
   "cell_type": "code",
   "execution_count": 27,
   "outputs": [],
   "source": [
    "def denoising(data):\n",
    "    from toolsets.denoising_related_functions import denoise_blacklist\n",
    "    from toolsets.spectra_operations import calculate_explained_intensity\n",
    "    msms_d = []\n",
    "    ei = []\n",
    "    normalized_entropy = []\n",
    "    for index, row in tqdm(data.iterrows(), total=len(data)) :\n",
    "        normalized_entropy.append(so.normalized_entropy(row['peaks_cleaned']))\n",
    "        try:\n",
    "            msms_d_temp =(denoise_blacklist(row, typeofmsms = 'peaks_cleaned', mass_error=0.05, ifppm=False))\n",
    "            msms_d.append(msms_d_temp)\n",
    "            ei.append(calculate_explained_intensity(msms_d_temp, row['peaks_cleaned'],row['reference_precursor_mz'] ))\n",
    "        except:\n",
    "            msms_d.append(np.NAN)\n",
    "            ei.append(np.NAN)\n",
    "    data['peaks_denoised'] = msms_d\n",
    "    data['ei'] = ei\n",
    "    data['normalized_entropy']=normalized_entropy\n",
    "    return(data)"
   ],
   "metadata": {
    "collapsed": false,
    "pycharm": {
     "name": "#%%\n"
    }
   }
  },
  {
   "cell_type": "code",
   "execution_count": 28,
   "outputs": [
    {
     "name": "stderr",
     "output_type": "stream",
     "text": [
      "  2%|▏         | 12/744 [00:01<01:56,  6.27it/s][19:15:57] WARNING: not removing hydrogen atom without neighbors\n",
      "  9%|▉         | 67/744 [00:14<03:07,  3.61it/s][19:16:09] WARNING: not removing hydrogen atom without neighbors\n",
      " 27%|██▋       | 199/744 [00:51<01:17,  7.05it/s][19:16:47] WARNING: not removing hydrogen atom without neighbors\n",
      " 36%|███▋      | 270/744 [01:11<01:37,  4.87it/s][19:17:07] WARNING: not removing hydrogen atom without neighbors\n",
      " 44%|████▎     | 324/744 [01:26<02:12,  3.17it/s][19:17:22] WARNING: not removing hydrogen atom without neighbors\n",
      " 61%|██████    | 453/744 [01:58<00:46,  6.25it/s][19:17:54] WARNING: not removing hydrogen atom without neighbors\n",
      " 70%|███████   | 524/744 [02:15<00:29,  7.50it/s][19:18:11] WARNING: not removing hydrogen atom without neighbors\n",
      " 77%|███████▋  | 576/744 [02:26<00:51,  3.28it/s][19:18:22] WARNING: not removing hydrogen atom without neighbors\n",
      " 92%|█████████▏| 685/744 [02:45<00:06,  8.62it/s][19:18:41] WARNING: not removing hydrogen atom without neighbors\n",
      "100%|██████████| 744/744 [03:00<00:00,  4.13it/s]\n"
     ]
    }
   ],
   "source": [
    "data_1_d=denoising(data_1)"
   ],
   "metadata": {
    "collapsed": false,
    "pycharm": {
     "name": "#%%\n"
    }
   }
  },
  {
   "cell_type": "code",
   "execution_count": 30,
   "outputs": [
    {
     "data": {
      "text/plain": "   id_spec  id_anno  Formula_fetched  mix charge  reference_precursor_mz  \\\n0  1211164        1              NaN    2    pos                481.2237   \n1  1211055        3              NaN    2    pos                319.2644   \n2  1208852        8              NaN    2    pos                311.1137   \n3  1208861        9              NaN    2    pos                328.1404   \n4  1208840       10              NaN    2    pos                389.1278   \n\n      rt              name reference_adduct  ce  concentration  \\\n0  11.37       Anthothecol           [M+H]+  45              1   \n1  11.17  Allopregnanolone           [M+H]+  45              1   \n2   5.73          Picrotin           [M+H]+  45              1   \n3   5.73          Picrotin         [M+NH4]+  45              1   \n4   5.73          Picrotin      [M+DMSO+H]+  45              1   \n\n                                               peaks     rt_spec  \\\n0  50.23012924194336:94622.4765625;66.43620300292...  673.437960   \n1  51.2735481262207:3498.046875;57.24148178100586...  657.022680   \n2  50.98478698730469:56908.58203125;54.1502189636...  330.448656   \n3  51.43901824951172:41712.60546875;59.0496864318...  331.698402   \n4  61.01113510131836:184118.640625;62.01901626586...  328.698150   \n\n   precursor_mz_spec                                      peaks_cleaned  \\\n0         481.223755  50.230129\\t0.00788695\\n66.436203\\t0.00992827\\n...   \n1         319.263641  51.273548\\t0.14155562\\n57.241482\\t0.1476671\\n7...   \n2         311.113800  50.984787\\t0.00466395\\n54.150219\\t0.00398392\\n...   \n3         328.140472  51.439018\\t0.01170045\\n59.049686\\t0.07699641\\n...   \n4         389.127991  61.011135\\t0.03570441\\n62.019016\\t0.00671662\\n...   \n\n                                    reference_smiles reference_formula  \\\n0  CC(=O)OC1CC2(C)C(CC3OC23C4(C)C1C5(C)C=CC(=O)C(...          C28H32O7   \n1  CC(=O)C1CCC2C3CC[C@H]4C[C@H](O)CC[C@]4(C)C3CC[...          C21H34O2   \n2       CC(C)(O)C1C2OC(=O)C1C3(O)CC4OC45C(=O)OC2C35C          C15H18O7   \n3       CC(C)(O)C1C2OC(=O)C1C3(O)CC4OC45C(=O)OC2C35C          C15H18O7   \n4       CC(C)(O)C1C2OC(=O)C1C3(O)CC4OC45C(=O)OC2C35C          C15H18O7   \n\n                                      peaks_denoised        ei  \\\n0  50.230129\\t0.00788695\\n67.054619\\t0.01371029\\n...  90.41765   \n1  51.273548\\t0.14155562\\n57.241482\\t0.1476671\\n1...  65.36329   \n2  50.984787\\t0.00466395\\n54.150219\\t0.00398392\\n...  97.16105   \n3  59.049686\\t0.07699641\\n73.09111\\t0.01217268\\n9...  85.25774   \n4        79.021515\\t0.87041187\\n82.00885\\t0.00093157  87.13434   \n\n   normalized_entropy  \n0            0.816872  \n1            0.979581  \n2            0.736040  \n3            0.767731  \n4            0.002051  ",
      "text/html": "<div>\n<style scoped>\n    .dataframe tbody tr th:only-of-type {\n        vertical-align: middle;\n    }\n\n    .dataframe tbody tr th {\n        vertical-align: top;\n    }\n\n    .dataframe thead th {\n        text-align: right;\n    }\n</style>\n<table border=\"1\" class=\"dataframe\">\n  <thead>\n    <tr style=\"text-align: right;\">\n      <th></th>\n      <th>id_spec</th>\n      <th>id_anno</th>\n      <th>Formula_fetched</th>\n      <th>mix</th>\n      <th>charge</th>\n      <th>reference_precursor_mz</th>\n      <th>rt</th>\n      <th>name</th>\n      <th>reference_adduct</th>\n      <th>ce</th>\n      <th>concentration</th>\n      <th>peaks</th>\n      <th>rt_spec</th>\n      <th>precursor_mz_spec</th>\n      <th>peaks_cleaned</th>\n      <th>reference_smiles</th>\n      <th>reference_formula</th>\n      <th>peaks_denoised</th>\n      <th>ei</th>\n      <th>normalized_entropy</th>\n    </tr>\n  </thead>\n  <tbody>\n    <tr>\n      <th>0</th>\n      <td>1211164</td>\n      <td>1</td>\n      <td>NaN</td>\n      <td>2</td>\n      <td>pos</td>\n      <td>481.2237</td>\n      <td>11.37</td>\n      <td>Anthothecol</td>\n      <td>[M+H]+</td>\n      <td>45</td>\n      <td>1</td>\n      <td>50.23012924194336:94622.4765625;66.43620300292...</td>\n      <td>673.437960</td>\n      <td>481.223755</td>\n      <td>50.230129\\t0.00788695\\n66.436203\\t0.00992827\\n...</td>\n      <td>CC(=O)OC1CC2(C)C(CC3OC23C4(C)C1C5(C)C=CC(=O)C(...</td>\n      <td>C28H32O7</td>\n      <td>50.230129\\t0.00788695\\n67.054619\\t0.01371029\\n...</td>\n      <td>90.41765</td>\n      <td>0.816872</td>\n    </tr>\n    <tr>\n      <th>1</th>\n      <td>1211055</td>\n      <td>3</td>\n      <td>NaN</td>\n      <td>2</td>\n      <td>pos</td>\n      <td>319.2644</td>\n      <td>11.17</td>\n      <td>Allopregnanolone</td>\n      <td>[M+H]+</td>\n      <td>45</td>\n      <td>1</td>\n      <td>51.2735481262207:3498.046875;57.24148178100586...</td>\n      <td>657.022680</td>\n      <td>319.263641</td>\n      <td>51.273548\\t0.14155562\\n57.241482\\t0.1476671\\n7...</td>\n      <td>CC(=O)C1CCC2C3CC[C@H]4C[C@H](O)CC[C@]4(C)C3CC[...</td>\n      <td>C21H34O2</td>\n      <td>51.273548\\t0.14155562\\n57.241482\\t0.1476671\\n1...</td>\n      <td>65.36329</td>\n      <td>0.979581</td>\n    </tr>\n    <tr>\n      <th>2</th>\n      <td>1208852</td>\n      <td>8</td>\n      <td>NaN</td>\n      <td>2</td>\n      <td>pos</td>\n      <td>311.1137</td>\n      <td>5.73</td>\n      <td>Picrotin</td>\n      <td>[M+H]+</td>\n      <td>45</td>\n      <td>1</td>\n      <td>50.98478698730469:56908.58203125;54.1502189636...</td>\n      <td>330.448656</td>\n      <td>311.113800</td>\n      <td>50.984787\\t0.00466395\\n54.150219\\t0.00398392\\n...</td>\n      <td>CC(C)(O)C1C2OC(=O)C1C3(O)CC4OC45C(=O)OC2C35C</td>\n      <td>C15H18O7</td>\n      <td>50.984787\\t0.00466395\\n54.150219\\t0.00398392\\n...</td>\n      <td>97.16105</td>\n      <td>0.736040</td>\n    </tr>\n    <tr>\n      <th>3</th>\n      <td>1208861</td>\n      <td>9</td>\n      <td>NaN</td>\n      <td>2</td>\n      <td>pos</td>\n      <td>328.1404</td>\n      <td>5.73</td>\n      <td>Picrotin</td>\n      <td>[M+NH4]+</td>\n      <td>45</td>\n      <td>1</td>\n      <td>51.43901824951172:41712.60546875;59.0496864318...</td>\n      <td>331.698402</td>\n      <td>328.140472</td>\n      <td>51.439018\\t0.01170045\\n59.049686\\t0.07699641\\n...</td>\n      <td>CC(C)(O)C1C2OC(=O)C1C3(O)CC4OC45C(=O)OC2C35C</td>\n      <td>C15H18O7</td>\n      <td>59.049686\\t0.07699641\\n73.09111\\t0.01217268\\n9...</td>\n      <td>85.25774</td>\n      <td>0.767731</td>\n    </tr>\n    <tr>\n      <th>4</th>\n      <td>1208840</td>\n      <td>10</td>\n      <td>NaN</td>\n      <td>2</td>\n      <td>pos</td>\n      <td>389.1278</td>\n      <td>5.73</td>\n      <td>Picrotin</td>\n      <td>[M+DMSO+H]+</td>\n      <td>45</td>\n      <td>1</td>\n      <td>61.01113510131836:184118.640625;62.01901626586...</td>\n      <td>328.698150</td>\n      <td>389.127991</td>\n      <td>61.011135\\t0.03570441\\n62.019016\\t0.00671662\\n...</td>\n      <td>CC(C)(O)C1C2OC(=O)C1C3(O)CC4OC45C(=O)OC2C35C</td>\n      <td>C15H18O7</td>\n      <td>79.021515\\t0.87041187\\n82.00885\\t0.00093157</td>\n      <td>87.13434</td>\n      <td>0.002051</td>\n    </tr>\n  </tbody>\n</table>\n</div>"
     },
     "execution_count": 30,
     "metadata": {},
     "output_type": "execute_result"
    }
   ],
   "source": [
    "data_1_d.head()"
   ],
   "metadata": {
    "collapsed": false,
    "pycharm": {
     "name": "#%%\n"
    }
   }
  },
  {
   "cell_type": "code",
   "execution_count": 31,
   "outputs": [],
   "source": [
    "nn_de=[]\n",
    "for index, row in data_1_d.iterrows():\n",
    "    nn_de.append(so.normalized_entropy(row['peaks_denoised']))\n",
    "data_1_d['nn_de']=nn_de\n"
   ],
   "metadata": {
    "collapsed": false,
    "pycharm": {
     "name": "#%%\n"
    }
   }
  },
  {
   "cell_type": "code",
   "execution_count": 32,
   "outputs": [
    {
     "data": {
      "text/plain": "count    744.000000\nmean       0.359228\nstd        0.287651\nmin        0.000009\n25%        0.106219\n50%        0.305343\n75%        0.581505\nmax        0.995173\nName: normalized_entropy, dtype: float64"
     },
     "execution_count": 32,
     "metadata": {},
     "output_type": "execute_result"
    }
   ],
   "source": [
    "data_1_d['normalized_entropy'].describe()"
   ],
   "metadata": {
    "collapsed": false,
    "pycharm": {
     "name": "#%%\n"
    }
   }
  },
  {
   "cell_type": "code",
   "execution_count": 33,
   "outputs": [
    {
     "data": {
      "text/plain": "count    739.000000\nmean       0.351406\nstd        0.302423\nmin       -1.000000\n25%        0.117028\n50%        0.311057\n75%        0.560616\nmax        0.999763\nName: nn_de, dtype: float64"
     },
     "execution_count": 33,
     "metadata": {},
     "output_type": "execute_result"
    }
   ],
   "source": [
    "data_1_d['nn_de'].describe()"
   ],
   "metadata": {
    "collapsed": false,
    "pycharm": {
     "name": "#%%\n"
    }
   }
  },
  {
   "cell_type": "code",
   "execution_count": 29,
   "outputs": [
    {
     "name": "stderr",
     "output_type": "stream",
     "text": [
      "  1%|          | 3/258 [00:00<00:09, 27.98it/s][19:18:56] WARNING: not removing hydrogen atom without neighbors\n",
      " 13%|█▎        | 33/258 [00:01<00:08, 27.43it/s][19:18:57] WARNING: not removing hydrogen atom without neighbors\n",
      " 35%|███▌      | 91/258 [00:03<00:05, 28.82it/s][19:19:00] WARNING: not removing hydrogen atom without neighbors\n",
      " 45%|████▌     | 117/258 [00:04<00:04, 31.67it/s][19:19:01] WARNING: not removing hydrogen atom without neighbors\n",
      " 68%|██████▊   | 175/258 [00:06<00:03, 23.66it/s][19:19:03] WARNING: not removing hydrogen atom without neighbors\n",
      " 80%|███████▉  | 206/258 [00:08<00:01, 27.21it/s][19:19:04] WARNING: not removing hydrogen atom without neighbors\n",
      "100%|██████████| 258/258 [00:09<00:00, 25.86it/s]\n"
     ]
    }
   ],
   "source": [
    "data_13_d=denoising(data_13)"
   ],
   "metadata": {
    "collapsed": false,
    "pycharm": {
     "name": "#%%\n"
    }
   }
  },
  {
   "cell_type": "code",
   "execution_count": 137,
   "outputs": [
    {
     "data": {
      "text/plain": "<Figure size 900x500 with 1 Axes>",
      "image/png": "[encoded data removed]"
     },
     "metadata": {},
     "output_type": "display_data"
    }
   ],
   "source": [
    "import matplotlib.patches as mpatches\n",
    "fig, ax = plt.subplots(\n",
    "    figsize = (9, 5)\n",
    "                      )\n",
    "\n",
    "ax = sns.scatterplot(x = data_1_d['normalized_entropy'],y = data_1_d['ei'],color = 'grey', alpha = 0.8)\n",
    "ax.set_xlabel(\"(Normalized entropy)^4\", fontsize = 18)\n",
    "ax.set_ylabel(\"Explained intenstiy (%)\", fontsize = 18)\n",
    "ax.grid(False)\n",
    "rect1=mpatches.Rectangle((0.8,0),0.2,100,\n",
    "                        fill=False,\n",
    "                        color=\"purple\",\n",
    "                       linewidth=2, linestyle='dashed')\n",
    "rect2=mpatches.Rectangle((0,0),1,90,\n",
    "                        fill=False,\n",
    "                        color=\"red\",\n",
    "                       linewidth=2, linestyle='dashed')\n",
    "rect3=mpatches.Rectangle((0,90),0.8,10,\n",
    "                        fill=False,\n",
    "                        color=\"green\",\n",
    "                       linewidth=2, linestyle='dashed')\n",
    "                       #facecolor=\"red\")\n",
    "plt.gca().add_patch(rect1)\n",
    "plt.gca().add_patch(rect2)\n",
    "plt.gca().add_patch(rect3)\n",
    "ax.spines['top'].set_visible(False)\n",
    "ax.spines['right'].set_visible(False)\n",
    "ax.spines['bottom'].set_visible(False)\n",
    "ax.spines['left'].set_visible(False)\n",
    "ax.set_facecolor(\"white\")\n",
    "\n",
    "fig.tight_layout()\n",
    "plt.savefig(os.path.join(source_dir,'high_quality_spectra.tiff'), dpi = 300,facecolor = 'none', edgecolor = 'none')"
   ],
   "metadata": {
    "collapsed": false,
    "pycharm": {
     "name": "#%%\n"
    }
   }
  },
  {
   "cell_type": "code",
   "execution_count": 36,
   "outputs": [],
   "source": [
    "bad_quality = num_search(data_1_d, 'ei', number=10, direction='<', inclusion=False)"
   ],
   "metadata": {
    "collapsed": false,
    "pycharm": {
     "name": "#%%\n"
    }
   }
  },
  {
   "cell_type": "code",
   "execution_count": 74,
   "outputs": [],
   "source": [
    "bad_quality_good_spec = num_search(bad_quality, 'normalized_entropy', number=0.8, direction='<')"
   ],
   "metadata": {
    "collapsed": false,
    "pycharm": {
     "name": "#%%\n"
    }
   }
  },
  {
   "cell_type": "code",
   "execution_count": 76,
   "outputs": [
    {
     "name": "stdout",
     "output_type": "stream",
     "text": [
      "i am ms2 spectra plotter, and I have been sideloaded successfully\n",
      "I have 2 functions, head to tail plot and ms2 plot\n"
     ]
    }
   ],
   "source": [
    "from toolsets.spectra_plotter import ms2_plot"
   ],
   "metadata": {
    "collapsed": false,
    "pycharm": {
     "name": "#%%\n"
    }
   }
  },
  {
   "cell_type": "code",
   "execution_count": 78,
   "outputs": [
    {
     "data": {
      "text/plain": "     id_spec  id_anno  Formula_fetched  mix charge  reference_precursor_mz  \\\n198  2755056      313              NaN    6    neg                181.0781   \n234  3480383      353              NaN    7    neg                167.1087   \n722  2966488      353              NaN    7    neg                167.1087   \n\n       rt                name reference_adduct  ce  ...  \\\n198  4.87             Harmane           [M-H]-  45  ...   \n234  9.03  Chrysanthemic Acid           [M-H]-  45  ...   \n722  9.03  Chrysanthemic Acid           [M-H]-  35  ...   \n\n                                                 peaks     rt_spec  \\\n198  60.525638580322266:3068.500244140625;71.687942...  293.883216   \n234  138.92958068847656:6940.23388671875;161.215866...  540.700740   \n722  54.634918212890625:2950.27197265625;108.407623...  540.198750   \n\n     precursor_mz_spec                                      peaks_cleaned  \\\n198         181.077469  60.525639\\t0.08941568\\n71.687943\\t0.09007567\\n...   \n234         167.107925     138.929581\\t0.69318282\\n161.215866\\t0.30681718   \n722         167.108063  54.634918\\t0.10273442\\n108.407623\\t0.10795522\\...   \n\n                       reference_smiles reference_formula peaks_denoised   ei  \\\n198            CC1=NCCc2c1[nH]c3ccccc23          C12H12N2            NaN  0.0   \n234  CC(C)=C[C@@H]1[C@@H](C(O)=O)C1(C)C          C10H16O2            NaN  0.0   \n722  CC(C)=C[C@@H]1[C@@H](C(O)=O)C1(C)C          C10H16O2            NaN  0.0   \n\n     normalized_entropy  nn_de  \n198            0.735650    NaN  \n234            0.625916    NaN  \n722            0.432459    NaN  \n\n[3 rows x 21 columns]",
      "text/html": "<div>\n<style scoped>\n    .dataframe tbody tr th:only-of-type {\n        vertical-align: middle;\n    }\n\n    .dataframe tbody tr th {\n        vertical-align: top;\n    }\n\n    .dataframe thead th {\n        text-align: right;\n    }\n</style>\n<table border=\"1\" class=\"dataframe\">\n  <thead>\n    <tr style=\"text-align: right;\">\n      <th></th>\n      <th>id_spec</th>\n      <th>id_anno</th>\n      <th>Formula_fetched</th>\n      <th>mix</th>\n      <th>charge</th>\n      <th>reference_precursor_mz</th>\n      <th>rt</th>\n      <th>name</th>\n      <th>reference_adduct</th>\n      <th>ce</th>\n      <th>...</th>\n      <th>peaks</th>\n      <th>rt_spec</th>\n      <th>precursor_mz_spec</th>\n      <th>peaks_cleaned</th>\n      <th>reference_smiles</th>\n      <th>reference_formula</th>\n      <th>peaks_denoised</th>\n      <th>ei</th>\n      <th>normalized_entropy</th>\n      <th>nn_de</th>\n    </tr>\n  </thead>\n  <tbody>\n    <tr>\n      <th>198</th>\n      <td>2755056</td>\n      <td>313</td>\n      <td>NaN</td>\n      <td>6</td>\n      <td>neg</td>\n      <td>181.0781</td>\n      <td>4.87</td>\n      <td>Harmane</td>\n      <td>[M-H]-</td>\n      <td>45</td>\n      <td>...</td>\n      <td>60.525638580322266:3068.500244140625;71.687942...</td>\n      <td>293.883216</td>\n      <td>181.077469</td>\n      <td>60.525639\\t0.08941568\\n71.687943\\t0.09007567\\n...</td>\n      <td>CC1=NCCc2c1[nH]c3ccccc23</td>\n      <td>C12H12N2</td>\n      <td>NaN</td>\n      <td>0.0</td>\n      <td>0.735650</td>\n      <td>NaN</td>\n    </tr>\n    <tr>\n      <th>234</th>\n      <td>3480383</td>\n      <td>353</td>\n      <td>NaN</td>\n      <td>7</td>\n      <td>neg</td>\n      <td>167.1087</td>\n      <td>9.03</td>\n      <td>Chrysanthemic Acid</td>\n      <td>[M-H]-</td>\n      <td>45</td>\n      <td>...</td>\n      <td>138.92958068847656:6940.23388671875;161.215866...</td>\n      <td>540.700740</td>\n      <td>167.107925</td>\n      <td>138.929581\\t0.69318282\\n161.215866\\t0.30681718</td>\n      <td>CC(C)=C[C@@H]1[C@@H](C(O)=O)C1(C)C</td>\n      <td>C10H16O2</td>\n      <td>NaN</td>\n      <td>0.0</td>\n      <td>0.625916</td>\n      <td>NaN</td>\n    </tr>\n    <tr>\n      <th>722</th>\n      <td>2966488</td>\n      <td>353</td>\n      <td>NaN</td>\n      <td>7</td>\n      <td>neg</td>\n      <td>167.1087</td>\n      <td>9.03</td>\n      <td>Chrysanthemic Acid</td>\n      <td>[M-H]-</td>\n      <td>35</td>\n      <td>...</td>\n      <td>54.634918212890625:2950.27197265625;108.407623...</td>\n      <td>540.198750</td>\n      <td>167.108063</td>\n      <td>54.634918\\t0.10273442\\n108.407623\\t0.10795522\\...</td>\n      <td>CC(C)=C[C@@H]1[C@@H](C(O)=O)C1(C)C</td>\n      <td>C10H16O2</td>\n      <td>NaN</td>\n      <td>0.0</td>\n      <td>0.432459</td>\n      <td>NaN</td>\n    </tr>\n  </tbody>\n</table>\n<p>3 rows × 21 columns</p>\n</div>"
     },
     "execution_count": 78,
     "metadata": {},
     "output_type": "execute_result"
    }
   ],
   "source": [
    "bad_quality_good_spec"
   ],
   "metadata": {
    "collapsed": false,
    "pycharm": {
     "name": "#%%\n"
    }
   }
  },
  {
   "cell_type": "code",
   "execution_count": 92,
   "outputs": [
    {
     "data": {
      "text/plain": "array([[5.4634918e+01, 1.0273442e-01],\n       [1.0840762e+02, 1.0795522e-01],\n       [1.3286885e+02, 1.3270830e-01],\n       [1.3892975e+02, 5.5266869e-01],\n       [1.4596822e+02, 1.0393337e-01]], dtype=float32)"
     },
     "execution_count": 92,
     "metadata": {},
     "output_type": "execute_result"
    }
   ],
   "source": [
    "instance=bad_quality_good_spec.iloc[2]\n",
    "so.convert_string_to_nist(instance['peaks_cleaned'])"
   ],
   "metadata": {
    "collapsed": false,
    "pycharm": {
     "name": "#%%\n"
    }
   }
  },
  {
   "cell_type": "code",
   "execution_count": null,
   "outputs": [],
   "source": [
    "from toolsets.spectra_plotter import"
   ],
   "metadata": {
    "collapsed": false,
    "pycharm": {
     "name": "#%%\n"
    }
   }
  },
  {
   "cell_type": "code",
   "execution_count": 94,
   "outputs": [
    {
     "data": {
      "text/plain": "58.701077"
     },
     "execution_count": 94,
     "metadata": {},
     "output_type": "execute_result"
    }
   ],
   "source": [
    "instance['reference_precursor_mz']-108.407623"
   ],
   "metadata": {
    "collapsed": false,
    "pycharm": {
     "name": "#%%\n"
    }
   }
  },
  {
   "cell_type": "code",
   "execution_count": 96,
   "outputs": [],
   "source": [
    "from rdkit import  Chem"
   ],
   "metadata": {
    "collapsed": false,
    "pycharm": {
     "name": "#%%\n"
    }
   }
  },
  {
   "cell_type": "code",
   "execution_count": null,
   "outputs": [],
   "source": [],
   "metadata": {
    "collapsed": false,
    "pycharm": {
     "name": "#%%\n"
    }
   }
  },
  {
   "cell_type": "code",
   "execution_count": 99,
   "outputs": [
    {
     "data": {
      "text/plain": "id_spec                                                             2966488\nid_anno                                                                 353\nFormula_fetched                                                         NaN\nmix                                                                       7\ncharge                                                                  neg\nreference_precursor_mz                                             167.1087\nrt                                                                     9.03\nname                                                     Chrysanthemic Acid\nreference_adduct                                                     [M-H]-\nce                                                                       35\nconcentration                                                             1\npeaks                     54.634918212890625:2950.27197265625;108.407623...\nrt_spec                                                           540.19875\nprecursor_mz_spec                                                167.108063\npeaks_cleaned             54.634918\\t0.10273442\\n108.407623\\t0.10795522\\...\nreference_smiles                         CC(C)=C[C@@H]1[C@@H](C(O)=O)C1(C)C\nreference_formula                                                  C10H16O2\npeaks_denoised                                                          NaN\nei                                                                      0.0\nnormalized_entropy                                                 0.432459\nnn_de                                                                   NaN\nName: 722, dtype: object"
     },
     "execution_count": 99,
     "metadata": {},
     "output_type": "execute_result"
    }
   ],
   "source": [
    "instance"
   ],
   "metadata": {
    "collapsed": false,
    "pycharm": {
     "name": "#%%\n"
    }
   }
  },
  {
   "cell_type": "code",
   "execution_count": 100,
   "outputs": [],
   "source": [
    "mol = Chem.MolFromSmiles(instance['reference_smiles'])\n",
    "from rdkit.Chem import Draw\n",
    "Draw.MolToFile(mol,os.path.join(source_dir, 'nn4.png'))"
   ],
   "metadata": {
    "collapsed": false,
    "pycharm": {
     "name": "#%%\n"
    }
   }
  },
  {
   "cell_type": "code",
   "execution_count": 110,
   "outputs": [
    {
     "data": {
      "text/plain": "     id_spec  id_anno  Formula_fetched  mix charge  reference_precursor_mz  \\\n198  2755056      313              NaN    6    neg                181.0781   \n234  3480383      353              NaN    7    neg                167.1087   \n722  2966488      353              NaN    7    neg                167.1087   \n\n       rt                name reference_adduct  ce  ...  \\\n198  4.87             Harmane           [M-H]-  45  ...   \n234  9.03  Chrysanthemic Acid           [M-H]-  45  ...   \n722  9.03  Chrysanthemic Acid           [M-H]-  35  ...   \n\n                                                 peaks     rt_spec  \\\n198  60.525638580322266:3068.500244140625;71.687942...  293.883216   \n234  138.92958068847656:6940.23388671875;161.215866...  540.700740   \n722  54.634918212890625:2950.27197265625;108.407623...  540.198750   \n\n     precursor_mz_spec                                      peaks_cleaned  \\\n198         181.077469  60.525639\\t0.08941568\\n71.687943\\t0.09007567\\n...   \n234         167.107925     138.929581\\t0.69318282\\n161.215866\\t0.30681718   \n722         167.108063  54.634918\\t0.10273442\\n108.407623\\t0.10795522\\...   \n\n                       reference_smiles reference_formula peaks_denoised   ei  \\\n198            CC1=NCCc2c1[nH]c3ccccc23          C12H12N2            NaN  0.0   \n234  CC(C)=C[C@@H]1[C@@H](C(O)=O)C1(C)C          C10H16O2            NaN  0.0   \n722  CC(C)=C[C@@H]1[C@@H](C(O)=O)C1(C)C          C10H16O2            NaN  0.0   \n\n     normalized_entropy  nn_de  \n198            0.735650    NaN  \n234            0.625916    NaN  \n722            0.432459    NaN  \n\n[3 rows x 21 columns]",
      "text/html": "<div>\n<style scoped>\n    .dataframe tbody tr th:only-of-type {\n        vertical-align: middle;\n    }\n\n    .dataframe tbody tr th {\n        vertical-align: top;\n    }\n\n    .dataframe thead th {\n        text-align: right;\n    }\n</style>\n<table border=\"1\" class=\"dataframe\">\n  <thead>\n    <tr style=\"text-align: right;\">\n      <th></th>\n      <th>id_spec</th>\n      <th>id_anno</th>\n      <th>Formula_fetched</th>\n      <th>mix</th>\n      <th>charge</th>\n      <th>reference_precursor_mz</th>\n      <th>rt</th>\n      <th>name</th>\n      <th>reference_adduct</th>\n      <th>ce</th>\n      <th>...</th>\n      <th>peaks</th>\n      <th>rt_spec</th>\n      <th>precursor_mz_spec</th>\n      <th>peaks_cleaned</th>\n      <th>reference_smiles</th>\n      <th>reference_formula</th>\n      <th>peaks_denoised</th>\n      <th>ei</th>\n      <th>normalized_entropy</th>\n      <th>nn_de</th>\n    </tr>\n  </thead>\n  <tbody>\n    <tr>\n      <th>198</th>\n      <td>2755056</td>\n      <td>313</td>\n      <td>NaN</td>\n      <td>6</td>\n      <td>neg</td>\n      <td>181.0781</td>\n      <td>4.87</td>\n      <td>Harmane</td>\n      <td>[M-H]-</td>\n      <td>45</td>\n      <td>...</td>\n      <td>60.525638580322266:3068.500244140625;71.687942...</td>\n      <td>293.883216</td>\n      <td>181.077469</td>\n      <td>60.525639\\t0.08941568\\n71.687943\\t0.09007567\\n...</td>\n      <td>CC1=NCCc2c1[nH]c3ccccc23</td>\n      <td>C12H12N2</td>\n      <td>NaN</td>\n      <td>0.0</td>\n      <td>0.735650</td>\n      <td>NaN</td>\n    </tr>\n    <tr>\n      <th>234</th>\n      <td>3480383</td>\n      <td>353</td>\n      <td>NaN</td>\n      <td>7</td>\n      <td>neg</td>\n      <td>167.1087</td>\n      <td>9.03</td>\n      <td>Chrysanthemic Acid</td>\n      <td>[M-H]-</td>\n      <td>45</td>\n      <td>...</td>\n      <td>138.92958068847656:6940.23388671875;161.215866...</td>\n      <td>540.700740</td>\n      <td>167.107925</td>\n      <td>138.929581\\t0.69318282\\n161.215866\\t0.30681718</td>\n      <td>CC(C)=C[C@@H]1[C@@H](C(O)=O)C1(C)C</td>\n      <td>C10H16O2</td>\n      <td>NaN</td>\n      <td>0.0</td>\n      <td>0.625916</td>\n      <td>NaN</td>\n    </tr>\n    <tr>\n      <th>722</th>\n      <td>2966488</td>\n      <td>353</td>\n      <td>NaN</td>\n      <td>7</td>\n      <td>neg</td>\n      <td>167.1087</td>\n      <td>9.03</td>\n      <td>Chrysanthemic Acid</td>\n      <td>[M-H]-</td>\n      <td>35</td>\n      <td>...</td>\n      <td>54.634918212890625:2950.27197265625;108.407623...</td>\n      <td>540.198750</td>\n      <td>167.108063</td>\n      <td>54.634918\\t0.10273442\\n108.407623\\t0.10795522\\...</td>\n      <td>CC(C)=C[C@@H]1[C@@H](C(O)=O)C1(C)C</td>\n      <td>C10H16O2</td>\n      <td>NaN</td>\n      <td>0.0</td>\n      <td>0.432459</td>\n      <td>NaN</td>\n    </tr>\n  </tbody>\n</table>\n<p>3 rows × 21 columns</p>\n</div>"
     },
     "execution_count": 110,
     "metadata": {},
     "output_type": "execute_result"
    }
   ],
   "source": [
    "bad_quality_good_spec"
   ],
   "metadata": {
    "collapsed": false,
    "pycharm": {
     "name": "#%%\n"
    }
   }
  },
  {
   "cell_type": "code",
   "execution_count": 111,
   "outputs": [
    {
     "data": {
      "text/plain": "5.892699999999991"
     },
     "execution_count": 111,
     "metadata": {},
     "output_type": "execute_result"
    }
   ],
   "source": [
    "167.1087-161.216"
   ],
   "metadata": {
    "collapsed": false,
    "pycharm": {
     "name": "#%%\n"
    }
   }
  },
  {
   "cell_type": "code",
   "execution_count": 108,
   "outputs": [],
   "source": [
    "instance = bad_quality_good_spec.iloc[0]\n",
    "mol = Chem.MolFromSmiles(instance['reference_smiles'])\n",
    "from rdkit.Chem import Draw\n",
    "Draw.MolToFile(mol,os.path.join(source_dir, 'nn7.png'))"
   ],
   "metadata": {
    "collapsed": false,
    "pycharm": {
     "name": "#%%\n"
    }
   }
  },
  {
   "cell_type": "code",
   "execution_count": 109,
   "outputs": [
    {
     "data": {
      "text/plain": "array([[6.0525639e+01, 8.9415677e-02],\n       [7.1687943e+01, 9.0075672e-02],\n       [7.2460640e+01, 9.4522111e-02],\n       [9.2920219e+01, 3.3919480e-01],\n       [1.3717998e+02, 1.0031385e-01],\n       [1.4349124e+02, 9.5549323e-02],\n       [1.4753958e+02, 9.2118390e-02],\n       [1.5164633e+02, 9.8810174e-02]], dtype=float32)"
     },
     "execution_count": 109,
     "metadata": {},
     "output_type": "execute_result"
    }
   ],
   "source": [
    "so.convert_string_to_nist(instance['peaks_cleaned'])"
   ],
   "metadata": {
    "collapsed": false,
    "pycharm": {
     "name": "#%%\n"
    }
   }
  },
  {
   "cell_type": "code",
   "execution_count": 133,
   "outputs": [
    {
     "name": "stdout",
     "output_type": "stream",
     "text": [
      "i am ms2 spectra plotter, and I have been sideloaded successfully\n",
      "I have 2 functions, head to tail plot and ms2 plot\n"
     ]
    },
    {
     "data": {
      "text/plain": "     id_spec  id_anno  Formula_fetched  mix charge  reference_precursor_mz  \\\n198  2755056      313              NaN    6    neg                181.0781   \n234  3480383      353              NaN    7    neg                167.1087   \n722  2966488      353              NaN    7    neg                167.1087   \n\n       rt                name reference_adduct  ce  ...  \\\n198  4.87             Harmane           [M-H]-  45  ...   \n234  9.03  Chrysanthemic Acid           [M-H]-  45  ...   \n722  9.03  Chrysanthemic Acid           [M-H]-  35  ...   \n\n                                                 peaks     rt_spec  \\\n198  60.525638580322266:3068.500244140625;71.687942...  293.883216   \n234  138.92958068847656:6940.23388671875;161.215866...  540.700740   \n722  54.634918212890625:2950.27197265625;108.407623...  540.198750   \n\n     precursor_mz_spec                                      peaks_cleaned  \\\n198         181.077469  60.525639\\t0.08941568\\n71.687943\\t0.09007567\\n...   \n234         167.107925     138.929581\\t0.69318282\\n161.215866\\t0.30681718   \n722         167.108063  54.634918\\t0.10273442\\n108.407623\\t0.10795522\\...   \n\n                       reference_smiles reference_formula peaks_denoised   ei  \\\n198            CC1=NCCc2c1[nH]c3ccccc23          C12H12N2            NaN  0.0   \n234  CC(C)=C[C@@H]1[C@@H](C(O)=O)C1(C)C          C10H16O2            NaN  0.0   \n722  CC(C)=C[C@@H]1[C@@H](C(O)=O)C1(C)C          C10H16O2            NaN  0.0   \n\n     normalized_entropy  nn_de  \n198            0.735650    NaN  \n234            0.625916    NaN  \n722            0.432459    NaN  \n\n[3 rows x 21 columns]",
      "text/html": "<div>\n<style scoped>\n    .dataframe tbody tr th:only-of-type {\n        vertical-align: middle;\n    }\n\n    .dataframe tbody tr th {\n        vertical-align: top;\n    }\n\n    .dataframe thead th {\n        text-align: right;\n    }\n</style>\n<table border=\"1\" class=\"dataframe\">\n  <thead>\n    <tr style=\"text-align: right;\">\n      <th></th>\n      <th>id_spec</th>\n      <th>id_anno</th>\n      <th>Formula_fetched</th>\n      <th>mix</th>\n      <th>charge</th>\n      <th>reference_precursor_mz</th>\n      <th>rt</th>\n      <th>name</th>\n      <th>reference_adduct</th>\n      <th>ce</th>\n      <th>...</th>\n      <th>peaks</th>\n      <th>rt_spec</th>\n      <th>precursor_mz_spec</th>\n      <th>peaks_cleaned</th>\n      <th>reference_smiles</th>\n      <th>reference_formula</th>\n      <th>peaks_denoised</th>\n      <th>ei</th>\n      <th>normalized_entropy</th>\n      <th>nn_de</th>\n    </tr>\n  </thead>\n  <tbody>\n    <tr>\n      <th>198</th>\n      <td>2755056</td>\n      <td>313</td>\n      <td>NaN</td>\n      <td>6</td>\n      <td>neg</td>\n      <td>181.0781</td>\n      <td>4.87</td>\n      <td>Harmane</td>\n      <td>[M-H]-</td>\n      <td>45</td>\n      <td>...</td>\n      <td>60.525638580322266:3068.500244140625;71.687942...</td>\n      <td>293.883216</td>\n      <td>181.077469</td>\n      <td>60.525639\\t0.08941568\\n71.687943\\t0.09007567\\n...</td>\n      <td>CC1=NCCc2c1[nH]c3ccccc23</td>\n      <td>C12H12N2</td>\n      <td>NaN</td>\n      <td>0.0</td>\n      <td>0.735650</td>\n      <td>NaN</td>\n    </tr>\n    <tr>\n      <th>234</th>\n      <td>3480383</td>\n      <td>353</td>\n      <td>NaN</td>\n      <td>7</td>\n      <td>neg</td>\n      <td>167.1087</td>\n      <td>9.03</td>\n      <td>Chrysanthemic Acid</td>\n      <td>[M-H]-</td>\n      <td>45</td>\n      <td>...</td>\n      <td>138.92958068847656:6940.23388671875;161.215866...</td>\n      <td>540.700740</td>\n      <td>167.107925</td>\n      <td>138.929581\\t0.69318282\\n161.215866\\t0.30681718</td>\n      <td>CC(C)=C[C@@H]1[C@@H](C(O)=O)C1(C)C</td>\n      <td>C10H16O2</td>\n      <td>NaN</td>\n      <td>0.0</td>\n      <td>0.625916</td>\n      <td>NaN</td>\n    </tr>\n    <tr>\n      <th>722</th>\n      <td>2966488</td>\n      <td>353</td>\n      <td>NaN</td>\n      <td>7</td>\n      <td>neg</td>\n      <td>167.1087</td>\n      <td>9.03</td>\n      <td>Chrysanthemic Acid</td>\n      <td>[M-H]-</td>\n      <td>35</td>\n      <td>...</td>\n      <td>54.634918212890625:2950.27197265625;108.407623...</td>\n      <td>540.198750</td>\n      <td>167.108063</td>\n      <td>54.634918\\t0.10273442\\n108.407623\\t0.10795522\\...</td>\n      <td>CC(C)=C[C@@H]1[C@@H](C(O)=O)C1(C)C</td>\n      <td>C10H16O2</td>\n      <td>NaN</td>\n      <td>0.0</td>\n      <td>0.432459</td>\n      <td>NaN</td>\n    </tr>\n  </tbody>\n</table>\n<p>3 rows × 21 columns</p>\n</div>"
     },
     "execution_count": 133,
     "metadata": {},
     "output_type": "execute_result"
    }
   ],
   "source": [
    "bad_quality_good_spec"
   ],
   "metadata": {
    "collapsed": false,
    "pycharm": {
     "name": "#%%\n"
    }
   }
  },
  {
   "cell_type": "code",
   "execution_count": 136,
   "outputs": [
    {
     "data": {
      "text/plain": "<module 'matplotlib.pyplot' from '/opt/homebrew/Caskroom/miniforge/base/envs/alphapept_env/lib/python3.8/site-packages/matplotlib/pyplot.py'>"
     },
     "execution_count": 136,
     "metadata": {},
     "output_type": "execute_result"
    },
    {
     "data": {
      "text/plain": "<Figure size 700x500 with 1 Axes>",
      "image/png": "[encoded data removed]"
     },
     "metadata": {},
     "output_type": "display_data"
    }
   ],
   "source": [
    "instance = bad_quality_good_spec.iloc[2]\n",
    "ms2_plot(instance['peaks_cleaned'], pmz1=instance['reference_precursor_mz'], savepath=os.path.join(source_dir,'nn4.tiff'))"
   ],
   "metadata": {
    "collapsed": false,
    "pycharm": {
     "name": "#%%\n"
    }
   }
  },
  {
   "cell_type": "code",
   "execution_count": null,
   "outputs": [],
   "source": [
    "from toolsets.spectra_plotter import ms2_plot\n"
   ],
   "metadata": {
    "collapsed": false,
    "pycharm": {
     "name": "#%%\n"
    }
   }
  },
  {
   "cell_type": "code",
   "execution_count": 39,
   "outputs": [],
   "source": [
    "instance = bad_quality.iloc[5]"
   ],
   "metadata": {
    "collapsed": false,
    "pycharm": {
     "name": "#%%\n"
    }
   }
  },
  {
   "cell_type": "code",
   "execution_count": 42,
   "outputs": [
    {
     "data": {
      "text/plain": "array([[5.4634918e+01, 1.0273442e-01],\n       [1.0840762e+02, 1.0795522e-01],\n       [1.3286885e+02, 1.3270830e-01],\n       [1.3892975e+02, 5.5266869e-01],\n       [1.4596822e+02, 1.0393337e-01]], dtype=float32)"
     },
     "execution_count": 42,
     "metadata": {},
     "output_type": "execute_result"
    }
   ],
   "source": [
    "so.convert_string_to_nist(instance['peaks_cleaned'])"
   ],
   "metadata": {
    "collapsed": false,
    "pycharm": {
     "name": "#%%\n"
    }
   }
  },
  {
   "cell_type": "code",
   "execution_count": 114,
   "outputs": [
    {
     "data": {
      "text/plain": "Index(['id_spec', 'id_anno', 'Formula_fetched', 'mix', 'charge',\n       'reference_precursor_mz', 'rt', 'name', 'reference_adduct', 'ce',\n       'concentration', 'peaks', 'rt_spec', 'precursor_mz_spec',\n       'peaks_cleaned', 'reference_smiles', 'reference_formula',\n       'peaks_denoised', 'ei', 'normalized_entropy', 'nn_de'],\n      dtype='object')"
     },
     "execution_count": 114,
     "metadata": {},
     "output_type": "execute_result"
    }
   ],
   "source": [
    "data_1.columns"
   ],
   "metadata": {
    "collapsed": false,
    "pycharm": {
     "name": "#%%\n"
    }
   }
  },
  {
   "cell_type": "code",
   "execution_count": 116,
   "outputs": [
    {
     "data": {
      "text/plain": "0.7701612903225806"
     },
     "execution_count": 116,
     "metadata": {},
     "output_type": "execute_result"
    }
   ],
   "source": [
    "len(num_search(data_1, 'ei', 90, direction='>', inclusion=True))/len(data_1)"
   ],
   "metadata": {
    "collapsed": false,
    "pycharm": {
     "name": "#%%\n"
    }
   }
  },
  {
   "cell_type": "code",
   "execution_count": 128,
   "outputs": [],
   "source": [
    "high_ei = num_search(data_13, 'ei', 90, direction='>', inclusion=True)"
   ],
   "metadata": {
    "collapsed": false,
    "pycharm": {
     "name": "#%%\n"
    }
   }
  },
  {
   "cell_type": "code",
   "execution_count": 132,
   "outputs": [
    {
     "data": {
      "text/plain": "13"
     },
     "execution_count": 132,
     "metadata": {},
     "output_type": "execute_result"
    }
   ],
   "source": [
    "len(num_search(high_ei,'normalized_entropy', 0.8, direction='<', inclusion=False))"
   ],
   "metadata": {
    "collapsed": false,
    "pycharm": {
     "name": "#%%\n"
    }
   }
  },
  {
   "cell_type": "code",
   "execution_count": 129,
   "outputs": [
    {
     "data": {
      "text/plain": "0.050387596899224806"
     },
     "execution_count": 129,
     "metadata": {},
     "output_type": "execute_result"
    }
   ],
   "source": [
    "len(num_search(high_ei,'normalized_entropy', 0.8, direction='<', inclusion=False))/len(data_13)"
   ],
   "metadata": {
    "collapsed": false,
    "pycharm": {
     "name": "#%%\n"
    }
   }
  },
  {
   "cell_type": "code",
   "execution_count": 125,
   "outputs": [
    {
     "data": {
      "text/plain": "0.44573643410852715"
     },
     "execution_count": 125,
     "metadata": {},
     "output_type": "execute_result"
    }
   ],
   "source": [
    "1-len(num_search(data_13_d, 'normalized_entropy', 0.8, direction='<', inclusion=False))/len(data_13_d)"
   ],
   "metadata": {
    "collapsed": false,
    "pycharm": {
     "name": "#%%\n"
    }
   }
  },
  {
   "cell_type": "code",
   "execution_count": 124,
   "outputs": [
    {
     "data": {
      "text/plain": "0.9457364341085271"
     },
     "execution_count": 124,
     "metadata": {},
     "output_type": "execute_result"
    }
   ],
   "source": [
    "1-len(num_search(data_13_d, 'ei', 90, direction='>', inclusion=True))/len(data_13)"
   ],
   "metadata": {
    "collapsed": false,
    "pycharm": {
     "name": "#%%\n"
    }
   }
  },
  {
   "cell_type": "code",
   "execution_count": 118,
   "outputs": [
    {
     "data": {
      "text/plain": "0.9059139784946236"
     },
     "execution_count": 118,
     "metadata": {},
     "output_type": "execute_result"
    }
   ],
   "source": [
    "len(num_search(data_1, 'normalized_entropy', 0.8, direction='<', inclusion=False))/len(data_1)"
   ],
   "metadata": {
    "collapsed": false,
    "pycharm": {
     "name": "#%%\n"
    }
   }
  },
  {
   "cell_type": "code",
   "execution_count": 119,
   "outputs": [
    {
     "data": {
      "text/plain": "0.9059139784946236"
     },
     "execution_count": 119,
     "metadata": {},
     "output_type": "execute_result"
    }
   ],
   "source": [
    "len(num_search(data_1, 'normalized_entropy', 0.8, direction='<', inclusion=True))/len(data_1)"
   ],
   "metadata": {
    "collapsed": false,
    "pycharm": {
     "name": "#%%\n"
    }
   }
  },
  {
   "cell_type": "code",
   "execution_count": 45,
   "outputs": [
    {
     "data": {
      "text/plain": "'C10H16O2'"
     },
     "execution_count": 45,
     "metadata": {},
     "output_type": "execute_result"
    }
   ],
   "source": [
    "instance['reference_formula']"
   ],
   "metadata": {
    "collapsed": false,
    "pycharm": {
     "name": "#%%\n"
    }
   }
  },
  {
   "cell_type": "code",
   "execution_count": 43,
   "outputs": [
    {
     "data": {
      "text/plain": "167.108062744141"
     },
     "execution_count": 43,
     "metadata": {},
     "output_type": "execute_result"
    }
   ],
   "source": [
    "instance['precursor_mz_spec']-"
   ],
   "metadata": {
    "collapsed": false,
    "pycharm": {
     "name": "#%%\n"
    }
   }
  },
  {
   "cell_type": "code",
   "execution_count": 44,
   "outputs": [
    {
     "data": {
      "text/plain": "21.139846744140982"
     },
     "execution_count": 44,
     "metadata": {},
     "output_type": "execute_result"
    }
   ],
   "source": [
    "167.108062744141-145.968216"
   ],
   "metadata": {
    "collapsed": false,
    "pycharm": {
     "name": "#%%\n"
    }
   }
  },
  {
   "cell_type": "code",
   "execution_count": 113,
   "outputs": [
    {
     "data": {
      "text/plain": "0.3467741935483871"
     },
     "execution_count": 113,
     "metadata": {},
     "output_type": "execute_result"
    }
   ],
   "source": [
    "len(data_13)/len(data_1)"
   ],
   "metadata": {
    "collapsed": false,
    "pycharm": {
     "name": "#%%\n"
    }
   }
  },
  {
   "cell_type": "code",
   "execution_count": 71,
   "outputs": [
    {
     "data": {
      "text/plain": "<Figure size 900x500 with 1 Axes>",
      "image/png": "[encoded data removed]"
     },
     "metadata": {},
     "output_type": "display_data"
    }
   ],
   "source": [
    "import matplotlib.patches as mpatches\n",
    "fig, ax = plt.subplots(\n",
    "    figsize = (9, 5)\n",
    "                      )\n",
    "\n",
    "# ax = sns.scatterplot(x = data_1['normalized_entropy'],y = data_1['ei'],color = 'green')\n",
    "ax = sns.scatterplot(x = data_13['normalized_entropy'],y = data_13['ei'],color = 'grey', alpha = 0.8)\n",
    "ax.set_xlabel(\"(Normalized entropy)^4\", fontsize = 18)\n",
    "ax.set_ylabel(\"Explained intensity (%)\", fontsize = 18)\n",
    "ax.grid(False)\n",
    "ax.spines['top'].set_visible(False)\n",
    "ax.spines['right'].set_visible(False)\n",
    "ax.spines['bottom'].set_visible(False)\n",
    "ax.spines['left'].set_visible(False)\n",
    "ax.set_facecolor(\"white\")\n",
    "# plt.axvline(0.8, 0, color = 'red' )\n",
    "# plt.axhline(90, 0, color = 'red' )\n",
    "rect1=mpatches.Rectangle((0.8,0),0.2,100,\n",
    "                        fill=False,\n",
    "                        color=\"purple\",\n",
    "                       linewidth=2, linestyle='dashed')\n",
    "rect2=mpatches.Rectangle((0,0),1,90,\n",
    "                        fill=False,\n",
    "                        color=\"red\",\n",
    "                       linewidth=2, linestyle='dashed')\n",
    "rect3=mpatches.Rectangle((0,90),0.8,10,\n",
    "                        fill=False,\n",
    "                        color=\"green\",\n",
    "                       linewidth=2, linestyle='dashed')\n",
    "                       #facecolor=\"red\")\n",
    "plt.gca().add_patch(rect1)\n",
    "plt.gca().add_patch(rect2)\n",
    "plt.gca().add_patch(rect3)\n",
    "fig.tight_layout()\n",
    "plt.savefig(os.path.join(source_dir,'low_quality_spectra.tiff'), dpi = 300,facecolor = 'none', edgecolor = 'none')"
   ],
   "metadata": {
    "collapsed": false,
    "pycharm": {
     "name": "#%%\n"
    }
   }
  },
  {
   "cell_type": "code",
   "execution_count": 115,
   "outputs": [],
   "source": [
    "bad_1 = num_search(data_1, 'ei', 90, direction='<', inclusion=True)"
   ],
   "metadata": {
    "collapsed": false,
    "pycharm": {
     "name": "#%%\n"
    }
   }
  },
  {
   "cell_type": "code",
   "execution_count": 117,
   "outputs": [],
   "source": [
    "bad_1.reset_index(inplace=True, drop=True)"
   ],
   "metadata": {
    "collapsed": false,
    "pycharm": {
     "name": "#%%\n"
    }
   }
  },
  {
   "cell_type": "code",
   "execution_count": 124,
   "outputs": [
    {
     "data": {
      "text/plain": "id_spec                                                             2860928\nid_anno                                                                  83\nmix                                                                       3\ncharge                                                                  pos\nreference_precursor_mz                                             283.0587\nrt                                                                     6.51\nname                                2,3,4'-Trihydroxy-4-Methoxybenzophenone\nreference_adduct                                                    [M+Na]+\nce                                                                       45\nconcentration                                                             1\npeaks                     50.73485565185547:9425.169921875;54.1692390441...\nrt_spec                                                          389.376444\nprecursor_mz_spec                                                283.058685\npeaks_cleaned             50.734856\\t0.0659461\\n54.169239\\t0.06321247\\n5...\nreference_smiles                           COc1ccc(c(O)c1O)C(=O)c2ccc(O)cc2\nreference_formula                                                  C14H12O5\npeaks_denoised                                                          NaN\nei                                                                      0.0\nnormalized_entropy                                                 0.985236\nName: 8, dtype: object"
     },
     "execution_count": 124,
     "metadata": {},
     "output_type": "execute_result"
    }
   ],
   "source": [
    "bad_1.iloc[8]"
   ],
   "metadata": {
    "collapsed": false,
    "pycharm": {
     "name": "#%%\n"
    }
   }
  },
  {
   "cell_type": "code",
   "execution_count": 121,
   "outputs": [
    {
     "data": {
      "text/plain": "array([[5.0734856e+01, 6.5946102e-02],\n       [5.4169239e+01, 6.3212469e-02],\n       [5.4370113e+01, 6.2046722e-02],\n       [5.4441288e+01, 6.0214650e-02],\n       [5.5466351e+01, 6.2044900e-02],\n       [5.8660717e+01, 6.1258350e-02],\n       [5.8879154e+01, 6.8457693e-02],\n       [5.9806122e+01, 6.9463998e-02],\n       [7.3294762e+01, 7.6273680e-02],\n       [8.1825645e+01, 8.9959912e-02],\n       [9.0677856e+01, 7.0173971e-02],\n       [1.0491871e+02, 7.9836540e-02],\n       [1.3617058e+02, 7.8876831e-02],\n       [2.0564766e+02, 9.2234209e-02]], dtype=float32)"
     },
     "execution_count": 121,
     "metadata": {},
     "output_type": "execute_result"
    }
   ],
   "source": [
    "so.convert_string_to_nist(bad_1.iloc[8]['peaks_cleaned'])"
   ],
   "metadata": {
    "collapsed": false,
    "pycharm": {
     "name": "#%%\n"
    }
   }
  },
  {
   "cell_type": "code",
   "execution_count": 128,
   "outputs": [],
   "source": [
    "from toolsets.denoising_related_functions import denoise_single"
   ],
   "metadata": {
    "collapsed": false,
    "pycharm": {
     "name": "#%%\n"
    }
   }
  },
  {
   "cell_type": "code",
   "execution_count": 131,
   "outputs": [
    {
     "data": {
      "text/plain": "id_spec                                                             2860928\nid_anno                                                                  83\nmix                                                                       3\ncharge                                                                  pos\nreference_precursor_mz                                             283.0587\nrt                                                                     6.51\nname                                2,3,4'-Trihydroxy-4-Methoxybenzophenone\nreference_adduct                                                    [M+Na]+\nce                                                                       45\nconcentration                                                             1\npeaks                     50.73485565185547:9425.169921875;54.1692390441...\nrt_spec                                                          389.376444\nprecursor_mz_spec                                                283.058685\npeaks_cleaned             50.734856\\t0.0659461\\n54.169239\\t0.06321247\\n5...\nreference_smiles                           COc1ccc(c(O)c1O)C(=O)c2ccc(O)cc2\nreference_formula                                                  C14H12O5\npeaks_denoised                                                          NaN\nei                                                                      0.0\nnormalized_entropy                                                 0.985236\nName: 8, dtype: object"
     },
     "execution_count": 131,
     "metadata": {},
     "output_type": "execute_result"
    }
   ],
   "source": [
    "instance"
   ],
   "metadata": {
    "collapsed": false,
    "pycharm": {
     "name": "#%%\n"
    }
   }
  },
  {
   "cell_type": "code",
   "execution_count": null,
   "outputs": [],
   "source": [
    "prep_formula"
   ],
   "metadata": {
    "collapsed": false,
    "pycharm": {
     "name": "#%%\n"
    }
   }
  },
  {
   "cell_type": "code",
   "execution_count": 125,
   "outputs": [],
   "source": [
    "msms = so.bin_spectrum(bad_1.iloc[8]['peaks_cleaned'], precursormz= 283.0587)"
   ],
   "metadata": {
    "collapsed": false,
    "pycharm": {
     "name": "#%%\n"
    }
   }
  },
  {
   "cell_type": "code",
   "execution_count": 129,
   "outputs": [],
   "source": [
    "mass, intensity = so.break_spectra(msms)"
   ],
   "metadata": {
    "collapsed": false,
    "pycharm": {
     "name": "#%%\n"
    }
   }
  },
  {
   "cell_type": "code",
   "execution_count": null,
   "outputs": [],
   "source": [
    "normalized_entropy = []\n",
    "peaks_denoised = []\n",
    "for index, row in tqdm(data_1.iterrows(), total = len(data_1)):\n",
    "    normalized_entropy.append(so.normalized_entropy(row['peaks_cleaned']))\n",
    "data_1['normalized_entropy']=normalized_entropy"
   ],
   "metadata": {
    "collapsed": false,
    "pycharm": {
     "name": "#%%\n"
    }
   }
  },
  {
   "cell_type": "code",
   "execution_count": 23,
   "outputs": [],
   "source": [
    "data_13 = string_search(data_all, 'concentration',13)\n",
    "data_13.reset_index(inplace=True, drop=True)\n",
    "peaks = []\n",
    "for index, row in data_13.iterrows():\n",
    "    peak_temp = so.convert_scc_to_string(row['peaks'])\n",
    "    peak_temp = so.clean_spectrum(peak_temp, max_mz=row['precursor_mz'], tolerance=0.05)\n",
    "\n",
    "    peaks.append(peak_temp)"
   ],
   "metadata": {
    "collapsed": false,
    "pycharm": {
     "name": "#%%\n"
    }
   }
  },
  {
   "cell_type": "code",
   "execution_count": 49,
   "outputs": [
    {
     "name": "stderr",
     "output_type": "stream",
     "text": [
      "100%|██████████| 347/347 [03:11<00:00,  1.81it/s]\n"
     ]
    }
   ],
   "source": [
    "smiles = []\n",
    "for name in tqdm(data_13['name']):\n",
    "    smiles.append(name_to_smiles(name))\n",
    "data_13['smiles_fetched']=smiles\n",
    "data_13.dropna(subset=['smiles_fetched'], inplace=True)\n",
    "data_13.reset_index(inplace=True, drop=True)"
   ],
   "metadata": {
    "collapsed": false,
    "pycharm": {
     "name": "#%%\n"
    }
   }
  },
  {
   "cell_type": "code",
   "execution_count": 86,
   "outputs": [
    {
     "name": "stderr",
     "output_type": "stream",
     "text": [
      "[16:51:22] WARNING: not removing hydrogen atom without neighbors\n",
      "[16:51:22] WARNING: not removing hydrogen atom without neighbors\n",
      "[16:51:22] WARNING: not removing hydrogen atom without neighbors\n",
      "[16:51:22] WARNING: not removing hydrogen atom without neighbors\n",
      "[16:51:22] WARNING: not removing hydrogen atom without neighbors\n",
      "[16:51:22] WARNING: not removing hydrogen atom without neighbors\n"
     ]
    }
   ],
   "source": [
    "from rdkit import Chem\n",
    "from rdkit.Chem.rdMolDescriptors import CalcMolFormula\n",
    "formula = []\n",
    "for index, row in data_13.iterrows():\n",
    "    mol_temp = Chem.MolFromSmiles(row['reference_smiles'])\n",
    "    try:\n",
    "        formula.append(CalcMolFormula(mol_temp))\n",
    "    except:\n",
    "        formula.append(np.NAN)\n"
   ],
   "metadata": {
    "collapsed": false,
    "pycharm": {
     "name": "#%%\n"
    }
   }
  },
  {
   "cell_type": "code",
   "execution_count": 57,
   "outputs": [],
   "source": [
    "data_13['formula_fetched']=formula"
   ],
   "metadata": {
    "collapsed": false,
    "pycharm": {
     "name": "#%%\n"
    }
   }
  },
  {
   "cell_type": "code",
   "execution_count": 62,
   "outputs": [
    {
     "name": "stderr",
     "output_type": "stream",
     "text": [
      "100%|██████████| 258/258 [00:00<00:00, 26274.87it/s]\n"
     ]
    }
   ],
   "source": [
    "normalized_entropy = []\n",
    "peaks_denoised = []\n",
    "for index, row in tqdm(data_13.iterrows(), total = len(data_13)):\n",
    "    normalized_entropy.append(so.normalized_entropy(row['peaks_cleaned']))\n",
    "data_13['normalized_entropy']=normalized_entropy"
   ],
   "metadata": {
    "collapsed": false,
    "pycharm": {
     "name": "#%%\n"
    }
   }
  },
  {
   "cell_type": "code",
   "execution_count": 67,
   "outputs": [],
   "source": [
    "data_13['adduct']=data_13['adduct'].replace({'M-H':'[M-H]-', 'M+H':'[M+H]+'})"
   ],
   "metadata": {
    "collapsed": false,
    "pycharm": {
     "name": "#%%\n"
    }
   }
  },
  {
   "cell_type": "code",
   "execution_count": 72,
   "outputs": [
    {
     "data": {
      "text/plain": "Index(['id_spec', 'id_anno', 'mix', 'charge', 'reference_precursor_mz', 'rt',\n       'name', 'reference_adduct', 'ce', 'concentration', 'peaks', 'rt_spec',\n       'precursor_mz_spec', 'peaks_cleaned', 'reference_smiles',\n       'formula_fetched', 'normalized_entropy'],\n      dtype='object')"
     },
     "execution_count": 72,
     "metadata": {},
     "output_type": "execute_result"
    }
   ],
   "source": [
    "data_13.columns"
   ],
   "metadata": {
    "collapsed": false,
    "pycharm": {
     "name": "#%%\n"
    }
   }
  },
  {
   "cell_type": "code",
   "execution_count": 71,
   "outputs": [],
   "source": [
    "data_13.rename(columns={'adduct':'reference_adduct', 'precursor_mz':'reference_precursor_mz','smiles_fetched':'reference_smiles'}, inplace=True)"
   ],
   "metadata": {
    "collapsed": false,
    "pycharm": {
     "name": "#%%\n"
    }
   }
  },
  {
   "cell_type": "code",
   "execution_count": 73,
   "outputs": [
    {
     "name": "stderr",
     "output_type": "stream",
     "text": [
      "  1%|          | 3/258 [00:00<00:08, 28.43it/s][16:44:58] WARNING: not removing hydrogen atom without neighbors\n",
      " 13%|█▎        | 33/258 [00:01<00:08, 27.64it/s][16:45:00] WARNING: not removing hydrogen atom without neighbors\n",
      " 34%|███▍      | 89/258 [00:03<00:06, 28.16it/s][16:45:02] WARNING: not removing hydrogen atom without neighbors\n",
      " 46%|████▌     | 118/258 [00:04<00:04, 34.43it/s][16:45:03] WARNING: not removing hydrogen atom without neighbors\n",
      " 68%|██████▊   | 175/258 [00:06<00:03, 23.48it/s][16:45:05] WARNING: not removing hydrogen atom without neighbors\n",
      " 79%|███████▉  | 204/258 [00:07<00:02, 26.59it/s][16:45:06] WARNING: not removing hydrogen atom without neighbors\n",
      "100%|██████████| 258/258 [00:09<00:00, 26.08it/s]\n"
     ]
    }
   ],
   "source": [
    "from toolsets.denoising_related_functions import denoise_blacklist\n",
    "from toolsets.spectra_operations import calculate_explained_intensity\n",
    "msms_d = []\n",
    "ei = []\n",
    "for index, row in tqdm(data_13.iterrows(), total=len(data_13)) :\n",
    "    try:\n",
    "        msms_d_temp =(denoise_blacklist(row, typeofmsms = 'peaks_cleaned', mass_error=0.05, ifppm=False))\n",
    "        msms_d.append(msms_d_temp)\n",
    "        ei.append(calculate_explained_intensity(msms_d_temp, row['peaks_cleaned'],row['reference_precursor_mz'] ))\n",
    "    except:\n",
    "        msms_d.append(np.NAN)\n",
    "        ei.append(np.NAN)\n",
    "data_13['peaks_denoised'] = msms_d\n",
    "data_13['ei'] = ei\n",
    "# data_13['c_id']=np.arange(len(for_denoise))\n",
    "# for_denoise.to_csv(os.path.join(source_dir, filename.split('.')[:-1][0]+'_denoised.csv'), index = False)"
   ],
   "metadata": {
    "collapsed": false,
    "pycharm": {
     "name": "#%%\n"
    }
   }
  },
  {
   "cell_type": "code",
   "execution_count": 74,
   "outputs": [
    {
     "data": {
      "text/plain": "count    258.000000\nmean      56.219046\nstd       23.330363\nmin        0.000000\n25%       41.748380\n50%       57.665125\n75%       74.887455\nmax      100.000000\nName: ei, dtype: float64"
     },
     "execution_count": 74,
     "metadata": {},
     "output_type": "execute_result"
    }
   ],
   "source": [
    "data_13['ei'].describe()"
   ],
   "metadata": {
    "collapsed": false,
    "pycharm": {
     "name": "#%%\n"
    }
   }
  },
  {
   "cell_type": "code",
   "execution_count": 80,
   "outputs": [
    {
     "data": {
      "text/plain": "(14, 19)"
     },
     "execution_count": 80,
     "metadata": {},
     "output_type": "execute_result"
    }
   ],
   "source": [
    "num_search(data_13,column_name='ei', number=90, direction='>', inclusion=False).shape"
   ],
   "metadata": {
    "collapsed": false,
    "pycharm": {
     "name": "#%%\n"
    }
   }
  },
  {
   "cell_type": "code",
   "execution_count": 81,
   "outputs": [
    {
     "data": {
      "text/plain": "0.05426356589147287"
     },
     "execution_count": 81,
     "metadata": {},
     "output_type": "execute_result"
    }
   ],
   "source": [
    "14/data_13.shape[0]"
   ],
   "metadata": {
    "collapsed": false,
    "pycharm": {
     "name": "#%%\n"
    }
   }
  },
  {
   "cell_type": "code",
   "execution_count": 84,
   "outputs": [
    {
     "data": {
      "text/plain": "<AxesSubplot:xlabel='normalized_entropy', ylabel='ei'>"
     },
     "execution_count": 84,
     "metadata": {},
     "output_type": "execute_result"
    },
    {
     "data": {
      "text/plain": "<Figure size 640x480 with 1 Axes>",
      "image/png": "[encoded data removed]"
     },
     "metadata": {},
     "output_type": "display_data"
    }
   ],
   "source": [
    "sns.scatterplot(x = data_13['normalized_entropy'],y = data_13['ei'])"
   ],
   "metadata": {
    "collapsed": false,
    "pycharm": {
     "name": "#%%\n"
    }
   }
  },
  {
   "cell_type": "code",
   "execution_count": 9,
   "outputs": [],
   "source": [
    "# EAD_source = '/Users/fanzhoukong/Documents/GitHub/Libgen_data/EAD'\n",
    "# UVPD_source = \"/Users/fanzhoukong/Documents/GitHub/Libgen_data/UVPD\""
   ],
   "metadata": {
    "collapsed": false,
    "pycharm": {
     "name": "#%%\n"
    }
   }
  },
  {
   "cell_type": "code",
   "execution_count": 22,
   "outputs": [],
   "source": [],
   "metadata": {
    "collapsed": false,
    "pycharm": {
     "name": "#%%\n"
    }
   }
  },
  {
   "cell_type": "code",
   "execution_count": null,
   "outputs": [],
   "source": [
    "extra"
   ],
   "metadata": {
    "collapsed": false,
    "pycharm": {
     "name": "#%%\n"
    }
   }
  },
  {
   "cell_type": "code",
   "execution_count": null,
   "outputs": [
    {
     "name": "stderr",
     "output_type": "stream",
     "text": [
      "  0%|          | 43/9695 [00:24<1:46:27,  1.51it/s]"
     ]
    }
   ],
   "source": [
    "smiles = []\n",
    "for name in tqdm(extracted_wanted['name']):\n",
    "    smiles.append(name_to_smiles(name))\n"
   ],
   "metadata": {
    "collapsed": false,
    "pycharm": {
     "name": "#%%\n",
     "is_executing": true
    }
   }
  },
  {
   "cell_type": "code",
   "execution_count": 7,
   "outputs": [],
   "source": [
    "extracted_wanted['smiles_fetched']=smiles"
   ],
   "metadata": {
    "collapsed": false,
    "pycharm": {
     "name": "#%%\n"
    }
   }
  },
  {
   "cell_type": "code",
   "execution_count": 8,
   "outputs": [
    {
     "data": {
      "text/plain": "(242, 14)"
     },
     "execution_count": 8,
     "metadata": {},
     "output_type": "execute_result"
    }
   ],
   "source": [
    "extracted_wanted.shape"
   ],
   "metadata": {
    "collapsed": false,
    "pycharm": {
     "name": "#%%\n"
    }
   }
  },
  {
   "cell_type": "code",
   "execution_count": 9,
   "outputs": [],
   "source": [
    "extracted_wanted.dropna(subset=['smiles_fetched'], inplace=True)"
   ],
   "metadata": {
    "collapsed": false,
    "pycharm": {
     "name": "#%%\n"
    }
   }
  },
  {
   "cell_type": "code",
   "execution_count": 11,
   "outputs": [],
   "source": [
    "extracted_wanted.reset_index(inplace=True, drop=True)"
   ],
   "metadata": {
    "collapsed": false,
    "pycharm": {
     "name": "#%%\n"
    }
   }
  },
  {
   "cell_type": "code",
   "execution_count": 17,
   "outputs": [
    {
     "data": {
      "text/plain": "1     48\n2     31\n3     22\n4     21\n5     18\n7     10\n6      7\n8      5\n9      4\n11     3\n10     2\n12     2\n13     2\nName: concentration, dtype: int64"
     },
     "execution_count": 17,
     "metadata": {},
     "output_type": "execute_result"
    }
   ],
   "source": [
    "extracted_wanted['concentration'].value_counts()"
   ],
   "metadata": {
    "collapsed": false,
    "pycharm": {
     "name": "#%%\n"
    }
   }
  },
  {
   "cell_type": "code",
   "execution_count": 14,
   "outputs": [],
   "source": [
    "mix_12= string_search(extracted_wanted, 'mix', 12)"
   ],
   "metadata": {
    "collapsed": false,
    "pycharm": {
     "name": "#%%\n"
    }
   }
  },
  {
   "cell_type": "code",
   "execution_count": 18,
   "outputs": [
    {
     "data": {
      "text/plain": "     id_spec  id_anno  mix charge  precursor_mz     rt               name  \\\n10    342594      210   12    pos      146.1657   0.56         SPERMIDINE   \n11    344640      235   12    pos      363.2180   6.86     HYDROCORTISONE   \n20    682538      370   12    neg      283.0609   9.17        Biochanin A   \n21    682532      379   12    neg      407.2791   9.02        Cholic Acid   \n23    822146      230   12    pos      347.1501   5.24   Gibberellic Acid   \n26    838672      379   12    neg      407.2791   9.02        Cholic Acid   \n32    485564      210   12    pos      146.1657   0.56         SPERMIDINE   \n36    476550      379   12    neg      407.2791   9.02        Cholic Acid   \n50    609165      210   12    pos      146.1657   0.56         SPERMIDINE   \n58    393132      370   12    neg      283.0609   9.17        Biochanin A   \n59    393087      379   12    neg      407.2791   9.02        Cholic Acid   \n76    402703      210   12    pos      146.1657   0.56         SPERMIDINE   \n77    405766      223   12    pos      289.2174   9.66         PRASTERONE   \n78    406237      233   12    pos      225.0909  11.35  2-Hydroxychalcone   \n79    404818      235   12    pos      363.2180   6.86     HYDROCORTISONE   \n91    596120      370   12    neg      283.0609   9.17        Biochanin A   \n92    596117      379   12    neg      407.2791   9.02        Cholic Acid   \n97    515912      210   12    pos      146.1657   0.56         SPERMIDINE   \n101   759904      379   12    neg      407.2791   9.02        Cholic Acid   \n127    84224      208   12    pos      285.0769   9.16        Biochanin A   \n128    85055      209   12    pos      301.2385  12.38     Roccellic Acid   \n129    81266      210   12    pos      146.1657   0.56         SPERMIDINE   \n130    84269      223   12    pos      289.2174   9.66         PRASTERONE   \n131    84827      233   12    pos      225.0909  11.35  2-Hydroxychalcone   \n132    83225      235   12    pos      363.2180   6.86     HYDROCORTISONE   \n147   566102      370   12    neg      283.0609   9.17        Biochanin A   \n148   565439      375   12    neg      779.4211   8.22            Gitoxin   \n149   566075      379   12    neg      407.2791   9.02        Cholic Acid   \n157   527616      210   12    pos      146.1657   0.56         SPERMIDINE   \n158   529680      235   12    pos      363.2180   6.86     HYDROCORTISONE   \n169   748350      370   12    neg      283.0609   9.17        Biochanin A   \n170   748332      379   12    neg      407.2791   9.02        Cholic Acid   \n\n     adduct  ce  concentration  \\\n10   [M+H]+   0              3   \n11   [M+H]+   0              3   \n20      M-H   0              3   \n21      M-H   0              3   \n23   [M+H]+   0              8   \n26      M-H   0              8   \n32   [M+H]+   0              7   \n36      M-H   0              7   \n50   [M+H]+   0              5   \n58      M-H   0              5   \n59      M-H   0              5   \n76   [M+H]+   0              2   \n77   [M+H]+   0              2   \n78   [M+H]+   0              2   \n79   [M+H]+   0              2   \n91      M-H   0              2   \n92      M-H   0              2   \n97   [M+H]+   0              6   \n101     M-H   0              6   \n127  [M+H]+   0              1   \n128  [M+H]+   0              1   \n129  [M+H]+   0              1   \n130  [M+H]+   0              1   \n131  [M+H]+   0              1   \n132  [M+H]+   0              1   \n147     M-H   0              1   \n148     M-H   0              1   \n149     M-H   0              1   \n157  [M+H]+   0              4   \n158  [M+H]+   0              4   \n169     M-H   0              4   \n170     M-H   0              4   \n\n                                                 peaks  rt_spec  \\\n10   51.12116622924805:13.024999618530273;54.827529...   36.701   \n11   54.521629333496094:14.125;56.67998504638672:7....  399.056   \n20   52.409542083740234:69.01786041259766;52.412597...  556.748   \n21   51.81279754638672:28.0;54.822967529296875:7.0;...  556.057   \n23   50.65410614013672:17.225000381469727;52.225910...  312.069   \n26   50.628692626953125:5.375;50.69906997680664:7.2...  554.298   \n32   50.16026306152344:27.0;50.267398834228516:22.6...   42.768   \n36   50.28374481201172:9.0;50.36776351928711:8.0;51...  540.230   \n50   50.857200622558594:16.160715103149414;51.08386...   42.686   \n58   50.111263275146484:79.88970947265625;50.115936...  554.502   \n59   51.05177688598633:13.5;52.932254791259766:15.1...  546.749   \n76   50.458011627197266:7.25;50.90478515625:33.2249...   37.601   \n77   50.9100341796875:17.5;53.52819061279297:7.875;...  573.449   \n78   51.845035552978516:16.0;52.93822479248047:148....  684.568   \n79   51.67262268066406:13.024999618530273;51.760982...  400.627   \n91   52.04039001464844:9.125;53.03115463256836:8.12...  551.270   \n92   50.506492614746094:9.0;50.969234466552734:51.8...  551.055   \n97   50.60329818725586:9.0;51.423614501953125:11.0;...   39.504   \n101  50.29555130004883:7.375;50.36285400390625:5.0;...  544.916   \n127  50.0151481628418:386.6391906738281;50.02954483...  556.273   \n128  55.05272674560547:57.0625;55.22163772583008:14...  747.608   \n129  50.55510711669922:7.25;50.771053314208984:14.0...   42.285   \n130  50.16886901855469:11.375;50.487667083740234:10...  560.820   \n131  50.3864860534668:11.375;53.76700973510742:10.0...  687.752   \n132  50.18632888793945:13.024999618530273;51.023300...  397.440   \n147  50.08015823364258:142.27272033691406;50.095813...  555.992   \n148  50.01576232910156:15.125;50.53532028198242:38....  477.537   \n149  50.04560089111328:11.024999618530273;51.503334...  552.831   \n157  50.939796447753906:10.0;50.97162628173828:665....   40.108   \n158  52.11697769165039:16.0;52.386104583740234:8.12...  413.514   \n169  51.62553024291992:7.25;52.673763275146484:9.04...  555.235   \n170  51.05947494506836:8.125;52.84958267211914:34.1...  553.417   \n\n     precursor_mz_spec                                     smiles_fetched  \n10          146.164932                                         NCCCCNCCCN  \n11          363.215070  C[C@]12CCC(=O)C=C1CC[C@H]3[C@@H]4CC[C@](O)(C(=...  \n20          283.062791                COc1ccc(cc1)C2=COc3cc(O)cc(O)c3C2=O  \n21          407.282505  C[C@H](CCC(O)=O)[C@H]1CC[C@H]2[C@@H]3[C@H](O)C...  \n23          347.167542  CC12[C@@H](O)C=C[C@@]3(OC1=O)[C@@H]4CC[C@]5(O)...  \n26          407.282227  C[C@H](CCC(O)=O)[C@H]1CC[C@H]2[C@@H]3[C@H](O)C...  \n32          146.164780                                         NCCCCNCCCN  \n36          407.282111  C[C@H](CCC(O)=O)[C@H]1CC[C@H]2[C@@H]3[C@H](O)C...  \n50          146.164932                                         NCCCCNCCCN  \n58          283.062520                COc1ccc(cc1)C2=COc3cc(O)cc(O)c3C2=O  \n59          407.282271  C[C@H](CCC(O)=O)[C@H]1CC[C@H]2[C@@H]3[C@H](O)C...  \n76          146.164841                                         NCCCCNCCCN  \n77          289.214722  C[C@]12CC[C@H]3[C@@H](CC=C4C[C@@H](O)CC[C@]34C...  \n78          225.090027                          Oc1ccccc1C=CC(=O)c2ccccc2  \n79          363.215121  C[C@]12CCC(=O)C=C1CC[C@H]3[C@@H]4CC[C@](O)(C(=...  \n91          283.062991                COc1ccc(cc1)C2=COc3cc(O)cc(O)c3C2=O  \n92          407.282825  C[C@H](CCC(O)=O)[C@H]1CC[C@H]2[C@@H]3[C@H](O)C...  \n97          146.164780                                         NCCCCNCCCN  \n101         407.282266  C[C@H](CCC(O)=O)[C@H]1CC[C@H]2[C@@H]3[C@H](O)C...  \n127         285.074948                COc1ccc(cc1)C2=COc3cc(O)cc(O)c3C2=O  \n128         301.214752                    CCCCCCCCCCCCC(C(C)C(O)=O)C(O)=O  \n129         146.164951                                         NCCCCNCCCN  \n130         289.215096  C[C@]12CC[C@H]3[C@@H](CC=C4C[C@@H](O)CC[C@]34C...  \n131         225.090485                          Oc1ccccc1C=CC(=O)c2ccccc2  \n132         363.215271  C[C@]12CCC(=O)C=C1CC[C@H]3[C@@H]4CC[C@](O)(C(=...  \n147         283.063055                COc1ccc(cc1)C2=COc3cc(O)cc(O)c3C2=O  \n148         779.427002  C[C@H]1O[C@H](C[C@H](O)[C@@H]1O)O[C@H]2[C@@H](...  \n149         407.283337  C[C@H](CCC(O)=O)[C@H]1CC[C@H]2[C@@H]3[C@H](O)C...  \n157         146.164680                                         NCCCCNCCCN  \n158         363.215233  C[C@]12CCC(=O)C=C1CC[C@H]3[C@@H]4CC[C@](O)(C(=...  \n169         283.062790                COc1ccc(cc1)C2=COc3cc(O)cc(O)c3C2=O  \n170         407.282550  C[C@H](CCC(O)=O)[C@H]1CC[C@H]2[C@@H]3[C@H](O)C...  ",
      "text/html": "<div>\n<style scoped>\n    .dataframe tbody tr th:only-of-type {\n        vertical-align: middle;\n    }\n\n    .dataframe tbody tr th {\n        vertical-align: top;\n    }\n\n    .dataframe thead th {\n        text-align: right;\n    }\n</style>\n<table border=\"1\" class=\"dataframe\">\n  <thead>\n    <tr style=\"text-align: right;\">\n      <th></th>\n      <th>id_spec</th>\n      <th>id_anno</th>\n      <th>mix</th>\n      <th>charge</th>\n      <th>precursor_mz</th>\n      <th>rt</th>\n      <th>name</th>\n      <th>adduct</th>\n      <th>ce</th>\n      <th>concentration</th>\n      <th>peaks</th>\n      <th>rt_spec</th>\n      <th>precursor_mz_spec</th>\n      <th>smiles_fetched</th>\n    </tr>\n  </thead>\n  <tbody>\n    <tr>\n      <th>10</th>\n      <td>342594</td>\n      <td>210</td>\n      <td>12</td>\n      <td>pos</td>\n      <td>146.1657</td>\n      <td>0.56</td>\n      <td>SPERMIDINE</td>\n      <td>[M+H]+</td>\n      <td>0</td>\n      <td>3</td>\n      <td>51.12116622924805:13.024999618530273;54.827529...</td>\n      <td>36.701</td>\n      <td>146.164932</td>\n      <td>NCCCCNCCCN</td>\n    </tr>\n    <tr>\n      <th>11</th>\n      <td>344640</td>\n      <td>235</td>\n      <td>12</td>\n      <td>pos</td>\n      <td>363.2180</td>\n      <td>6.86</td>\n      <td>HYDROCORTISONE</td>\n      <td>[M+H]+</td>\n      <td>0</td>\n      <td>3</td>\n      <td>54.521629333496094:14.125;56.67998504638672:7....</td>\n      <td>399.056</td>\n      <td>363.215070</td>\n      <td>C[C@]12CCC(=O)C=C1CC[C@H]3[C@@H]4CC[C@](O)(C(=...</td>\n    </tr>\n    <tr>\n      <th>20</th>\n      <td>682538</td>\n      <td>370</td>\n      <td>12</td>\n      <td>neg</td>\n      <td>283.0609</td>\n      <td>9.17</td>\n      <td>Biochanin A</td>\n      <td>M-H</td>\n      <td>0</td>\n      <td>3</td>\n      <td>52.409542083740234:69.01786041259766;52.412597...</td>\n      <td>556.748</td>\n      <td>283.062791</td>\n      <td>COc1ccc(cc1)C2=COc3cc(O)cc(O)c3C2=O</td>\n    </tr>\n    <tr>\n      <th>21</th>\n      <td>682532</td>\n      <td>379</td>\n      <td>12</td>\n      <td>neg</td>\n      <td>407.2791</td>\n      <td>9.02</td>\n      <td>Cholic Acid</td>\n      <td>M-H</td>\n      <td>0</td>\n      <td>3</td>\n      <td>51.81279754638672:28.0;54.822967529296875:7.0;...</td>\n      <td>556.057</td>\n      <td>407.282505</td>\n      <td>C[C@H](CCC(O)=O)[C@H]1CC[C@H]2[C@@H]3[C@H](O)C...</td>\n    </tr>\n    <tr>\n      <th>23</th>\n      <td>822146</td>\n      <td>230</td>\n      <td>12</td>\n      <td>pos</td>\n      <td>347.1501</td>\n      <td>5.24</td>\n      <td>Gibberellic Acid</td>\n      <td>[M+H]+</td>\n      <td>0</td>\n      <td>8</td>\n      <td>50.65410614013672:17.225000381469727;52.225910...</td>\n      <td>312.069</td>\n      <td>347.167542</td>\n      <td>CC12[C@@H](O)C=C[C@@]3(OC1=O)[C@@H]4CC[C@]5(O)...</td>\n    </tr>\n    <tr>\n      <th>26</th>\n      <td>838672</td>\n      <td>379</td>\n      <td>12</td>\n      <td>neg</td>\n      <td>407.2791</td>\n      <td>9.02</td>\n      <td>Cholic Acid</td>\n      <td>M-H</td>\n      <td>0</td>\n      <td>8</td>\n      <td>50.628692626953125:5.375;50.69906997680664:7.2...</td>\n      <td>554.298</td>\n      <td>407.282227</td>\n      <td>C[C@H](CCC(O)=O)[C@H]1CC[C@H]2[C@@H]3[C@H](O)C...</td>\n    </tr>\n    <tr>\n      <th>32</th>\n      <td>485564</td>\n      <td>210</td>\n      <td>12</td>\n      <td>pos</td>\n      <td>146.1657</td>\n      <td>0.56</td>\n      <td>SPERMIDINE</td>\n      <td>[M+H]+</td>\n      <td>0</td>\n      <td>7</td>\n      <td>50.16026306152344:27.0;50.267398834228516:22.6...</td>\n      <td>42.768</td>\n      <td>146.164780</td>\n      <td>NCCCCNCCCN</td>\n    </tr>\n    <tr>\n      <th>36</th>\n      <td>476550</td>\n      <td>379</td>\n      <td>12</td>\n      <td>neg</td>\n      <td>407.2791</td>\n      <td>9.02</td>\n      <td>Cholic Acid</td>\n      <td>M-H</td>\n      <td>0</td>\n      <td>7</td>\n      <td>50.28374481201172:9.0;50.36776351928711:8.0;51...</td>\n      <td>540.230</td>\n      <td>407.282111</td>\n      <td>C[C@H](CCC(O)=O)[C@H]1CC[C@H]2[C@@H]3[C@H](O)C...</td>\n    </tr>\n    <tr>\n      <th>50</th>\n      <td>609165</td>\n      <td>210</td>\n      <td>12</td>\n      <td>pos</td>\n      <td>146.1657</td>\n      <td>0.56</td>\n      <td>SPERMIDINE</td>\n      <td>[M+H]+</td>\n      <td>0</td>\n      <td>5</td>\n      <td>50.857200622558594:16.160715103149414;51.08386...</td>\n      <td>42.686</td>\n      <td>146.164932</td>\n      <td>NCCCCNCCCN</td>\n    </tr>\n    <tr>\n      <th>58</th>\n      <td>393132</td>\n      <td>370</td>\n      <td>12</td>\n      <td>neg</td>\n      <td>283.0609</td>\n      <td>9.17</td>\n      <td>Biochanin A</td>\n      <td>M-H</td>\n      <td>0</td>\n      <td>5</td>\n      <td>50.111263275146484:79.88970947265625;50.115936...</td>\n      <td>554.502</td>\n      <td>283.062520</td>\n      <td>COc1ccc(cc1)C2=COc3cc(O)cc(O)c3C2=O</td>\n    </tr>\n    <tr>\n      <th>59</th>\n      <td>393087</td>\n      <td>379</td>\n      <td>12</td>\n      <td>neg</td>\n      <td>407.2791</td>\n      <td>9.02</td>\n      <td>Cholic Acid</td>\n      <td>M-H</td>\n      <td>0</td>\n      <td>5</td>\n      <td>51.05177688598633:13.5;52.932254791259766:15.1...</td>\n      <td>546.749</td>\n      <td>407.282271</td>\n      <td>C[C@H](CCC(O)=O)[C@H]1CC[C@H]2[C@@H]3[C@H](O)C...</td>\n    </tr>\n    <tr>\n      <th>76</th>\n      <td>402703</td>\n      <td>210</td>\n      <td>12</td>\n      <td>pos</td>\n      <td>146.1657</td>\n      <td>0.56</td>\n      <td>SPERMIDINE</td>\n      <td>[M+H]+</td>\n      <td>0</td>\n      <td>2</td>\n      <td>50.458011627197266:7.25;50.90478515625:33.2249...</td>\n      <td>37.601</td>\n      <td>146.164841</td>\n      <td>NCCCCNCCCN</td>\n    </tr>\n    <tr>\n      <th>77</th>\n      <td>405766</td>\n      <td>223</td>\n      <td>12</td>\n      <td>pos</td>\n      <td>289.2174</td>\n      <td>9.66</td>\n      <td>PRASTERONE</td>\n      <td>[M+H]+</td>\n      <td>0</td>\n      <td>2</td>\n      <td>50.9100341796875:17.5;53.52819061279297:7.875;...</td>\n      <td>573.449</td>\n      <td>289.214722</td>\n      <td>C[C@]12CC[C@H]3[C@@H](CC=C4C[C@@H](O)CC[C@]34C...</td>\n    </tr>\n    <tr>\n      <th>78</th>\n      <td>406237</td>\n      <td>233</td>\n      <td>12</td>\n      <td>pos</td>\n      <td>225.0909</td>\n      <td>11.35</td>\n      <td>2-Hydroxychalcone</td>\n      <td>[M+H]+</td>\n      <td>0</td>\n      <td>2</td>\n      <td>51.845035552978516:16.0;52.93822479248047:148....</td>\n      <td>684.568</td>\n      <td>225.090027</td>\n      <td>Oc1ccccc1C=CC(=O)c2ccccc2</td>\n    </tr>\n    <tr>\n      <th>79</th>\n      <td>404818</td>\n      <td>235</td>\n      <td>12</td>\n      <td>pos</td>\n      <td>363.2180</td>\n      <td>6.86</td>\n      <td>HYDROCORTISONE</td>\n      <td>[M+H]+</td>\n      <td>0</td>\n      <td>2</td>\n      <td>51.67262268066406:13.024999618530273;51.760982...</td>\n      <td>400.627</td>\n      <td>363.215121</td>\n      <td>C[C@]12CCC(=O)C=C1CC[C@H]3[C@@H]4CC[C@](O)(C(=...</td>\n    </tr>\n    <tr>\n      <th>91</th>\n      <td>596120</td>\n      <td>370</td>\n      <td>12</td>\n      <td>neg</td>\n      <td>283.0609</td>\n      <td>9.17</td>\n      <td>Biochanin A</td>\n      <td>M-H</td>\n      <td>0</td>\n      <td>2</td>\n      <td>52.04039001464844:9.125;53.03115463256836:8.12...</td>\n      <td>551.270</td>\n      <td>283.062991</td>\n      <td>COc1ccc(cc1)C2=COc3cc(O)cc(O)c3C2=O</td>\n    </tr>\n    <tr>\n      <th>92</th>\n      <td>596117</td>\n      <td>379</td>\n      <td>12</td>\n      <td>neg</td>\n      <td>407.2791</td>\n      <td>9.02</td>\n      <td>Cholic Acid</td>\n      <td>M-H</td>\n      <td>0</td>\n      <td>2</td>\n      <td>50.506492614746094:9.0;50.969234466552734:51.8...</td>\n      <td>551.055</td>\n      <td>407.282825</td>\n      <td>C[C@H](CCC(O)=O)[C@H]1CC[C@H]2[C@@H]3[C@H](O)C...</td>\n    </tr>\n    <tr>\n      <th>97</th>\n      <td>515912</td>\n      <td>210</td>\n      <td>12</td>\n      <td>pos</td>\n      <td>146.1657</td>\n      <td>0.56</td>\n      <td>SPERMIDINE</td>\n      <td>[M+H]+</td>\n      <td>0</td>\n      <td>6</td>\n      <td>50.60329818725586:9.0;51.423614501953125:11.0;...</td>\n      <td>39.504</td>\n      <td>146.164780</td>\n      <td>NCCCCNCCCN</td>\n    </tr>\n    <tr>\n      <th>101</th>\n      <td>759904</td>\n      <td>379</td>\n      <td>12</td>\n      <td>neg</td>\n      <td>407.2791</td>\n      <td>9.02</td>\n      <td>Cholic Acid</td>\n      <td>M-H</td>\n      <td>0</td>\n      <td>6</td>\n      <td>50.29555130004883:7.375;50.36285400390625:5.0;...</td>\n      <td>544.916</td>\n      <td>407.282266</td>\n      <td>C[C@H](CCC(O)=O)[C@H]1CC[C@H]2[C@@H]3[C@H](O)C...</td>\n    </tr>\n    <tr>\n      <th>127</th>\n      <td>84224</td>\n      <td>208</td>\n      <td>12</td>\n      <td>pos</td>\n      <td>285.0769</td>\n      <td>9.16</td>\n      <td>Biochanin A</td>\n      <td>[M+H]+</td>\n      <td>0</td>\n      <td>1</td>\n      <td>50.0151481628418:386.6391906738281;50.02954483...</td>\n      <td>556.273</td>\n      <td>285.074948</td>\n      <td>COc1ccc(cc1)C2=COc3cc(O)cc(O)c3C2=O</td>\n    </tr>\n    <tr>\n      <th>128</th>\n      <td>85055</td>\n      <td>209</td>\n      <td>12</td>\n      <td>pos</td>\n      <td>301.2385</td>\n      <td>12.38</td>\n      <td>Roccellic Acid</td>\n      <td>[M+H]+</td>\n      <td>0</td>\n      <td>1</td>\n      <td>55.05272674560547:57.0625;55.22163772583008:14...</td>\n      <td>747.608</td>\n      <td>301.214752</td>\n      <td>CCCCCCCCCCCCC(C(C)C(O)=O)C(O)=O</td>\n    </tr>\n    <tr>\n      <th>129</th>\n      <td>81266</td>\n      <td>210</td>\n      <td>12</td>\n      <td>pos</td>\n      <td>146.1657</td>\n      <td>0.56</td>\n      <td>SPERMIDINE</td>\n      <td>[M+H]+</td>\n      <td>0</td>\n      <td>1</td>\n      <td>50.55510711669922:7.25;50.771053314208984:14.0...</td>\n      <td>42.285</td>\n      <td>146.164951</td>\n      <td>NCCCCNCCCN</td>\n    </tr>\n    <tr>\n      <th>130</th>\n      <td>84269</td>\n      <td>223</td>\n      <td>12</td>\n      <td>pos</td>\n      <td>289.2174</td>\n      <td>9.66</td>\n      <td>PRASTERONE</td>\n      <td>[M+H]+</td>\n      <td>0</td>\n      <td>1</td>\n      <td>50.16886901855469:11.375;50.487667083740234:10...</td>\n      <td>560.820</td>\n      <td>289.215096</td>\n      <td>C[C@]12CC[C@H]3[C@@H](CC=C4C[C@@H](O)CC[C@]34C...</td>\n    </tr>\n    <tr>\n      <th>131</th>\n      <td>84827</td>\n      <td>233</td>\n      <td>12</td>\n      <td>pos</td>\n      <td>225.0909</td>\n      <td>11.35</td>\n      <td>2-Hydroxychalcone</td>\n      <td>[M+H]+</td>\n      <td>0</td>\n      <td>1</td>\n      <td>50.3864860534668:11.375;53.76700973510742:10.0...</td>\n      <td>687.752</td>\n      <td>225.090485</td>\n      <td>Oc1ccccc1C=CC(=O)c2ccccc2</td>\n    </tr>\n    <tr>\n      <th>132</th>\n      <td>83225</td>\n      <td>235</td>\n      <td>12</td>\n      <td>pos</td>\n      <td>363.2180</td>\n      <td>6.86</td>\n      <td>HYDROCORTISONE</td>\n      <td>[M+H]+</td>\n      <td>0</td>\n      <td>1</td>\n      <td>50.18632888793945:13.024999618530273;51.023300...</td>\n      <td>397.440</td>\n      <td>363.215271</td>\n      <td>C[C@]12CCC(=O)C=C1CC[C@H]3[C@@H]4CC[C@](O)(C(=...</td>\n    </tr>\n    <tr>\n      <th>147</th>\n      <td>566102</td>\n      <td>370</td>\n      <td>12</td>\n      <td>neg</td>\n      <td>283.0609</td>\n      <td>9.17</td>\n      <td>Biochanin A</td>\n      <td>M-H</td>\n      <td>0</td>\n      <td>1</td>\n      <td>50.08015823364258:142.27272033691406;50.095813...</td>\n      <td>555.992</td>\n      <td>283.063055</td>\n      <td>COc1ccc(cc1)C2=COc3cc(O)cc(O)c3C2=O</td>\n    </tr>\n    <tr>\n      <th>148</th>\n      <td>565439</td>\n      <td>375</td>\n      <td>12</td>\n      <td>neg</td>\n      <td>779.4211</td>\n      <td>8.22</td>\n      <td>Gitoxin</td>\n      <td>M-H</td>\n      <td>0</td>\n      <td>1</td>\n      <td>50.01576232910156:15.125;50.53532028198242:38....</td>\n      <td>477.537</td>\n      <td>779.427002</td>\n      <td>C[C@H]1O[C@H](C[C@H](O)[C@@H]1O)O[C@H]2[C@@H](...</td>\n    </tr>\n    <tr>\n      <th>149</th>\n      <td>566075</td>\n      <td>379</td>\n      <td>12</td>\n      <td>neg</td>\n      <td>407.2791</td>\n      <td>9.02</td>\n      <td>Cholic Acid</td>\n      <td>M-H</td>\n      <td>0</td>\n      <td>1</td>\n      <td>50.04560089111328:11.024999618530273;51.503334...</td>\n      <td>552.831</td>\n      <td>407.283337</td>\n      <td>C[C@H](CCC(O)=O)[C@H]1CC[C@H]2[C@@H]3[C@H](O)C...</td>\n    </tr>\n    <tr>\n      <th>157</th>\n      <td>527616</td>\n      <td>210</td>\n      <td>12</td>\n      <td>pos</td>\n      <td>146.1657</td>\n      <td>0.56</td>\n      <td>SPERMIDINE</td>\n      <td>[M+H]+</td>\n      <td>0</td>\n      <td>4</td>\n      <td>50.939796447753906:10.0;50.97162628173828:665....</td>\n      <td>40.108</td>\n      <td>146.164680</td>\n      <td>NCCCCNCCCN</td>\n    </tr>\n    <tr>\n      <th>158</th>\n      <td>529680</td>\n      <td>235</td>\n      <td>12</td>\n      <td>pos</td>\n      <td>363.2180</td>\n      <td>6.86</td>\n      <td>HYDROCORTISONE</td>\n      <td>[M+H]+</td>\n      <td>0</td>\n      <td>4</td>\n      <td>52.11697769165039:16.0;52.386104583740234:8.12...</td>\n      <td>413.514</td>\n      <td>363.215233</td>\n      <td>C[C@]12CCC(=O)C=C1CC[C@H]3[C@@H]4CC[C@](O)(C(=...</td>\n    </tr>\n    <tr>\n      <th>169</th>\n      <td>748350</td>\n      <td>370</td>\n      <td>12</td>\n      <td>neg</td>\n      <td>283.0609</td>\n      <td>9.17</td>\n      <td>Biochanin A</td>\n      <td>M-H</td>\n      <td>0</td>\n      <td>4</td>\n      <td>51.62553024291992:7.25;52.673763275146484:9.04...</td>\n      <td>555.235</td>\n      <td>283.062790</td>\n      <td>COc1ccc(cc1)C2=COc3cc(O)cc(O)c3C2=O</td>\n    </tr>\n    <tr>\n      <th>170</th>\n      <td>748332</td>\n      <td>379</td>\n      <td>12</td>\n      <td>neg</td>\n      <td>407.2791</td>\n      <td>9.02</td>\n      <td>Cholic Acid</td>\n      <td>M-H</td>\n      <td>0</td>\n      <td>4</td>\n      <td>51.05947494506836:8.125;52.84958267211914:34.1...</td>\n      <td>553.417</td>\n      <td>407.282550</td>\n      <td>C[C@H](CCC(O)=O)[C@H]1CC[C@H]2[C@@H]3[C@H](O)C...</td>\n    </tr>\n  </tbody>\n</table>\n</div>"
     },
     "execution_count": 18,
     "metadata": {},
     "output_type": "execute_result"
    }
   ],
   "source": [
    "mix_12"
   ],
   "metadata": {
    "collapsed": false,
    "pycharm": {
     "name": "#%%\n"
    }
   }
  },
  {
   "cell_type": "code",
   "execution_count": 19,
   "outputs": [
    {
     "data": {
      "text/plain": "     id_spec  id_anno  mix charge  precursor_mz    rt         name adduct  ce  \\\n21    682532      379   12    neg      407.2791  9.02  Cholic Acid    M-H   0   \n26    838672      379   12    neg      407.2791  9.02  Cholic Acid    M-H   0   \n36    476550      379   12    neg      407.2791  9.02  Cholic Acid    M-H   0   \n59    393087      379   12    neg      407.2791  9.02  Cholic Acid    M-H   0   \n92    596117      379   12    neg      407.2791  9.02  Cholic Acid    M-H   0   \n101   759904      379   12    neg      407.2791  9.02  Cholic Acid    M-H   0   \n149   566075      379   12    neg      407.2791  9.02  Cholic Acid    M-H   0   \n170   748332      379   12    neg      407.2791  9.02  Cholic Acid    M-H   0   \n\n     concentration                                              peaks  \\\n21               3  51.81279754638672:28.0;54.822967529296875:7.0;...   \n26               8  50.628692626953125:5.375;50.69906997680664:7.2...   \n36               7  50.28374481201172:9.0;50.36776351928711:8.0;51...   \n59               5  51.05177688598633:13.5;52.932254791259766:15.1...   \n92               2  50.506492614746094:9.0;50.969234466552734:51.8...   \n101              6  50.29555130004883:7.375;50.36285400390625:5.0;...   \n149              1  50.04560089111328:11.024999618530273;51.503334...   \n170              4  51.05947494506836:8.125;52.84958267211914:34.1...   \n\n     rt_spec  precursor_mz_spec  \\\n21   556.057         407.282505   \n26   554.298         407.282227   \n36   540.230         407.282111   \n59   546.749         407.282271   \n92   551.055         407.282825   \n101  544.916         407.282266   \n149  552.831         407.283337   \n170  553.417         407.282550   \n\n                                        smiles_fetched  \n21   C[C@H](CCC(O)=O)[C@H]1CC[C@H]2[C@@H]3[C@H](O)C...  \n26   C[C@H](CCC(O)=O)[C@H]1CC[C@H]2[C@@H]3[C@H](O)C...  \n36   C[C@H](CCC(O)=O)[C@H]1CC[C@H]2[C@@H]3[C@H](O)C...  \n59   C[C@H](CCC(O)=O)[C@H]1CC[C@H]2[C@@H]3[C@H](O)C...  \n92   C[C@H](CCC(O)=O)[C@H]1CC[C@H]2[C@@H]3[C@H](O)C...  \n101  C[C@H](CCC(O)=O)[C@H]1CC[C@H]2[C@@H]3[C@H](O)C...  \n149  C[C@H](CCC(O)=O)[C@H]1CC[C@H]2[C@@H]3[C@H](O)C...  \n170  C[C@H](CCC(O)=O)[C@H]1CC[C@H]2[C@@H]3[C@H](O)C...  ",
      "text/html": "<div>\n<style scoped>\n    .dataframe tbody tr th:only-of-type {\n        vertical-align: middle;\n    }\n\n    .dataframe tbody tr th {\n        vertical-align: top;\n    }\n\n    .dataframe thead th {\n        text-align: right;\n    }\n</style>\n<table border=\"1\" class=\"dataframe\">\n  <thead>\n    <tr style=\"text-align: right;\">\n      <th></th>\n      <th>id_spec</th>\n      <th>id_anno</th>\n      <th>mix</th>\n      <th>charge</th>\n      <th>precursor_mz</th>\n      <th>rt</th>\n      <th>name</th>\n      <th>adduct</th>\n      <th>ce</th>\n      <th>concentration</th>\n      <th>peaks</th>\n      <th>rt_spec</th>\n      <th>precursor_mz_spec</th>\n      <th>smiles_fetched</th>\n    </tr>\n  </thead>\n  <tbody>\n    <tr>\n      <th>21</th>\n      <td>682532</td>\n      <td>379</td>\n      <td>12</td>\n      <td>neg</td>\n      <td>407.2791</td>\n      <td>9.02</td>\n      <td>Cholic Acid</td>\n      <td>M-H</td>\n      <td>0</td>\n      <td>3</td>\n      <td>51.81279754638672:28.0;54.822967529296875:7.0;...</td>\n      <td>556.057</td>\n      <td>407.282505</td>\n      <td>C[C@H](CCC(O)=O)[C@H]1CC[C@H]2[C@@H]3[C@H](O)C...</td>\n    </tr>\n    <tr>\n      <th>26</th>\n      <td>838672</td>\n      <td>379</td>\n      <td>12</td>\n      <td>neg</td>\n      <td>407.2791</td>\n      <td>9.02</td>\n      <td>Cholic Acid</td>\n      <td>M-H</td>\n      <td>0</td>\n      <td>8</td>\n      <td>50.628692626953125:5.375;50.69906997680664:7.2...</td>\n      <td>554.298</td>\n      <td>407.282227</td>\n      <td>C[C@H](CCC(O)=O)[C@H]1CC[C@H]2[C@@H]3[C@H](O)C...</td>\n    </tr>\n    <tr>\n      <th>36</th>\n      <td>476550</td>\n      <td>379</td>\n      <td>12</td>\n      <td>neg</td>\n      <td>407.2791</td>\n      <td>9.02</td>\n      <td>Cholic Acid</td>\n      <td>M-H</td>\n      <td>0</td>\n      <td>7</td>\n      <td>50.28374481201172:9.0;50.36776351928711:8.0;51...</td>\n      <td>540.230</td>\n      <td>407.282111</td>\n      <td>C[C@H](CCC(O)=O)[C@H]1CC[C@H]2[C@@H]3[C@H](O)C...</td>\n    </tr>\n    <tr>\n      <th>59</th>\n      <td>393087</td>\n      <td>379</td>\n      <td>12</td>\n      <td>neg</td>\n      <td>407.2791</td>\n      <td>9.02</td>\n      <td>Cholic Acid</td>\n      <td>M-H</td>\n      <td>0</td>\n      <td>5</td>\n      <td>51.05177688598633:13.5;52.932254791259766:15.1...</td>\n      <td>546.749</td>\n      <td>407.282271</td>\n      <td>C[C@H](CCC(O)=O)[C@H]1CC[C@H]2[C@@H]3[C@H](O)C...</td>\n    </tr>\n    <tr>\n      <th>92</th>\n      <td>596117</td>\n      <td>379</td>\n      <td>12</td>\n      <td>neg</td>\n      <td>407.2791</td>\n      <td>9.02</td>\n      <td>Cholic Acid</td>\n      <td>M-H</td>\n      <td>0</td>\n      <td>2</td>\n      <td>50.506492614746094:9.0;50.969234466552734:51.8...</td>\n      <td>551.055</td>\n      <td>407.282825</td>\n      <td>C[C@H](CCC(O)=O)[C@H]1CC[C@H]2[C@@H]3[C@H](O)C...</td>\n    </tr>\n    <tr>\n      <th>101</th>\n      <td>759904</td>\n      <td>379</td>\n      <td>12</td>\n      <td>neg</td>\n      <td>407.2791</td>\n      <td>9.02</td>\n      <td>Cholic Acid</td>\n      <td>M-H</td>\n      <td>0</td>\n      <td>6</td>\n      <td>50.29555130004883:7.375;50.36285400390625:5.0;...</td>\n      <td>544.916</td>\n      <td>407.282266</td>\n      <td>C[C@H](CCC(O)=O)[C@H]1CC[C@H]2[C@@H]3[C@H](O)C...</td>\n    </tr>\n    <tr>\n      <th>149</th>\n      <td>566075</td>\n      <td>379</td>\n      <td>12</td>\n      <td>neg</td>\n      <td>407.2791</td>\n      <td>9.02</td>\n      <td>Cholic Acid</td>\n      <td>M-H</td>\n      <td>0</td>\n      <td>1</td>\n      <td>50.04560089111328:11.024999618530273;51.503334...</td>\n      <td>552.831</td>\n      <td>407.283337</td>\n      <td>C[C@H](CCC(O)=O)[C@H]1CC[C@H]2[C@@H]3[C@H](O)C...</td>\n    </tr>\n    <tr>\n      <th>170</th>\n      <td>748332</td>\n      <td>379</td>\n      <td>12</td>\n      <td>neg</td>\n      <td>407.2791</td>\n      <td>9.02</td>\n      <td>Cholic Acid</td>\n      <td>M-H</td>\n      <td>0</td>\n      <td>4</td>\n      <td>51.05947494506836:8.125;52.84958267211914:34.1...</td>\n      <td>553.417</td>\n      <td>407.282550</td>\n      <td>C[C@H](CCC(O)=O)[C@H]1CC[C@H]2[C@@H]3[C@H](O)C...</td>\n    </tr>\n  </tbody>\n</table>\n</div>"
     },
     "execution_count": 19,
     "metadata": {},
     "output_type": "execute_result"
    }
   ],
   "source": [
    "string_search(extracted_wanted, 'name','Cholic Acid' )"
   ],
   "metadata": {
    "collapsed": false,
    "pycharm": {
     "name": "#%%\n"
    }
   }
  }
 ],
 "metadata": {
  "kernelspec": {
   "name": "alphapept_env",
   "language": "python",
   "display_name": "alphapept_env"
  },
  "language_info": {
   "codemirror_mode": {
    "name": "ipython",
    "version": 2
   },
   "file_extension": ".py",
   "mimetype": "text/x-python",
   "name": "python",
   "nbconvert_exporter": "python",
   "pygments_lexer": "ipython2",
   "version": "2.7.6"
  }
 },
 "nbformat": 4,
 "nbformat_minor": 0
}