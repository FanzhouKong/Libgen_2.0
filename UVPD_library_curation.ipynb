{
 "cells": [
  {
   "cell_type": "code",
   "execution_count": 119,
   "metadata": {
    "collapsed": true,
    "pycharm": {
     "name": "#%%\n"
    }
   },
   "outputs": [
    {
     "name": "stdout",
     "output_type": "stream",
     "text": [
      "The autoreload extension is already loaded. To reload it, use:\n",
      "  %reload_ext autoreload\n"
     ]
    }
   ],
   "source": [
    "import time\n",
    "import os\n",
    "import seaborn as sns\n",
    "import numpy as np\n",
    "import pandas as pd\n",
    "import sys\n",
    "%load_ext autoreload\n",
    "%autoreload 2\n",
    "import logging\n",
    "# from toolsets.spectra_operations import entropy_similarity_default\n",
    "from toolsets.std_list_prep import complete_adducts, complete_formula, complete_formal_charge, crude_list_cleanup\n",
    "# from toolsets.API_gets import complete_smiles\n",
    "from toolsets.search import string_search, num_search\n",
    "from toolsets.mzml_plot import EIC, TIC\n",
    "import toolsets.spectra_operations as so\n",
    "from tqdm import tqdm\n",
    "from toolsets.features_by_alphapept import find_features_alphapept\n",
    "import matplotlib.pyplot as plt\n",
    "import seaborn as sns\n",
    "source_dir = \"/Users/fanzhoukong/Documents/GitHub/Libgen_data/UVPD\""
   ]
  },
  {
   "cell_type": "markdown",
   "source": [
    "# start curating library for UVPD"
   ],
   "metadata": {
    "collapsed": false,
    "pycharm": {
     "name": "#%% md\n"
    }
   }
  },
  {
   "cell_type": "code",
   "execution_count": 130,
   "outputs": [],
   "source": [
    "# std_list_raw_pos = pd.read_csv(os.path.join(source_dir,\"std_list_pos_crude.csv\"))\n",
    "# std_list_raw_neg = pd.read_csv(os.path.join(source_dir,\"std_list_neg_crude.csv\"))\n",
    "# std_list_raw_pos = complete_formula(std_list_raw_pos,'smiles_fetched')\n",
    "# std_list_raw_neg = complete_formula(std_list_raw_neg,'smiles_fetched')\n",
    "# std_list_raw_pos=complete_formal_charge(std_list_raw_pos,'smiles_fetched')\n",
    "# std_list_raw_neg=complete_formal_charge(std_list_raw_neg,'smiles_fetched')\n",
    "# from toolsets.std_list_prep import neutrilize_salt_df\n",
    "# std_list_pos = neutrilize_salt_df(std_list_raw_pos, '[Na+,K+,Cl-,HCl]')\n",
    "# std_list_neg = neutrilize_salt_df(std_list_raw_neg, '[Na+,K+,Cl-,HCl]')\n",
    "# std_list_pos=crude_list_cleanup(std_list_pos, adducts=['[M]+','[M+H]+', '[M+Na]+', '[M+NH4]+', '[M-H2O+H]+'])\n",
    "# std_list_neg=crude_list_cleanup(std_list_neg, adducts=['[M]-','[M-H]-','[M+C2H4O2-H]-','[M-H2O-H]-','[M+Cl]-'])\n",
    "# std_list_pos.to_csv(os.path.join(source_dir, 'std_list_pos_ready.csv'), index =  False)\n",
    "# std_list_neg.to_csv(os.path.join(source_dir, 'std_list_neg_ready.csv'), index =  False)"
   ],
   "metadata": {
    "collapsed": false,
    "pycharm": {
     "name": "#%%\n"
    }
   }
  },
  {
   "cell_type": "markdown",
   "source": [
    "# Curating library in UVPD"
   ],
   "metadata": {
    "collapsed": false,
    "pycharm": {
     "name": "#%% md\n"
    }
   }
  },
  {
   "cell_type": "code",
   "execution_count": 58,
   "outputs": [
    {
     "name": "stdout",
     "output_type": "stream",
     "text": [
      "cleaning spectrum...\n"
     ]
    },
    {
     "name": "stderr",
     "output_type": "stream",
     "text": [
      "100%|██████████| 4614/4614 [00:30<00:00, 150.43it/s]\n"
     ]
    },
    {
     "name": "stdout",
     "output_type": "stream",
     "text": [
      "cleaning spectrum...\n"
     ]
    },
    {
     "name": "stderr",
     "output_type": "stream",
     "text": [
      "100%|██████████| 4983/4983 [00:30<00:00, 164.62it/s]\n"
     ]
    },
    {
     "name": "stdout",
     "output_type": "stream",
     "text": [
      "cleaning spectrum...\n"
     ]
    },
    {
     "name": "stderr",
     "output_type": "stream",
     "text": [
      "100%|██████████| 4513/4513 [00:43<00:00, 102.80it/s]\n"
     ]
    },
    {
     "name": "stdout",
     "output_type": "stream",
     "text": [
      "cleaning spectrum...\n"
     ]
    },
    {
     "name": "stderr",
     "output_type": "stream",
     "text": [
      "100%|██████████| 4905/4905 [00:21<00:00, 224.92it/s]\n"
     ]
    },
    {
     "name": "stdout",
     "output_type": "stream",
     "text": [
      "finding seed...\n"
     ]
    },
    {
     "name": "stderr",
     "output_type": "stream",
     "text": [
      "100%|██████████| 1619/1619 [00:07<00:00, 229.42it/s]\n"
     ]
    },
    {
     "name": "stdout",
     "output_type": "stream",
     "text": [
      "making matches\n"
     ]
    },
    {
     "name": "stderr",
     "output_type": "stream",
     "text": [
      "100%|██████████| 1617/1617 [00:03<00:00, 506.38it/s]\n"
     ]
    }
   ],
   "source": [
    "feature_folder = '/Users/fanzhoukong/Documents/GitHub/Libgen_data/UVPD/Features'\n",
    "std_list_pos = pd.read_csv(os.path.join(source_dir, 'std_list_pos_ready.csv'))\n",
    "std_list_neg = pd.read_csv(os.path.join(source_dir, 'std_list_neg_ready.csv'))\n",
    "from toolsets.precursor_matching import precursor_matching_global\n",
    "matched_hcd_pos = precursor_matching_global(std_list_pos, os.path.join(feature_folder, 'HCD_pos_MS2'), adducts = ['[M]+','[M+H]+', '[M+Na]+', '[M+NH4]+', '[M-H2O+H]+'],step=10, ppm = True, comment='HCD_pos')\n",
    "matched_hcd_neg = precursor_matching_global(std_list_neg, os.path.join(feature_folder, 'HCD_neg_MS2'), adducts = ['[M]-','[M-H]-','[M+C2H4O2-H]-','[M-H2O-H]-','[M+Cl]-'],step=10, ppm = True,comment='HCD_neg')\n",
    "matched_uvpd_pos = precursor_matching_global(std_list_pos, os.path.join(feature_folder, 'UVPD_pos_MS2'), adducts = ['[M]+','[M+H]+', '[M+Na]+', '[M+NH4]+', '[M-H2O+H]+'],step=10, ppm = True,comment='UVPD_pos')\n",
    "matched_uvpd_neg = precursor_matching_global(std_list_neg, os.path.join(feature_folder, 'UVPD_neg_MS2'), adducts = ['[M]-','[M-H]-','[M+C2H4O2-H]-','[M-H2O-H]-','[M+Cl]-'],step=10, ppm = True,comment='UVPD_neg')\n",
    "from toolsets.spectra_operations import normalized_entropy, pack_spectra, spectral_entropy\n",
    "from toolsets.deduplication import match_by_rt\n",
    "matched_mapped, matched_unmapped , matched_not_found= match_by_rt([matched_hcd_pos,matched_hcd_neg,matched_uvpd_pos,matched_uvpd_neg])"
   ],
   "metadata": {
    "collapsed": false,
    "pycharm": {
     "name": "#%%\n"
    }
   }
  },
  {
   "cell_type": "code",
   "execution_count": 60,
   "outputs": [
    {
     "data": {
      "text/plain": "HCD_neg     1823\nHCD_pos     1821\nUVPD_pos    1778\nUVPD_neg    1778\nName: comment, dtype: int64"
     },
     "execution_count": 60,
     "metadata": {},
     "output_type": "execute_result"
    }
   ],
   "source": [
    "matched_mapped['comment'].value_counts()"
   ],
   "metadata": {
    "collapsed": false,
    "pycharm": {
     "name": "#%%\n"
    }
   }
  },
  {
   "cell_type": "code",
   "execution_count": 146,
   "outputs": [
    {
     "name": "stderr",
     "output_type": "stream",
     "text": [
      "100%|██████████| 58/58 [00:00<00:00, 181.21it/s]\n",
      "100%|██████████| 59/59 [00:00<00:00, 181.55it/s]\n",
      "100%|██████████| 59/59 [00:00<00:00, 137.61it/s]\n",
      "100%|██████████| 59/59 [00:00<00:00, 220.68it/s]\n"
     ]
    }
   ],
   "source": [
    "from toolsets.helpers import save_value_counts\n",
    "vc = save_value_counts(matched_mapped, 'comment')\n",
    "\n",
    "\n",
    "from toolsets.mass_recalibration import data_recalibrate\n",
    "data_all = {}\n",
    "for comment in vc['unique_values'].unique():\n",
    "    data_all[comment]=string_search(matched_mapped, 'comment',comment)\n",
    "    data_all[comment].reset_index(inplace=True, bdrop=True)\n",
    "    data_all[comment]=data_recalibrate(data_all[comment])\n",
    "# for filename in data_all.keys():\n",
    "#     data_all[filename].to_csv(os.path.join(source_dir, filename+'_mapped_raw.csv'), index = False)\n",
    "from toolsets.spectra_operations import weighted_average_spectra\n",
    "\n",
    "# data_all['HCD_neg']"
   ],
   "metadata": {
    "collapsed": false,
    "pycharm": {
     "name": "#%%\n"
    }
   }
  },
  {
   "cell_type": "code",
   "execution_count": 147,
   "outputs": [],
   "source": [
    "test = data_all['UVPD_pos']"
   ],
   "metadata": {
    "collapsed": false,
    "pycharm": {
     "name": "#%%\n"
    }
   }
  },
  {
   "cell_type": "code",
   "execution_count": 148,
   "outputs": [],
   "source": [
    "from sklearn import datasets, linear_model\n",
    "regr = linear_model.LinearRegression()"
   ],
   "metadata": {
    "collapsed": false,
    "pycharm": {
     "name": "#%%\n"
    }
   }
  },
  {
   "cell_type": "code",
   "execution_count": 149,
   "outputs": [],
   "source": [
    "x_temp = test['precursor_mz'].values\n",
    "y_temp =  test['reference_precursor_mz'].values"
   ],
   "metadata": {
    "collapsed": false,
    "pycharm": {
     "name": "#%%\n"
    }
   }
  },
  {
   "cell_type": "code",
   "execution_count": 152,
   "outputs": [],
   "source": [
    "y_pred = regr.predict(x_temp.reshape(-1,1))"
   ],
   "metadata": {
    "collapsed": false,
    "pycharm": {
     "name": "#%%\n"
    }
   }
  },
  {
   "cell_type": "markdown",
   "source": [
    "# drawing figures for deduplication"
   ],
   "metadata": {
    "collapsed": false,
    "pycharm": {
     "name": "#%% md\n"
    }
   }
  },
  {
   "cell_type": "code",
   "execution_count": 76,
   "outputs": [],
   "source": [
    "from toolsets.spectra_plotter import ms2_plot\n",
    "import toolsets.spectra_operations as so\n",
    "import matplotlib as plt\n",
    "figure_dir = '/Users/fanzhoukong/Library/CloudStorage/OneDrive-Personal/Desktop/UCDAVIS_Phd/Libgen/manuscript/figures'"
   ],
   "metadata": {
    "collapsed": false,
    "pycharm": {
     "name": "#%%\n"
    }
   }
  },
  {
   "cell_type": "code",
   "execution_count": 158,
   "outputs": [],
   "source": [
    "matched_mapped_uvpd_pos = string_search(matched_mapped, 'comment','UVPD_pos')\n",
    "key_dup = []\n",
    "for key in matched_mapped_uvpd_pos['key'].unique():\n",
    "    data_temp = string_search(matched_mapped_uvpd_pos,'key', key)\n",
    "    if len(data_temp)>3:\n",
    "        key_dup.append(key)"
   ],
   "metadata": {
    "collapsed": false,
    "pycharm": {
     "name": "#%%\n"
    }
   }
  },
  {
   "cell_type": "code",
   "execution_count": 112,
   "outputs": [
    {
     "name": "stdout",
     "output_type": "stream",
     "text": [
      "i am ms2 spectra plotter, and I have been sideloaded successfully\n",
      "I have 2 functions, head to tail plot and ms2 plot\n"
     ]
    }
   ],
   "source": [
    "from toolsets.spectra_plotter import ms_figure_simple"
   ],
   "metadata": {
    "collapsed": false,
    "pycharm": {
     "name": "#%%\n"
    }
   }
  },
  {
   "cell_type": "code",
   "execution_count": 159,
   "outputs": [],
   "source": [
    "data_temp = string_search(matched_mapped_uvpd_pos, 'key', key_dup[1])"
   ],
   "metadata": {
    "collapsed": false,
    "pycharm": {
     "name": "#%%\n"
    }
   }
  },
  {
   "cell_type": "code",
   "execution_count": 160,
   "outputs": [],
   "source": [
    "wa= so.weighted_average_spectra(data_temp)"
   ],
   "metadata": {
    "collapsed": false,
    "pycharm": {
     "name": "#%%\n"
    }
   }
  },
  {
   "cell_type": "code",
   "execution_count": 165,
   "outputs": [],
   "source": [
    "from toolsets.spectra_operations import entropy_similarity_default"
   ],
   "metadata": {
    "collapsed": false,
    "pycharm": {
     "name": "#%%\n"
    }
   }
  },
  {
   "cell_type": "code",
   "execution_count": 171,
   "outputs": [],
   "source": [
    "msms1 = pack_spectra([100, 105, 171,182, 291],[10, 30, 20, 100, 5])"
   ],
   "metadata": {
    "collapsed": false,
    "pycharm": {
     "name": "#%%\n"
    }
   }
  },
  {
   "cell_type": "code",
   "execution_count": 172,
   "outputs": [],
   "source": [
    "msms2 = pack_spectra([100, 105, 171,182, 291],[0,0 , 15, 100, 3])"
   ],
   "metadata": {
    "collapsed": false,
    "pycharm": {
     "name": "#%%\n"
    }
   }
  },
  {
   "cell_type": "code",
   "execution_count": 175,
   "outputs": [
    {
     "data": {
      "text/plain": "<Figure size 700x500 with 1 Axes>",
      "image/png": "[encoded data removed]"
     },
     "metadata": {},
     "output_type": "display_data"
    }
   ],
   "source": [
    "ms_figure_simple(msms1,\n",
    "                 savepath=os.path.join(figure_dir, 'matching_up_virtual.tiff'),\n",
    "                 color = 'blue')"
   ],
   "metadata": {
    "collapsed": false,
    "pycharm": {
     "name": "#%%\n"
    }
   }
  },
  {
   "cell_type": "code",
   "execution_count": 174,
   "outputs": [
    {
     "data": {
      "text/plain": "<Figure size 700x500 with 1 Axes>",
      "image/png": "[encoded data removed]"
     },
     "metadata": {},
     "output_type": "display_data"
    }
   ],
   "source": [
    "ms_figure_simple(msms2,\n",
    "                 savepath=os.path.join(figure_dir, 'matching_down_virtual.tiff'),\n",
    "                 color = 'red')"
   ],
   "metadata": {
    "collapsed": false,
    "pycharm": {
     "name": "#%%\n"
    }
   }
  },
  {
   "cell_type": "code",
   "execution_count": 169,
   "outputs": [
    {
     "name": "stdout",
     "output_type": "stream",
     "text": [
      "i am ms2 spectra plotter, and I have been sideloaded successfully\n",
      "I have 2 functions, head to tail plot and ms2 plot\n"
     ]
    },
    {
     "data": {
      "text/plain": "<Figure size 700x500 with 1 Axes>",
      "image/png": "[encoded data removed]"
     },
     "metadata": {},
     "output_type": "display_data"
    }
   ],
   "source": [
    "ms_figure_simple(wa,\n",
    "                 savepath=os.path.join(figure_dir, 'matching_down.tiff'),\n",
    "                 color = 'red')"
   ],
   "metadata": {
    "collapsed": false,
    "pycharm": {
     "name": "#%%\n"
    }
   }
  },
  {
   "cell_type": "code",
   "execution_count": 170,
   "outputs": [
    {
     "data": {
      "text/plain": "<Figure size 700x500 with 1 Axes>",
      "image/png": "[encoded data removed]"
     },
     "metadata": {},
     "output_type": "display_data"
    }
   ],
   "source": [
    "ms_figure_simple(data_temp.iloc[1]['peaks'],\n",
    "                 savepath=os.path.join(figure_dir, 'matching_up.tiff'),\n",
    "                 color = 'blue')"
   ],
   "metadata": {
    "collapsed": false,
    "pycharm": {
     "name": "#%%\n"
    }
   }
  },
  {
   "cell_type": "code",
   "execution_count": 122,
   "outputs": [
    {
     "data": {
      "text/plain": "<Figure size 700x500 with 1 Axes>",
      "image/png": "[encoded data removed]"
     },
     "metadata": {},
     "output_type": "display_data"
    }
   ],
   "source": [
    "ms_figure_simple(data_temp.iloc[3]['peaks'], savepath=os.path.join(figure_dir, 'denoising4.tiff'), color = sns.color_palette(\"Dark2\")[3])"
   ],
   "metadata": {
    "collapsed": false,
    "pycharm": {
     "name": "#%%\n"
    }
   }
  },
  {
   "cell_type": "code",
   "execution_count": 110,
   "outputs": [
    {
     "data": {
      "text/plain": "<Figure size 700x500 with 1 Axes>",
      "image/png": "[encoded data removed]"
     },
     "metadata": {},
     "output_type": "display_data"
    }
   ],
   "source": [
    "msms1 = (data_temp.iloc[0]['peaks'])\n",
    "mass, intensity =so.break_spectra(msms1)\n",
    "d = {'m/z':mass, 'intensity':intensity}\n",
    "msms1 = pd.DataFrame(d)\n",
    "max_val = np.max(msms1['intensity'])\n",
    "msms1[\"normalized_intensity\"] = msms1['intensity'] / max_val * 100.0  # normalize intensity to percent\n",
    "import matplotlib.pyplot as plt\n",
    "fig = plt.figure(figsize = (7, 5),facecolor=\"white\")\n",
    "# fig.figure()\n",
    "plt.subplots_adjust()\n",
    "ax = fig.subplots()\n",
    "for i in range(len(msms1['m/z'])):\n",
    "    plt.vlines(x = msms1[\"m/z\"][i], ymin = 0, ymax = msms1[\"normalized_intensity\"][i],color = sns.color_palette(\"Dark2\")[1], linewidth = 3)\n",
    "ax.set_xlim(150, 210)\n",
    "ax.set_ylim(0, 100)\n",
    "ax.set(xticklabels=[])\n",
    "ax.set(yticklabels=[])\n",
    "ax.spines['top'].set_visible(False)\n",
    "ax.spines['right'].set_visible(False)\n",
    "ax.spines['bottom'].set_visible(True)\n",
    "ax.spines['bottom'].set(color = 'black', linewidth = 2)\n",
    "ax.spines['left'].set_visible(False)\n",
    "fig.tight_layout()\n",
    "ax.grid(False)\n",
    "plt.savefig(os.path.join(figure_dir, 'denoising_1.tiff'), dpi = 300,transparent=True, edge_color = 'none')"
   ],
   "metadata": {
    "collapsed": false,
    "pycharm": {
     "name": "#%%\n"
    }
   }
  },
  {
   "cell_type": "markdown",
   "source": [
    "# end of deduplication figuring"
   ],
   "metadata": {
    "collapsed": false,
    "pycharm": {
     "name": "#%% md\n"
    }
   }
  },
  {
   "cell_type": "code",
   "execution_count": 41,
   "outputs": [
    {
     "name": "stderr",
     "output_type": "stream",
     "text": [
      "100%|██████████| 58/58 [00:00<00:00, 192.14it/s]\n",
      "100%|██████████| 59/59 [00:00<00:00, 195.13it/s]\n",
      "100%|██████████| 59/59 [00:00<00:00, 191.14it/s]\n",
      "100%|██████████| 59/59 [00:00<00:00, 223.04it/s]\n"
     ]
    }
   ],
   "source": [
    "from toolsets.helpers import save_value_counts\n",
    "vc = save_value_counts(matched_mapped, 'comment')\n",
    "\n",
    "\n",
    "from toolsets.mass_recalibration import data_recalibrate\n",
    "data_all = {}\n",
    "for comment in vc['unique_values'].unique():\n",
    "    data_all[comment]=string_search(matched_mapped, 'comment',comment)\n",
    "    data_all[comment].reset_index(inplace=True, drop=True)\n",
    "    data_all[comment]=data_recalibrate(data_all[comment])\n",
    "for filename in data_all.keys():\n",
    "    data_all[filename].to_csv(os.path.join(source_dir, filename+'_mapped_raw.csv'), index = False)\n",
    "from toolsets.spectra_operations import weighted_average_spectra\n",
    "\n",
    "data_all['HCD_neg']"
   ],
   "metadata": {
    "collapsed": false,
    "pycharm": {
     "name": "#%%\n"
    }
   }
  },
  {
   "cell_type": "code",
   "execution_count": 33,
   "outputs": [
    {
     "ename": "NameError",
     "evalue": "name 'data_all' is not defined",
     "output_type": "error",
     "traceback": [
      "\u001B[0;31m---------------------------------------------------------------------------\u001B[0m",
      "\u001B[0;31mNameError\u001B[0m                                 Traceback (most recent call last)",
      "Input \u001B[0;32mIn [33]\u001B[0m, in \u001B[0;36m<cell line: 1>\u001B[0;34m()\u001B[0m\n\u001B[0;32m----> 1\u001B[0m \u001B[38;5;28;01mfor\u001B[39;00m method \u001B[38;5;129;01min\u001B[39;00m \u001B[43mdata_all\u001B[49m\u001B[38;5;241m.\u001B[39mkeys():\n\u001B[1;32m      2\u001B[0m     wa_spctra \u001B[38;5;241m=\u001B[39m []\n\u001B[1;32m      3\u001B[0m     wa_rts \u001B[38;5;241m=\u001B[39m []\n",
      "\u001B[0;31mNameError\u001B[0m: name 'data_all' is not defined"
     ]
    }
   ],
   "source": [
    "for method in data_all.keys():\n",
    "    wa_spctra = []\n",
    "    wa_rts = []\n",
    "    data_temp = data_all[method]\n",
    "    for key in tqdm(data_temp['key'].unique()):\n",
    "        adduct_temp = string_search(data_temp,'key',key)\n",
    "        wa_spctrum = weighted_average_spectra(adduct_temp,typeofmsms = 'peaks_recalibrated')\n",
    "        wa_rt =(adduct_temp['retention_time']*adduct_temp['ms1_precursor_intensity']/adduct_temp['ms1_precursor_intensity'].sum()).sum()\n",
    "        wa_spctra.extend([wa_spctrum]*len(adduct_temp))\n",
    "        wa_rts.extend([wa_rt]*len(adduct_temp))\n",
    "    data_all[method]['peaks_recalibrated_wa']=wa_spctra\n",
    "    data_all[method]['retention_time_wa']=wa_rts\n",
    "    data_all[method].sort_values(by = ['key','ms1_precursor_intensity'], ascending=False, inplace=True)\n",
    "    data_all[method].drop_duplicates('key', keep='first', inplace=True)\n",
    "    data_all[method].reset_index(inplace=True, drop=True)\n",
    "data_enlongated = pd.DataFrame()\n",
    "for method in data_all.keys():\n",
    "    data_temp = data_all[method]\n",
    "    data_enlongated = data_enlongated.append(data_temp)"
   ],
   "metadata": {
    "collapsed": false,
    "pycharm": {
     "name": "#%%\n"
    }
   }
  },
  {
   "cell_type": "code",
   "execution_count": 49,
   "outputs": [],
   "source": [
    "from toolsets.helpers import get_df_name"
   ],
   "metadata": {
    "collapsed": false,
    "pycharm": {
     "name": "#%%\n"
    }
   }
  },
  {
   "cell_type": "code",
   "execution_count": 52,
   "outputs": [],
   "source": [
    "def get_df_name(df):\n",
    "    name =[x for x in globals() if globals()[x] is df][0]\n",
    "    return name"
   ],
   "metadata": {
    "collapsed": false,
    "pycharm": {
     "name": "#%%\n"
    }
   }
  },
  {
   "cell_type": "code",
   "execution_count": 46,
   "outputs": [],
   "source": [
    "data_enlongated.to_csv(os.path.join(source_dir, 'data_enlongated_ready_for_denoising_new.csv'), index = False)"
   ],
   "metadata": {
    "collapsed": false,
    "pycharm": {
     "name": "#%%\n"
    }
   }
  },
  {
   "cell_type": "markdown",
   "source": [
    "# end for other processing; will run denoising algorithm separately"
   ],
   "metadata": {
    "collapsed": false,
    "pycharm": {
     "name": "#%% md\n"
    }
   }
  },
  {
   "cell_type": "code",
   "execution_count": 108,
   "outputs": [],
   "source": [
    "data_enlongated = pd.read_csv(os.path.join(source_dir, 'data_enlongated_ready_for_denoising_new_denoised.csv'))\n",
    "data_enlongated['c_id']=np.arange(len(data_enlongated))"
   ],
   "metadata": {
    "collapsed": false,
    "pycharm": {
     "name": "#%%\n"
    }
   }
  },
  {
   "cell_type": "code",
   "execution_count": 109,
   "outputs": [],
   "source": [
    "from toolsets.denoising_related_functions import post_processing"
   ],
   "metadata": {
    "collapsed": false,
    "pycharm": {
     "name": "#%%\n"
    }
   }
  },
  {
   "cell_type": "code",
   "execution_count": 110,
   "outputs": [],
   "source": [
    "data_all = {}\n",
    "for method in data_enlongated['comment'].unique():\n",
    "    data_all[method]= string_search(data_enlongated, 'comment', method)\n",
    "    # data_all[method]= data_all[method].drop(['Unnamed: 0'], axis=1)"
   ],
   "metadata": {
    "collapsed": false,
    "pycharm": {
     "name": "#%%\n"
    }
   }
  },
  {
   "cell_type": "code",
   "execution_count": 111,
   "outputs": [],
   "source": [
    "data_uvpd = pd.concat([data_all['UVPD_neg'], data_all['UVPD_pos']], axis=0, ignore_index=True)\n",
    "data_hcd = pd.concat([data_all['HCD_neg'], data_all['HCD_pos']], axis=0, ignore_index=True)"
   ],
   "metadata": {
    "collapsed": false,
    "pycharm": {
     "name": "#%%\n"
    }
   }
  },
  {
   "cell_type": "code",
   "execution_count": 134,
   "outputs": [],
   "source": [
    "data_uvpd_good = post_processing(data_uvpd, high_quality=True)\n",
    "data_uvpd_bad = post_processing(data_uvpd, high_quality=False)"
   ],
   "metadata": {
    "collapsed": false,
    "pycharm": {
     "name": "#%%\n"
    }
   }
  },
  {
   "cell_type": "code",
   "execution_count": 135,
   "outputs": [],
   "source": [
    "data_hcd_good = post_processing(data_hcd, high_quality=True)\n",
    "data_hcd_bad = post_processing(data_hcd, high_quality=False)"
   ],
   "metadata": {
    "collapsed": false,
    "pycharm": {
     "name": "#%%\n"
    }
   }
  },
  {
   "cell_type": "code",
   "execution_count": 42,
   "outputs": [],
   "source": [
    "from toolsets.spectra_operations import normalized_entropy"
   ],
   "metadata": {
    "collapsed": false,
    "pycharm": {
     "name": "#%%\n"
    }
   }
  },
  {
   "cell_type": "code",
   "execution_count": 136,
   "outputs": [],
   "source": [
    "normalized_raw = []\n",
    "for index, row in data_uvpd_bad.iterrows():\n",
    "    normalized_raw.append(so.normalized_entropy(row['peaks_recalibrated_wa']))\n",
    "data_uvpd_bad['normalized_entropy_raw']=normalized_raw\n",
    "normalized_raw = []\n",
    "for index, row in data_uvpd_good.iterrows():\n",
    "    normalized_raw.append(so.normalized_entropy(row['peaks_recalibrated_wa']))\n",
    "data_uvpd_good['normalized_entropy_raw']=normalized_raw\n",
    "fig, ax = plt.subplots(\n",
    "    figsize = (9, 5)\n",
    "                      )\n",
    "# ax= sns.histplot(data=data_UVPD, x=\"normalized_entropy\", multiple=\"stack\", kde = True, palette=\"red\")\n",
    "# ax = sns.histplot(data=data_HCD, x=\"normalized_entropy\", multiple=\"stack\", kde = True,color=\"green\")\n",
    "ax=sns.histplot(data=data_uvpd_good, x='normalized_entropy_raw', multiple=\"stack\",color = sns.color_palette()[2], alpha = 0.3,stat='probability',kde=True)\n",
    "ax=sns.histplot(data=data_uvpd_bad, x='normalized_entropy_raw', multiple=\"stack\",color = sns.color_palette()[3], alpha = 0.3,stat='probability',kde=True)\n",
    "plt.axvline(0.8, 0, color = 'red' )\n",
    "# ax=sns.histplot(data=data_uvpd_good, x='normalized_entropy_raw', multiple=\"stack\",color = sns.color_palette(\"Set2\")[0], stat='probability')\n",
    "# ax=sns.histplot(data=data_uvpd_bad, x='normalized_entropy_raw', multiple=\"stack\",color = sns.color_palette(\"Set2\")[1],stat='probability')\n",
    "# ax.set_title(\"Peak number difference after denoising\", fontsize = 16)\n",
    "ax.set_xlabel(\"Normalized entropy\", fontsize = 18)\n",
    "ax.set_ylabel(\"Frequency\", fontsize = 18)\n",
    "ax.grid(False)\n",
    "ax.spines['top'].set_visible(False)\n",
    "ax.spines['right'].set_visible(False)\n",
    "ax.spines['bottom'].set_visible(False)\n",
    "ax.spines['left'].set_visible(False)\n",
    "plt.legend(labels=[\"High-quality spectra\",\"Low-quality spectra\"], loc = 'upper left',fontsize=12)\n",
    "plt.savefig(os.path.join(source_dir,'normalized_entropy_UVPD_high_low_quality.tiff'), dpi = 300,transparency = True,facecolor = 'white', edgecolor = 'white')"
   ],
   "metadata": {
    "collapsed": false,
    "pycharm": {
     "name": "#%%\n"
    }
   }
  },
  {
   "cell_type": "code",
   "execution_count": 142,
   "outputs": [
    {
     "data": {
      "text/plain": "<matplotlib.legend.Legend at 0x16ac07910>"
     },
     "execution_count": 142,
     "metadata": {},
     "output_type": "execute_result"
    },
    {
     "data": {
      "text/plain": "<Figure size 900x500 with 1 Axes>",
      "image/png": "[encoded data removed]"
     },
     "metadata": {},
     "output_type": "display_data"
    }
   ],
   "source": [
    "normalized_raw = []\n",
    "for index, row in data_hcd_bad.iterrows():\n",
    "    normalized_raw.append(so.normalized_entropy(row['peaks_recalibrated_wa']))\n",
    "data_hcd_bad['normalized_entropy_raw']=normalized_raw\n",
    "normalized_raw = []\n",
    "for index, row in data_hcd_good.iterrows():\n",
    "    normalized_raw.append(so.normalized_entropy(row['peaks_recalibrated_wa']))\n",
    "data_hcd_good['normalized_entropy_raw']=normalized_raw\n",
    "fig, ax = plt.subplots(\n",
    "    figsize = (9, 5)\n",
    "                      )\n",
    "# ax= sns.histplot(data=data_UVPD, x=\"normalized_entropy\", multiple=\"stack\", kde = True, palette=\"red\")\n",
    "# ax = sns.histplot(data=data_HCD, x=\"normalized_entropy\", multiple=\"stack\", kde = True,color=\"green\")\n",
    "ax=sns.histplot(data=data_hcd_good, x='normalized_entropy_raw', multiple=\"stack\",color = sns.color_palette()[2], alpha = 0.3,stat='probability',kde=True)\n",
    "ax=sns.histplot(data=data_hcd_bad, x='normalized_entropy_raw', multiple=\"stack\",color = sns.color_palette()[3], alpha = 0.3,stat='probability',kde=True)\n",
    "plt.axvline(0.8, 0, color = 'red' )\n",
    "# ax=sns.histplot(data=data_uvpd_good, x='normalized_entropy_raw', multiple=\"stack\",color = sns.color_palette(\"Set2\")[0], stat='probability')\n",
    "# ax=sns.histplot(data=data_uvpd_bad, x='normalized_entropy_raw', multiple=\"stack\",color = sns.color_palette(\"Set2\")[1],stat='probability')\n",
    "# ax.set_title(\"Peak number difference after denoising\", fontsize = 16)\n",
    "ax.set_xlabel(\"Normalized entropy\", fontsize = 18)\n",
    "ax.set_ylabel(\"Frequency\", fontsize = 18)\n",
    "ax.grid(False)\n",
    "ax.spines['top'].set_visible(False)\n",
    "ax.spines['right'].set_visible(False)\n",
    "ax.spines['bottom'].set_visible(False)\n",
    "ax.spines['left'].set_visible(False)\n",
    "plt.legend(labels=[\"High-quality spectra\",\"Low-quality spectra\"], loc = 'upper left',fontsize=12)\n",
    "# plt.savefig(os.path.join(source_dir,'normalized_entropy_UVPD_high_low_quality.tiff'), dpi = 300,transparency = True,facecolor = 'white', edgecolor = 'white')"
   ],
   "metadata": {
    "collapsed": false,
    "pycharm": {
     "name": "#%%\n"
    }
   }
  },
  {
   "cell_type": "code",
   "execution_count": 144,
   "outputs": [
    {
     "name": "stderr",
     "output_type": "stream",
     "text": [
      "100%|██████████| 1012/1012 [00:00<00:00, 5786.82it/s]\n",
      "100%|██████████| 1947/1947 [00:00<00:00, 3637.36it/s]\n"
     ]
    }
   ],
   "source": [
    "data_uvpd_good.to_csv(os.path.join(source_dir, 'UVPD_library.csv'), index = False)\n",
    "data_hcd_good.to_csv(os.path.join(source_dir, 'HCD_library.csv'), index = False)\n",
    "from toolsets.file_io import export_library_msp\n",
    "export_library_msp(data_uvpd_good,os.path.join(source_dir, 'UVPD_library.txt'), typeofmsms='peaks_denoised_normalized')\n",
    "export_library_msp(data_hcd_good,os.path.join(source_dir, 'HCD_library.txt'), typeofmsms='peaks_denoised_normalized')"
   ],
   "metadata": {
    "collapsed": false,
    "pycharm": {
     "name": "#%%\n"
    }
   }
  },
  {
   "cell_type": "markdown",
   "source": [
    "# getting chemical classes for library"
   ],
   "metadata": {
    "collapsed": false,
    "pycharm": {
     "name": "#%% md\n"
    }
   }
  },
  {
   "cell_type": "code",
   "execution_count": 145,
   "outputs": [],
   "source": [
    "from toolsets.API_gets import GNPS_classyfire, get_classyfire_data\n",
    "# GNPS_classyfire(inputt, class_type, input_type ='inchikey')"
   ],
   "metadata": {
    "collapsed": false,
    "pycharm": {
     "name": "#%%\n"
    }
   }
  },
  {
   "cell_type": "code",
   "execution_count": 146,
   "outputs": [],
   "source": [
    "data_UVPD=pd.read_csv(os.path.join(source_dir, 'UVPD_library.csv'))\n",
    "data_HCD=pd.read_csv(os.path.join(source_dir, 'HCD_library.csv'))"
   ],
   "metadata": {
    "collapsed": false,
    "pycharm": {
     "name": "#%%\n"
    }
   }
  },
  {
   "cell_type": "code",
   "execution_count": 147,
   "outputs": [
    {
     "data": {
      "text/plain": "(1012, 36)"
     },
     "execution_count": 147,
     "metadata": {},
     "output_type": "execute_result"
    }
   ],
   "source": [
    "data_UVPD.shape"
   ],
   "metadata": {
    "collapsed": false,
    "pycharm": {
     "name": "#%%\n"
    }
   }
  },
  {
   "cell_type": "code",
   "execution_count": 148,
   "outputs": [
    {
     "name": "stderr",
     "output_type": "stream",
     "text": [
      "100%|██████████| 1012/1012 [04:50<00:00,  3.48it/s]\n"
     ]
    }
   ],
   "source": [
    "data_UVPD_classyfire= get_classyfire_data(data_UVPD)"
   ],
   "metadata": {
    "collapsed": false,
    "pycharm": {
     "name": "#%%\n"
    }
   }
  },
  {
   "cell_type": "code",
   "execution_count": 149,
   "outputs": [
    {
     "name": "stderr",
     "output_type": "stream",
     "text": [
      "100%|██████████| 1947/1947 [09:26<00:00,  3.44it/s]\n"
     ]
    }
   ],
   "source": [
    "data_HCD_classyfire= get_classyfire_data(data_HCD)"
   ],
   "metadata": {
    "collapsed": false,
    "pycharm": {
     "name": "#%%\n"
    }
   }
  },
  {
   "cell_type": "code",
   "execution_count": 150,
   "outputs": [],
   "source": [
    "data_UVPD_classyfire.to_csv(os.path.join(source_dir, 'UVPD_library_cla.csv'), index = False)\n",
    "data_HCD_classyfire.to_csv(os.path.join(source_dir, 'HCD_library_cla.csv'), index = False)"
   ],
   "metadata": {
    "collapsed": false,
    "pycharm": {
     "name": "#%%\n"
    }
   }
  },
  {
   "cell_type": "markdown",
   "source": [
    "# statistics for UVPD lib"
   ],
   "metadata": {
    "collapsed": false,
    "pycharm": {
     "name": "#%% md\n"
    }
   }
  },
  {
   "cell_type": "code",
   "execution_count": null,
   "outputs": [],
   "source": [],
   "metadata": {
    "collapsed": false,
    "pycharm": {
     "name": "#%%\n"
    }
   }
  },
  {
   "cell_type": "code",
   "execution_count": 32,
   "outputs": [],
   "source": [
    "from toolsets.spectra_operations import clean_spectrum, entropy_similarity_default"
   ],
   "metadata": {
    "collapsed": false,
    "pycharm": {
     "name": "#%%\n"
    }
   }
  },
  {
   "cell_type": "code",
   "execution_count": 112,
   "outputs": [],
   "source": [
    "entropy_similiary = []\n",
    "\n",
    "for index, row in data_UVPD.iterrows():\n",
    "    data_temp = string_search(data_HCD,'key',row['key'])\n",
    "    if len(data_temp)==1:\n",
    "        entropy_similiary.append(entropy_similarity_default(row['peaks'], data_temp.iloc[0]['peaks']))\n",
    "    else:\n",
    "        entropy_similiary.append(np.NAN)"
   ],
   "metadata": {
    "collapsed": false,
    "pycharm": {
     "name": "#%%\n"
    }
   }
  },
  {
   "cell_type": "code",
   "execution_count": 84,
   "outputs": [],
   "source": [
    "from toolsets.spectra_operations import spectral_entropy"
   ],
   "metadata": {
    "collapsed": false,
    "pycharm": {
     "name": "#%%\n"
    }
   }
  },
  {
   "cell_type": "code",
   "execution_count": 136,
   "outputs": [
    {
     "data": {
      "text/plain": "(1003, 36)"
     },
     "execution_count": 136,
     "metadata": {},
     "output_type": "execute_result"
    }
   ],
   "source": [
    "data_UVPD.shape"
   ],
   "metadata": {
    "collapsed": false,
    "pycharm": {
     "name": "#%%\n"
    }
   }
  },
  {
   "cell_type": "code",
   "execution_count": 135,
   "outputs": [
    {
     "data": {
      "text/plain": "(833, 36)"
     },
     "execution_count": 135,
     "metadata": {},
     "output_type": "execute_result"
    }
   ],
   "source": [
    "(data_UVPD[~data_UVPD['HCD_similarity'].isnull()]).shape"
   ],
   "metadata": {
    "collapsed": false,
    "pycharm": {
     "name": "#%%\n"
    }
   }
  },
  {
   "cell_type": "code",
   "execution_count": 138,
   "outputs": [
    {
     "data": {
      "text/plain": "<Figure size 900x500 with 1 Axes>",
      "image/png": "[encoded data removed]"
     },
     "metadata": {},
     "output_type": "display_data"
    }
   ],
   "source": [
    "fig, ax = plt.subplots(\n",
    "    figsize = (9, 5)\n",
    "                      )\n",
    "sns.kdeplot(data=data_UVPD, x='HCD_similarity',hue=\"charge\", multiple=\"stack\",palette=\"tab10\")\n",
    "# ax.set_title(\"Peak number difference after denoising\", fontsize = 16)\n",
    "ax.set_xlabel(\"Entropy similarity\", fontsize = 18)\n",
    "ax.set_ylabel(\"Frequency\", fontsize = 18)\n",
    "ax.grid(False)\n",
    "\n",
    "plt.axvline(0.481467, 0, color = sns.color_palette(\"tab10\")[0] )\n",
    "plt.axvline(0.478518, 0, color = sns.color_palette(\"tab10\")[1] )\n",
    "plt.legend(labels=['ESI Neg','ESI Pos'], loc = 'upper right',fontsize=12)\n",
    "plt.savefig(os.path.join(source_dir,'entropy_similarity_uvpd_hcd.tiff'), dpi = 300,facecolor = 'white', edgecolor = 'white')"
   ],
   "metadata": {
    "collapsed": false,
    "pycharm": {
     "name": "#%%\n"
    }
   }
  },
  {
   "cell_type": "code",
   "execution_count": 119,
   "outputs": [
    {
     "data": {
      "text/plain": "(0.12156862745098039, 0.4666666666666667, 0.7058823529411765)"
     },
     "execution_count": 119,
     "metadata": {},
     "output_type": "execute_result"
    }
   ],
   "source": [
    "sns.color_palette(\"tab10\")[0]"
   ],
   "metadata": {
    "collapsed": false,
    "pycharm": {
     "name": "#%%\n"
    }
   }
  },
  {
   "cell_type": "code",
   "execution_count": 137,
   "outputs": [
    {
     "data": {
      "text/plain": "<Figure size 900x500 with 1 Axes>",
      "image/png": "[encoded data removed]"
     },
     "metadata": {},
     "output_type": "display_data"
    }
   ],
   "source": [
    "fig, ax = plt.subplots(\n",
    "    figsize = (9, 5)\n",
    "                      )\n",
    "# ax= sns.histplot(data=data_UVPD, x=\"normalized_entropy\", multiple=\"stack\", kde = True, palette=\"red\")\n",
    "# ax = sns.histplot(data=data_HCD, x=\"normalized_entropy\", multiple=\"stack\", kde = True,color=\"green\")\n",
    "ax=sns.histplot(data=data_UVPD, x='normalized_entropy', multiple=\"stack\",color = sns.color_palette(\"Set2\")[0], stat='probability')\n",
    "ax=sns.histplot(data=data_HCD, x='normalized_entropy', multiple=\"stack\",color = sns.color_palette(\"Set2\")[1],stat='probability')\n",
    "# ax.set_title(\"Peak number difference after denoising\", fontsize = 16)\n",
    "ax.set_xlabel(\"(Normalized entropy)^4\", fontsize = 18)\n",
    "ax.set_ylabel(\"Frequency\", fontsize = 18)\n",
    "ax.grid(False)\n",
    "plt.legend(labels=[\"UVPD\",\"HCD\"], loc = 'upper right',fontsize=12)\n",
    "plt.savefig(os.path.join(source_dir,'normalized_entropy_uvpd_hcd.tiff'), dpi = 300,facecolor = 'white', edgecolor = 'white')"
   ],
   "metadata": {
    "collapsed": false,
    "pycharm": {
     "name": "#%%\n"
    }
   }
  },
  {
   "cell_type": "code",
   "execution_count": 142,
   "outputs": [
    {
     "data": {
      "text/plain": "<Figure size 700x500 with 1 Axes>",
      "image/png": "[encoded data removed]"
     },
     "metadata": {},
     "output_type": "display_data"
    }
   ],
   "source": [
    "import matplotlib.pyplot as plt\n",
    "from matplotlib_venn import venn3_unweighted, venn3_circles, venn3, venn2_unweighted, venn2\n",
    "set1 = set(string_search(data_UVPD,'charge',1)['reference_inchikey'])\n",
    "set2 = set(string_search(data_UVPD,'charge',-1)['reference_inchikey'])\n",
    "# set2 = set(string_search(data_good_quality,'reference_adduct','[M+Na]+')['reference_InChIKey'])\n",
    "# set3 = set(string_search(data_good_quality,'reference_adduct','[M+NH4]+')['reference_InChIKey'])\n",
    "fig, ax = plt.subplots(\n",
    "    figsize = (7, 5)\n",
    "                      )\n",
    "venn2([set1,set2],('POS','NEG'))\n",
    "# venn3([set1, set2, set3], ('[M+H]+', '[M+Na]+', '[M+NH4]+'))\n",
    "\n",
    "# plt.show()\n",
    "plt.savefig(os.path.join(source_dir,'venn_diagram_UVPD_pos_neg.tiff'), dpi = 300,facecolor = 'white', edgecolor = 'white')"
   ],
   "metadata": {
    "collapsed": false,
    "pycharm": {
     "name": "#%%\n"
    }
   }
  },
  {
   "cell_type": "code",
   "execution_count": 144,
   "outputs": [
    {
     "data": {
      "text/plain": "[M+H]+           433\n[M-H2O+H]+       135\n[M+NH4]+         134\n[M-H]-           115\n[M+Na]+          103\n[M+C2H4O2-H]-     72\n[M]+               5\n[M+Cl]-            3\n[M-H2O-H]-         3\nName: reference_adduct, dtype: int64"
     },
     "execution_count": 144,
     "metadata": {},
     "output_type": "execute_result"
    }
   ],
   "source": [
    "data_UVPD['reference_adduct'].value_counts()"
   ],
   "metadata": {
    "collapsed": false,
    "pycharm": {
     "name": "#%%\n"
    }
   }
  },
  {
   "cell_type": "code",
   "execution_count": 153,
   "outputs": [],
   "source": [
    "import toolsets.helpers as helpers\n",
    "adduct_results_pos = helpers.save_value_counts(string_search(data_UVPD,'charge',1),'reference_adduct')\n",
    "adduct_results_neg = helpers.save_value_counts(string_search(data_UVPD,'charge',-1),'reference_adduct')"
   ],
   "metadata": {
    "collapsed": false,
    "pycharm": {
     "name": "#%%\n"
    }
   }
  },
  {
   "cell_type": "code",
   "execution_count": 170,
   "outputs": [
    {
     "data": {
      "text/plain": "<Figure size 1200x500 with 1 Axes>",
      "image/png": "[encoded data removed]"
     },
     "metadata": {},
     "output_type": "display_data"
    }
   ],
   "source": [
    "fig, ax = plt.subplots(\n",
    "    figsize = (12, 5)\n",
    "                      )\n",
    "sns.barplot(x = adduct_results_pos['unique_values'], y = adduct_results_pos['counts'], palette = sns.color_palette(\"pastel\"))\n",
    "ax.set_xlabel(\"Adducts\", fontsize = 18)\n",
    "ax.set_ylabel(\"Counts\", fontsize = 18)\n",
    "ax.bar_label(ax.containers[0])\n",
    "ax.grid(False)\n",
    "plt.savefig(os.path.join(source_dir,'adducts_distribution_pos.tiff'), dpi = 300,facecolor = 'white', edgecolor = 'white')"
   ],
   "metadata": {
    "collapsed": false,
    "pycharm": {
     "name": "#%%\n"
    }
   }
  },
  {
   "cell_type": "code",
   "execution_count": 157,
   "outputs": [
    {
     "data": {
      "text/plain": "   unique_values  counts\n0         [M-H]-     115\n1  [M+C2H4O2-H]-      72\n2        [M+Cl]-       3\n3     [M-H2O-H]-       3",
      "text/html": "<div>\n<style scoped>\n    .dataframe tbody tr th:only-of-type {\n        vertical-align: middle;\n    }\n\n    .dataframe tbody tr th {\n        vertical-align: top;\n    }\n\n    .dataframe thead th {\n        text-align: right;\n    }\n</style>\n<table border=\"1\" class=\"dataframe\">\n  <thead>\n    <tr style=\"text-align: right;\">\n      <th></th>\n      <th>unique_values</th>\n      <th>counts</th>\n    </tr>\n  </thead>\n  <tbody>\n    <tr>\n      <th>0</th>\n      <td>[M-H]-</td>\n      <td>115</td>\n    </tr>\n    <tr>\n      <th>1</th>\n      <td>[M+C2H4O2-H]-</td>\n      <td>72</td>\n    </tr>\n    <tr>\n      <th>2</th>\n      <td>[M+Cl]-</td>\n      <td>3</td>\n    </tr>\n    <tr>\n      <th>3</th>\n      <td>[M-H2O-H]-</td>\n      <td>3</td>\n    </tr>\n  </tbody>\n</table>\n</div>"
     },
     "execution_count": 157,
     "metadata": {},
     "output_type": "execute_result"
    }
   ],
   "source": [
    "adduct_results_neg"
   ],
   "metadata": {
    "collapsed": false,
    "pycharm": {
     "name": "#%%\n"
    }
   }
  },
  {
   "cell_type": "code",
   "execution_count": 159,
   "outputs": [
    {
     "data": {
      "text/plain": "[(0.5490196078431373, 0.3803921568627451, 0.23529411764705882),\n (0.8627450980392157, 0.49411764705882355, 0.7529411764705882),\n (0.4745098039215686, 0.4745098039215686, 0.4745098039215686),\n (0.8352941176470589, 0.7333333333333333, 0.403921568627451),\n (0.5098039215686274, 0.7764705882352941, 0.8862745098039215)]"
     },
     "execution_count": 159,
     "metadata": {},
     "output_type": "execute_result"
    }
   ],
   "source": [
    "sns.color_palette(\"muted\")[5:]"
   ],
   "metadata": {
    "collapsed": false,
    "pycharm": {
     "name": "#%%\n"
    }
   }
  },
  {
   "cell_type": "code",
   "execution_count": 163,
   "outputs": [
    {
     "data": {
      "text/plain": "(0.5490196078431373, 0.3803921568627451, 0.23529411764705882)"
     },
     "execution_count": 163,
     "metadata": {},
     "output_type": "execute_result"
    }
   ],
   "source": [
    "sns.color_palette(\"muted\")[5]"
   ],
   "metadata": {
    "collapsed": false,
    "pycharm": {
     "name": "#%%\n"
    }
   }
  },
  {
   "cell_type": "code",
   "execution_count": 171,
   "outputs": [
    {
     "data": {
      "text/plain": "<Figure size 1200x500 with 1 Axes>",
      "image/png": "[encoded data removed]"
     },
     "metadata": {},
     "output_type": "display_data"
    }
   ],
   "source": [
    "fig, ax = plt.subplots(\n",
    "    figsize = (12, 5)\n",
    "                      )\n",
    "sns.barplot(x = adduct_results_neg['unique_values'], y = adduct_results_neg['counts'], palette= sns.color_palette(\"pastel\")[5:])\n",
    "ax.set_xlabel(\"Adducts\", fontsize = 18)\n",
    "ax.set_ylabel(\"Counts\", fontsize = 18)\n",
    "ax.bar_label(ax.containers[0])\n",
    "ax.grid(False)\n",
    "plt.savefig(os.path.join(source_dir,'adducts_distribution_neg.tiff'), dpi = 300,facecolor = 'white', edgecolor = 'white')"
   ],
   "metadata": {
    "collapsed": false,
    "pycharm": {
     "name": "#%%\n"
    }
   }
  }
 ],
 "metadata": {
  "kernelspec": {
   "name": "alphapept_env",
   "language": "python",
   "display_name": "alphapept_env"
  },
  "language_info": {
   "codemirror_mode": {
    "name": "ipython",
    "version": 2
   },
   "file_extension": ".py",
   "mimetype": "text/x-python",
   "name": "python",
   "nbconvert_exporter": "python",
   "pygments_lexer": "ipython2",
   "version": "2.7.6"
  }
 },
 "nbformat": 4,
 "nbformat_minor": 0
}