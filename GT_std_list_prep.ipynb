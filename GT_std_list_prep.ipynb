{
 "cells": [
  {
   "cell_type": "code",
   "execution_count": 38,
   "metadata": {
    "collapsed": true,
    "pycharm": {
     "name": "#%%\n"
    }
   },
   "outputs": [
    {
     "name": "stdout",
     "output_type": "stream",
     "text": [
      "The autoreload extension is already loaded. To reload it, use:\n",
      "  %reload_ext autoreload\n"
     ]
    }
   ],
   "source": [
    "%load_ext autoreload\n",
    "%autoreload 2\n",
    "import time\n",
    "import os\n",
    "import seaborn as sns\n",
    "import numpy as np\n",
    "import pandas as pd\n",
    "import sys\n",
    "\n",
    "from mimas.tools.spectral_file.extract_ms1_feature import process_mzml_file, extract_ms2_spectra, find_features\n",
    "import logging\n",
    "from toolsets.spectra_operations import entropy_similarity_default\n",
    "from toolsets.adduct_calculator import complete_adducts, complete_formula\n",
    "# from toolsets.API_gets import complete_smiles\n",
    "from toolsets.search import string_search, num_search\n",
    "import toolsets.spectra_operations as so\n",
    "from tqdm import tqdm\n",
    "# from toolsets.features_by_alphapept import find_features_alphapept\n",
    "# std_list_path= \"/Users/fanzhoukong/Documents/GitHub/Libgen_data/GT\""
   ]
  },
  {
   "cell_type": "code",
   "execution_count": 44,
   "outputs": [],
   "source": [
    "source_dir = \"/Users/fanzhoukong/Documents/GitHub/Libgen_data/GT\"\n",
    "std_list = pd.read_csv(os.path.join(source_dir, \"new_std_list.csv\"))\n",
    "enzyme_list = pd.read_csv(os.path.join(source_dir, \"enzyme_list_cor\"+\".csv\"))\n",
    "# std_list.drop(['Count'], axis=1, inplace=True)\n",
    "# std_list.rename({'For all (CAS or no CAS) Name to Smiles by pubchem':'smiles'}, axis=1, inplace=True)\n",
    "# std_list.rename({'CAS to Inchi (CTS Proxy) for MoNA':'translated_inchikey'}, axis=1, inplace=True)\n",
    "std_list = complete_formula(std_list)\n",
    "\n",
    "std_list = std_list[~std_list['Formula'].isna()]\n",
    "from toolsets.adduct_calculator import calculate_precursormz\n",
    "std_list  = complete_adducts(std_list,adducts= ['[M+H]+','[M+NH4]+','[M+Na]+','[M-H2O+H]+'])\n",
    "std_list.reset_index(inplace = True, drop = True)\n",
    "std_list.to_csv(os.path.join(source_dir, \"substrate_list.csv\"), index = False)\n",
    "new_std = {}\n",
    "for col in std_list.columns:\n",
    "    new_std[str(col)]= []\n",
    "\n",
    "for index, row in std_list.iterrows():\n",
    "    for col in std_list.columns:\n",
    "        new_std[str(col)].append(row[str(col)])\n",
    "    for gly in ['_glycoside', '_diglycoside']:\n",
    "        for inner_col in ['Mix','Formula','CAS number','inchikey','smiles']:\n",
    "            new_std[str(inner_col)].append(row[inner_col])\n",
    "        new_std['Substrate Name'].append(row['Substrate Name']+gly)\n",
    "        if gly == '_glycoside':\n",
    "            for adduct in ['[M+H]+', '[M+NH4]+', '[M+Na]+','[M-H2O+H]+']:\n",
    "                new_std[adduct].append(row[adduct]+162.0533)\n",
    "        else:\n",
    "            for adduct in ['[M+H]+', '[M+NH4]+', '[M+Na]+','[M-H2O+H]+']:\n",
    "                new_std[adduct].append(row[adduct]+324.1066)\n",
    "# new_std = pd.DataFrame.from_dict(new_std)\n",
    "# new_std.to_csv(os.path.join(source_dir, \"enlogated_std_list\"+'.csv'), index = False)\n",
    "new_std = pd.DataFrame.from_dict(new_std)"
   ],
   "metadata": {
    "collapsed": false,
    "pycharm": {
     "name": "#%%\n"
    }
   }
  },
  {
   "cell_type": "code",
   "execution_count": 46,
   "outputs": [
    {
     "data": {
      "text/plain": "      Mix                                     Substrate Name     Formula  \\\n0       1              Strophanthidinic Acid Lactone Acetate    C25H32O7   \n1       1    Strophanthidinic Acid Lactone Acetate_glycoside    C25H32O7   \n2       1  Strophanthidinic Acid Lactone Acetate_diglycoside    C25H32O7   \n3       1                                      Glutamine (L)   C5H10N2O3   \n4       1                            Glutamine (L)_glycoside   C5H10N2O3   \n...   ...                                                ...         ...   \n1774   15                         Chlorogenic Acid_glycoside    C16H18O9   \n1775   15                       Chlorogenic Acid_diglycoside    C16H18O9   \n1776   15                                  2'-deoxyadenosine  C10H13N5O3   \n1777   15                        2'-deoxyadenosine_glycoside  C10H13N5O3   \n1778   15                      2'-deoxyadenosine_diglycoside  C10H13N5O3   \n\n      CAS number                       inchikey  \\\n0        No CAS#    RPIVIODUUUOQDD-UHFFFAOYSA-N   \n1        No CAS#    RPIVIODUUUOQDD-UHFFFAOYSA-N   \n2        No CAS#    RPIVIODUUUOQDD-UHFFFAOYSA-N   \n3        56-85-9    ZDXPYRJPNDTMRX-VKHMYHEASA-N   \n4        56-85-9    ZDXPYRJPNDTMRX-VKHMYHEASA-N   \n...          ...                            ...   \n1774    327-97-9    CWVRJTMFETXNAD-JUHZACGLSA-N   \n1775    327-97-9    CWVRJTMFETXNAD-JUHZACGLSA-N   \n1776  13276-53-4  OLXZPDWKRNYJJZ-FSDSQADBSA-N     \n1777  13276-53-4  OLXZPDWKRNYJJZ-FSDSQADBSA-N     \n1778  13276-53-4  OLXZPDWKRNYJJZ-FSDSQADBSA-N     \n\n                                                 smiles    [M+H]+  [M+NH4]+  \\\n0     CC(=O)OC1CCC23C4CCC5(C(CCC5(C4CCC2(C1)O)OC3=O)...  445.2221  462.2486   \n1     CC(=O)OC1CCC23C4CCC5(C(CCC5(C4CCC2(C1)O)OC3=O)...  607.2754  624.3019   \n2     CC(=O)OC1CCC23C4CCC5(C(CCC5(C4CCC2(C1)O)OC3=O)...  769.3287  786.3552   \n3                             C(CC(=O)N)[C@@H](C(=O)O)N  147.0764  164.1030   \n4                             C(CC(=O)N)[C@@H](C(=O)O)N  309.1297  326.1563   \n...                                                 ...       ...       ...   \n1774  C1[C@H]([C@H]([C@@H](C[C@@]1(C(=O)O)O)OC(=O)/C...  517.1557  534.1822   \n1775  C1[C@H]([C@H]([C@@H](C[C@@]1(C(=O)O)O)OC(=O)/C...  679.2090  696.2355   \n1776     C1[C@H]([C@H](O[C@H]1N2C=NC3=C(N=CN=C32)N)CO)O  252.1091  269.1357   \n1777     C1[C@H]([C@H](O[C@H]1N2C=NC3=C(N=CN=C32)N)CO)O  414.1624  431.1890   \n1778     C1[C@H]([C@H](O[C@H]1N2C=NC3=C(N=CN=C32)N)CO)O  576.2157  593.2423   \n\n       [M+Na]+  [M-H2O+H]+  \n0     467.2040    427.2115  \n1     629.2573    589.2648  \n2     791.3106    751.3181  \n3     169.0584    129.0659  \n4     331.1117    291.1192  \n...        ...         ...  \n1774  539.1376    499.1451  \n1775  701.1909    661.1984  \n1776  274.0911    234.0986  \n1777  436.1444    396.1519  \n1778  598.1977    558.2052  \n\n[1779 rows x 10 columns]",
      "text/html": "<div>\n<style scoped>\n    .dataframe tbody tr th:only-of-type {\n        vertical-align: middle;\n    }\n\n    .dataframe tbody tr th {\n        vertical-align: top;\n    }\n\n    .dataframe thead th {\n        text-align: right;\n    }\n</style>\n<table border=\"1\" class=\"dataframe\">\n  <thead>\n    <tr style=\"text-align: right;\">\n      <th></th>\n      <th>Mix</th>\n      <th>Substrate Name</th>\n      <th>Formula</th>\n      <th>CAS number</th>\n      <th>inchikey</th>\n      <th>smiles</th>\n      <th>[M+H]+</th>\n      <th>[M+NH4]+</th>\n      <th>[M+Na]+</th>\n      <th>[M-H2O+H]+</th>\n    </tr>\n  </thead>\n  <tbody>\n    <tr>\n      <th>0</th>\n      <td>1</td>\n      <td>Strophanthidinic Acid Lactone Acetate</td>\n      <td>C25H32O7</td>\n      <td>No CAS#</td>\n      <td>RPIVIODUUUOQDD-UHFFFAOYSA-N</td>\n      <td>CC(=O)OC1CCC23C4CCC5(C(CCC5(C4CCC2(C1)O)OC3=O)...</td>\n      <td>445.2221</td>\n      <td>462.2486</td>\n      <td>467.2040</td>\n      <td>427.2115</td>\n    </tr>\n    <tr>\n      <th>1</th>\n      <td>1</td>\n      <td>Strophanthidinic Acid Lactone Acetate_glycoside</td>\n      <td>C25H32O7</td>\n      <td>No CAS#</td>\n      <td>RPIVIODUUUOQDD-UHFFFAOYSA-N</td>\n      <td>CC(=O)OC1CCC23C4CCC5(C(CCC5(C4CCC2(C1)O)OC3=O)...</td>\n      <td>607.2754</td>\n      <td>624.3019</td>\n      <td>629.2573</td>\n      <td>589.2648</td>\n    </tr>\n    <tr>\n      <th>2</th>\n      <td>1</td>\n      <td>Strophanthidinic Acid Lactone Acetate_diglycoside</td>\n      <td>C25H32O7</td>\n      <td>No CAS#</td>\n      <td>RPIVIODUUUOQDD-UHFFFAOYSA-N</td>\n      <td>CC(=O)OC1CCC23C4CCC5(C(CCC5(C4CCC2(C1)O)OC3=O)...</td>\n      <td>769.3287</td>\n      <td>786.3552</td>\n      <td>791.3106</td>\n      <td>751.3181</td>\n    </tr>\n    <tr>\n      <th>3</th>\n      <td>1</td>\n      <td>Glutamine (L)</td>\n      <td>C5H10N2O3</td>\n      <td>56-85-9</td>\n      <td>ZDXPYRJPNDTMRX-VKHMYHEASA-N</td>\n      <td>C(CC(=O)N)[C@@H](C(=O)O)N</td>\n      <td>147.0764</td>\n      <td>164.1030</td>\n      <td>169.0584</td>\n      <td>129.0659</td>\n    </tr>\n    <tr>\n      <th>4</th>\n      <td>1</td>\n      <td>Glutamine (L)_glycoside</td>\n      <td>C5H10N2O3</td>\n      <td>56-85-9</td>\n      <td>ZDXPYRJPNDTMRX-VKHMYHEASA-N</td>\n      <td>C(CC(=O)N)[C@@H](C(=O)O)N</td>\n      <td>309.1297</td>\n      <td>326.1563</td>\n      <td>331.1117</td>\n      <td>291.1192</td>\n    </tr>\n    <tr>\n      <th>...</th>\n      <td>...</td>\n      <td>...</td>\n      <td>...</td>\n      <td>...</td>\n      <td>...</td>\n      <td>...</td>\n      <td>...</td>\n      <td>...</td>\n      <td>...</td>\n      <td>...</td>\n    </tr>\n    <tr>\n      <th>1774</th>\n      <td>15</td>\n      <td>Chlorogenic Acid_glycoside</td>\n      <td>C16H18O9</td>\n      <td>327-97-9</td>\n      <td>CWVRJTMFETXNAD-JUHZACGLSA-N</td>\n      <td>C1[C@H]([C@H]([C@@H](C[C@@]1(C(=O)O)O)OC(=O)/C...</td>\n      <td>517.1557</td>\n      <td>534.1822</td>\n      <td>539.1376</td>\n      <td>499.1451</td>\n    </tr>\n    <tr>\n      <th>1775</th>\n      <td>15</td>\n      <td>Chlorogenic Acid_diglycoside</td>\n      <td>C16H18O9</td>\n      <td>327-97-9</td>\n      <td>CWVRJTMFETXNAD-JUHZACGLSA-N</td>\n      <td>C1[C@H]([C@H]([C@@H](C[C@@]1(C(=O)O)O)OC(=O)/C...</td>\n      <td>679.2090</td>\n      <td>696.2355</td>\n      <td>701.1909</td>\n      <td>661.1984</td>\n    </tr>\n    <tr>\n      <th>1776</th>\n      <td>15</td>\n      <td>2'-deoxyadenosine</td>\n      <td>C10H13N5O3</td>\n      <td>13276-53-4</td>\n      <td>OLXZPDWKRNYJJZ-FSDSQADBSA-N</td>\n      <td>C1[C@H]([C@H](O[C@H]1N2C=NC3=C(N=CN=C32)N)CO)O</td>\n      <td>252.1091</td>\n      <td>269.1357</td>\n      <td>274.0911</td>\n      <td>234.0986</td>\n    </tr>\n    <tr>\n      <th>1777</th>\n      <td>15</td>\n      <td>2'-deoxyadenosine_glycoside</td>\n      <td>C10H13N5O3</td>\n      <td>13276-53-4</td>\n      <td>OLXZPDWKRNYJJZ-FSDSQADBSA-N</td>\n      <td>C1[C@H]([C@H](O[C@H]1N2C=NC3=C(N=CN=C32)N)CO)O</td>\n      <td>414.1624</td>\n      <td>431.1890</td>\n      <td>436.1444</td>\n      <td>396.1519</td>\n    </tr>\n    <tr>\n      <th>1778</th>\n      <td>15</td>\n      <td>2'-deoxyadenosine_diglycoside</td>\n      <td>C10H13N5O3</td>\n      <td>13276-53-4</td>\n      <td>OLXZPDWKRNYJJZ-FSDSQADBSA-N</td>\n      <td>C1[C@H]([C@H](O[C@H]1N2C=NC3=C(N=CN=C32)N)CO)O</td>\n      <td>576.2157</td>\n      <td>593.2423</td>\n      <td>598.1977</td>\n      <td>558.2052</td>\n    </tr>\n  </tbody>\n</table>\n<p>1779 rows × 10 columns</p>\n</div>"
     },
     "execution_count": 46,
     "metadata": {},
     "output_type": "execute_result"
    }
   ],
   "source": [
    "new_std"
   ],
   "metadata": {
    "collapsed": false,
    "pycharm": {
     "name": "#%%\n"
    }
   }
  },
  {
   "cell_type": "code",
   "execution_count": 47,
   "outputs": [],
   "source": [
    "new_std.to_csv(os.path.join(source_dir, \"enlongated_list.csv\"), index= False)"
   ],
   "metadata": {
    "collapsed": false,
    "pycharm": {
     "name": "#%%\n"
    }
   }
  }
 ],
 "metadata": {
  "kernelspec": {
   "name": "alphapept_env",
   "language": "python",
   "display_name": "alphapept_env"
  },
  "language_info": {
   "codemirror_mode": {
    "name": "ipython",
    "version": 2
   },
   "file_extension": ".py",
   "mimetype": "text/x-python",
   "name": "python",
   "nbconvert_exporter": "python",
   "pygments_lexer": "ipython2",
   "version": "2.7.6"
  }
 },
 "nbformat": 4,
 "nbformat_minor": 0
}