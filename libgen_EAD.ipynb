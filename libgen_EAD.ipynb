{
 "cells": [
  {
   "cell_type": "code",
   "execution_count": 20,
   "metadata": {
    "collapsed": true,
    "pycharm": {
     "name": "#%%\n"
    }
   },
   "outputs": [
    {
     "name": "stdout",
     "output_type": "stream",
     "text": [
      "The autoreload extension is already loaded. To reload it, use:\n",
      "  %reload_ext autoreload\n"
     ]
    }
   ],
   "source": [
    "import subprocess\n",
    "import os\n",
    "import shutil\n",
    "import warnings\n",
    "\n",
    "warnings.filterwarnings(\"ignore\")\n",
    "from ast import literal_eval\n",
    "import itertools\n",
    "import matplotlib.pyplot as plt\n",
    "import toolsets.spectra_operations as so\n",
    "import seaborn as sns\n",
    "from tqdm import tqdm\n",
    "from operator import itemgetter\n",
    "import time\n",
    "import numpy as np\n",
    "import sys\n",
    "sys.path.append('yuanyue_code')\n",
    "\n",
    "import re\n",
    "import pandas as pd\n",
    "\n",
    "# import spectral_entropy as se\n",
    "\n",
    "import toolsets.denoising_related_functions as de\n",
    "import pandas as pd\n",
    "import toolsets.ms2_spectra_plotter as ms2plotter\n",
    "%load_ext autoreload\n",
    "%autoreload 2\n",
    "import toolsets.mass_to_formula as mtf\n",
    "import toolsets.precursor_matching as pm\n",
    "import toolsets.mass_recalibration as mr\n",
    "# import requests\n",
    "# import numpy as np"
   ]
  },
  {
   "cell_type": "code",
   "execution_count": 24,
   "outputs": [
    {
     "name": "stderr",
     "output_type": "stream",
     "text": [
      "100%|██████████| 73/73 [00:06<00:00, 10.72it/s]\n"
     ]
    }
   ],
   "source": [
    "# this is reading in the ms dial alignment result\n",
    "data_height = pm.readin_MSDIAL(\"demo_data/Height_2_2021619144.txt\")\n",
    "# this is reading in the standard list, please use exact same column name\n",
    "# if you do not have the precorsormz monoisotopic mass precalculated, the toolset has functions that can help you\n",
    "# please refer adduct_calculator.py\n",
    "# the mix_label column is very important, please make sure it has the same name as in the alignment result\n",
    "sample_list_cor = pd.read_csv(\"demo_data/standard_list.csv\")\n",
    "# this is defining the mass error of picking the precursormz\n",
    "mass_error =  0.01\n",
    "# the parameters are: alignment result, sample list, mass error, allowed adducts to be searched, comments, if using ppm as mass error\n",
    "# default mass error is in Da, but ppm is also allowed\n",
    "data = pm.precursor_matching(data_height, sample_list_cor, mass_error, ['[M+H]+', '[M+NH4]+','[M+Na]+'], \"EAD_HILIC\", ppm = False)"
   ],
   "metadata": {
    "collapsed": false,
    "pycharm": {
     "name": "#%%\n"
    }
   }
  },
  {
   "cell_type": "code",
   "execution_count": 26,
   "outputs": [],
   "source": [
    "# performing mass recalibration, if everything works out in previous step, this will work without issue\n",
    "# the recalibrated msms is stored in new column, msms_recalibrated\n",
    "data_r = mr.data_recalibrate(data, save_diff=True)"
   ],
   "metadata": {
    "collapsed": false,
    "pycharm": {
     "name": "#%%\n"
    }
   }
  },
  {
   "cell_type": "code",
   "execution_count": 17,
   "outputs": [],
   "source": [
    "# this chunk of code is for seeing the difference of ms1 before and after the recalibration\n",
    "# it is not necessary, if you want ot use it, the data_recalibrate must have the save_diff parameter set to be true\n",
    "\n",
    "# fig, ax = plt.subplots(\n",
    "#     figsize = (7, 5)\n",
    "#                       )\n",
    "# ax= sns.histplot(data=data_hilic_r, x=\"diff_raw\", multiple=\"stack\", kde = True, color = \"red\")\n",
    "# ax = sns.histplot(data=data_hilic_r, x=\"diff_recalibrated\", multiple=\"stack\", kde = True,color = \"green\")\n",
    "# # ax.set_title(\"Peak number difference after denoising\", fontsize = 16)\n",
    "# ax.set_xlabel(\"Mass difference of precursor ion (Da)\", fontsize = 18)\n",
    "# ax.set_ylabel(\"Number of Peaks\", fontsize = 18)\n",
    "# ax.grid(False)\n",
    "# plt.legend(labels=[\"Before recalibration\",\"After recalibration\"], loc = 'upper right',fontsize=16)\n",
    "# plt.savefig('data_demo/recalibration.tiff', dpi = 300,facecolor = 'white', edgecolor = 'white')"
   ],
   "metadata": {
    "collapsed": false,
    "pycharm": {
     "name": "#%%\n"
    }
   }
  },
  {
   "cell_type": "code",
   "execution_count": 35,
   "outputs": [
    {
     "name": "stderr",
     "output_type": "stream",
     "text": [
      "100%|██████████| 3/3 [00:11<00:00,  3.89s/it]\n"
     ]
    }
   ],
   "source": [
    "# this method creates consensus spectra\n",
    "# default method is 'weighedaverage'\n",
    "# another allowed method is 'consensus', which is the method described in 'Quality Control for Building Libraries from Electrospray Ionization Tandem Mass Spectra'\n",
    "# the consensus spectra will be stored and replace the original 'msms' column\n",
    "data_r = so.duplicate_handling(data_r, typeofmsms='msms_recalibrated')"
   ],
   "metadata": {
    "collapsed": false,
    "pycharm": {
     "name": "#%%\n"
    }
   }
  },
  {
   "cell_type": "code",
   "execution_count": 37,
   "outputs": [
    {
     "name": "stderr",
     "output_type": "stream",
     "text": [
      "100%|██████████| 3/3 [00:00<00:00,  3.47it/s]\n"
     ]
    }
   ],
   "source": [
    "# denoising spectra\n",
    "data_r = so.denoising(data_r,'msms', mass_error = 0.01, ifppm = False)\n"
   ],
   "metadata": {
    "collapsed": false,
    "pycharm": {
     "name": "#%%\n"
    }
   }
  },
  {
   "cell_type": "code",
   "execution_count": 56,
   "outputs": [
    {
     "data": {
      "text/plain": "                            NAME                                 key  \\\n88  N-Acetyl-epsilon-caprolactam   QISSLHPKTCLLDL-UHFFFAOYSA-N[M+H]+   \n89                 Carbamazepine  FFGPTBGBLSHEPO-UHFFFAOYSA-N[M+Na]+   \n90                     Erucamide   UAUDZVJPLUQNMU-KTKRTIGZSA-N[M+H]+   \n\n   PRECURSORMZ                     InChIKey    Formula  ExactMass   Adduct  \\\n88   156.10191  QISSLHPKTCLLDL-UHFFFAOYSA-N   C8H13NO2  155.09463   [M+H]+   \n89  259.084184  FFGPTBGBLSHEPO-UHFFFAOYSA-N  C15H12N2O  236.09496  [M+Na]+   \n90  338.341746  UAUDZVJPLUQNMU-KTKRTIGZSA-N   C22H43NO  337.33446   [M+H]+   \n\n   Spectrum_type RETENTIONTIME Average_mz  ... intensity    mix_label  \\\n88           MS2          0.21  156.09988  ...      7933  Inventory 2   \n89           MS2         0.251  259.09387  ...     14867  Inventory 2   \n90           MS2         0.191  338.34247  ...     15509  Inventory 2   \n\n   Ion_mode                                  msms_recalibrated  diff_raw  \\\n88        P  50.016055\\t44.0\\n51.024245\\t160.0\\n53.040105\\t... -0.002030   \n89        P  50.016055\\t96.0\\n51.024945\\t228.0\\n52.026235\\t...  0.009686   \n90        P  51.023545\\t241.0\\n52.028355\\t37.0\\n53.037255\\t...  0.000724   \n\n   diff_recalibrated                                      msms_denoised  \\\n88          0.000899  50.016055\\t3.832753\\n51.024245\\t13.937282\\n53....   \n89          0.002951  50.016055\\t9.571286\\n51.024945\\t22.731805\\n52....   \n90          0.004530  51.023545\\t28.75895\\n52.028355\\t4.415274\\n53.0...   \n\n   explained_intensity max_unassigned_intensity   evaluations  \n88            0.941138                 6.445993  good quality  \n89            0.930345                10.169492  good quality  \n90            0.906472                23.747017  good quality  \n\n[3 rows x 25 columns]",
      "text/html": "<div>\n<style scoped>\n    .dataframe tbody tr th:only-of-type {\n        vertical-align: middle;\n    }\n\n    .dataframe tbody tr th {\n        vertical-align: top;\n    }\n\n    .dataframe thead th {\n        text-align: right;\n    }\n</style>\n<table border=\"1\" class=\"dataframe\">\n  <thead>\n    <tr style=\"text-align: right;\">\n      <th></th>\n      <th>NAME</th>\n      <th>key</th>\n      <th>PRECURSORMZ</th>\n      <th>InChIKey</th>\n      <th>Formula</th>\n      <th>ExactMass</th>\n      <th>Adduct</th>\n      <th>Spectrum_type</th>\n      <th>RETENTIONTIME</th>\n      <th>Average_mz</th>\n      <th>...</th>\n      <th>intensity</th>\n      <th>mix_label</th>\n      <th>Ion_mode</th>\n      <th>msms_recalibrated</th>\n      <th>diff_raw</th>\n      <th>diff_recalibrated</th>\n      <th>msms_denoised</th>\n      <th>explained_intensity</th>\n      <th>max_unassigned_intensity</th>\n      <th>evaluations</th>\n    </tr>\n  </thead>\n  <tbody>\n    <tr>\n      <th>88</th>\n      <td>N-Acetyl-epsilon-caprolactam</td>\n      <td>QISSLHPKTCLLDL-UHFFFAOYSA-N[M+H]+</td>\n      <td>156.10191</td>\n      <td>QISSLHPKTCLLDL-UHFFFAOYSA-N</td>\n      <td>C8H13NO2</td>\n      <td>155.09463</td>\n      <td>[M+H]+</td>\n      <td>MS2</td>\n      <td>0.21</td>\n      <td>156.09988</td>\n      <td>...</td>\n      <td>7933</td>\n      <td>Inventory 2</td>\n      <td>P</td>\n      <td>50.016055\\t44.0\\n51.024245\\t160.0\\n53.040105\\t...</td>\n      <td>-0.002030</td>\n      <td>0.000899</td>\n      <td>50.016055\\t3.832753\\n51.024245\\t13.937282\\n53....</td>\n      <td>0.941138</td>\n      <td>6.445993</td>\n      <td>good quality</td>\n    </tr>\n    <tr>\n      <th>89</th>\n      <td>Carbamazepine</td>\n      <td>FFGPTBGBLSHEPO-UHFFFAOYSA-N[M+Na]+</td>\n      <td>259.084184</td>\n      <td>FFGPTBGBLSHEPO-UHFFFAOYSA-N</td>\n      <td>C15H12N2O</td>\n      <td>236.09496</td>\n      <td>[M+Na]+</td>\n      <td>MS2</td>\n      <td>0.251</td>\n      <td>259.09387</td>\n      <td>...</td>\n      <td>14867</td>\n      <td>Inventory 2</td>\n      <td>P</td>\n      <td>50.016055\\t96.0\\n51.024945\\t228.0\\n52.026235\\t...</td>\n      <td>0.009686</td>\n      <td>0.002951</td>\n      <td>50.016055\\t9.571286\\n51.024945\\t22.731805\\n52....</td>\n      <td>0.930345</td>\n      <td>10.169492</td>\n      <td>good quality</td>\n    </tr>\n    <tr>\n      <th>90</th>\n      <td>Erucamide</td>\n      <td>UAUDZVJPLUQNMU-KTKRTIGZSA-N[M+H]+</td>\n      <td>338.341746</td>\n      <td>UAUDZVJPLUQNMU-KTKRTIGZSA-N</td>\n      <td>C22H43NO</td>\n      <td>337.33446</td>\n      <td>[M+H]+</td>\n      <td>MS2</td>\n      <td>0.191</td>\n      <td>338.34247</td>\n      <td>...</td>\n      <td>15509</td>\n      <td>Inventory 2</td>\n      <td>P</td>\n      <td>51.023545\\t241.0\\n52.028355\\t37.0\\n53.037255\\t...</td>\n      <td>0.000724</td>\n      <td>0.004530</td>\n      <td>51.023545\\t28.75895\\n52.028355\\t4.415274\\n53.0...</td>\n      <td>0.906472</td>\n      <td>23.747017</td>\n      <td>good quality</td>\n    </tr>\n  </tbody>\n</table>\n<p>3 rows × 25 columns</p>\n</div>"
     },
     "execution_count": 56,
     "metadata": {},
     "output_type": "execute_result"
    }
   ],
   "source": [
    "# evaluating denoising result\n",
    "# if total explained intensity is less than 80%, it will be flagged\n",
    "# if there is a single peak unassigned with relative intensity larger than 20%, it will also be flagged\n",
    "# msms1 is and msms2 are the the raw msms and denoised msms, respectively\n",
    "data_r=so.denoising_evaluation(data_r,msms1 = 'msms', msms2 = 'msms_denoised', min_explained_intensity = 80, allowed_max_unassigned_intensity = 30)"
   ],
   "metadata": {
    "collapsed": false,
    "pycharm": {
     "name": "#%%\n"
    }
   }
  },
  {
   "cell_type": "code",
   "execution_count": 119,
   "outputs": [],
   "source": [
    "# adding evaluation as part of comment\n",
    "data_r['Comment']= data_r['Comment']+ ' '+data_r['evaluations']"
   ],
   "metadata": {
    "collapsed": false,
    "pycharm": {
     "name": "#%%\n"
    }
   }
  },
  {
   "cell_type": "code",
   "execution_count": 122,
   "outputs": [],
   "source": [
    "# exporting into .msp format; other format are also supported\n",
    "# e.g. mat/mgf/ms formats...\n",
    "# using other functions\n",
    "so.export_library(data_r, 'demo_data/library', typeofmsms='msms_denoised')"
   ],
   "metadata": {
    "collapsed": false,
    "pycharm": {
     "name": "#%%\n"
    }
   }
  },
  {
   "cell_type": "markdown",
   "source": [
    "# by here the library is curated already\n",
    "# below are some toolsets helping you for library management"
   ],
   "metadata": {
    "collapsed": false,
    "pycharm": {
     "name": "#%% md\n"
    }
   }
  },
  {
   "cell_type": "code",
   "execution_count": null,
   "outputs": [],
   "source": [],
   "metadata": {
    "collapsed": false,
    "pycharm": {
     "name": "#%%\n"
    }
   }
  },
  {
   "cell_type": "code",
   "execution_count": 93,
   "outputs": [],
   "source": [
    "# calculating normalized entropy\n",
    "normalized_entropy =[]\n",
    "normalized_entroy_denoised = []\n",
    "for index, row in data.iterrows():\n",
    "    normalized_entropy.append(so.normalized_entropy(row['msms']))\n",
    "    normalized_entroy_denoised.append(so.normalized_entropy(row['msms_denoised']))\n",
    "data['normalized_entropy'] = normalized_entropy\n",
    "data['normalized_entroy_denoised']=normalized_entroy_denoised"
   ],
   "metadata": {
    "collapsed": false,
    "pycharm": {
     "name": "#%%\n"
    }
   }
  },
  {
   "cell_type": "code",
   "execution_count": 158,
   "outputs": [
    {
     "data": {
      "text/plain": "<module 'matplotlib.pyplot' from '/opt/homebrew/Caskroom/miniforge/base/envs/tensorflow/lib/python3.9/site-packages/matplotlib/pyplot.py'>"
     },
     "execution_count": 158,
     "metadata": {},
     "output_type": "execute_result"
    },
    {
     "data": {
      "text/plain": "<Figure size 504x360 with 1 Axes>",
      "image/png": "[encoded data removed]"
     },
     "metadata": {},
     "output_type": "display_data"
    }
   ],
   "source": [
    "# head to tail plots\n",
    "# of course you can also plot simple spctra plot with ms2plotter.ms2_plot()\n",
    "ms2plotter.head_to_tail_plot(data.iloc[0]['msms'], data.iloc[0]['msms_denoised'], ifnormalized=False)"
   ],
   "metadata": {
    "collapsed": false,
    "pycharm": {
     "name": "#%%\n"
    }
   }
  },
  {
   "cell_type": "code",
   "execution_count": 124,
   "outputs": [
    {
     "data": {
      "text/plain": "<Figure size 504x360 with 1 Axes>",
      "image/png": "[encoded data removed]"
     },
     "metadata": {},
     "output_type": "display_data"
    }
   ],
   "source": [
    "# plotting distribution of normalized entropy, not necessary\n",
    "# fig, ax = plt.subplots(\n",
    "#     figsize = (7, 5)\n",
    "#                       )\n",
    "# ax= sns.histplot(data=data, x=\"normalized_entroy_denoised\", multiple=\"stack\", kde = True,\n",
    "#                  # hue=\"evaluations\"\n",
    "#                  )\n",
    "# # ax.yaxis\n",
    "# plt.vlines(x =0.8, ymin = 0, ymax=250,colors='red')\n",
    "# # ax = sns.histplot(data=data_ead_r, x=\"diff_recalibrated\", multiple=\"stack\", kde = True,color = \"green\")\n",
    "# # ax.set_title(\"Peak number difference after denoising\", fontsize = 16)\n",
    "# ax.set_xlabel(\"Normalized entropy^4\", fontsize = 18)\n",
    "# ax.set_ylabel(\"Number of Peaks\", fontsize = 18)\n",
    "# ax.grid(False)\n",
    "# # plt.legend(labels=[\"Before recalibration\",\"After recalibration\"], loc = 'upper right')\n",
    "# plt.savefig('data/normalized_entropy.tiff', dpi = 300,facecolor = 'white', edgecolor = 'white')"
   ],
   "metadata": {
    "collapsed": false,
    "pycharm": {
     "name": "#%%\n"
    }
   }
  },
  {
   "cell_type": "markdown",
   "source": [
    "# final verdict:\n",
    "# there are also other useful tools upon request: include but not limit to: entropy similarity calculation, fast search/open search against public libraries, etc\n"
   ],
   "metadata": {
    "collapsed": false,
    "pycharm": {
     "name": "#%% md\n"
    }
   }
  },
  {
   "cell_type": "markdown",
   "source": [],
   "metadata": {
    "collapsed": false,
    "pycharm": {
     "name": "#%% md\n"
    }
   }
  }
 ],
 "metadata": {
  "kernelspec": {
   "name": "tensorflow",
   "language": "python",
   "display_name": "Python 3.9 (tensorflow)"
  },
  "language_info": {
   "codemirror_mode": {
    "name": "ipython",
    "version": 2
   },
   "file_extension": ".py",
   "mimetype": "text/x-python",
   "name": "python",
   "nbconvert_exporter": "python",
   "pygments_lexer": "ipython2",
   "version": "2.7.6"
  }
 },
 "nbformat": 4,
 "nbformat_minor": 0
}