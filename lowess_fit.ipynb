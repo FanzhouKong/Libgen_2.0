{
 "cells": [
  {
   "cell_type": "code",
   "execution_count": null,
   "metadata": {
    "collapsed": true,
    "pycharm": {
     "name": "#%%\n"
    }
   },
   "outputs": [],
   "source": [
    "import numpy as np\n",
    "# numpy.random.bit_generator = numpy.random._bit_generator\n",
    "import statsmodels.api as sm\n",
    "from moepy import lowess\n",
    "from scipy.interpolate import interp1d\n",
    "x = np.linspace(0, 5, num=150)\n",
    "y = np.sin(x) + (np.random.normal(size=len(x)))/10\n",
    "\n",
    "# lowess will return our \"smoothed\" data with a y value for at every x-value\n",
    "model = sm.nonparametric.lowess(y, x, frac=.3)\n",
    "lowess_x = list(zip(*model))[0]\n",
    "lowess_y = list(zip(*model))[1]\n",
    "f = interp1d(lowess_x, lowess_y, bounds_error=False)\n",
    "y_pred_sm = f(x)\n",
    "\n",
    "f(mass_list)\n",
    "lowess_model = lowess.Lowess()\n",
    "lowess_model.fit(x, y, frac = 0.4)\n",
    "x = np.array([1,2,3])\n",
    "y = np.array([1,2,3])\n",
    "lowess_model = lowess.Lowess()\n",
    "lowess_model.fit(x, y)\n",
    "lowess_model.predict(x)\n",
    "y_pred_moepy = lowess_model.predict(x)\n",
    "sns.scatterplot(x, y_pred_moepy)\n",
    "sns.scatterplot(x, y_pred_sm)\n",
    "\n",
    "\n",
    "lowess_model = lowess.Lowess()\n",
    "lowess_model.fit(x, y)\n",
    "y_pred_moepy = lowess_model.predict(x)\n",
    "x\n",
    "y_new_sm\n",
    "y_pred_moepy\n",
    "\n",
    "import seaborn as sns\n",
    "sns.scatterplot(x, y_pred_moepy)\n",
    "\n",
    "result.head()"
   ]
  }
 ],
 "metadata": {
  "kernelspec": {
   "display_name": "Python 3",
   "language": "python",
   "name": "python3"
  },
  "language_info": {
   "codemirror_mode": {
    "name": "ipython",
    "version": 2
   },
   "file_extension": ".py",
   "mimetype": "text/x-python",
   "name": "python",
   "nbconvert_exporter": "python",
   "pygments_lexer": "ipython2",
   "version": "2.7.6"
  }
 },
 "nbformat": 4,
 "nbformat_minor": 0
}