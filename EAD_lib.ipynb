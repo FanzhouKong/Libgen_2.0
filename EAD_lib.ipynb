{
 "cells": [
  {
   "cell_type": "code",
   "execution_count": 1,
   "metadata": {
    "collapsed": true,
    "pycharm": {
     "name": "#%%\n"
    }
   },
   "outputs": [
    {
     "name": "stdout",
     "output_type": "stream",
     "text": [
      "Compile the cython code is highly recommended!\n"
     ]
    }
   ],
   "source": [
    "import time\n",
    "import os\n",
    "import seaborn as sns\n",
    "import numpy as np\n",
    "import pandas as pd\n",
    "import sys\n",
    "from mimas.external.features_by_alphapept.load_mzml_data import load_mzml_data\n",
    "from mimas.tools.spectral_file.extract_ms1_feature import process_mzml_file, extract_ms2_spectra, find_features\n",
    "%load_ext autoreload\n",
    "%autoreload 2\n",
    "from toolsets.spectra_operations import convert_string_to_nist\n",
    "import logging\n",
    "from toolsets.spectra_operations import entropy_similarity_default\n",
    "from toolsets.adduct_calculator import complete_adducts, complete_formula\n",
    "# from toolsets.API_gets import complete_smiles\n",
    "from toolsets.search import string_search, num_search\n",
    "import toolsets.spectra_operations as so\n",
    "from tqdm import tqdm\n",
    "from toolsets.features_by_alphapept import find_features_alphapept"
   ]
  },
  {
   "cell_type": "code",
   "execution_count": 2,
   "outputs": [],
   "source": [
    "data_pfp = pd.read_csv('/Users/fanzhoukong/Documents/GitHub/Libgen_data/EAD/libgen2.0_pfp.csv')\n",
    "# data_hilic = pd.read_csv('/Users/fanzhoukong/Documents/GitHub/Libgen_data/EAD/libgen2.0_hilic.csv')"
   ],
   "metadata": {
    "collapsed": false,
    "pycharm": {
     "name": "#%%\n"
    }
   }
  },
  {
   "cell_type": "code",
   "execution_count": 3,
   "outputs": [
    {
     "data": {
      "text/plain": "1314"
     },
     "execution_count": 3,
     "metadata": {},
     "output_type": "execute_result"
    }
   ],
   "source": [
    "len(data_pfp['reference_InChIKey'].unique())"
   ],
   "metadata": {
    "collapsed": false,
    "pycharm": {
     "name": "#%%\n"
    }
   }
  },
  {
   "cell_type": "code",
   "execution_count": 129,
   "outputs": [],
   "source": [
    "data = pd.concat([data_pfp, data_hilic], axis=0)"
   ],
   "metadata": {
    "collapsed": false,
    "pycharm": {
     "name": "#%%\n"
    }
   }
  },
  {
   "cell_type": "code",
   "execution_count": 130,
   "outputs": [
    {
     "name": "stderr",
     "output_type": "stream",
     "text": [
      "100%|██████████| 3482/3482 [00:01<00:00, 2441.58it/s]\n"
     ]
    }
   ],
   "source": [
    "normalized_peaks = []\n",
    "for index, row in tqdm(data.iterrows(), total=len(data)):\n",
    "    normalized_peaks.append(so.normalize_spectra(row['peaks_recalibrated_denoised']))"
   ],
   "metadata": {
    "collapsed": false,
    "pycharm": {
     "name": "#%%\n"
    }
   }
  },
  {
   "cell_type": "code",
   "execution_count": 5,
   "outputs": [
    {
     "data": {
      "text/plain": "32.56333333333333"
     },
     "execution_count": 5,
     "metadata": {},
     "output_type": "execute_result"
    }
   ],
   "source": [
    "((27*3)+16.69)/3"
   ],
   "metadata": {
    "collapsed": false,
    "pycharm": {
     "name": "#%%\n"
    }
   }
  },
  {
   "cell_type": "code",
   "execution_count": 131,
   "outputs": [],
   "source": [
    "data['peaks_recalibrated_denoised']=normalized_peaks"
   ],
   "metadata": {
    "collapsed": false,
    "pycharm": {
     "name": "#%%\n"
    }
   }
  },
  {
   "cell_type": "code",
   "execution_count": 126,
   "outputs": [],
   "source": [
    "from toolsets.file_io import export_library_msp"
   ],
   "metadata": {
    "collapsed": false,
    "pycharm": {
     "name": "#%%\n"
    }
   }
  },
  {
   "cell_type": "code",
   "execution_count": 132,
   "outputs": [
    {
     "name": "stderr",
     "output_type": "stream",
     "text": [
      "100%|██████████| 3482/3482 [00:21<00:00, 163.85it/s]\n"
     ]
    }
   ],
   "source": [
    "export_library_msp(data,'/Users/fanzhoukong/Documents/GitHub/Libgen_data/EAD/libgen2.0_library_final.txt' ,typeofmsms='peaks_recalibrated_denoised', ifcollision_energy = False)"
   ],
   "metadata": {
    "collapsed": false,
    "pycharm": {
     "name": "#%%\n"
    }
   }
  },
  {
   "cell_type": "code",
   "execution_count": 117,
   "outputs": [
    {
     "data": {
      "text/plain": "   scan_number  precursor_mz  charge  ms1_intensity_ratio  \\\n0          207    155.033529       1             0.862997   \n1          397    271.061066       1             0.406893   \n2          904    289.198404       1             0.186737   \n3          837    311.181980       1             0.740417   \n4          803    303.122302       1             0.995707   \n\n   ms1_precursor_intensity  retention_time  \\\n0                   2085.0        0.617400   \n1                   2137.0        1.208467   \n2                   1163.0        2.516600   \n3                  16090.0        2.289467   \n4                 645013.0        2.237450   \n\n                                               peaks  ms1_index  query_idx  \\\n0  127.05482\\t2.237659\\n128.06293\\t5.889224\\n129....        186         19   \n1  126.046478\\t11.440678\\n127.057152\\t26.165256\\n...        288        107   \n2  50.014942\\t5.663288\\n51.022358\\t16.923754\\n52....        465        438   \n3  126.045433\\t2.053669\\n127.055359\\t11.007667\\n1...        433        402   \n4  118.04487\\t1.002273\\n119.05082\\t2.234901\\n131....        428        373   \n\n                                      reference_Name  ... reference_adduct  \\\n0                                 PYROCATECHUIC ACID  ...           [M+H]+   \n1                                           Apigenin  ...           [M+H]+   \n2                 2-decyl-3-hydroxypentanedioic acid  ...           [M+H]+   \n3                 2-decyl-3-hydroxypentanedioic acid  ...          [M+Na]+   \n4  1-(2,4-dihydroxyphenyl)-2-(3,5-dimethoxyphenyl...  ...           [M+H]+   \n\n  reference_precursor_mz                                 key  \\\n0               155.0339   GLDQAMYCGOIJDV-UHFFFAOYSA-N[M+H]+   \n1               271.0601   KZNIFHPLKGYRTM-UHFFFAOYSA-N[M+H]+   \n2               289.2010   KOLGVIJQEZBWIQ-UHFFFAOYSA-N[M+H]+   \n3               311.1829  KOLGVIJQEZBWIQ-UHFFFAOYSA-N[M+Na]+   \n4               303.1227   TURHNAJJDDIVGC-UHFFFAOYSA-N[M+H]+   \n\n               comments                                 peaks_recalibrated  \\\n0  recalibrateddenoised  127.05502\\t2.237659\\n128.063129\\t5.889224\\n129...   \n1  recalibrateddenoised  126.046678\\t11.440678\\n127.057352\\t26.165256\\n...   \n2  recalibrateddenoised  50.015168\\t5.663288\\n51.022584\\t16.923754\\n52....   \n3  recalibrateddenoised  126.045633\\t2.053669\\n127.055559\\t11.007667\\n1...   \n4  recalibrateddenoised  118.045073\\t1.002273\\n119.051022\\t2.234901\\n13...   \n\n   diff_raw  diff_recalibrated  \\\n0 -0.000371          -0.000181   \n1  0.000966           0.001116   \n2 -0.002596          -0.002452   \n3 -0.000920          -0.000784   \n4 -0.000398          -0.000259   \n\n                         peaks_recalibrated_denoised explained_intensity  \\\n0  127.05502\\t2.237659\\n136.015147\\t3.731481\\n137...            84.65354   \n1  126.046678\\t11.440678\\n127.057352\\t26.165256\\n...            77.55162   \n2  50.015168\\t5.663288\\n51.022584\\t16.923754\\n52....            99.57359   \n3  126.045633\\t2.053669\\n127.055559\\t11.007667\\n1...            96.09716   \n4  118.045073\\t1.002273\\n119.051022\\t2.234901\\n13...            99.43046   \n\n  max_unassigned_peak_intensity  \n0                      5.889224  \n1                     67.584750  \n2                      3.746144  \n3                     16.757941  \n4                      2.826807  \n\n[5 rows x 25 columns]",
      "text/html": "<div>\n<style scoped>\n    .dataframe tbody tr th:only-of-type {\n        vertical-align: middle;\n    }\n\n    .dataframe tbody tr th {\n        vertical-align: top;\n    }\n\n    .dataframe thead th {\n        text-align: right;\n    }\n</style>\n<table border=\"1\" class=\"dataframe\">\n  <thead>\n    <tr style=\"text-align: right;\">\n      <th></th>\n      <th>scan_number</th>\n      <th>precursor_mz</th>\n      <th>charge</th>\n      <th>ms1_intensity_ratio</th>\n      <th>ms1_precursor_intensity</th>\n      <th>retention_time</th>\n      <th>peaks</th>\n      <th>ms1_index</th>\n      <th>query_idx</th>\n      <th>reference_Name</th>\n      <th>...</th>\n      <th>reference_adduct</th>\n      <th>reference_precursor_mz</th>\n      <th>key</th>\n      <th>comments</th>\n      <th>peaks_recalibrated</th>\n      <th>diff_raw</th>\n      <th>diff_recalibrated</th>\n      <th>peaks_recalibrated_denoised</th>\n      <th>explained_intensity</th>\n      <th>max_unassigned_peak_intensity</th>\n    </tr>\n  </thead>\n  <tbody>\n    <tr>\n      <th>0</th>\n      <td>207</td>\n      <td>155.033529</td>\n      <td>1</td>\n      <td>0.862997</td>\n      <td>2085.0</td>\n      <td>0.617400</td>\n      <td>127.05482\\t2.237659\\n128.06293\\t5.889224\\n129....</td>\n      <td>186</td>\n      <td>19</td>\n      <td>PYROCATECHUIC ACID</td>\n      <td>...</td>\n      <td>[M+H]+</td>\n      <td>155.0339</td>\n      <td>GLDQAMYCGOIJDV-UHFFFAOYSA-N[M+H]+</td>\n      <td>recalibrateddenoised</td>\n      <td>127.05502\\t2.237659\\n128.063129\\t5.889224\\n129...</td>\n      <td>-0.000371</td>\n      <td>-0.000181</td>\n      <td>127.05502\\t2.237659\\n136.015147\\t3.731481\\n137...</td>\n      <td>84.65354</td>\n      <td>5.889224</td>\n    </tr>\n    <tr>\n      <th>1</th>\n      <td>397</td>\n      <td>271.061066</td>\n      <td>1</td>\n      <td>0.406893</td>\n      <td>2137.0</td>\n      <td>1.208467</td>\n      <td>126.046478\\t11.440678\\n127.057152\\t26.165256\\n...</td>\n      <td>288</td>\n      <td>107</td>\n      <td>Apigenin</td>\n      <td>...</td>\n      <td>[M+H]+</td>\n      <td>271.0601</td>\n      <td>KZNIFHPLKGYRTM-UHFFFAOYSA-N[M+H]+</td>\n      <td>recalibrateddenoised</td>\n      <td>126.046678\\t11.440678\\n127.057352\\t26.165256\\n...</td>\n      <td>0.000966</td>\n      <td>0.001116</td>\n      <td>126.046678\\t11.440678\\n127.057352\\t26.165256\\n...</td>\n      <td>77.55162</td>\n      <td>67.584750</td>\n    </tr>\n    <tr>\n      <th>2</th>\n      <td>904</td>\n      <td>289.198404</td>\n      <td>1</td>\n      <td>0.186737</td>\n      <td>1163.0</td>\n      <td>2.516600</td>\n      <td>50.014942\\t5.663288\\n51.022358\\t16.923754\\n52....</td>\n      <td>465</td>\n      <td>438</td>\n      <td>2-decyl-3-hydroxypentanedioic acid</td>\n      <td>...</td>\n      <td>[M+H]+</td>\n      <td>289.2010</td>\n      <td>KOLGVIJQEZBWIQ-UHFFFAOYSA-N[M+H]+</td>\n      <td>recalibrateddenoised</td>\n      <td>50.015168\\t5.663288\\n51.022584\\t16.923754\\n52....</td>\n      <td>-0.002596</td>\n      <td>-0.002452</td>\n      <td>50.015168\\t5.663288\\n51.022584\\t16.923754\\n52....</td>\n      <td>99.57359</td>\n      <td>3.746144</td>\n    </tr>\n    <tr>\n      <th>3</th>\n      <td>837</td>\n      <td>311.181980</td>\n      <td>1</td>\n      <td>0.740417</td>\n      <td>16090.0</td>\n      <td>2.289467</td>\n      <td>126.045433\\t2.053669\\n127.055359\\t11.007667\\n1...</td>\n      <td>433</td>\n      <td>402</td>\n      <td>2-decyl-3-hydroxypentanedioic acid</td>\n      <td>...</td>\n      <td>[M+Na]+</td>\n      <td>311.1829</td>\n      <td>KOLGVIJQEZBWIQ-UHFFFAOYSA-N[M+Na]+</td>\n      <td>recalibrateddenoised</td>\n      <td>126.045633\\t2.053669\\n127.055559\\t11.007667\\n1...</td>\n      <td>-0.000920</td>\n      <td>-0.000784</td>\n      <td>126.045633\\t2.053669\\n127.055559\\t11.007667\\n1...</td>\n      <td>96.09716</td>\n      <td>16.757941</td>\n    </tr>\n    <tr>\n      <th>4</th>\n      <td>803</td>\n      <td>303.122302</td>\n      <td>1</td>\n      <td>0.995707</td>\n      <td>645013.0</td>\n      <td>2.237450</td>\n      <td>118.04487\\t1.002273\\n119.05082\\t2.234901\\n131....</td>\n      <td>428</td>\n      <td>373</td>\n      <td>1-(2,4-dihydroxyphenyl)-2-(3,5-dimethoxyphenyl...</td>\n      <td>...</td>\n      <td>[M+H]+</td>\n      <td>303.1227</td>\n      <td>TURHNAJJDDIVGC-UHFFFAOYSA-N[M+H]+</td>\n      <td>recalibrateddenoised</td>\n      <td>118.045073\\t1.002273\\n119.051022\\t2.234901\\n13...</td>\n      <td>-0.000398</td>\n      <td>-0.000259</td>\n      <td>118.045073\\t1.002273\\n119.051022\\t2.234901\\n13...</td>\n      <td>99.43046</td>\n      <td>2.826807</td>\n    </tr>\n  </tbody>\n</table>\n<p>5 rows × 25 columns</p>\n</div>"
     },
     "execution_count": 117,
     "metadata": {},
     "output_type": "execute_result"
    }
   ],
   "source": [
    "data.head()"
   ],
   "metadata": {
    "collapsed": false,
    "pycharm": {
     "name": "#%%\n"
    }
   }
  }
 ],
 "metadata": {
  "kernelspec": {
   "name": "alphapept_env",
   "language": "python",
   "display_name": "alphapept_env"
  },
  "language_info": {
   "codemirror_mode": {
    "name": "ipython",
    "version": 2
   },
   "file_extension": ".py",
   "mimetype": "text/x-python",
   "name": "python",
   "nbconvert_exporter": "python",
   "pygments_lexer": "ipython2",
   "version": "2.7.6"
  }
 },
 "nbformat": 4,
 "nbformat_minor": 0
}