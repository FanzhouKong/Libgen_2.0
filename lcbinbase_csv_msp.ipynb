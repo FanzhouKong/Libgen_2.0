{
 "cells": [
  {
   "cell_type": "code",
   "execution_count": 1,
   "metadata": {
    "collapsed": true,
    "pycharm": {
     "name": "#%%\n"
    }
   },
   "outputs": [
    {
     "name": "stdout",
     "output_type": "stream",
     "text": [
      "Compile the cython code is highly recommended!\n",
      "i am ms2 spectra plotter, and I have been sideloaded successfully\n",
      "I have 2 functions, head to tail plot and ms2 plot\n",
      "I am precursor matching!\n",
      "I am mass recalibration, usage: mass_recalibrate(data)\n",
      "the data column must have columns of mix_label, Average_mz, PRECURSORMZ, msms\n",
      "the msms should in a string format, e.g. mass1\tintensity1\n",
      "mass2\tintensity2\n",
      "....\n",
      "the recalibrated column would be msms_recalibrated\n"
     ]
    }
   ],
   "source": [
    "import subprocess\n",
    "import os\n",
    "import shutil\n",
    "import warnings\n",
    "from tqdm import tqdm\n",
    "warnings.filterwarnings(\"ignore\")\n",
    "from ast import literal_eval\n",
    "import itertools\n",
    "import matplotlib.pyplot as plt\n",
    "import toolsets.spectra_operations as so\n",
    "import seaborn as sns\n",
    "from tqdm import tqdm\n",
    "from operator import itemgetter\n",
    "import time\n",
    "import numpy as np\n",
    "import sys\n",
    "sys.path.append('yuanyue_code')\n",
    "\n",
    "import re\n",
    "import pandas as pd\n",
    "\n",
    "# import spectral_entropy as se\n",
    "\n",
    "import toolsets.denoising_related_functions as de\n",
    "import pandas as pd\n",
    "import toolsets.ms2_spectra_plotter as ms2plotter\n",
    "%load_ext autoreload\n",
    "%autoreload 2\n",
    "import toolsets.mass_to_formula as mtf\n",
    "import toolsets.precursor_matching as pm\n",
    "import toolsets.mass_recalibration as mr\n",
    "# import requests\n",
    "# import numpy as np\n",
    "import sys"
   ]
  },
  {
   "cell_type": "code",
   "execution_count": 2,
   "outputs": [],
   "source": [
    "data = pd.read_csv(\"/Users/fanzhoukong/Documents/GitHub/LC_binbase/bins_shen_hilic_pos_neg.csv\")"
   ],
   "metadata": {
    "collapsed": false,
    "pycharm": {
     "name": "#%%\n"
    }
   }
  },
  {
   "cell_type": "code",
   "execution_count": 3,
   "outputs": [],
   "source": [
    "def export_library_msp(data_dup,output_location):\n",
    "    entry = ''\n",
    "    # i = 0\n",
    "    for index, row in tqdm(data_dup.iterrows(),total=data_dup.shape[0]):\n",
    "\n",
    "        entry = entry + 'Name: ' + 'unknown' +str(index)+ '\\n'\n",
    "        entry = entry + 'Notes: ' + row['version']+ '\\n'\n",
    "        entry = entry + 'Precursor_type: ' + '\\n'\n",
    "        entry = entry +'Spectrum_type: '+'MS2'+ '\\n'\n",
    "        entry = entry + 'PrecursorMZ: ' + str(row['accurate_mass']) + '\\n'\n",
    "        entry = entry + 'PrecursorMZ_alt: '+str(row['pre_cursors_intensity']) + '\\n'\n",
    "        entry = entry +'MS1_intensity: '+str(row['pre_cursors_mass']) + '\\n'\n",
    "        entry = entry + 'Instrument_type: ' + str(row['method'].split('|')[1].strip()) + '\\n'\n",
    "        entry = entry + 'InChIKey: ' + '\\n'\n",
    "        entry = entry + 'Formula: '  + '\\n'\n",
    "        # entry = entry + 'ExactMass: ' + str(row['accurate_mass']) + '\\n'\n",
    "        # if ifcollision_energy:\n",
    "        #     entry = entry + 'Collision_enerty: ' + str(row['Collision_energy']) + '\\n'\n",
    "        entry = entry + 'RETENTIONTIME: ' + str(row['retention_index']) + '\\n'\n",
    "        entry = entry+'Ion_mode: '+row['method'].split('|')[3].strip()[0].capitalize()+ '\\n'\n",
    "        entry = entry +'charge: ' + str({\"P\": 1, \"N\": -1}[row['method'].split('|')[3].strip()[0].capitalize()])+ '\\n'\n",
    "        entry = entry + 'Comment: ' + str(row['method']) + '\\n'\n",
    "        entry = entry + 'Splash: '+ str(row['splash'])+ '\\n'\n",
    "        entry = entry + 'Num peaks: ' + str(so.num_peaks(row['msms_consensus'].replace(' ', '\\n').replace(':', '\\t'))) + '\\n'\n",
    "        entry = entry + row['msms_consensus'].replace(' ', '\\n').replace(':', '\\t')\n",
    "        # entry = entry +str(row['count'])\n",
    "        entry = entry + '\\n'\n",
    "        entry = entry + '\\n'\n",
    "        # break\n",
    "        # i = i+1\n",
    "        # if i ==1000:\n",
    "        #     break\n",
    "    #open text file\n",
    "    text_file = open(output_location, \"w\",encoding='utf-8')\n",
    "\n",
    "    #write string to file\n",
    "    text_file.write(entry)\n",
    "\n",
    "    #close file\n",
    "    text_file.close()"
   ],
   "metadata": {
    "collapsed": false,
    "pycharm": {
     "name": "#%%\n"
    }
   }
  },
  {
   "cell_type": "code",
   "execution_count": 4,
   "outputs": [
    {
     "name": "stderr",
     "output_type": "stream",
     "text": [
      "100%|██████████| 56460/56460 [32:03<00:00, 29.35it/s] \n"
     ]
    }
   ],
   "source": [
    "export_library_msp(data, \"/Users/fanzhoukong/Documents/GitHub/LC_binbase/bins_shen_hilic_pos_neg.msp\")"
   ],
   "metadata": {
    "collapsed": false,
    "pycharm": {
     "name": "#%%\n"
    }
   }
  }
 ],
 "metadata": {
  "kernelspec": {
   "name": "tensorflow",
   "language": "python",
   "display_name": "Python 3.9 (tensorflow)"
  },
  "language_info": {
   "codemirror_mode": {
    "name": "ipython",
    "version": 2
   },
   "file_extension": ".py",
   "mimetype": "text/x-python",
   "name": "python",
   "nbconvert_exporter": "python",
   "pygments_lexer": "ipython2",
   "version": "2.7.6"
  }
 },
 "nbformat": 4,
 "nbformat_minor": 0
}