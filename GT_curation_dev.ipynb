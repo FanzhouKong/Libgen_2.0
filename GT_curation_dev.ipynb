{
 "cells": [
  {
   "cell_type": "code",
   "execution_count": 1,
   "outputs": [],
   "source": [
    "%load_ext autoreload\n",
    "%autoreload 2\n",
    "import time\n",
    "import os\n",
    "import seaborn as sns\n",
    "import numpy as np\n",
    "import pandas as pd\n",
    "import sys\n",
    "\n",
    "from mimas.tools.spectral_file.extract_ms1_feature import process_mzml_file, extract_ms2_spectra, find_features, load_mzml_data\n",
    "import logging\n",
    "from toolsets.spectra_operations import entropy_similarity_default\n",
    "from toolsets.std_list_prep import complete_adducts, complete_formula\n",
    "# from toolsets.API_gets import complete_smiles\n",
    "from toolsets.search import string_search, num_search\n",
    "import toolsets.spectra_operations as so\n",
    "from tqdm import tqdm\n",
    "# from toolsets.features_by_alphapept import find_features_alphapept\n",
    "# std_list_path= \"/Users/fanzhoukong/Documents/GitHub/Libgen_data/GT\"\n",
    "from toolsets.file_io import read_in_alphapept\n",
    "source_dir = \"/Users/fanzhoukong/Documents/GitHub/Libgen_data/GT\"\n",
    "# std_list = pd.read_csv(os.path.join(source_dir, \"enlongated_list.csv\"))\n",
    "# enzyme_list = pd.read_csv(os.path.join(source_dir, \"enzyme_list_cor.csv\"))\n",
    "# feature_dir = os.path.join(source_dir, \"features\")\n",
    "from toolsets.precursor_matching import precursor_matching_alphapept, GT_precursor_matching\n",
    "from toolsets.precursor_matching import GT_precursor_matching"
   ],
   "metadata": {
    "collapsed": false,
    "pycharm": {
     "name": "#%%\n"
    }
   }
  },
  {
   "cell_type": "markdown",
   "source": [
    "# testing for missing files"
   ],
   "metadata": {
    "collapsed": false,
    "pycharm": {
     "name": "#%% md\n"
    }
   }
  },
  {
   "cell_type": "code",
   "execution_count": 2,
   "outputs": [],
   "source": [],
   "metadata": {
    "collapsed": false,
    "pycharm": {
     "name": "#%%\n"
    }
   }
  },
  {
   "cell_type": "code",
   "execution_count": 3,
   "outputs": [
    {
     "name": "stderr",
     "output_type": "stream",
     "text": [
      "100%|██████████| 109/109 [00:19<00:00,  5.55it/s]\n",
      "100%|██████████| 109/109 [00:19<00:00,  5.66it/s]\n",
      "100%|██████████| 109/109 [00:17<00:00,  6.17it/s]\n",
      "100%|██████████| 109/109 [00:16<00:00,  6.56it/s]\n",
      "100%|██████████| 109/109 [00:15<00:00,  7.00it/s]\n",
      "100%|██████████| 109/109 [00:15<00:00,  6.86it/s]\n",
      "100%|██████████| 109/109 [00:15<00:00,  6.96it/s]\n",
      "100%|██████████| 109/109 [00:15<00:00,  6.89it/s]\n",
      "100%|██████████| 109/109 [00:17<00:00,  6.14it/s]\n",
      "100%|██████████| 109/109 [00:15<00:00,  6.81it/s]\n",
      "100%|██████████| 109/109 [00:16<00:00,  6.44it/s]\n",
      "100%|██████████| 109/109 [00:17<00:00,  6.22it/s]\n",
      "100%|██████████| 109/109 [00:00<00:00, 194.34it/s]\n",
      "100%|██████████| 109/109 [00:00<00:00, 140.44it/s]\n",
      "100%|██████████| 109/109 [00:00<00:00, 256.42it/s]\n"
     ]
    }
   ],
   "source": [
    "features_dir = '/Users/fanzhoukong/Documents/GitHub/Libgen_data/GT/features'\n",
    "bad_files = []\n",
    "missing_files = []\n",
    "negative_files = []\n",
    "for mix in (std_list['Mix'].unique()):\n",
    "    for enzyme in tqdm(enzyme_list['List of enzymes'].unique()):\n",
    "        filename =enzyme+\"_\"+\"Mix\"+\"_\"+str(mix)\n",
    "        feature_path = os.path.join(feature_dir, filename+\".csv\")\n",
    "        if os.path.exists(feature_path) ==True:\n",
    "            try:\n",
    "                features = read_in_alphapept(feature_path)\n",
    "                if features['charge'].min()<0:\n",
    "                    negative_files.append(filename)\n",
    "            except:\n",
    "                bad_files.append(filename)\n",
    "                # print(\"the file is bad %s\" %(filename) )\n",
    "        else:\n",
    "            missing_files.append(filename)\n",
    "            # print(\"the file doesnt exist\")\n"
   ],
   "metadata": {
    "collapsed": false,
    "pycharm": {
     "name": "#%%\n"
    }
   }
  },
  {
   "cell_type": "markdown",
   "source": [
    "# test mzml files"
   ],
   "metadata": {
    "collapsed": false,
    "pycharm": {
     "name": "#%% md\n"
    }
   }
  },
  {
   "cell_type": "code",
   "execution_count": 26,
   "outputs": [],
   "source": [
    "# negative_files.to_csv(os.path.join(source_dir, \"negatively_charged_files.csv\"), index= True)"
   ],
   "metadata": {
    "collapsed": false,
    "pycharm": {
     "name": "#%%\n"
    }
   }
  },
  {
   "cell_type": "code",
   "execution_count": 62,
   "outputs": [],
   "source": [
    "from mimas.tools.spectral_file.extract_ms1_feature import load_mzml_data"
   ],
   "metadata": {
    "collapsed": false,
    "pycharm": {
     "name": "#%%\n"
    }
   }
  },
  {
   "cell_type": "code",
   "execution_count": 63,
   "outputs": [],
   "source": [
    "test_mzml = load_mzml_data('/Users/fanzhoukong/Documents/GitHub/Libgen_data/casmi/mzml/A_M3_negPFP_03.mzml')"
   ],
   "metadata": {
    "collapsed": false,
    "pycharm": {
     "name": "#%%\n"
    }
   }
  },
  {
   "cell_type": "code",
   "execution_count": 80,
   "outputs": [
    {
     "data": {
      "text/plain": "dict_keys(['scan_list_ms1', 'rt_list_ms1', 'mass_list_ms1', 'int_list_ms1', 'ms_list_ms1', 'scan_list_ms2', 'rt_list_ms2', 'mass_list_ms2', 'int_list_ms2', 'ms_list_ms2', 'prec_mass_list2', 'mono_mzs2', 'charge2', 'select_windows_ms2', 'indices_ms1'])"
     },
     "execution_count": 80,
     "metadata": {},
     "output_type": "execute_result"
    }
   ],
   "source": [
    "test_mzml.keys()"
   ],
   "metadata": {
    "collapsed": false,
    "pycharm": {
     "name": "#%%\n"
    }
   }
  },
  {
   "cell_type": "code",
   "execution_count": 81,
   "outputs": [
    {
     "data": {
      "text/plain": "4183"
     },
     "execution_count": 81,
     "metadata": {},
     "output_type": "execute_result"
    }
   ],
   "source": [
    "len(test_mzml['ms_list_ms1'])"
   ],
   "metadata": {
    "collapsed": false,
    "pycharm": {
     "name": "#%%\n"
    }
   }
  },
  {
   "cell_type": "code",
   "execution_count": 83,
   "outputs": [
    {
     "data": {
      "text/plain": "1"
     },
     "execution_count": 83,
     "metadata": {},
     "output_type": "execute_result"
    }
   ],
   "source": [
    "test_mzml['ms_list_ms1'][1]"
   ],
   "metadata": {
    "collapsed": false,
    "pycharm": {
     "name": "#%%\n"
    }
   }
  },
  {
   "cell_type": "code",
   "execution_count": 65,
   "outputs": [
    {
     "ename": "ValueError",
     "evalue": "Per-column arrays must each be 1-dimensional",
     "output_type": "error",
     "traceback": [
      "\u001B[0;31m---------------------------------------------------------------------------\u001B[0m",
      "\u001B[0;31mValueError\u001B[0m                                Traceback (most recent call last)",
      "Input \u001B[0;32mIn [65]\u001B[0m, in \u001B[0;36m<cell line: 1>\u001B[0;34m()\u001B[0m\n\u001B[0;32m----> 1\u001B[0m test_mzml_df \u001B[38;5;241m=\u001B[39m \u001B[43mpd\u001B[49m\u001B[38;5;241;43m.\u001B[39;49m\u001B[43mDataFrame\u001B[49m\u001B[38;5;241;43m.\u001B[39;49m\u001B[43mfrom_dict\u001B[49m\u001B[43m(\u001B[49m\u001B[43mtest_mzml\u001B[49m\u001B[43m)\u001B[49m\n",
      "File \u001B[0;32m/opt/homebrew/Caskroom/miniforge/base/envs/alphapept_env/lib/python3.8/site-packages/pandas/core/frame.py:1677\u001B[0m, in \u001B[0;36mDataFrame.from_dict\u001B[0;34m(cls, data, orient, dtype, columns)\u001B[0m\n\u001B[1;32m   1674\u001B[0m     \u001B[38;5;28;01mraise\u001B[39;00m \u001B[38;5;167;01mValueError\u001B[39;00m(\u001B[38;5;124m\"\u001B[39m\u001B[38;5;124monly recognize index or columns for orient\u001B[39m\u001B[38;5;124m\"\u001B[39m)\n\u001B[1;32m   1676\u001B[0m \u001B[38;5;28;01mif\u001B[39;00m orient \u001B[38;5;241m!=\u001B[39m \u001B[38;5;124m\"\u001B[39m\u001B[38;5;124mtight\u001B[39m\u001B[38;5;124m\"\u001B[39m:\n\u001B[0;32m-> 1677\u001B[0m     \u001B[38;5;28;01mreturn\u001B[39;00m \u001B[38;5;28;43mcls\u001B[39;49m\u001B[43m(\u001B[49m\u001B[43mdata\u001B[49m\u001B[43m,\u001B[49m\u001B[43m \u001B[49m\u001B[43mindex\u001B[49m\u001B[38;5;241;43m=\u001B[39;49m\u001B[43mindex\u001B[49m\u001B[43m,\u001B[49m\u001B[43m \u001B[49m\u001B[43mcolumns\u001B[49m\u001B[38;5;241;43m=\u001B[39;49m\u001B[43mcolumns\u001B[49m\u001B[43m,\u001B[49m\u001B[43m \u001B[49m\u001B[43mdtype\u001B[49m\u001B[38;5;241;43m=\u001B[39;49m\u001B[43mdtype\u001B[49m\u001B[43m)\u001B[49m\n\u001B[1;32m   1678\u001B[0m \u001B[38;5;28;01melse\u001B[39;00m:\n\u001B[1;32m   1679\u001B[0m     realdata \u001B[38;5;241m=\u001B[39m data[\u001B[38;5;124m\"\u001B[39m\u001B[38;5;124mdata\u001B[39m\u001B[38;5;124m\"\u001B[39m]\n",
      "File \u001B[0;32m/opt/homebrew/Caskroom/miniforge/base/envs/alphapept_env/lib/python3.8/site-packages/pandas/core/frame.py:636\u001B[0m, in \u001B[0;36mDataFrame.__init__\u001B[0;34m(self, data, index, columns, dtype, copy)\u001B[0m\n\u001B[1;32m    630\u001B[0m     mgr \u001B[38;5;241m=\u001B[39m \u001B[38;5;28mself\u001B[39m\u001B[38;5;241m.\u001B[39m_init_mgr(\n\u001B[1;32m    631\u001B[0m         data, axes\u001B[38;5;241m=\u001B[39m{\u001B[38;5;124m\"\u001B[39m\u001B[38;5;124mindex\u001B[39m\u001B[38;5;124m\"\u001B[39m: index, \u001B[38;5;124m\"\u001B[39m\u001B[38;5;124mcolumns\u001B[39m\u001B[38;5;124m\"\u001B[39m: columns}, dtype\u001B[38;5;241m=\u001B[39mdtype, copy\u001B[38;5;241m=\u001B[39mcopy\n\u001B[1;32m    632\u001B[0m     )\n\u001B[1;32m    634\u001B[0m \u001B[38;5;28;01melif\u001B[39;00m \u001B[38;5;28misinstance\u001B[39m(data, \u001B[38;5;28mdict\u001B[39m):\n\u001B[1;32m    635\u001B[0m     \u001B[38;5;66;03m# GH#38939 de facto copy defaults to False only in non-dict cases\u001B[39;00m\n\u001B[0;32m--> 636\u001B[0m     mgr \u001B[38;5;241m=\u001B[39m \u001B[43mdict_to_mgr\u001B[49m\u001B[43m(\u001B[49m\u001B[43mdata\u001B[49m\u001B[43m,\u001B[49m\u001B[43m \u001B[49m\u001B[43mindex\u001B[49m\u001B[43m,\u001B[49m\u001B[43m \u001B[49m\u001B[43mcolumns\u001B[49m\u001B[43m,\u001B[49m\u001B[43m \u001B[49m\u001B[43mdtype\u001B[49m\u001B[38;5;241;43m=\u001B[39;49m\u001B[43mdtype\u001B[49m\u001B[43m,\u001B[49m\u001B[43m \u001B[49m\u001B[43mcopy\u001B[49m\u001B[38;5;241;43m=\u001B[39;49m\u001B[43mcopy\u001B[49m\u001B[43m,\u001B[49m\u001B[43m \u001B[49m\u001B[43mtyp\u001B[49m\u001B[38;5;241;43m=\u001B[39;49m\u001B[43mmanager\u001B[49m\u001B[43m)\u001B[49m\n\u001B[1;32m    637\u001B[0m \u001B[38;5;28;01melif\u001B[39;00m \u001B[38;5;28misinstance\u001B[39m(data, ma\u001B[38;5;241m.\u001B[39mMaskedArray):\n\u001B[1;32m    638\u001B[0m     \u001B[38;5;28;01mimport\u001B[39;00m \u001B[38;5;21;01mnumpy\u001B[39;00m\u001B[38;5;21;01m.\u001B[39;00m\u001B[38;5;21;01mma\u001B[39;00m\u001B[38;5;21;01m.\u001B[39;00m\u001B[38;5;21;01mmrecords\u001B[39;00m \u001B[38;5;28;01mas\u001B[39;00m \u001B[38;5;21;01mmrecords\u001B[39;00m\n",
      "File \u001B[0;32m/opt/homebrew/Caskroom/miniforge/base/envs/alphapept_env/lib/python3.8/site-packages/pandas/core/internals/construction.py:502\u001B[0m, in \u001B[0;36mdict_to_mgr\u001B[0;34m(data, index, columns, dtype, typ, copy)\u001B[0m\n\u001B[1;32m    494\u001B[0m     arrays \u001B[38;5;241m=\u001B[39m [\n\u001B[1;32m    495\u001B[0m         x\n\u001B[1;32m    496\u001B[0m         \u001B[38;5;28;01mif\u001B[39;00m \u001B[38;5;129;01mnot\u001B[39;00m \u001B[38;5;28mhasattr\u001B[39m(x, \u001B[38;5;124m\"\u001B[39m\u001B[38;5;124mdtype\u001B[39m\u001B[38;5;124m\"\u001B[39m) \u001B[38;5;129;01mor\u001B[39;00m \u001B[38;5;129;01mnot\u001B[39;00m \u001B[38;5;28misinstance\u001B[39m(x\u001B[38;5;241m.\u001B[39mdtype, ExtensionDtype)\n\u001B[1;32m    497\u001B[0m         \u001B[38;5;28;01melse\u001B[39;00m x\u001B[38;5;241m.\u001B[39mcopy()\n\u001B[1;32m    498\u001B[0m         \u001B[38;5;28;01mfor\u001B[39;00m x \u001B[38;5;129;01min\u001B[39;00m arrays\n\u001B[1;32m    499\u001B[0m     ]\n\u001B[1;32m    500\u001B[0m     \u001B[38;5;66;03m# TODO: can we get rid of the dt64tz special case above?\u001B[39;00m\n\u001B[0;32m--> 502\u001B[0m \u001B[38;5;28;01mreturn\u001B[39;00m \u001B[43marrays_to_mgr\u001B[49m\u001B[43m(\u001B[49m\u001B[43marrays\u001B[49m\u001B[43m,\u001B[49m\u001B[43m \u001B[49m\u001B[43mcolumns\u001B[49m\u001B[43m,\u001B[49m\u001B[43m \u001B[49m\u001B[43mindex\u001B[49m\u001B[43m,\u001B[49m\u001B[43m \u001B[49m\u001B[43mdtype\u001B[49m\u001B[38;5;241;43m=\u001B[39;49m\u001B[43mdtype\u001B[49m\u001B[43m,\u001B[49m\u001B[43m \u001B[49m\u001B[43mtyp\u001B[49m\u001B[38;5;241;43m=\u001B[39;49m\u001B[43mtyp\u001B[49m\u001B[43m,\u001B[49m\u001B[43m \u001B[49m\u001B[43mconsolidate\u001B[49m\u001B[38;5;241;43m=\u001B[39;49m\u001B[43mcopy\u001B[49m\u001B[43m)\u001B[49m\n",
      "File \u001B[0;32m/opt/homebrew/Caskroom/miniforge/base/envs/alphapept_env/lib/python3.8/site-packages/pandas/core/internals/construction.py:120\u001B[0m, in \u001B[0;36marrays_to_mgr\u001B[0;34m(arrays, columns, index, dtype, verify_integrity, typ, consolidate)\u001B[0m\n\u001B[1;32m    117\u001B[0m \u001B[38;5;28;01mif\u001B[39;00m verify_integrity:\n\u001B[1;32m    118\u001B[0m     \u001B[38;5;66;03m# figure out the index, if necessary\u001B[39;00m\n\u001B[1;32m    119\u001B[0m     \u001B[38;5;28;01mif\u001B[39;00m index \u001B[38;5;129;01mis\u001B[39;00m \u001B[38;5;28;01mNone\u001B[39;00m:\n\u001B[0;32m--> 120\u001B[0m         index \u001B[38;5;241m=\u001B[39m \u001B[43m_extract_index\u001B[49m\u001B[43m(\u001B[49m\u001B[43marrays\u001B[49m\u001B[43m)\u001B[49m\n\u001B[1;32m    121\u001B[0m     \u001B[38;5;28;01melse\u001B[39;00m:\n\u001B[1;32m    122\u001B[0m         index \u001B[38;5;241m=\u001B[39m ensure_index(index)\n",
      "File \u001B[0;32m/opt/homebrew/Caskroom/miniforge/base/envs/alphapept_env/lib/python3.8/site-packages/pandas/core/internals/construction.py:661\u001B[0m, in \u001B[0;36m_extract_index\u001B[0;34m(data)\u001B[0m\n\u001B[1;32m    659\u001B[0m         raw_lengths\u001B[38;5;241m.\u001B[39mappend(\u001B[38;5;28mlen\u001B[39m(val))\n\u001B[1;32m    660\u001B[0m     \u001B[38;5;28;01melif\u001B[39;00m \u001B[38;5;28misinstance\u001B[39m(val, np\u001B[38;5;241m.\u001B[39mndarray) \u001B[38;5;129;01mand\u001B[39;00m val\u001B[38;5;241m.\u001B[39mndim \u001B[38;5;241m>\u001B[39m \u001B[38;5;241m1\u001B[39m:\n\u001B[0;32m--> 661\u001B[0m         \u001B[38;5;28;01mraise\u001B[39;00m \u001B[38;5;167;01mValueError\u001B[39;00m(\u001B[38;5;124m\"\u001B[39m\u001B[38;5;124mPer-column arrays must each be 1-dimensional\u001B[39m\u001B[38;5;124m\"\u001B[39m)\n\u001B[1;32m    663\u001B[0m \u001B[38;5;28;01mif\u001B[39;00m \u001B[38;5;129;01mnot\u001B[39;00m indexes \u001B[38;5;129;01mand\u001B[39;00m \u001B[38;5;129;01mnot\u001B[39;00m raw_lengths:\n\u001B[1;32m    664\u001B[0m     \u001B[38;5;28;01mraise\u001B[39;00m \u001B[38;5;167;01mValueError\u001B[39;00m(\u001B[38;5;124m\"\u001B[39m\u001B[38;5;124mIf using all scalar values, you must pass an index\u001B[39m\u001B[38;5;124m\"\u001B[39m)\n",
      "\u001B[0;31mValueError\u001B[0m: Per-column arrays must each be 1-dimensional"
     ]
    }
   ],
   "source": [
    "test_mzml_df = pd.DataFrame.from_dict(test_mzml)"
   ],
   "metadata": {
    "collapsed": false,
    "pycharm": {
     "name": "#%%\n"
    }
   }
  },
  {
   "cell_type": "markdown",
   "source": [
    "# GT matching"
   ],
   "metadata": {
    "collapsed": false,
    "pycharm": {
     "name": "#%% md\n"
    }
   }
  },
  {
   "cell_type": "markdown",
   "source": [],
   "metadata": {
    "collapsed": false,
    "pycharm": {
     "name": "#%% md\n"
    }
   }
  },
  {
   "cell_type": "code",
   "execution_count": 3,
   "outputs": [
    {
     "name": "stdout",
     "output_type": "stream",
     "text": [
      "i am in new method\n"
     ]
    },
    {
     "name": "stderr",
     "output_type": "stream",
     "text": [
      "100%|██████████| 15/15 [08:34<00:00, 34.28s/it]\n"
     ]
    }
   ],
   "source": [
    "from toolsets.precursor_matching import GT_precursor_matching\n",
    "matched =GT_precursor_matching(std_list, enzyme_list, feature_dir, adducts=std_list.columns[-4:], step=0.003, ppm = False)"
   ],
   "metadata": {
    "collapsed": false,
    "pycharm": {
     "name": "#%%\n"
    }
   }
  },
  {
   "cell_type": "code",
   "execution_count": 5,
   "outputs": [],
   "source": [
    "matched.to_csv(os.path.join(source_dir, 'matched_updated_202209121.csv'), index= False)"
   ],
   "metadata": {
    "collapsed": false,
    "pycharm": {
     "name": "#%%\n"
    }
   }
  },
  {
   "cell_type": "markdown",
   "source": [
    "# some post processing"
   ],
   "metadata": {
    "collapsed": false,
    "pycharm": {
     "name": "#%% md\n"
    }
   }
  },
  {
   "cell_type": "code",
   "execution_count": 3,
   "outputs": [],
   "source": [
    "matched = pd.read_csv(os.path.join(source_dir, 'matched_updated_202209121.csv'))"
   ],
   "metadata": {
    "collapsed": false,
    "pycharm": {
     "name": "#%%\n"
    }
   }
  },
  {
   "cell_type": "code",
   "execution_count": 17,
   "outputs": [],
   "source": [
    "rt_list = pd.read_csv(os.path.join(source_dir, 'RT_list.csv'))\n",
    "rt_list[\"RT\"] = pd.to_numeric(rt_list[\"RT\"], errors='coerce')\n",
    "\n",
    "rt_list_checked = rt_list.dropna(subset=['RT'])"
   ],
   "metadata": {
    "collapsed": false,
    "pycharm": {
     "name": "#%%\n"
    }
   }
  },
  {
   "cell_type": "code",
   "execution_count": 18,
   "outputs": [
    {
     "data": {
      "text/plain": "0"
     },
     "execution_count": 18,
     "metadata": {},
     "output_type": "execute_result"
    }
   ],
   "source": [
    "rt_list_checked['RT'].isna().sum()"
   ],
   "metadata": {
    "collapsed": false,
    "pycharm": {
     "name": "#%%\n"
    }
   }
  },
  {
   "cell_type": "code",
   "execution_count": 23,
   "outputs": [
    {
     "data": {
      "text/plain": "   scan_number  precursor_mz  charge  ms1_intensity_ratio  \\\n0       3037.0    462.248047     1.0             1.000000   \n1       3096.0    462.248266     1.0             1.000000   \n2       3311.0    462.248285     1.0             1.000000   \n3       3558.0    462.248152     1.0             0.972492   \n4       4262.0    607.274555     1.0             0.774424   \n\n   ms1_precursor_intensity  retention_time  \\\n0                2642259.0        5.930206   \n1                 932831.0        6.047565   \n2                4048701.0        6.472063   \n3                9181763.0        6.957039   \n4                 161785.0        8.343247   \n\n                                               peaks  ms1_index  query_idx  \\\n0  51.6996078\\t0.00643718708\\n52.0238495\\t0.00572...      610.0     2426.0   \n1  56.0496788\\t0.0164161809\\n57.0337524\\t0.136146...      622.0     2473.0   \n2  55.0395012\\t0.0112954155\\n56.0497665\\t0.020464...      665.0     2645.0   \n3  53.0386429\\t0.00317348423\\n55.0431709\\t0.01122...      714.0     2843.0   \n4  53.4098587\\t0.0547753833\\n70.065239\\t0.0801916...      855.0     3406.0   \n\n   reference_Mix                         reference_Substrate Name  \\\n0            1.0            Strophanthidinic Acid Lactone Acetate   \n1            1.0            Strophanthidinic Acid Lactone Acetate   \n2            1.0            Strophanthidinic Acid Lactone Acetate   \n3            1.0            Strophanthidinic Acid Lactone Acetate   \n4            1.0  Strophanthidinic Acid Lactone Acetate_glycoside   \n\n  reference_Formula reference_CAS number           reference_inchikey  \\\n0          C25H32O7              No CAS#  RPIVIODUUUOQDD-UHFFFAOYSA-N   \n1          C25H32O7              No CAS#  RPIVIODUUUOQDD-UHFFFAOYSA-N   \n2          C25H32O7              No CAS#  RPIVIODUUUOQDD-UHFFFAOYSA-N   \n3          C25H32O7              No CAS#  RPIVIODUUUOQDD-UHFFFAOYSA-N   \n4          C25H32O7              No CAS#  RPIVIODUUUOQDD-UHFFFAOYSA-N   \n\n                                    reference_smiles reference_adduct  \\\n0  CC(=O)OC1CCC23C4CCC5(C(CCC5(C4CCC2(C1)O)OC3=O)...         [M+NH4]+   \n1  CC(=O)OC1CCC23C4CCC5(C(CCC5(C4CCC2(C1)O)OC3=O)...         [M+NH4]+   \n2  CC(=O)OC1CCC23C4CCC5(C(CCC5(C4CCC2(C1)O)OC3=O)...         [M+NH4]+   \n3  CC(=O)OC1CCC23C4CCC5(C(CCC5(C4CCC2(C1)O)OC3=O)...         [M+NH4]+   \n4  CC(=O)OC1CCC23C4CCC5(C(CCC5(C4CCC2(C1)O)OC3=O)...           [M+H]+   \n\n   reference_precursor_mz reference_mix_enzyme  \n0                462.2486             E5_Mix_1  \n1                462.2486             E5_Mix_1  \n2                462.2486             E5_Mix_1  \n3                462.2486             E5_Mix_1  \n4                607.2754             E5_Mix_1  ",
      "text/html": "<div>\n<style scoped>\n    .dataframe tbody tr th:only-of-type {\n        vertical-align: middle;\n    }\n\n    .dataframe tbody tr th {\n        vertical-align: top;\n    }\n\n    .dataframe thead th {\n        text-align: right;\n    }\n</style>\n<table border=\"1\" class=\"dataframe\">\n  <thead>\n    <tr style=\"text-align: right;\">\n      <th></th>\n      <th>scan_number</th>\n      <th>precursor_mz</th>\n      <th>charge</th>\n      <th>ms1_intensity_ratio</th>\n      <th>ms1_precursor_intensity</th>\n      <th>retention_time</th>\n      <th>peaks</th>\n      <th>ms1_index</th>\n      <th>query_idx</th>\n      <th>reference_Mix</th>\n      <th>reference_Substrate Name</th>\n      <th>reference_Formula</th>\n      <th>reference_CAS number</th>\n      <th>reference_inchikey</th>\n      <th>reference_smiles</th>\n      <th>reference_adduct</th>\n      <th>reference_precursor_mz</th>\n      <th>reference_mix_enzyme</th>\n    </tr>\n  </thead>\n  <tbody>\n    <tr>\n      <th>0</th>\n      <td>3037.0</td>\n      <td>462.248047</td>\n      <td>1.0</td>\n      <td>1.000000</td>\n      <td>2642259.0</td>\n      <td>5.930206</td>\n      <td>51.6996078\\t0.00643718708\\n52.0238495\\t0.00572...</td>\n      <td>610.0</td>\n      <td>2426.0</td>\n      <td>1.0</td>\n      <td>Strophanthidinic Acid Lactone Acetate</td>\n      <td>C25H32O7</td>\n      <td>No CAS#</td>\n      <td>RPIVIODUUUOQDD-UHFFFAOYSA-N</td>\n      <td>CC(=O)OC1CCC23C4CCC5(C(CCC5(C4CCC2(C1)O)OC3=O)...</td>\n      <td>[M+NH4]+</td>\n      <td>462.2486</td>\n      <td>E5_Mix_1</td>\n    </tr>\n    <tr>\n      <th>1</th>\n      <td>3096.0</td>\n      <td>462.248266</td>\n      <td>1.0</td>\n      <td>1.000000</td>\n      <td>932831.0</td>\n      <td>6.047565</td>\n      <td>56.0496788\\t0.0164161809\\n57.0337524\\t0.136146...</td>\n      <td>622.0</td>\n      <td>2473.0</td>\n      <td>1.0</td>\n      <td>Strophanthidinic Acid Lactone Acetate</td>\n      <td>C25H32O7</td>\n      <td>No CAS#</td>\n      <td>RPIVIODUUUOQDD-UHFFFAOYSA-N</td>\n      <td>CC(=O)OC1CCC23C4CCC5(C(CCC5(C4CCC2(C1)O)OC3=O)...</td>\n      <td>[M+NH4]+</td>\n      <td>462.2486</td>\n      <td>E5_Mix_1</td>\n    </tr>\n    <tr>\n      <th>2</th>\n      <td>3311.0</td>\n      <td>462.248285</td>\n      <td>1.0</td>\n      <td>1.000000</td>\n      <td>4048701.0</td>\n      <td>6.472063</td>\n      <td>55.0395012\\t0.0112954155\\n56.0497665\\t0.020464...</td>\n      <td>665.0</td>\n      <td>2645.0</td>\n      <td>1.0</td>\n      <td>Strophanthidinic Acid Lactone Acetate</td>\n      <td>C25H32O7</td>\n      <td>No CAS#</td>\n      <td>RPIVIODUUUOQDD-UHFFFAOYSA-N</td>\n      <td>CC(=O)OC1CCC23C4CCC5(C(CCC5(C4CCC2(C1)O)OC3=O)...</td>\n      <td>[M+NH4]+</td>\n      <td>462.2486</td>\n      <td>E5_Mix_1</td>\n    </tr>\n    <tr>\n      <th>3</th>\n      <td>3558.0</td>\n      <td>462.248152</td>\n      <td>1.0</td>\n      <td>0.972492</td>\n      <td>9181763.0</td>\n      <td>6.957039</td>\n      <td>53.0386429\\t0.00317348423\\n55.0431709\\t0.01122...</td>\n      <td>714.0</td>\n      <td>2843.0</td>\n      <td>1.0</td>\n      <td>Strophanthidinic Acid Lactone Acetate</td>\n      <td>C25H32O7</td>\n      <td>No CAS#</td>\n      <td>RPIVIODUUUOQDD-UHFFFAOYSA-N</td>\n      <td>CC(=O)OC1CCC23C4CCC5(C(CCC5(C4CCC2(C1)O)OC3=O)...</td>\n      <td>[M+NH4]+</td>\n      <td>462.2486</td>\n      <td>E5_Mix_1</td>\n    </tr>\n    <tr>\n      <th>4</th>\n      <td>4262.0</td>\n      <td>607.274555</td>\n      <td>1.0</td>\n      <td>0.774424</td>\n      <td>161785.0</td>\n      <td>8.343247</td>\n      <td>53.4098587\\t0.0547753833\\n70.065239\\t0.0801916...</td>\n      <td>855.0</td>\n      <td>3406.0</td>\n      <td>1.0</td>\n      <td>Strophanthidinic Acid Lactone Acetate_glycoside</td>\n      <td>C25H32O7</td>\n      <td>No CAS#</td>\n      <td>RPIVIODUUUOQDD-UHFFFAOYSA-N</td>\n      <td>CC(=O)OC1CCC23C4CCC5(C(CCC5(C4CCC2(C1)O)OC3=O)...</td>\n      <td>[M+H]+</td>\n      <td>607.2754</td>\n      <td>E5_Mix_1</td>\n    </tr>\n  </tbody>\n</table>\n</div>"
     },
     "execution_count": 23,
     "metadata": {},
     "output_type": "execute_result"
    }
   ],
   "source": [
    "matched.head()"
   ],
   "metadata": {
    "collapsed": false,
    "pycharm": {
     "name": "#%%\n"
    }
   }
  },
  {
   "cell_type": "code",
   "execution_count": 24,
   "outputs": [
    {
     "data": {
      "text/plain": "    Mix         Substrate Name CAS number selected  \\\n13     1   3-Amino-Beta-Pinene             No CAS#   \n14     1     3-Hydroxytyramine             62-31-7   \n15     1              Lupinine            486-70-4   \n16     1    Methyl Orsellinate           3187-58-4   \n17     1  Dihydrojasmonic Acid          98674-52-3   \n\n   CAS to Inchi (CTS Proxy) for MoNA  \\\n13       ZEKALTOSWFXTCN-UHFFFAOYSA-N   \n14       VYFYYTLLBUKUHU-UHFFFAOYSA-N   \n15       HDVAWXXJVMJBAR-VHSXEESVSA-N   \n16       NCCWCZLEACWJIN-UHFFFAOYSA-N   \n17       PQEYTAGBXNEUQL-UHFFFAOYSA-N   \n\n   For all (CAS or no CAS) Name to Smiles by pubchem    RT  \n13                            CC1(C2CC1C(=C)C(C2)N)C  5.11  \n14                              C1=CC(=C(C=C1CCN)O)O  1.13  \n15                        C1CCN2CCC[C@H]([C@H]2C1)CO  1.70  \n16                         CC1=CC(=CC(=C1C(=O)OC)O)O  7.40  \n17                           CCCCCC1C(CCC1=O)CC(=O)O  8.20  ",
      "text/html": "<div>\n<style scoped>\n    .dataframe tbody tr th:only-of-type {\n        vertical-align: middle;\n    }\n\n    .dataframe tbody tr th {\n        vertical-align: top;\n    }\n\n    .dataframe thead th {\n        text-align: right;\n    }\n</style>\n<table border=\"1\" class=\"dataframe\">\n  <thead>\n    <tr style=\"text-align: right;\">\n      <th></th>\n      <th>Mix</th>\n      <th>Substrate Name</th>\n      <th>CAS number selected</th>\n      <th>CAS to Inchi (CTS Proxy) for MoNA</th>\n      <th>For all (CAS or no CAS) Name to Smiles by pubchem</th>\n      <th>RT</th>\n    </tr>\n  </thead>\n  <tbody>\n    <tr>\n      <th>13</th>\n      <td>1</td>\n      <td>3-Amino-Beta-Pinene</td>\n      <td>No CAS#</td>\n      <td>ZEKALTOSWFXTCN-UHFFFAOYSA-N</td>\n      <td>CC1(C2CC1C(=C)C(C2)N)C</td>\n      <td>5.11</td>\n    </tr>\n    <tr>\n      <th>14</th>\n      <td>1</td>\n      <td>3-Hydroxytyramine</td>\n      <td>62-31-7</td>\n      <td>VYFYYTLLBUKUHU-UHFFFAOYSA-N</td>\n      <td>C1=CC(=C(C=C1CCN)O)O</td>\n      <td>1.13</td>\n    </tr>\n    <tr>\n      <th>15</th>\n      <td>1</td>\n      <td>Lupinine</td>\n      <td>486-70-4</td>\n      <td>HDVAWXXJVMJBAR-VHSXEESVSA-N</td>\n      <td>C1CCN2CCC[C@H]([C@H]2C1)CO</td>\n      <td>1.70</td>\n    </tr>\n    <tr>\n      <th>16</th>\n      <td>1</td>\n      <td>Methyl Orsellinate</td>\n      <td>3187-58-4</td>\n      <td>NCCWCZLEACWJIN-UHFFFAOYSA-N</td>\n      <td>CC1=CC(=CC(=C1C(=O)OC)O)O</td>\n      <td>7.40</td>\n    </tr>\n    <tr>\n      <th>17</th>\n      <td>1</td>\n      <td>Dihydrojasmonic Acid</td>\n      <td>98674-52-3</td>\n      <td>PQEYTAGBXNEUQL-UHFFFAOYSA-N</td>\n      <td>CCCCCC1C(CCC1=O)CC(=O)O</td>\n      <td>8.20</td>\n    </tr>\n  </tbody>\n</table>\n</div>"
     },
     "execution_count": 24,
     "metadata": {},
     "output_type": "execute_result"
    }
   ],
   "source": [
    "rt_list_checked.head()"
   ],
   "metadata": {
    "collapsed": false,
    "pycharm": {
     "name": "#%%\n"
    }
   }
  },
  {
   "cell_type": "code",
   "execution_count": 64,
   "outputs": [
    {
     "name": "stderr",
     "output_type": "stream",
     "text": [
      "100%|██████████| 275623/275623 [23:01<00:00, 199.53it/s]\n"
     ]
    }
   ],
   "source": [
    "RT_matched = pd.DataFrame()\n",
    "RT_unmatched = pd.DataFrame()\n",
    "matched_rt = []\n",
    "unmatched_rt = []\n",
    "for index, row in tqdm(matched.iterrows(), total=len(matched)):\n",
    "    if row['reference_Substrate Name'].endswith('_glycoside')==False:\n",
    "        data_temp = string_search(rt_list_checked, 'Substrate Name', row['reference_Substrate Name'])\n",
    "        if len(data_temp)>0:\n",
    "            rt = data_temp.iloc[0]['RT']\n",
    "            if abs(row['retention_time']-rt)<=20/60:\n",
    "                # matched_rt.append('RT not found in list')\n",
    "                RT_matched=RT_matched.append(row)\n",
    "                matched_rt.append(rt)\n",
    "            else:\n",
    "                RT_unmatched=RT_unmatched.append(row)\n",
    "                unmatched_rt.append(rt)\n",
    "            # data_temp.\n",
    "            # pass\n",
    "        else:\n",
    "            RT_matched=RT_matched.append(row)\n",
    "            matched_rt.append('RT not found in list')\n",
    "    else:\n",
    "        RT_matched=RT_matched.append(row)\n",
    "        matched_rt.append('RT matched for glycosides')\n",
    "\n",
    "\n"
   ],
   "metadata": {
    "collapsed": false,
    "pycharm": {
     "name": "#%%\n"
    }
   }
  },
  {
   "cell_type": "code",
   "execution_count": 76,
   "outputs": [],
   "source": [
    "RT_matched.to_csv(os.path.join(source_dir, 'matched_by_rt.csv'), index = False)"
   ],
   "metadata": {
    "collapsed": false,
    "pycharm": {
     "name": "#%%\n"
    }
   }
  },
  {
   "cell_type": "code",
   "execution_count": 77,
   "outputs": [],
   "source": [
    "RT_unmatched.to_csv(os.path.join(source_dir, 'matched_not_by_rt.csv'), index = False)"
   ],
   "metadata": {
    "collapsed": false,
    "pycharm": {
     "name": "#%%\n"
    }
   }
  },
  {
   "cell_type": "code",
   "execution_count": 74,
   "outputs": [
    {
     "data": {
      "text/plain": "   scan_number  precursor_mz  charge  ms1_intensity_ratio  \\\n0       3037.0    462.248047     1.0             1.000000   \n1       3096.0    462.248266     1.0             1.000000   \n2       3311.0    462.248285     1.0             1.000000   \n3       3558.0    462.248152     1.0             0.972492   \n7       5801.0    235.169187     1.0             0.812239   \n\n   ms1_precursor_intensity  retention_time  \\\n0                2642259.0        5.930206   \n1                 932831.0        6.047565   \n2                4048701.0        6.472063   \n3                9181763.0        6.957039   \n7                3155052.0       11.392168   \n\n                                               peaks  ms1_index  query_idx  \\\n0  51.6996078\\t0.00643718708\\n52.0238495\\t0.00572...      610.0     2426.0   \n1  56.0496788\\t0.0164161809\\n57.0337524\\t0.136146...      622.0     2473.0   \n2  55.0395012\\t0.0112954155\\n56.0497665\\t0.020464...      665.0     2645.0   \n3  53.0386429\\t0.00317348423\\n55.0431709\\t0.01122...      714.0     2843.0   \n7  53.002438\\t0.019678773\\n55.054535\\t0.01263231\\...     1163.0     4637.0   \n\n   reference_Mix               reference_Substrate Name reference_Formula  \\\n0            1.0  Strophanthidinic Acid Lactone Acetate          C25H32O7   \n1            1.0  Strophanthidinic Acid Lactone Acetate          C25H32O7   \n2            1.0  Strophanthidinic Acid Lactone Acetate          C25H32O7   \n3            1.0  Strophanthidinic Acid Lactone Acetate          C25H32O7   \n7            1.0                        Punctaporonin B          C15H24O3   \n\n  reference_CAS number           reference_inchikey  \\\n0              No CAS#  RPIVIODUUUOQDD-UHFFFAOYSA-N   \n1              No CAS#  RPIVIODUUUOQDD-UHFFFAOYSA-N   \n2              No CAS#  RPIVIODUUUOQDD-UHFFFAOYSA-N   \n3              No CAS#  RPIVIODUUUOQDD-UHFFFAOYSA-N   \n7           93697-36-0  FCUGGFFHQXNXJN-MNRPPXDRSA-N   \n\n                                    reference_smiles reference_adduct  \\\n0  CC(=O)OC1CCC23C4CCC5(C(CCC5(C4CCC2(C1)O)OC3=O)...         [M+NH4]+   \n1  CC(=O)OC1CCC23C4CCC5(C(CCC5(C4CCC2(C1)O)OC3=O)...         [M+NH4]+   \n2  CC(=O)OC1CCC23C4CCC5(C(CCC5(C4CCC2(C1)O)OC3=O)...         [M+NH4]+   \n3  CC(=O)OC1CCC23C4CCC5(C(CCC5(C4CCC2(C1)O)OC3=O)...         [M+NH4]+   \n7  C[C@@]\\1(CC[C@@]2([C@H](CC2(C)C)/C(=C\\C=C1)/CO...       [M-H2O+H]+   \n\n   reference_precursor_mz reference_mix_enzyme  refernce_RT  \n0                462.2486             E5_Mix_1         8.69  \n1                462.2486             E5_Mix_1         8.69  \n2                462.2486             E5_Mix_1         8.69  \n3                462.2486             E5_Mix_1         8.69  \n7                235.1693             E5_Mix_1         6.84  ",
      "text/html": "<div>\n<style scoped>\n    .dataframe tbody tr th:only-of-type {\n        vertical-align: middle;\n    }\n\n    .dataframe tbody tr th {\n        vertical-align: top;\n    }\n\n    .dataframe thead th {\n        text-align: right;\n    }\n</style>\n<table border=\"1\" class=\"dataframe\">\n  <thead>\n    <tr style=\"text-align: right;\">\n      <th></th>\n      <th>scan_number</th>\n      <th>precursor_mz</th>\n      <th>charge</th>\n      <th>ms1_intensity_ratio</th>\n      <th>ms1_precursor_intensity</th>\n      <th>retention_time</th>\n      <th>peaks</th>\n      <th>ms1_index</th>\n      <th>query_idx</th>\n      <th>reference_Mix</th>\n      <th>reference_Substrate Name</th>\n      <th>reference_Formula</th>\n      <th>reference_CAS number</th>\n      <th>reference_inchikey</th>\n      <th>reference_smiles</th>\n      <th>reference_adduct</th>\n      <th>reference_precursor_mz</th>\n      <th>reference_mix_enzyme</th>\n      <th>refernce_RT</th>\n    </tr>\n  </thead>\n  <tbody>\n    <tr>\n      <th>0</th>\n      <td>3037.0</td>\n      <td>462.248047</td>\n      <td>1.0</td>\n      <td>1.000000</td>\n      <td>2642259.0</td>\n      <td>5.930206</td>\n      <td>51.6996078\\t0.00643718708\\n52.0238495\\t0.00572...</td>\n      <td>610.0</td>\n      <td>2426.0</td>\n      <td>1.0</td>\n      <td>Strophanthidinic Acid Lactone Acetate</td>\n      <td>C25H32O7</td>\n      <td>No CAS#</td>\n      <td>RPIVIODUUUOQDD-UHFFFAOYSA-N</td>\n      <td>CC(=O)OC1CCC23C4CCC5(C(CCC5(C4CCC2(C1)O)OC3=O)...</td>\n      <td>[M+NH4]+</td>\n      <td>462.2486</td>\n      <td>E5_Mix_1</td>\n      <td>8.69</td>\n    </tr>\n    <tr>\n      <th>1</th>\n      <td>3096.0</td>\n      <td>462.248266</td>\n      <td>1.0</td>\n      <td>1.000000</td>\n      <td>932831.0</td>\n      <td>6.047565</td>\n      <td>56.0496788\\t0.0164161809\\n57.0337524\\t0.136146...</td>\n      <td>622.0</td>\n      <td>2473.0</td>\n      <td>1.0</td>\n      <td>Strophanthidinic Acid Lactone Acetate</td>\n      <td>C25H32O7</td>\n      <td>No CAS#</td>\n      <td>RPIVIODUUUOQDD-UHFFFAOYSA-N</td>\n      <td>CC(=O)OC1CCC23C4CCC5(C(CCC5(C4CCC2(C1)O)OC3=O)...</td>\n      <td>[M+NH4]+</td>\n      <td>462.2486</td>\n      <td>E5_Mix_1</td>\n      <td>8.69</td>\n    </tr>\n    <tr>\n      <th>2</th>\n      <td>3311.0</td>\n      <td>462.248285</td>\n      <td>1.0</td>\n      <td>1.000000</td>\n      <td>4048701.0</td>\n      <td>6.472063</td>\n      <td>55.0395012\\t0.0112954155\\n56.0497665\\t0.020464...</td>\n      <td>665.0</td>\n      <td>2645.0</td>\n      <td>1.0</td>\n      <td>Strophanthidinic Acid Lactone Acetate</td>\n      <td>C25H32O7</td>\n      <td>No CAS#</td>\n      <td>RPIVIODUUUOQDD-UHFFFAOYSA-N</td>\n      <td>CC(=O)OC1CCC23C4CCC5(C(CCC5(C4CCC2(C1)O)OC3=O)...</td>\n      <td>[M+NH4]+</td>\n      <td>462.2486</td>\n      <td>E5_Mix_1</td>\n      <td>8.69</td>\n    </tr>\n    <tr>\n      <th>3</th>\n      <td>3558.0</td>\n      <td>462.248152</td>\n      <td>1.0</td>\n      <td>0.972492</td>\n      <td>9181763.0</td>\n      <td>6.957039</td>\n      <td>53.0386429\\t0.00317348423\\n55.0431709\\t0.01122...</td>\n      <td>714.0</td>\n      <td>2843.0</td>\n      <td>1.0</td>\n      <td>Strophanthidinic Acid Lactone Acetate</td>\n      <td>C25H32O7</td>\n      <td>No CAS#</td>\n      <td>RPIVIODUUUOQDD-UHFFFAOYSA-N</td>\n      <td>CC(=O)OC1CCC23C4CCC5(C(CCC5(C4CCC2(C1)O)OC3=O)...</td>\n      <td>[M+NH4]+</td>\n      <td>462.2486</td>\n      <td>E5_Mix_1</td>\n      <td>8.69</td>\n    </tr>\n    <tr>\n      <th>7</th>\n      <td>5801.0</td>\n      <td>235.169187</td>\n      <td>1.0</td>\n      <td>0.812239</td>\n      <td>3155052.0</td>\n      <td>11.392168</td>\n      <td>53.002438\\t0.019678773\\n55.054535\\t0.01263231\\...</td>\n      <td>1163.0</td>\n      <td>4637.0</td>\n      <td>1.0</td>\n      <td>Punctaporonin B</td>\n      <td>C15H24O3</td>\n      <td>93697-36-0</td>\n      <td>FCUGGFFHQXNXJN-MNRPPXDRSA-N</td>\n      <td>C[C@@]\\1(CC[C@@]2([C@H](CC2(C)C)/C(=C\\C=C1)/CO...</td>\n      <td>[M-H2O+H]+</td>\n      <td>235.1693</td>\n      <td>E5_Mix_1</td>\n      <td>6.84</td>\n    </tr>\n  </tbody>\n</table>\n</div>"
     },
     "execution_count": 74,
     "metadata": {},
     "output_type": "execute_result"
    }
   ],
   "source": [
    "RT_unmatched.head()"
   ],
   "metadata": {
    "collapsed": false,
    "pycharm": {
     "name": "#%%\n"
    }
   }
  },
  {
   "cell_type": "code",
   "execution_count": 16,
   "outputs": [],
   "source": [
    "matched.to_csv(os.path.join(source_dir, \"matched.csv\"), index = False)"
   ],
   "metadata": {
    "collapsed": false,
    "pycharm": {
     "name": "#%%\n"
    }
   }
  },
  {
   "cell_type": "code",
   "execution_count": 11,
   "outputs": [],
   "source": [
    "substrate_list = pd.read_csv(os.path.join(source_dir,\"substrate_list.csv\" ))"
   ],
   "metadata": {
    "collapsed": false,
    "pycharm": {
     "name": "#%%\n"
    }
   }
  },
  {
   "cell_type": "code",
   "execution_count": 12,
   "outputs": [
    {
     "data": {
      "text/plain": "     Mix                         Substrate Name     Formula  CAS number  \\\n0      1  Strophanthidinic Acid Lactone Acetate    C25H32O7     No CAS#   \n1      1                          Glutamine (L)   C5H10N2O3     56-85-9   \n2      1                        Punctaporonin B    C15H24O3  93697-36-0   \n3      1                               Lupinine    C10H19NO    486-70-4   \n4      1                       Glycocholic Acid   C26H43NO6    475-31-0   \n..   ...                                    ...         ...         ...   \n588   15                           Isomaltulose   C12H22O11  13718-94-0   \n589   15                           Deoxyuridine   C9H12N2O5    951-78-0   \n590   15                                Quinine  C20H24N2O2    130-95-0   \n591   15                       Chlorogenic Acid    C16H18O9    327-97-9   \n592   15                      2'-deoxyadenosine  C10H13N5O3  13276-53-4   \n\n                          inchikey  \\\n0      RPIVIODUUUOQDD-UHFFFAOYSA-N   \n1      ZDXPYRJPNDTMRX-VKHMYHEASA-N   \n2      FCUGGFFHQXNXJN-MNRPPXDRSA-N   \n3      HDVAWXXJVMJBAR-VHSXEESVSA-N   \n4      RFDAIACWWDREDC-FRVQLJSFSA-N   \n..                             ...   \n588    PVXPPJIGRGXGCY-TZLCEDOOSA-N   \n589    MXHRCPNRJAMMIM-SHYZEUOFSA-N   \n590   LOUPRKONTZGTKE-WZBLMQSHSA-N    \n591    CWVRJTMFETXNAD-JUHZACGLSA-N   \n592  OLXZPDWKRNYJJZ-FSDSQADBSA-N     \n\n                                                smiles    [M+H]+  [M+NH4]+  \\\n0    CC(=O)OC1CCC23C4CCC5(C(CCC5(C4CCC2(C1)O)OC3=O)...  445.2221  462.2486   \n1                            C(CC(=O)N)[C@@H](C(=O)O)N  147.0764  164.1030   \n2    C[C@@]\\1(CC[C@@]2([C@H](CC2(C)C)/C(=C\\C=C1)/CO...  253.1798  270.2064   \n3                           C1CCN2CCC[C@H]([C@H]2C1)CO  170.1539  187.1805   \n4    C[C@H](CCC(=O)NCC(=O)O)[C@H]1CC[C@@H]2[C@@]1([...  466.3163  483.3429   \n..                                                 ...       ...       ...   \n588  C([C@@H]1[C@H]([C@@H]([C@H]([C@H](O1)OC[C@@H]2...  343.1235  360.1500   \n589         C1[C@@H]([C@H](O[C@H]1N2C=CC(=O)NC2=O)CO)O  229.0819  246.1084   \n590  COC1=CC2=C(C=CN=C2C=C1)[C@H]([C@@H]3C[C@@H]4CC...  325.1911  342.2176   \n591  C1[C@H]([C@H]([C@@H](C[C@@]1(C(=O)O)O)OC(=O)/C...  355.1024  372.1289   \n592     C1[C@H]([C@H](O[C@H]1N2C=NC3=C(N=CN=C32)N)CO)O  252.1091  269.1357   \n\n      [M+Na]+  [M-H2O+H]+  \n0    467.2040    427.2115  \n1    169.0584    129.0659  \n2    275.1618    235.1693  \n3    192.1359    152.1434  \n4    488.2983    448.3057  \n..        ...         ...  \n588  365.1054    325.1129  \n589  251.0638    211.0713  \n590  347.1730    307.1805  \n591  377.0843    337.0918  \n592  274.0911    234.0986  \n\n[593 rows x 10 columns]",
      "text/html": "<div>\n<style scoped>\n    .dataframe tbody tr th:only-of-type {\n        vertical-align: middle;\n    }\n\n    .dataframe tbody tr th {\n        vertical-align: top;\n    }\n\n    .dataframe thead th {\n        text-align: right;\n    }\n</style>\n<table border=\"1\" class=\"dataframe\">\n  <thead>\n    <tr style=\"text-align: right;\">\n      <th></th>\n      <th>Mix</th>\n      <th>Substrate Name</th>\n      <th>Formula</th>\n      <th>CAS number</th>\n      <th>inchikey</th>\n      <th>smiles</th>\n      <th>[M+H]+</th>\n      <th>[M+NH4]+</th>\n      <th>[M+Na]+</th>\n      <th>[M-H2O+H]+</th>\n    </tr>\n  </thead>\n  <tbody>\n    <tr>\n      <th>0</th>\n      <td>1</td>\n      <td>Strophanthidinic Acid Lactone Acetate</td>\n      <td>C25H32O7</td>\n      <td>No CAS#</td>\n      <td>RPIVIODUUUOQDD-UHFFFAOYSA-N</td>\n      <td>CC(=O)OC1CCC23C4CCC5(C(CCC5(C4CCC2(C1)O)OC3=O)...</td>\n      <td>445.2221</td>\n      <td>462.2486</td>\n      <td>467.2040</td>\n      <td>427.2115</td>\n    </tr>\n    <tr>\n      <th>1</th>\n      <td>1</td>\n      <td>Glutamine (L)</td>\n      <td>C5H10N2O3</td>\n      <td>56-85-9</td>\n      <td>ZDXPYRJPNDTMRX-VKHMYHEASA-N</td>\n      <td>C(CC(=O)N)[C@@H](C(=O)O)N</td>\n      <td>147.0764</td>\n      <td>164.1030</td>\n      <td>169.0584</td>\n      <td>129.0659</td>\n    </tr>\n    <tr>\n      <th>2</th>\n      <td>1</td>\n      <td>Punctaporonin B</td>\n      <td>C15H24O3</td>\n      <td>93697-36-0</td>\n      <td>FCUGGFFHQXNXJN-MNRPPXDRSA-N</td>\n      <td>C[C@@]\\1(CC[C@@]2([C@H](CC2(C)C)/C(=C\\C=C1)/CO...</td>\n      <td>253.1798</td>\n      <td>270.2064</td>\n      <td>275.1618</td>\n      <td>235.1693</td>\n    </tr>\n    <tr>\n      <th>3</th>\n      <td>1</td>\n      <td>Lupinine</td>\n      <td>C10H19NO</td>\n      <td>486-70-4</td>\n      <td>HDVAWXXJVMJBAR-VHSXEESVSA-N</td>\n      <td>C1CCN2CCC[C@H]([C@H]2C1)CO</td>\n      <td>170.1539</td>\n      <td>187.1805</td>\n      <td>192.1359</td>\n      <td>152.1434</td>\n    </tr>\n    <tr>\n      <th>4</th>\n      <td>1</td>\n      <td>Glycocholic Acid</td>\n      <td>C26H43NO6</td>\n      <td>475-31-0</td>\n      <td>RFDAIACWWDREDC-FRVQLJSFSA-N</td>\n      <td>C[C@H](CCC(=O)NCC(=O)O)[C@H]1CC[C@@H]2[C@@]1([...</td>\n      <td>466.3163</td>\n      <td>483.3429</td>\n      <td>488.2983</td>\n      <td>448.3057</td>\n    </tr>\n    <tr>\n      <th>...</th>\n      <td>...</td>\n      <td>...</td>\n      <td>...</td>\n      <td>...</td>\n      <td>...</td>\n      <td>...</td>\n      <td>...</td>\n      <td>...</td>\n      <td>...</td>\n      <td>...</td>\n    </tr>\n    <tr>\n      <th>588</th>\n      <td>15</td>\n      <td>Isomaltulose</td>\n      <td>C12H22O11</td>\n      <td>13718-94-0</td>\n      <td>PVXPPJIGRGXGCY-TZLCEDOOSA-N</td>\n      <td>C([C@@H]1[C@H]([C@@H]([C@H]([C@H](O1)OC[C@@H]2...</td>\n      <td>343.1235</td>\n      <td>360.1500</td>\n      <td>365.1054</td>\n      <td>325.1129</td>\n    </tr>\n    <tr>\n      <th>589</th>\n      <td>15</td>\n      <td>Deoxyuridine</td>\n      <td>C9H12N2O5</td>\n      <td>951-78-0</td>\n      <td>MXHRCPNRJAMMIM-SHYZEUOFSA-N</td>\n      <td>C1[C@@H]([C@H](O[C@H]1N2C=CC(=O)NC2=O)CO)O</td>\n      <td>229.0819</td>\n      <td>246.1084</td>\n      <td>251.0638</td>\n      <td>211.0713</td>\n    </tr>\n    <tr>\n      <th>590</th>\n      <td>15</td>\n      <td>Quinine</td>\n      <td>C20H24N2O2</td>\n      <td>130-95-0</td>\n      <td>LOUPRKONTZGTKE-WZBLMQSHSA-N</td>\n      <td>COC1=CC2=C(C=CN=C2C=C1)[C@H]([C@@H]3C[C@@H]4CC...</td>\n      <td>325.1911</td>\n      <td>342.2176</td>\n      <td>347.1730</td>\n      <td>307.1805</td>\n    </tr>\n    <tr>\n      <th>591</th>\n      <td>15</td>\n      <td>Chlorogenic Acid</td>\n      <td>C16H18O9</td>\n      <td>327-97-9</td>\n      <td>CWVRJTMFETXNAD-JUHZACGLSA-N</td>\n      <td>C1[C@H]([C@H]([C@@H](C[C@@]1(C(=O)O)O)OC(=O)/C...</td>\n      <td>355.1024</td>\n      <td>372.1289</td>\n      <td>377.0843</td>\n      <td>337.0918</td>\n    </tr>\n    <tr>\n      <th>592</th>\n      <td>15</td>\n      <td>2'-deoxyadenosine</td>\n      <td>C10H13N5O3</td>\n      <td>13276-53-4</td>\n      <td>OLXZPDWKRNYJJZ-FSDSQADBSA-N</td>\n      <td>C1[C@H]([C@H](O[C@H]1N2C=NC3=C(N=CN=C32)N)CO)O</td>\n      <td>252.1091</td>\n      <td>269.1357</td>\n      <td>274.0911</td>\n      <td>234.0986</td>\n    </tr>\n  </tbody>\n</table>\n<p>593 rows × 10 columns</p>\n</div>"
     },
     "execution_count": 12,
     "metadata": {},
     "output_type": "execute_result"
    }
   ],
   "source": [
    "substrate_list"
   ],
   "metadata": {
    "collapsed": false,
    "pycharm": {
     "name": "#%%\n"
    }
   }
  },
  {
   "cell_type": "code",
   "execution_count": 14,
   "outputs": [],
   "source": [
    "import re\n",
    "def find_files(base, pattern):\n",
    "    '''Return list of files matching pattern in base folder.'''\n",
    "    return [filename for filename in os.listdir(base) if re.search(pattern, filename, re.IGNORECASE)]"
   ],
   "metadata": {
    "collapsed": false,
    "pycharm": {
     "name": "#%%\n"
    }
   }
  },
  {
   "cell_type": "code",
   "execution_count": 17,
   "outputs": [
    {
     "name": "stderr",
     "output_type": "stream",
     "text": [
      "100%|██████████| 15/15 [00:03<00:00,  4.67it/s]\n"
     ]
    }
   ],
   "source": [
    "mix_dir = '/Users/fanzhoukong/Documents/GitHub/Libgen_data/GT/mix_folder'\n",
    "from toolsets.precursor_matching import precursor_matching_alphapept\n",
    "substrate_matched = pd.DataFrame()\n",
    "for mix in tqdm(substrate_list['Mix'].unique()):\n",
    "    # break\n",
    "    try:\n",
    "        feature_filename = find_files(mix_dir, f\"{'Mix_'+str(mix)}.csv\")\n",
    "        features_temp = read_in_alphapept(os.path.join(mix_dir, feature_filename[0]))\n",
    "        substrate_matched_temp = precursor_matching_alphapept(features_temp, std_list, mix_label=mix, adducts= substrate_list.columns[-4:], step=0.003, ppm=False)\n",
    "        substrate_matched = pd.concat([substrate_matched, substrate_matched_temp], axis=0)\n",
    "    except:\n",
    "        print(\"i do not found file for mix %s\" %str(mix))\n",
    "    # print((feature_filename[0]))\n",
    "\n",
    "\n",
    "  # CSH_Mix_2.csv\n"
   ],
   "metadata": {
    "collapsed": false,
    "pycharm": {
     "name": "#%%\n"
    }
   }
  },
  {
   "cell_type": "code",
   "execution_count": 18,
   "outputs": [
    {
     "data": {
      "text/plain": "      scan_number  precursor_mz  charge  ms1_intensity_ratio  \\\n1390         5642    427.211479       1             0.922873   \n677          3501    235.169055       1             0.905345   \n694          3563    235.169182       1             0.651131   \n109           965    170.153793       1             0.964765   \n111          1085    170.153781       1             0.966453   \n...           ...           ...     ...                  ...   \n31           1243    341.108363       1             0.697549   \n28           1194    411.090546       1             0.788332   \n9             236    343.126038       1             0.601625   \n24           1142    414.159893       1             0.979704   \n29           1198    414.159786       1             0.818890   \n\n      ms1_precursor_intensity  retention_time  \\\n1390                1495755.0       11.155714   \n677                11106662.0        6.898704   \n694                 2149314.0        7.019838   \n109               674355712.0        1.887554   \n111               349071584.0        2.123019   \n...                       ...             ...   \n31                   109407.0        7.045587   \n28                   308502.0        6.802072   \n9                    312877.0        1.310034   \n24                  2790103.0        6.539994   \n29                   764925.0        6.815861   \n\n                                                  peaks  ms1_index  query_idx  \\\n1390  53.5735168\\t0.00877639279\\n60.1089172\\t0.00829...       1129       4512   \n677   50.1851387\\t0.00321989087\\n51.0233536\\t0.00314...        701       2799   \n694   50.5072937\\t0.00643686485\\n55.0444412\\t0.03300...        713       2849   \n109   70.065094\\t0.00733170193\\n81.0696945\\t0.007615...        193        770   \n111   67.054291\\t0.0074617863\\n84.080482\\t0.01529860...        217        866   \n...                                                 ...        ...        ...   \n31    59.0662956\\t0.167543039\\n89.3574219\\t0.2353442...       1127        115   \n28    63.259926\\t0.079237752\\n63.94931\\t0.089768991\\...       1089        104   \n9     55.04211\\t0.025685305\\n56.835411\\t0.025831141\\...        208         27   \n24    79.0542603\\t0.0220709741\\n80.0495834\\t0.022314...       1048         93   \n29    65.2527695\\t0.00291796005\\n66.6047668\\t0.00302...       1091        106   \n\n      reference_Mix                                     reference_Name  \\\n1390              1              Strophanthidinic Acid Lactone Acetate   \n677               1                                    Punctaporonin B   \n694               1                                    Punctaporonin B   \n109               1                                           Lupinine   \n111               1                                           Lupinine   \n...             ...                                                ...   \n31               15                                   Lactobionic Acid   \n28               15  7-DESHYDROXYPYROGALLIN-4-CARBOXYLIC ACID_glyco...   \n9                15                                       Isomaltulose   \n24               15                        2'-deoxyadenosine_glycoside   \n29               15                        2'-deoxyadenosine_glycoside   \n\n     reference_Formula             reference_inchikey  \\\n1390          C25H32O7    RPIVIODUUUOQDD-UHFFFAOYSA-N   \n677           C15H24O3    FCUGGFFHQXNXJN-MNRPPXDRSA-N   \n694           C15H24O3    FCUGGFFHQXNXJN-MNRPPXDRSA-N   \n109           C10H19NO    HDVAWXXJVMJBAR-VHSXEESVSA-N   \n111           C10H19NO    HDVAWXXJVMJBAR-VHSXEESVSA-N   \n...                ...                            ...   \n31           C12H22O12    JYTUSYBCFIZPBE-AMTLMPIISA-N   \n28             C12H8O6    XCSLJQFPTAZKDV-UHFFFAOYSA-N   \n9            C12H22O11    PVXPPJIGRGXGCY-TZLCEDOOSA-N   \n24          C10H13N5O3  OLXZPDWKRNYJJZ-FSDSQADBSA-N     \n29          C10H13N5O3  OLXZPDWKRNYJJZ-FSDSQADBSA-N     \n\n                                       reference_smiles reference_adduct  \\\n1390  CC(=O)OC1CCC23C4CCC5(C(CCC5(C4CCC2(C1)O)OC3=O)...       [M-H2O+H]+   \n677   C[C@@]\\1(CC[C@@]2([C@H](CC2(C)C)/C(=C\\C=C1)/CO...       [M-H2O+H]+   \n694   C[C@@]\\1(CC[C@@]2([C@H](CC2(C)C)/C(=C\\C=C1)/CO...       [M-H2O+H]+   \n109                          C1CCN2CCC[C@H]([C@H]2C1)CO           [M+H]+   \n111                          C1CCN2CCC[C@H]([C@H]2C1)CO           [M+H]+   \n...                                                 ...              ...   \n31    C([C@@H]1[C@@H]([C@@H]([C@H]([C@@H](O1)O[C@H](...       [M-H2O+H]+   \n28            C1=CC(=C(C2=C(C(=O)C=C(C=C21)C(=O)O)O)O)O           [M+H]+   \n9     C([C@@H]1[C@H]([C@@H]([C@H]([C@H](O1)OC[C@@H]2...           [M+H]+   \n24       C1[C@H]([C@H](O[C@H]1N2C=NC3=C(N=CN=C32)N)CO)O           [M+H]+   \n29       C1[C@H]([C@H](O[C@H]1N2C=NC3=C(N=CN=C32)N)CO)O           [M+H]+   \n\n      reference_precursor_mz  \n1390                427.2115  \n677                 235.1693  \n694                 235.1693  \n109                 170.1539  \n111                 170.1539  \n...                      ...  \n31                  341.1078  \n28                  411.0927  \n9                   343.1235  \n24                  414.1624  \n29                  414.1624  \n\n[2381 rows x 16 columns]",
      "text/html": "<div>\n<style scoped>\n    .dataframe tbody tr th:only-of-type {\n        vertical-align: middle;\n    }\n\n    .dataframe tbody tr th {\n        vertical-align: top;\n    }\n\n    .dataframe thead th {\n        text-align: right;\n    }\n</style>\n<table border=\"1\" class=\"dataframe\">\n  <thead>\n    <tr style=\"text-align: right;\">\n      <th></th>\n      <th>scan_number</th>\n      <th>precursor_mz</th>\n      <th>charge</th>\n      <th>ms1_intensity_ratio</th>\n      <th>ms1_precursor_intensity</th>\n      <th>retention_time</th>\n      <th>peaks</th>\n      <th>ms1_index</th>\n      <th>query_idx</th>\n      <th>reference_Mix</th>\n      <th>reference_Name</th>\n      <th>reference_Formula</th>\n      <th>reference_inchikey</th>\n      <th>reference_smiles</th>\n      <th>reference_adduct</th>\n      <th>reference_precursor_mz</th>\n    </tr>\n  </thead>\n  <tbody>\n    <tr>\n      <th>1390</th>\n      <td>5642</td>\n      <td>427.211479</td>\n      <td>1</td>\n      <td>0.922873</td>\n      <td>1495755.0</td>\n      <td>11.155714</td>\n      <td>53.5735168\\t0.00877639279\\n60.1089172\\t0.00829...</td>\n      <td>1129</td>\n      <td>4512</td>\n      <td>1</td>\n      <td>Strophanthidinic Acid Lactone Acetate</td>\n      <td>C25H32O7</td>\n      <td>RPIVIODUUUOQDD-UHFFFAOYSA-N</td>\n      <td>CC(=O)OC1CCC23C4CCC5(C(CCC5(C4CCC2(C1)O)OC3=O)...</td>\n      <td>[M-H2O+H]+</td>\n      <td>427.2115</td>\n    </tr>\n    <tr>\n      <th>677</th>\n      <td>3501</td>\n      <td>235.169055</td>\n      <td>1</td>\n      <td>0.905345</td>\n      <td>11106662.0</td>\n      <td>6.898704</td>\n      <td>50.1851387\\t0.00321989087\\n51.0233536\\t0.00314...</td>\n      <td>701</td>\n      <td>2799</td>\n      <td>1</td>\n      <td>Punctaporonin B</td>\n      <td>C15H24O3</td>\n      <td>FCUGGFFHQXNXJN-MNRPPXDRSA-N</td>\n      <td>C[C@@]\\1(CC[C@@]2([C@H](CC2(C)C)/C(=C\\C=C1)/CO...</td>\n      <td>[M-H2O+H]+</td>\n      <td>235.1693</td>\n    </tr>\n    <tr>\n      <th>694</th>\n      <td>3563</td>\n      <td>235.169182</td>\n      <td>1</td>\n      <td>0.651131</td>\n      <td>2149314.0</td>\n      <td>7.019838</td>\n      <td>50.5072937\\t0.00643686485\\n55.0444412\\t0.03300...</td>\n      <td>713</td>\n      <td>2849</td>\n      <td>1</td>\n      <td>Punctaporonin B</td>\n      <td>C15H24O3</td>\n      <td>FCUGGFFHQXNXJN-MNRPPXDRSA-N</td>\n      <td>C[C@@]\\1(CC[C@@]2([C@H](CC2(C)C)/C(=C\\C=C1)/CO...</td>\n      <td>[M-H2O+H]+</td>\n      <td>235.1693</td>\n    </tr>\n    <tr>\n      <th>109</th>\n      <td>965</td>\n      <td>170.153793</td>\n      <td>1</td>\n      <td>0.964765</td>\n      <td>674355712.0</td>\n      <td>1.887554</td>\n      <td>70.065094\\t0.00733170193\\n81.0696945\\t0.007615...</td>\n      <td>193</td>\n      <td>770</td>\n      <td>1</td>\n      <td>Lupinine</td>\n      <td>C10H19NO</td>\n      <td>HDVAWXXJVMJBAR-VHSXEESVSA-N</td>\n      <td>C1CCN2CCC[C@H]([C@H]2C1)CO</td>\n      <td>[M+H]+</td>\n      <td>170.1539</td>\n    </tr>\n    <tr>\n      <th>111</th>\n      <td>1085</td>\n      <td>170.153781</td>\n      <td>1</td>\n      <td>0.966453</td>\n      <td>349071584.0</td>\n      <td>2.123019</td>\n      <td>67.054291\\t0.0074617863\\n84.080482\\t0.01529860...</td>\n      <td>217</td>\n      <td>866</td>\n      <td>1</td>\n      <td>Lupinine</td>\n      <td>C10H19NO</td>\n      <td>HDVAWXXJVMJBAR-VHSXEESVSA-N</td>\n      <td>C1CCN2CCC[C@H]([C@H]2C1)CO</td>\n      <td>[M+H]+</td>\n      <td>170.1539</td>\n    </tr>\n    <tr>\n      <th>...</th>\n      <td>...</td>\n      <td>...</td>\n      <td>...</td>\n      <td>...</td>\n      <td>...</td>\n      <td>...</td>\n      <td>...</td>\n      <td>...</td>\n      <td>...</td>\n      <td>...</td>\n      <td>...</td>\n      <td>...</td>\n      <td>...</td>\n      <td>...</td>\n      <td>...</td>\n      <td>...</td>\n    </tr>\n    <tr>\n      <th>31</th>\n      <td>1243</td>\n      <td>341.108363</td>\n      <td>1</td>\n      <td>0.697549</td>\n      <td>109407.0</td>\n      <td>7.045587</td>\n      <td>59.0662956\\t0.167543039\\n89.3574219\\t0.2353442...</td>\n      <td>1127</td>\n      <td>115</td>\n      <td>15</td>\n      <td>Lactobionic Acid</td>\n      <td>C12H22O12</td>\n      <td>JYTUSYBCFIZPBE-AMTLMPIISA-N</td>\n      <td>C([C@@H]1[C@@H]([C@@H]([C@H]([C@@H](O1)O[C@H](...</td>\n      <td>[M-H2O+H]+</td>\n      <td>341.1078</td>\n    </tr>\n    <tr>\n      <th>28</th>\n      <td>1194</td>\n      <td>411.090546</td>\n      <td>1</td>\n      <td>0.788332</td>\n      <td>308502.0</td>\n      <td>6.802072</td>\n      <td>63.259926\\t0.079237752\\n63.94931\\t0.089768991\\...</td>\n      <td>1089</td>\n      <td>104</td>\n      <td>15</td>\n      <td>7-DESHYDROXYPYROGALLIN-4-CARBOXYLIC ACID_glyco...</td>\n      <td>C12H8O6</td>\n      <td>XCSLJQFPTAZKDV-UHFFFAOYSA-N</td>\n      <td>C1=CC(=C(C2=C(C(=O)C=C(C=C21)C(=O)O)O)O)O</td>\n      <td>[M+H]+</td>\n      <td>411.0927</td>\n    </tr>\n    <tr>\n      <th>9</th>\n      <td>236</td>\n      <td>343.126038</td>\n      <td>1</td>\n      <td>0.601625</td>\n      <td>312877.0</td>\n      <td>1.310034</td>\n      <td>55.04211\\t0.025685305\\n56.835411\\t0.025831141\\...</td>\n      <td>208</td>\n      <td>27</td>\n      <td>15</td>\n      <td>Isomaltulose</td>\n      <td>C12H22O11</td>\n      <td>PVXPPJIGRGXGCY-TZLCEDOOSA-N</td>\n      <td>C([C@@H]1[C@H]([C@@H]([C@H]([C@H](O1)OC[C@@H]2...</td>\n      <td>[M+H]+</td>\n      <td>343.1235</td>\n    </tr>\n    <tr>\n      <th>24</th>\n      <td>1142</td>\n      <td>414.159893</td>\n      <td>1</td>\n      <td>0.979704</td>\n      <td>2790103.0</td>\n      <td>6.539994</td>\n      <td>79.0542603\\t0.0220709741\\n80.0495834\\t0.022314...</td>\n      <td>1048</td>\n      <td>93</td>\n      <td>15</td>\n      <td>2'-deoxyadenosine_glycoside</td>\n      <td>C10H13N5O3</td>\n      <td>OLXZPDWKRNYJJZ-FSDSQADBSA-N</td>\n      <td>C1[C@H]([C@H](O[C@H]1N2C=NC3=C(N=CN=C32)N)CO)O</td>\n      <td>[M+H]+</td>\n      <td>414.1624</td>\n    </tr>\n    <tr>\n      <th>29</th>\n      <td>1198</td>\n      <td>414.159786</td>\n      <td>1</td>\n      <td>0.818890</td>\n      <td>764925.0</td>\n      <td>6.815861</td>\n      <td>65.2527695\\t0.00291796005\\n66.6047668\\t0.00302...</td>\n      <td>1091</td>\n      <td>106</td>\n      <td>15</td>\n      <td>2'-deoxyadenosine_glycoside</td>\n      <td>C10H13N5O3</td>\n      <td>OLXZPDWKRNYJJZ-FSDSQADBSA-N</td>\n      <td>C1[C@H]([C@H](O[C@H]1N2C=NC3=C(N=CN=C32)N)CO)O</td>\n      <td>[M+H]+</td>\n      <td>414.1624</td>\n    </tr>\n  </tbody>\n</table>\n<p>2381 rows × 16 columns</p>\n</div>"
     },
     "execution_count": 18,
     "metadata": {},
     "output_type": "execute_result"
    }
   ],
   "source": [
    "substrate_matched"
   ],
   "metadata": {
    "collapsed": false,
    "pycharm": {
     "name": "#%%\n"
    }
   }
  },
  {
   "cell_type": "code",
   "execution_count": 19,
   "outputs": [],
   "source": [
    "substrate_matched.to_csv(os.path.join(source_dir, 'substrate_matched_20220939.csv'), index = False)"
   ],
   "metadata": {
    "collapsed": false,
    "pycharm": {
     "name": "#%%\n"
    }
   }
  },
  {
   "cell_type": "code",
   "execution_count": 13,
   "outputs": [
    {
     "data": {
      "text/plain": "     Mix         Substrate Name CAS number selected  \\\n13      1   3-Amino-Beta-Pinene             No CAS#   \n14      1     3-Hydroxytyramine             62-31-7   \n15      1              Lupinine            486-70-4   \n16      1    Methyl Orsellinate           3187-58-4   \n17      1  Dihydrojasmonic Acid          98674-52-3   \n..    ...                   ...                 ...   \n589    15          Isomaltulose          13718-94-0   \n590    15          Deoxyuridine            951-78-0   \n591    15               Quinine            130-95-0   \n592    15      Chlorogenic Acid            327-97-9   \n593    15     2'-deoxyadenosine          13276-53-4   \n\n    CAS to Inchi (CTS Proxy) for MoNA  \\\n13        ZEKALTOSWFXTCN-UHFFFAOYSA-N   \n14        VYFYYTLLBUKUHU-UHFFFAOYSA-N   \n15        HDVAWXXJVMJBAR-VHSXEESVSA-N   \n16        NCCWCZLEACWJIN-UHFFFAOYSA-N   \n17        PQEYTAGBXNEUQL-UHFFFAOYSA-N   \n..                                ...   \n589       PVXPPJIGRGXGCY-TZLCEDOOSA-N   \n590       MXHRCPNRJAMMIM-SHYZEUOFSA-N   \n591      LOUPRKONTZGTKE-WZBLMQSHSA-N    \n592       CWVRJTMFETXNAD-JUHZACGLSA-N   \n593     OLXZPDWKRNYJJZ-FSDSQADBSA-N     \n\n     For all (CAS or no CAS) Name to Smiles by pubchem    RT  \n13                              CC1(C2CC1C(=C)C(C2)N)C  5.11  \n14                                C1=CC(=C(C=C1CCN)O)O  1.13  \n15                          C1CCN2CCC[C@H]([C@H]2C1)CO  1.70  \n16                           CC1=CC(=CC(=C1C(=O)OC)O)O  7.40  \n17                             CCCCCC1C(CCC1=O)CC(=O)O  8.20  \n..                                                 ...   ...  \n589  C([C@@H]1[C@H]([C@@H]([C@H]([C@H](O1)OC[C@@H]2...  6.73  \n590         C1[C@@H]([C@H](O[C@H]1N2C=CC(=O)NC2=O)CO)O  1.68  \n591  COC1=CC2=C(C=CN=C2C=C1)[C@H]([C@@H]3C[C@@H]4CC...  2.07  \n592  C1[C@H]([C@H]([C@@H](C[C@@]1(C(=O)O)O)OC(=O)/C...  4.08  \n593     C1[C@H]([C@H](O[C@H]1N2C=NC3=C(N=CN=C32)N)CO)O  2.35  \n\n[473 rows x 6 columns]",
      "text/html": "<div>\n<style scoped>\n    .dataframe tbody tr th:only-of-type {\n        vertical-align: middle;\n    }\n\n    .dataframe tbody tr th {\n        vertical-align: top;\n    }\n\n    .dataframe thead th {\n        text-align: right;\n    }\n</style>\n<table border=\"1\" class=\"dataframe\">\n  <thead>\n    <tr style=\"text-align: right;\">\n      <th></th>\n      <th>Mix</th>\n      <th>Substrate Name</th>\n      <th>CAS number selected</th>\n      <th>CAS to Inchi (CTS Proxy) for MoNA</th>\n      <th>For all (CAS or no CAS) Name to Smiles by pubchem</th>\n      <th>RT</th>\n    </tr>\n  </thead>\n  <tbody>\n    <tr>\n      <th>13</th>\n      <td>1</td>\n      <td>3-Amino-Beta-Pinene</td>\n      <td>No CAS#</td>\n      <td>ZEKALTOSWFXTCN-UHFFFAOYSA-N</td>\n      <td>CC1(C2CC1C(=C)C(C2)N)C</td>\n      <td>5.11</td>\n    </tr>\n    <tr>\n      <th>14</th>\n      <td>1</td>\n      <td>3-Hydroxytyramine</td>\n      <td>62-31-7</td>\n      <td>VYFYYTLLBUKUHU-UHFFFAOYSA-N</td>\n      <td>C1=CC(=C(C=C1CCN)O)O</td>\n      <td>1.13</td>\n    </tr>\n    <tr>\n      <th>15</th>\n      <td>1</td>\n      <td>Lupinine</td>\n      <td>486-70-4</td>\n      <td>HDVAWXXJVMJBAR-VHSXEESVSA-N</td>\n      <td>C1CCN2CCC[C@H]([C@H]2C1)CO</td>\n      <td>1.70</td>\n    </tr>\n    <tr>\n      <th>16</th>\n      <td>1</td>\n      <td>Methyl Orsellinate</td>\n      <td>3187-58-4</td>\n      <td>NCCWCZLEACWJIN-UHFFFAOYSA-N</td>\n      <td>CC1=CC(=CC(=C1C(=O)OC)O)O</td>\n      <td>7.40</td>\n    </tr>\n    <tr>\n      <th>17</th>\n      <td>1</td>\n      <td>Dihydrojasmonic Acid</td>\n      <td>98674-52-3</td>\n      <td>PQEYTAGBXNEUQL-UHFFFAOYSA-N</td>\n      <td>CCCCCC1C(CCC1=O)CC(=O)O</td>\n      <td>8.20</td>\n    </tr>\n    <tr>\n      <th>...</th>\n      <td>...</td>\n      <td>...</td>\n      <td>...</td>\n      <td>...</td>\n      <td>...</td>\n      <td>...</td>\n    </tr>\n    <tr>\n      <th>589</th>\n      <td>15</td>\n      <td>Isomaltulose</td>\n      <td>13718-94-0</td>\n      <td>PVXPPJIGRGXGCY-TZLCEDOOSA-N</td>\n      <td>C([C@@H]1[C@H]([C@@H]([C@H]([C@H](O1)OC[C@@H]2...</td>\n      <td>6.73</td>\n    </tr>\n    <tr>\n      <th>590</th>\n      <td>15</td>\n      <td>Deoxyuridine</td>\n      <td>951-78-0</td>\n      <td>MXHRCPNRJAMMIM-SHYZEUOFSA-N</td>\n      <td>C1[C@@H]([C@H](O[C@H]1N2C=CC(=O)NC2=O)CO)O</td>\n      <td>1.68</td>\n    </tr>\n    <tr>\n      <th>591</th>\n      <td>15</td>\n      <td>Quinine</td>\n      <td>130-95-0</td>\n      <td>LOUPRKONTZGTKE-WZBLMQSHSA-N</td>\n      <td>COC1=CC2=C(C=CN=C2C=C1)[C@H]([C@@H]3C[C@@H]4CC...</td>\n      <td>2.07</td>\n    </tr>\n    <tr>\n      <th>592</th>\n      <td>15</td>\n      <td>Chlorogenic Acid</td>\n      <td>327-97-9</td>\n      <td>CWVRJTMFETXNAD-JUHZACGLSA-N</td>\n      <td>C1[C@H]([C@H]([C@@H](C[C@@]1(C(=O)O)O)OC(=O)/C...</td>\n      <td>4.08</td>\n    </tr>\n    <tr>\n      <th>593</th>\n      <td>15</td>\n      <td>2'-deoxyadenosine</td>\n      <td>13276-53-4</td>\n      <td>OLXZPDWKRNYJJZ-FSDSQADBSA-N</td>\n      <td>C1[C@H]([C@H](O[C@H]1N2C=NC3=C(N=CN=C32)N)CO)O</td>\n      <td>2.35</td>\n    </tr>\n  </tbody>\n</table>\n<p>473 rows × 6 columns</p>\n</div>"
     },
     "execution_count": 13,
     "metadata": {},
     "output_type": "execute_result"
    }
   ],
   "source": [
    "rt_list_checked"
   ],
   "metadata": {
    "collapsed": false,
    "pycharm": {
     "name": "#%%\n"
    }
   }
  },
  {
   "cell_type": "markdown",
   "source": [
    "# RT matching for substrates"
   ],
   "metadata": {
    "collapsed": false,
    "pycharm": {
     "name": "#%% md\n"
    }
   }
  },
  {
   "cell_type": "code",
   "execution_count": 22,
   "outputs": [
    {
     "name": "stderr",
     "output_type": "stream",
     "text": [
      "100%|██████████| 2381/2381 [00:02<00:00, 916.12it/s]\n"
     ]
    }
   ],
   "source": [
    "RT_matched = pd.DataFrame()\n",
    "RT_unmatched = pd.DataFrame()\n",
    "matched_rt = []\n",
    "unmatched_rt = []\n",
    "for index, row in tqdm(substrate_matched.iterrows(), total=len(substrate_matched)):\n",
    "    data_temp = string_search(rt_list_checked, 'Substrate Name', row['reference_Name'])\n",
    "    if len(data_temp)>0:\n",
    "        rt = data_temp.iloc[0]['RT']\n",
    "        if abs(row['retention_time']-rt)<=20/60:\n",
    "            RT_matched=RT_matched.append(row)\n",
    "            matched_rt.append(rt)\n",
    "        else:\n",
    "            RT_unmatched=RT_unmatched.append(row)\n",
    "            unmatched_rt.append(rt)\n",
    "    else:\n",
    "        RT_matched=RT_matched.append(row)\n",
    "        matched_rt.append('RT not found in list')\n"
   ],
   "metadata": {
    "collapsed": false,
    "pycharm": {
     "name": "#%%\n"
    }
   }
  },
  {
   "cell_type": "code",
   "execution_count": 23,
   "outputs": [],
   "source": [
    "RT_matched['reference_RT']=matched_rt\n",
    "RT_unmatched['reference_RT']=unmatched_rt"
   ],
   "metadata": {
    "collapsed": false,
    "pycharm": {
     "name": "#%%\n"
    }
   }
  },
  {
   "cell_type": "code",
   "execution_count": 24,
   "outputs": [
    {
     "data": {
      "text/plain": "      scan_number  precursor_mz  charge  ms1_intensity_ratio  \\\n677          3501    235.169055       1             0.905345   \n694          3563    235.169182       1             0.651131   \n109           965    170.153793       1             0.964765   \n1412         5697    349.234929       1             0.959309   \n870          4070    466.315908       1             0.970606   \n...           ...           ...     ...                  ...   \n17            578    620.217651       1             0.599324   \n31           1243    341.108363       1             0.697549   \n28           1194    411.090546       1             0.788332   \n24           1142    414.159893       1             0.979704   \n29           1198    414.159786       1             0.818890   \n\n      ms1_precursor_intensity  retention_time  \\\n677              1.110666e+07        6.898704   \n694              2.149314e+06        7.019838   \n109              6.743557e+08        1.887554   \n1412             4.613596e+06       11.264991   \n870              1.003590e+09        8.021085   \n...                       ...             ...   \n17               8.373400e+04        3.134361   \n31               1.094070e+05        7.045587   \n28               3.085020e+05        6.802072   \n24               2.790103e+06        6.539994   \n29               7.649250e+05        6.815861   \n\n                                                  peaks  ms1_index  query_idx  \\\n677   50.1851387\\t0.00321989087\\n51.0233536\\t0.00314...        701       2799   \n694   50.5072937\\t0.00643686485\\n55.0444412\\t0.03300...        713       2849   \n109   70.065094\\t0.00733170193\\n81.0696945\\t0.007615...        193        770   \n1412  53.0329475\\t0.106125951\\n69.0699387\\t0.1171013...       1140       4556   \n870   53.0387917\\t0.00252936361\\n55.0492134\\t0.03133...        814       3254   \n...                                                 ...        ...        ...   \n17    57.0701065\\t0.0832991451\\n79.1539307\\t0.051101...        500         77   \n31    59.0662956\\t0.167543039\\n89.3574219\\t0.2353442...       1127        115   \n28    63.259926\\t0.079237752\\n63.94931\\t0.089768991\\...       1089        104   \n24    79.0542603\\t0.0220709741\\n80.0495834\\t0.022314...       1048         93   \n29    65.2527695\\t0.00291796005\\n66.6047668\\t0.00302...       1091        106   \n\n      reference_Mix                                     reference_Name  \\\n677               1                                    Punctaporonin B   \n694               1                                    Punctaporonin B   \n109               1                                           Lupinine   \n1412              1                                 Lupinine_glycoside   \n870               1                                   Glycocholic Acid   \n...             ...                                                ...   \n17               15                                Amygdalin_glycoside   \n31               15                                   Lactobionic Acid   \n28               15  7-DESHYDROXYPYROGALLIN-4-CARBOXYLIC ACID_glyco...   \n24               15                        2'-deoxyadenosine_glycoside   \n29               15                        2'-deoxyadenosine_glycoside   \n\n     reference_Formula             reference_inchikey  \\\n677           C15H24O3    FCUGGFFHQXNXJN-MNRPPXDRSA-N   \n694           C15H24O3    FCUGGFFHQXNXJN-MNRPPXDRSA-N   \n109           C10H19NO    HDVAWXXJVMJBAR-VHSXEESVSA-N   \n1412          C10H19NO    HDVAWXXJVMJBAR-VHSXEESVSA-N   \n870          C26H43NO6    RFDAIACWWDREDC-FRVQLJSFSA-N   \n...                ...                            ...   \n17          C20H27NO11    XUCIJNAGGSZNQT-JHSLDZJXSA-N   \n31           C12H22O12    JYTUSYBCFIZPBE-AMTLMPIISA-N   \n28             C12H8O6    XCSLJQFPTAZKDV-UHFFFAOYSA-N   \n24          C10H13N5O3  OLXZPDWKRNYJJZ-FSDSQADBSA-N     \n29          C10H13N5O3  OLXZPDWKRNYJJZ-FSDSQADBSA-N     \n\n                                       reference_smiles reference_adduct  \\\n677   C[C@@]\\1(CC[C@@]2([C@H](CC2(C)C)/C(=C\\C=C1)/CO...       [M-H2O+H]+   \n694   C[C@@]\\1(CC[C@@]2([C@H](CC2(C)C)/C(=C\\C=C1)/CO...       [M-H2O+H]+   \n109                          C1CCN2CCC[C@H]([C@H]2C1)CO           [M+H]+   \n1412                         C1CCN2CCC[C@H]([C@H]2C1)CO         [M+NH4]+   \n870   C[C@H](CCC(=O)NCC(=O)O)[C@H]1CC[C@@H]2[C@@]1([...           [M+H]+   \n...                                                 ...              ...   \n17    C1=CC=C(C=C1)[C@H](C#N)O[C@H]2[C@@H]([C@H]([C@...           [M+H]+   \n31    C([C@@H]1[C@@H]([C@@H]([C@H]([C@@H](O1)O[C@H](...       [M-H2O+H]+   \n28            C1=CC(=C(C2=C(C(=O)C=C(C=C21)C(=O)O)O)O)O           [M+H]+   \n24       C1[C@H]([C@H](O[C@H]1N2C=NC3=C(N=CN=C32)N)CO)O           [M+H]+   \n29       C1[C@H]([C@H](O[C@H]1N2C=NC3=C(N=CN=C32)N)CO)O           [M+H]+   \n\n      reference_precursor_mz          reference_RT  \n677                 235.1693                  6.84  \n694                 235.1693                  6.84  \n109                 170.1539                   1.7  \n1412                349.2338  RT not found in list  \n870                 466.3163                  8.11  \n...                      ...                   ...  \n17                  620.2190  RT not found in list  \n31                  341.1078  RT not found in list  \n28                  411.0927  RT not found in list  \n24                  414.1624  RT not found in list  \n29                  414.1624  RT not found in list  \n\n[1202 rows x 17 columns]",
      "text/html": "<div>\n<style scoped>\n    .dataframe tbody tr th:only-of-type {\n        vertical-align: middle;\n    }\n\n    .dataframe tbody tr th {\n        vertical-align: top;\n    }\n\n    .dataframe thead th {\n        text-align: right;\n    }\n</style>\n<table border=\"1\" class=\"dataframe\">\n  <thead>\n    <tr style=\"text-align: right;\">\n      <th></th>\n      <th>scan_number</th>\n      <th>precursor_mz</th>\n      <th>charge</th>\n      <th>ms1_intensity_ratio</th>\n      <th>ms1_precursor_intensity</th>\n      <th>retention_time</th>\n      <th>peaks</th>\n      <th>ms1_index</th>\n      <th>query_idx</th>\n      <th>reference_Mix</th>\n      <th>reference_Name</th>\n      <th>reference_Formula</th>\n      <th>reference_inchikey</th>\n      <th>reference_smiles</th>\n      <th>reference_adduct</th>\n      <th>reference_precursor_mz</th>\n      <th>reference_RT</th>\n    </tr>\n  </thead>\n  <tbody>\n    <tr>\n      <th>677</th>\n      <td>3501</td>\n      <td>235.169055</td>\n      <td>1</td>\n      <td>0.905345</td>\n      <td>1.110666e+07</td>\n      <td>6.898704</td>\n      <td>50.1851387\\t0.00321989087\\n51.0233536\\t0.00314...</td>\n      <td>701</td>\n      <td>2799</td>\n      <td>1</td>\n      <td>Punctaporonin B</td>\n      <td>C15H24O3</td>\n      <td>FCUGGFFHQXNXJN-MNRPPXDRSA-N</td>\n      <td>C[C@@]\\1(CC[C@@]2([C@H](CC2(C)C)/C(=C\\C=C1)/CO...</td>\n      <td>[M-H2O+H]+</td>\n      <td>235.1693</td>\n      <td>6.84</td>\n    </tr>\n    <tr>\n      <th>694</th>\n      <td>3563</td>\n      <td>235.169182</td>\n      <td>1</td>\n      <td>0.651131</td>\n      <td>2.149314e+06</td>\n      <td>7.019838</td>\n      <td>50.5072937\\t0.00643686485\\n55.0444412\\t0.03300...</td>\n      <td>713</td>\n      <td>2849</td>\n      <td>1</td>\n      <td>Punctaporonin B</td>\n      <td>C15H24O3</td>\n      <td>FCUGGFFHQXNXJN-MNRPPXDRSA-N</td>\n      <td>C[C@@]\\1(CC[C@@]2([C@H](CC2(C)C)/C(=C\\C=C1)/CO...</td>\n      <td>[M-H2O+H]+</td>\n      <td>235.1693</td>\n      <td>6.84</td>\n    </tr>\n    <tr>\n      <th>109</th>\n      <td>965</td>\n      <td>170.153793</td>\n      <td>1</td>\n      <td>0.964765</td>\n      <td>6.743557e+08</td>\n      <td>1.887554</td>\n      <td>70.065094\\t0.00733170193\\n81.0696945\\t0.007615...</td>\n      <td>193</td>\n      <td>770</td>\n      <td>1</td>\n      <td>Lupinine</td>\n      <td>C10H19NO</td>\n      <td>HDVAWXXJVMJBAR-VHSXEESVSA-N</td>\n      <td>C1CCN2CCC[C@H]([C@H]2C1)CO</td>\n      <td>[M+H]+</td>\n      <td>170.1539</td>\n      <td>1.7</td>\n    </tr>\n    <tr>\n      <th>1412</th>\n      <td>5697</td>\n      <td>349.234929</td>\n      <td>1</td>\n      <td>0.959309</td>\n      <td>4.613596e+06</td>\n      <td>11.264991</td>\n      <td>53.0329475\\t0.106125951\\n69.0699387\\t0.1171013...</td>\n      <td>1140</td>\n      <td>4556</td>\n      <td>1</td>\n      <td>Lupinine_glycoside</td>\n      <td>C10H19NO</td>\n      <td>HDVAWXXJVMJBAR-VHSXEESVSA-N</td>\n      <td>C1CCN2CCC[C@H]([C@H]2C1)CO</td>\n      <td>[M+NH4]+</td>\n      <td>349.2338</td>\n      <td>RT not found in list</td>\n    </tr>\n    <tr>\n      <th>870</th>\n      <td>4070</td>\n      <td>466.315908</td>\n      <td>1</td>\n      <td>0.970606</td>\n      <td>1.003590e+09</td>\n      <td>8.021085</td>\n      <td>53.0387917\\t0.00252936361\\n55.0492134\\t0.03133...</td>\n      <td>814</td>\n      <td>3254</td>\n      <td>1</td>\n      <td>Glycocholic Acid</td>\n      <td>C26H43NO6</td>\n      <td>RFDAIACWWDREDC-FRVQLJSFSA-N</td>\n      <td>C[C@H](CCC(=O)NCC(=O)O)[C@H]1CC[C@@H]2[C@@]1([...</td>\n      <td>[M+H]+</td>\n      <td>466.3163</td>\n      <td>8.11</td>\n    </tr>\n    <tr>\n      <th>...</th>\n      <td>...</td>\n      <td>...</td>\n      <td>...</td>\n      <td>...</td>\n      <td>...</td>\n      <td>...</td>\n      <td>...</td>\n      <td>...</td>\n      <td>...</td>\n      <td>...</td>\n      <td>...</td>\n      <td>...</td>\n      <td>...</td>\n      <td>...</td>\n      <td>...</td>\n      <td>...</td>\n      <td>...</td>\n    </tr>\n    <tr>\n      <th>17</th>\n      <td>578</td>\n      <td>620.217651</td>\n      <td>1</td>\n      <td>0.599324</td>\n      <td>8.373400e+04</td>\n      <td>3.134361</td>\n      <td>57.0701065\\t0.0832991451\\n79.1539307\\t0.051101...</td>\n      <td>500</td>\n      <td>77</td>\n      <td>15</td>\n      <td>Amygdalin_glycoside</td>\n      <td>C20H27NO11</td>\n      <td>XUCIJNAGGSZNQT-JHSLDZJXSA-N</td>\n      <td>C1=CC=C(C=C1)[C@H](C#N)O[C@H]2[C@@H]([C@H]([C@...</td>\n      <td>[M+H]+</td>\n      <td>620.2190</td>\n      <td>RT not found in list</td>\n    </tr>\n    <tr>\n      <th>31</th>\n      <td>1243</td>\n      <td>341.108363</td>\n      <td>1</td>\n      <td>0.697549</td>\n      <td>1.094070e+05</td>\n      <td>7.045587</td>\n      <td>59.0662956\\t0.167543039\\n89.3574219\\t0.2353442...</td>\n      <td>1127</td>\n      <td>115</td>\n      <td>15</td>\n      <td>Lactobionic Acid</td>\n      <td>C12H22O12</td>\n      <td>JYTUSYBCFIZPBE-AMTLMPIISA-N</td>\n      <td>C([C@@H]1[C@@H]([C@@H]([C@H]([C@@H](O1)O[C@H](...</td>\n      <td>[M-H2O+H]+</td>\n      <td>341.1078</td>\n      <td>RT not found in list</td>\n    </tr>\n    <tr>\n      <th>28</th>\n      <td>1194</td>\n      <td>411.090546</td>\n      <td>1</td>\n      <td>0.788332</td>\n      <td>3.085020e+05</td>\n      <td>6.802072</td>\n      <td>63.259926\\t0.079237752\\n63.94931\\t0.089768991\\...</td>\n      <td>1089</td>\n      <td>104</td>\n      <td>15</td>\n      <td>7-DESHYDROXYPYROGALLIN-4-CARBOXYLIC ACID_glyco...</td>\n      <td>C12H8O6</td>\n      <td>XCSLJQFPTAZKDV-UHFFFAOYSA-N</td>\n      <td>C1=CC(=C(C2=C(C(=O)C=C(C=C21)C(=O)O)O)O)O</td>\n      <td>[M+H]+</td>\n      <td>411.0927</td>\n      <td>RT not found in list</td>\n    </tr>\n    <tr>\n      <th>24</th>\n      <td>1142</td>\n      <td>414.159893</td>\n      <td>1</td>\n      <td>0.979704</td>\n      <td>2.790103e+06</td>\n      <td>6.539994</td>\n      <td>79.0542603\\t0.0220709741\\n80.0495834\\t0.022314...</td>\n      <td>1048</td>\n      <td>93</td>\n      <td>15</td>\n      <td>2'-deoxyadenosine_glycoside</td>\n      <td>C10H13N5O3</td>\n      <td>OLXZPDWKRNYJJZ-FSDSQADBSA-N</td>\n      <td>C1[C@H]([C@H](O[C@H]1N2C=NC3=C(N=CN=C32)N)CO)O</td>\n      <td>[M+H]+</td>\n      <td>414.1624</td>\n      <td>RT not found in list</td>\n    </tr>\n    <tr>\n      <th>29</th>\n      <td>1198</td>\n      <td>414.159786</td>\n      <td>1</td>\n      <td>0.818890</td>\n      <td>7.649250e+05</td>\n      <td>6.815861</td>\n      <td>65.2527695\\t0.00291796005\\n66.6047668\\t0.00302...</td>\n      <td>1091</td>\n      <td>106</td>\n      <td>15</td>\n      <td>2'-deoxyadenosine_glycoside</td>\n      <td>C10H13N5O3</td>\n      <td>OLXZPDWKRNYJJZ-FSDSQADBSA-N</td>\n      <td>C1[C@H]([C@H](O[C@H]1N2C=NC3=C(N=CN=C32)N)CO)O</td>\n      <td>[M+H]+</td>\n      <td>414.1624</td>\n      <td>RT not found in list</td>\n    </tr>\n  </tbody>\n</table>\n<p>1202 rows × 17 columns</p>\n</div>"
     },
     "execution_count": 24,
     "metadata": {},
     "output_type": "execute_result"
    }
   ],
   "source": [
    "RT_matched"
   ],
   "metadata": {
    "collapsed": false,
    "pycharm": {
     "name": "#%%\n"
    }
   }
  },
  {
   "cell_type": "code",
   "execution_count": 8,
   "outputs": [],
   "source": [
    "RT_matched.to_csv(os.path.join(source_dir, \"substrate_matched_rt.csv\"), index= False)\n",
    "RT_unmatched.to_csv(os.path.join(source_dir, \"substrate_unmatched_rt.csv\"), index= False)"
   ],
   "metadata": {
    "collapsed": false,
    "pycharm": {
     "name": "#%%\n"
    }
   }
  },
  {
   "cell_type": "code",
   "execution_count": 9,
   "outputs": [
    {
     "data": {
      "text/plain": "   scan_number  precursor_mz  charge  ms1_intensity_ratio  \\\n0       4262.0    607.274555     1.0             0.774424   \n1       4540.0    309.130771     1.0             0.992883   \n2       3506.0    235.169062     1.0             0.985012   \n3       2932.0    415.235046     1.0             0.630249   \n4       4172.0    415.234833     1.0             0.043016   \n\n   ms1_precursor_intensity  retention_time  \\\n0                 161785.0        8.343247   \n1               12260732.0        8.896537   \n2               64803040.0        6.855780   \n3                 196358.0        5.723194   \n4                  82492.0        8.165338   \n\n                                               peaks  ms1_index  query_idx  \\\n0  53.4098587\\t0.0547753833\\n70.065239\\t0.0801916...      855.0     3406.0   \n1  51.104725\\t0.12610184\\n59.190243\\t0.1361344\\n6...      910.0     3628.0   \n2  52.6032257\\t0.00468503637\\n53.0388222\\t0.01121...      704.0     2801.0   \n3  50.799168\\t0.03342418\\n51.667332\\t0.033813868\\...      589.0     2342.0   \n4  52.5774269\\t0.00837360416\\n52.8593597\\t0.00794...      837.0     3334.0   \n\n   reference_Mix                         reference_Substrate Name  \\\n0            1.0  Strophanthidinic Acid Lactone Acetate_glycoside   \n1            1.0                          Glutamine (L)_glycoside   \n2            1.0                                  Punctaporonin B   \n3            1.0                        Punctaporonin B_glycoside   \n4            1.0                        Punctaporonin B_glycoside   \n\n  reference_Formula reference_CAS number           reference_inchikey  \\\n0          C25H32O7              No CAS#  RPIVIODUUUOQDD-UHFFFAOYSA-N   \n1         C5H10N2O3              56-85-9  ZDXPYRJPNDTMRX-VKHMYHEASA-N   \n2          C15H24O3           93697-36-0  FCUGGFFHQXNXJN-MNRPPXDRSA-N   \n3          C15H24O3           93697-36-0  FCUGGFFHQXNXJN-MNRPPXDRSA-N   \n4          C15H24O3           93697-36-0  FCUGGFFHQXNXJN-MNRPPXDRSA-N   \n\n                                    reference_smiles reference_adduct  \\\n0  CC(=O)OC1CCC23C4CCC5(C(CCC5(C4CCC2(C1)O)OC3=O)...           [M+H]+   \n1                          C(CC(=O)N)[C@@H](C(=O)O)N           [M+H]+   \n2  C[C@@]\\1(CC[C@@]2([C@H](CC2(C)C)/C(=C\\C=C1)/CO...       [M-H2O+H]+   \n3  C[C@@]\\1(CC[C@@]2([C@H](CC2(C)C)/C(=C\\C=C1)/CO...           [M+H]+   \n4  C[C@@]\\1(CC[C@@]2([C@H](CC2(C)C)/C(=C\\C=C1)/CO...           [M+H]+   \n\n   reference_precursor_mz reference_mix_enzyme                refernce_RT  \n0                607.2754             E5_Mix_1  RT matched for glycosides  \n1                309.1297             E5_Mix_1  RT matched for glycosides  \n2                235.1693             E5_Mix_1                       6.84  \n3                415.2331             E5_Mix_1  RT matched for glycosides  \n4                415.2331             E5_Mix_1  RT matched for glycosides  ",
      "text/html": "<div>\n<style scoped>\n    .dataframe tbody tr th:only-of-type {\n        vertical-align: middle;\n    }\n\n    .dataframe tbody tr th {\n        vertical-align: top;\n    }\n\n    .dataframe thead th {\n        text-align: right;\n    }\n</style>\n<table border=\"1\" class=\"dataframe\">\n  <thead>\n    <tr style=\"text-align: right;\">\n      <th></th>\n      <th>scan_number</th>\n      <th>precursor_mz</th>\n      <th>charge</th>\n      <th>ms1_intensity_ratio</th>\n      <th>ms1_precursor_intensity</th>\n      <th>retention_time</th>\n      <th>peaks</th>\n      <th>ms1_index</th>\n      <th>query_idx</th>\n      <th>reference_Mix</th>\n      <th>reference_Substrate Name</th>\n      <th>reference_Formula</th>\n      <th>reference_CAS number</th>\n      <th>reference_inchikey</th>\n      <th>reference_smiles</th>\n      <th>reference_adduct</th>\n      <th>reference_precursor_mz</th>\n      <th>reference_mix_enzyme</th>\n      <th>refernce_RT</th>\n    </tr>\n  </thead>\n  <tbody>\n    <tr>\n      <th>0</th>\n      <td>4262.0</td>\n      <td>607.274555</td>\n      <td>1.0</td>\n      <td>0.774424</td>\n      <td>161785.0</td>\n      <td>8.343247</td>\n      <td>53.4098587\\t0.0547753833\\n70.065239\\t0.0801916...</td>\n      <td>855.0</td>\n      <td>3406.0</td>\n      <td>1.0</td>\n      <td>Strophanthidinic Acid Lactone Acetate_glycoside</td>\n      <td>C25H32O7</td>\n      <td>No CAS#</td>\n      <td>RPIVIODUUUOQDD-UHFFFAOYSA-N</td>\n      <td>CC(=O)OC1CCC23C4CCC5(C(CCC5(C4CCC2(C1)O)OC3=O)...</td>\n      <td>[M+H]+</td>\n      <td>607.2754</td>\n      <td>E5_Mix_1</td>\n      <td>RT matched for glycosides</td>\n    </tr>\n    <tr>\n      <th>1</th>\n      <td>4540.0</td>\n      <td>309.130771</td>\n      <td>1.0</td>\n      <td>0.992883</td>\n      <td>12260732.0</td>\n      <td>8.896537</td>\n      <td>51.104725\\t0.12610184\\n59.190243\\t0.1361344\\n6...</td>\n      <td>910.0</td>\n      <td>3628.0</td>\n      <td>1.0</td>\n      <td>Glutamine (L)_glycoside</td>\n      <td>C5H10N2O3</td>\n      <td>56-85-9</td>\n      <td>ZDXPYRJPNDTMRX-VKHMYHEASA-N</td>\n      <td>C(CC(=O)N)[C@@H](C(=O)O)N</td>\n      <td>[M+H]+</td>\n      <td>309.1297</td>\n      <td>E5_Mix_1</td>\n      <td>RT matched for glycosides</td>\n    </tr>\n    <tr>\n      <th>2</th>\n      <td>3506.0</td>\n      <td>235.169062</td>\n      <td>1.0</td>\n      <td>0.985012</td>\n      <td>64803040.0</td>\n      <td>6.855780</td>\n      <td>52.6032257\\t0.00468503637\\n53.0388222\\t0.01121...</td>\n      <td>704.0</td>\n      <td>2801.0</td>\n      <td>1.0</td>\n      <td>Punctaporonin B</td>\n      <td>C15H24O3</td>\n      <td>93697-36-0</td>\n      <td>FCUGGFFHQXNXJN-MNRPPXDRSA-N</td>\n      <td>C[C@@]\\1(CC[C@@]2([C@H](CC2(C)C)/C(=C\\C=C1)/CO...</td>\n      <td>[M-H2O+H]+</td>\n      <td>235.1693</td>\n      <td>E5_Mix_1</td>\n      <td>6.84</td>\n    </tr>\n    <tr>\n      <th>3</th>\n      <td>2932.0</td>\n      <td>415.235046</td>\n      <td>1.0</td>\n      <td>0.630249</td>\n      <td>196358.0</td>\n      <td>5.723194</td>\n      <td>50.799168\\t0.03342418\\n51.667332\\t0.033813868\\...</td>\n      <td>589.0</td>\n      <td>2342.0</td>\n      <td>1.0</td>\n      <td>Punctaporonin B_glycoside</td>\n      <td>C15H24O3</td>\n      <td>93697-36-0</td>\n      <td>FCUGGFFHQXNXJN-MNRPPXDRSA-N</td>\n      <td>C[C@@]\\1(CC[C@@]2([C@H](CC2(C)C)/C(=C\\C=C1)/CO...</td>\n      <td>[M+H]+</td>\n      <td>415.2331</td>\n      <td>E5_Mix_1</td>\n      <td>RT matched for glycosides</td>\n    </tr>\n    <tr>\n      <th>4</th>\n      <td>4172.0</td>\n      <td>415.234833</td>\n      <td>1.0</td>\n      <td>0.043016</td>\n      <td>82492.0</td>\n      <td>8.165338</td>\n      <td>52.5774269\\t0.00837360416\\n52.8593597\\t0.00794...</td>\n      <td>837.0</td>\n      <td>3334.0</td>\n      <td>1.0</td>\n      <td>Punctaporonin B_glycoside</td>\n      <td>C15H24O3</td>\n      <td>93697-36-0</td>\n      <td>FCUGGFFHQXNXJN-MNRPPXDRSA-N</td>\n      <td>C[C@@]\\1(CC[C@@]2([C@H](CC2(C)C)/C(=C\\C=C1)/CO...</td>\n      <td>[M+H]+</td>\n      <td>415.2331</td>\n      <td>E5_Mix_1</td>\n      <td>RT matched for glycosides</td>\n    </tr>\n  </tbody>\n</table>\n</div>"
     },
     "execution_count": 9,
     "metadata": {},
     "output_type": "execute_result"
    }
   ],
   "source": [
    "RT_matched.head()"
   ],
   "metadata": {
    "collapsed": false,
    "pycharm": {
     "name": "#%%\n"
    }
   }
  },
  {
   "cell_type": "code",
   "execution_count": 6,
   "outputs": [],
   "source": [
    "matched = pd.read_csv(os.path.join(source_dir, 'matched_updated_202209121.csv'))\n",
    "RT_matched= pd.read_csv(os.path.join(source_dir, \"matched_by_rt.csv\"))\n",
    "RT_unmatched=pd.read_csv(os.path.join(source_dir, \"matched_not_by_rt.csv\"))"
   ],
   "metadata": {
    "collapsed": false,
    "pycharm": {
     "name": "#%%\n"
    }
   }
  },
  {
   "cell_type": "code",
   "execution_count": 4,
   "outputs": [
    {
     "data": {
      "text/plain": "   Mix                                               Name    Formula  \\\n0    1              Strophanthidinic Acid Lactone Acetate   C25H32O7   \n1    1    Strophanthidinic Acid Lactone Acetate_glycoside   C25H32O7   \n2    1  Strophanthidinic Acid Lactone Acetate_diglycoside   C25H32O7   \n3    1                                      Glutamine (L)  C5H10N2O3   \n4    1                            Glutamine (L)_glycoside  C5H10N2O3   \n\n                      inchikey  \\\n0  RPIVIODUUUOQDD-UHFFFAOYSA-N   \n1  RPIVIODUUUOQDD-UHFFFAOYSA-N   \n2  RPIVIODUUUOQDD-UHFFFAOYSA-N   \n3  ZDXPYRJPNDTMRX-VKHMYHEASA-N   \n4  ZDXPYRJPNDTMRX-VKHMYHEASA-N   \n\n                                              smiles    [M+H]+  [M+NH4]+  \\\n0  CC(=O)OC1CCC23C4CCC5(C(CCC5(C4CCC2(C1)O)OC3=O)...  445.2221  462.2486   \n1  CC(=O)OC1CCC23C4CCC5(C(CCC5(C4CCC2(C1)O)OC3=O)...  607.2754  624.3019   \n2  CC(=O)OC1CCC23C4CCC5(C(CCC5(C4CCC2(C1)O)OC3=O)...  769.3287  786.3552   \n3                          C(CC(=O)N)[C@@H](C(=O)O)N  147.0764  164.1030   \n4                          C(CC(=O)N)[C@@H](C(=O)O)N  309.1297  326.1563   \n\n    [M+Na]+  [M-H2O+H]+  \n0  467.2040    427.2115  \n1  629.2573    589.2648  \n2  791.3106    751.3181  \n3  169.0584    129.0659  \n4  331.1117    291.1192  ",
      "text/html": "<div>\n<style scoped>\n    .dataframe tbody tr th:only-of-type {\n        vertical-align: middle;\n    }\n\n    .dataframe tbody tr th {\n        vertical-align: top;\n    }\n\n    .dataframe thead th {\n        text-align: right;\n    }\n</style>\n<table border=\"1\" class=\"dataframe\">\n  <thead>\n    <tr style=\"text-align: right;\">\n      <th></th>\n      <th>Mix</th>\n      <th>Name</th>\n      <th>Formula</th>\n      <th>inchikey</th>\n      <th>smiles</th>\n      <th>[M+H]+</th>\n      <th>[M+NH4]+</th>\n      <th>[M+Na]+</th>\n      <th>[M-H2O+H]+</th>\n    </tr>\n  </thead>\n  <tbody>\n    <tr>\n      <th>0</th>\n      <td>1</td>\n      <td>Strophanthidinic Acid Lactone Acetate</td>\n      <td>C25H32O7</td>\n      <td>RPIVIODUUUOQDD-UHFFFAOYSA-N</td>\n      <td>CC(=O)OC1CCC23C4CCC5(C(CCC5(C4CCC2(C1)O)OC3=O)...</td>\n      <td>445.2221</td>\n      <td>462.2486</td>\n      <td>467.2040</td>\n      <td>427.2115</td>\n    </tr>\n    <tr>\n      <th>1</th>\n      <td>1</td>\n      <td>Strophanthidinic Acid Lactone Acetate_glycoside</td>\n      <td>C25H32O7</td>\n      <td>RPIVIODUUUOQDD-UHFFFAOYSA-N</td>\n      <td>CC(=O)OC1CCC23C4CCC5(C(CCC5(C4CCC2(C1)O)OC3=O)...</td>\n      <td>607.2754</td>\n      <td>624.3019</td>\n      <td>629.2573</td>\n      <td>589.2648</td>\n    </tr>\n    <tr>\n      <th>2</th>\n      <td>1</td>\n      <td>Strophanthidinic Acid Lactone Acetate_diglycoside</td>\n      <td>C25H32O7</td>\n      <td>RPIVIODUUUOQDD-UHFFFAOYSA-N</td>\n      <td>CC(=O)OC1CCC23C4CCC5(C(CCC5(C4CCC2(C1)O)OC3=O)...</td>\n      <td>769.3287</td>\n      <td>786.3552</td>\n      <td>791.3106</td>\n      <td>751.3181</td>\n    </tr>\n    <tr>\n      <th>3</th>\n      <td>1</td>\n      <td>Glutamine (L)</td>\n      <td>C5H10N2O3</td>\n      <td>ZDXPYRJPNDTMRX-VKHMYHEASA-N</td>\n      <td>C(CC(=O)N)[C@@H](C(=O)O)N</td>\n      <td>147.0764</td>\n      <td>164.1030</td>\n      <td>169.0584</td>\n      <td>129.0659</td>\n    </tr>\n    <tr>\n      <th>4</th>\n      <td>1</td>\n      <td>Glutamine (L)_glycoside</td>\n      <td>C5H10N2O3</td>\n      <td>ZDXPYRJPNDTMRX-VKHMYHEASA-N</td>\n      <td>C(CC(=O)N)[C@@H](C(=O)O)N</td>\n      <td>309.1297</td>\n      <td>326.1563</td>\n      <td>331.1117</td>\n      <td>291.1192</td>\n    </tr>\n  </tbody>\n</table>\n</div>"
     },
     "execution_count": 4,
     "metadata": {},
     "output_type": "execute_result"
    }
   ],
   "source": [
    "std_list.head()"
   ],
   "metadata": {
    "collapsed": false,
    "pycharm": {
     "name": "#%%\n"
    }
   }
  },
  {
   "cell_type": "code",
   "execution_count": 5,
   "outputs": [
    {
     "data": {
      "text/plain": "     Mix        Name   Formula                     inchikey  \\\n873    8  Kaempferol  C15H10O6  IYRMWMYZSQPJKC-UHFFFAOYSA-N   \n\n                                            smiles   [M+H]+  [M+NH4]+  \\\n873  C1=CC(=CC=C1C2=C(C(=O)C3=C(C=C(C=C3O2)O)O)O)O  287.055  304.0816   \n\n     [M+Na]+  [M-H2O+H]+  \n873  309.037    269.0444  ",
      "text/html": "<div>\n<style scoped>\n    .dataframe tbody tr th:only-of-type {\n        vertical-align: middle;\n    }\n\n    .dataframe tbody tr th {\n        vertical-align: top;\n    }\n\n    .dataframe thead th {\n        text-align: right;\n    }\n</style>\n<table border=\"1\" class=\"dataframe\">\n  <thead>\n    <tr style=\"text-align: right;\">\n      <th></th>\n      <th>Mix</th>\n      <th>Name</th>\n      <th>Formula</th>\n      <th>inchikey</th>\n      <th>smiles</th>\n      <th>[M+H]+</th>\n      <th>[M+NH4]+</th>\n      <th>[M+Na]+</th>\n      <th>[M-H2O+H]+</th>\n    </tr>\n  </thead>\n  <tbody>\n    <tr>\n      <th>873</th>\n      <td>8</td>\n      <td>Kaempferol</td>\n      <td>C15H10O6</td>\n      <td>IYRMWMYZSQPJKC-UHFFFAOYSA-N</td>\n      <td>C1=CC(=CC=C1C2=C(C(=O)C3=C(C=C(C=C3O2)O)O)O)O</td>\n      <td>287.055</td>\n      <td>304.0816</td>\n      <td>309.037</td>\n      <td>269.0444</td>\n    </tr>\n  </tbody>\n</table>\n</div>"
     },
     "execution_count": 5,
     "metadata": {},
     "output_type": "execute_result"
    }
   ],
   "source": [
    "string_search(std_list, 'Name','Kaempferol')"
   ],
   "metadata": {
    "collapsed": false,
    "pycharm": {
     "name": "#%%\n"
    }
   }
  },
  {
   "cell_type": "code",
   "execution_count": 6,
   "outputs": [
    {
     "data": {
      "text/plain": "     Mix                    Name   Formula                     inchikey  \\\n873    8              Kaempferol  C15H10O6  IYRMWMYZSQPJKC-UHFFFAOYSA-N   \n874    8    Kaempferol_glycoside  C15H10O6  IYRMWMYZSQPJKC-UHFFFAOYSA-N   \n875    8  Kaempferol_diglycoside  C15H10O6  IYRMWMYZSQPJKC-UHFFFAOYSA-N   \n\n                                            smiles    [M+H]+  [M+NH4]+  \\\n873  C1=CC(=CC=C1C2=C(C(=O)C3=C(C=C(C=C3O2)O)O)O)O  287.0550  304.0816   \n874  C1=CC(=CC=C1C2=C(C(=O)C3=C(C=C(C=C3O2)O)O)O)O  449.1083  466.1349   \n875  C1=CC(=CC=C1C2=C(C(=O)C3=C(C=C(C=C3O2)O)O)O)O  611.1616  628.1882   \n\n      [M+Na]+  [M-H2O+H]+  \n873  309.0370    269.0444  \n874  471.0903    431.0977  \n875  633.1436    593.1510  ",
      "text/html": "<div>\n<style scoped>\n    .dataframe tbody tr th:only-of-type {\n        vertical-align: middle;\n    }\n\n    .dataframe tbody tr th {\n        vertical-align: top;\n    }\n\n    .dataframe thead th {\n        text-align: right;\n    }\n</style>\n<table border=\"1\" class=\"dataframe\">\n  <thead>\n    <tr style=\"text-align: right;\">\n      <th></th>\n      <th>Mix</th>\n      <th>Name</th>\n      <th>Formula</th>\n      <th>inchikey</th>\n      <th>smiles</th>\n      <th>[M+H]+</th>\n      <th>[M+NH4]+</th>\n      <th>[M+Na]+</th>\n      <th>[M-H2O+H]+</th>\n    </tr>\n  </thead>\n  <tbody>\n    <tr>\n      <th>873</th>\n      <td>8</td>\n      <td>Kaempferol</td>\n      <td>C15H10O6</td>\n      <td>IYRMWMYZSQPJKC-UHFFFAOYSA-N</td>\n      <td>C1=CC(=CC=C1C2=C(C(=O)C3=C(C=C(C=C3O2)O)O)O)O</td>\n      <td>287.0550</td>\n      <td>304.0816</td>\n      <td>309.0370</td>\n      <td>269.0444</td>\n    </tr>\n    <tr>\n      <th>874</th>\n      <td>8</td>\n      <td>Kaempferol_glycoside</td>\n      <td>C15H10O6</td>\n      <td>IYRMWMYZSQPJKC-UHFFFAOYSA-N</td>\n      <td>C1=CC(=CC=C1C2=C(C(=O)C3=C(C=C(C=C3O2)O)O)O)O</td>\n      <td>449.1083</td>\n      <td>466.1349</td>\n      <td>471.0903</td>\n      <td>431.0977</td>\n    </tr>\n    <tr>\n      <th>875</th>\n      <td>8</td>\n      <td>Kaempferol_diglycoside</td>\n      <td>C15H10O6</td>\n      <td>IYRMWMYZSQPJKC-UHFFFAOYSA-N</td>\n      <td>C1=CC(=CC=C1C2=C(C(=O)C3=C(C=C(C=C3O2)O)O)O)O</td>\n      <td>611.1616</td>\n      <td>628.1882</td>\n      <td>633.1436</td>\n      <td>593.1510</td>\n    </tr>\n  </tbody>\n</table>\n</div>"
     },
     "execution_count": 6,
     "metadata": {},
     "output_type": "execute_result"
    }
   ],
   "source": [
    "string_search(std_list, 'inchikey','IYRMWMYZSQPJKC-UHFFFAOYSA-N')"
   ],
   "metadata": {
    "collapsed": false,
    "pycharm": {
     "name": "#%%\n"
    }
   }
  },
  {
   "cell_type": "code",
   "execution_count": 7,
   "outputs": [
    {
     "data": {
      "text/plain": "275623"
     },
     "execution_count": 7,
     "metadata": {},
     "output_type": "execute_result"
    }
   ],
   "source": [
    "len(RT_matched)+len(RT_unmatched)"
   ],
   "metadata": {
    "collapsed": false,
    "pycharm": {
     "name": "#%%\n"
    }
   }
  },
  {
   "cell_type": "code",
   "execution_count": 5,
   "outputs": [
    {
     "data": {
      "text/plain": "275623"
     },
     "execution_count": 5,
     "metadata": {},
     "output_type": "execute_result"
    }
   ],
   "source": [
    "len(matched)"
   ],
   "metadata": {
    "collapsed": false,
    "pycharm": {
     "name": "#%%\n"
    }
   }
  },
  {
   "cell_type": "markdown",
   "source": [
    "# matching for NCs"
   ],
   "metadata": {
    "collapsed": false,
    "pycharm": {
     "name": "#%% md\n"
    }
   }
  },
  {
   "cell_type": "code",
   "execution_count": 66,
   "outputs": [],
   "source": [
    "from toolsets.helpers import check_for_missing_compounds"
   ],
   "metadata": {
    "collapsed": false,
    "pycharm": {
     "name": "#%%\n"
    }
   }
  },
  {
   "cell_type": "code",
   "execution_count": 8,
   "outputs": [
    {
     "data": {
      "text/plain": "['HILIC_pos_03282022_Pet28GFP_Mix_15.csv']"
     },
     "execution_count": 8,
     "metadata": {},
     "output_type": "execute_result"
    }
   ],
   "source": [
    "feature_filename"
   ],
   "metadata": {
    "collapsed": false,
    "pycharm": {
     "name": "#%%\n"
    }
   }
  },
  {
   "cell_type": "code",
   "execution_count": 34,
   "outputs": [],
   "source": [
    "substrate_list = pd.read_csv(os.path.join(source_dir, \"substrate_list.csv\"))"
   ],
   "metadata": {
    "collapsed": false,
    "pycharm": {
     "name": "#%%\n"
    }
   }
  },
  {
   "cell_type": "code",
   "execution_count": 39,
   "outputs": [
    {
     "data": {
      "text/plain": "Index(['[M+H]+', '[M+NH4]+', '[M+Na]+', '[M-H2O+H]+'], dtype='object')"
     },
     "execution_count": 39,
     "metadata": {},
     "output_type": "execute_result"
    }
   ],
   "source": [
    "std_list.columns[-4:]"
   ],
   "metadata": {
    "collapsed": false,
    "pycharm": {
     "name": "#%%\n"
    }
   }
  },
  {
   "cell_type": "code",
   "execution_count": 40,
   "outputs": [
    {
     "name": "stderr",
     "output_type": "stream",
     "text": [
      "100%|██████████| 15/15 [00:03<00:00,  4.95it/s]\n"
     ]
    }
   ],
   "source": [
    "nc_dir = '/Users/fanzhoukong/Documents/GitHub/Libgen_data/GT/nc_features'\n",
    "from toolsets.precursor_matching import precursor_matching_alphapept\n",
    "nc_matched = pd.DataFrame()\n",
    "for mix in tqdm(std_list['Mix'].unique()):\n",
    "    # break\n",
    "    try:\n",
    "        feature_filename = find_files(nc_dir, f\"{'Mix_'+str(mix)}.csv\")\n",
    "        # print(len(feature_filename))\n",
    "        # for filename in feature_filename:\n",
    "        #     print(filename)\n",
    "        # print(feature_filename[0])\n",
    "        features_temp = read_in_alphapept(os.path.join(nc_dir, feature_filename[0]))\n",
    "        nc_matched_temp = precursor_matching_alphapept(features_temp, std_list, mix_label=mix, adducts= std_list.columns[-4:], step=0.003, ppm=False)\n",
    "        nc_matched = pd.concat([nc_matched, nc_matched_temp], axis=0)\n",
    "    except:\n",
    "        print(\"i do not found file for mix %s\" %str(mix))\n",
    "    # print((feature_filename[0]))\n",
    "\n",
    "\n",
    "  # CSH_Mix_2.csv"
   ],
   "metadata": {
    "collapsed": false,
    "pycharm": {
     "name": "#%%\n"
    }
   }
  },
  {
   "cell_type": "code",
   "execution_count": 41,
   "outputs": [
    {
     "data": {
      "text/plain": "     scan_number  precursor_mz  charge  ms1_intensity_ratio  \\\n714         2902    309.132446       1             0.754273   \n39           315    235.166414       1             0.976972   \n75           384    235.166308       1             0.949520   \n87           417    235.166351       1             0.708066   \n559         2394    235.170367       1             0.972644   \n..           ...           ...     ...                  ...   \n72          1763    343.122498       1             0.476687   \n5            197    391.137421       1             0.021722   \n63          1551    414.160714       1             1.000000   \n64          1584    414.160649       1             0.861566   \n70          1673    414.161774       1             0.132787   \n\n     ms1_precursor_intensity  retention_time  \\\n714                 229004.0        5.754795   \n39                 5003663.0        0.625264   \n75               184503584.0        0.760591   \n87                54856968.0        0.824673   \n559               33296404.0        4.740038   \n..                       ...             ...   \n72                  220577.0        9.297420   \n5                    57614.0        1.142228   \n63                 2858969.0        8.132979   \n64                  663741.0        8.301914   \n70                  109296.0        8.795334   \n\n                                                 peaks  ms1_index  query_idx  \\\n714  54.4532509\\t0.0782516226\\n60.8560219\\t0.077488...        580       2320   \n39   53.024212\\t0.010527247\\n56.049976\\t0.02042501\\...         63        251   \n75   58.065536\\t0.08439751\\n59.073524\\t0.094898134\\...         77        306   \n87   58.06562\\t0.055201776\\n59.07346\\t0.065020993\\n...         83        332   \n559  53.039066\\t0.011861505\\n55.047352\\t0.024573449...        479       1914   \n..                                                 ...        ...        ...   \n72   66.7437897\\t0.037596602\\n70.0651169\\t0.1083217...       1477        285   \n5    57.070114\\t0.038028698\\n65.038757\\t0.008740983...        183         13   \n63   56.049717\\t0.031137727\\n57.033817\\t0.050027881...       1291        259   \n64   56.049889\\t0.042369954\\n57.033775\\t0.058208793...       1318        265   \n70   56.049881\\t0.013537148\\n56.5870819\\t0.00495347...       1397        275   \n\n     reference_Mix               reference_Name reference_Formula  \\\n714              1      Glutamine (L)_glycoside         C5H10N2O3   \n39               1              Punctaporonin B          C15H24O3   \n75               1              Punctaporonin B          C15H24O3   \n87               1              Punctaporonin B          C15H24O3   \n559              1              Punctaporonin B          C15H24O3   \n..             ...                          ...               ...   \n72              15                 Isomaltulose         C12H22O11   \n5               15       Deoxyuridine_glycoside         C9H12N2O5   \n63              15  2'-deoxyadenosine_glycoside        C10H13N5O3   \n64              15  2'-deoxyadenosine_glycoside        C10H13N5O3   \n70              15  2'-deoxyadenosine_glycoside        C10H13N5O3   \n\n                reference_inchikey  \\\n714    ZDXPYRJPNDTMRX-VKHMYHEASA-N   \n39     FCUGGFFHQXNXJN-MNRPPXDRSA-N   \n75     FCUGGFFHQXNXJN-MNRPPXDRSA-N   \n87     FCUGGFFHQXNXJN-MNRPPXDRSA-N   \n559    FCUGGFFHQXNXJN-MNRPPXDRSA-N   \n..                             ...   \n72     PVXPPJIGRGXGCY-TZLCEDOOSA-N   \n5      MXHRCPNRJAMMIM-SHYZEUOFSA-N   \n63   OLXZPDWKRNYJJZ-FSDSQADBSA-N     \n64   OLXZPDWKRNYJJZ-FSDSQADBSA-N     \n70   OLXZPDWKRNYJJZ-FSDSQADBSA-N     \n\n                                      reference_smiles reference_adduct  \\\n714                          C(CC(=O)N)[C@@H](C(=O)O)N           [M+H]+   \n39   C[C@@]\\1(CC[C@@]2([C@H](CC2(C)C)/C(=C\\C=C1)/CO...       [M-H2O+H]+   \n75   C[C@@]\\1(CC[C@@]2([C@H](CC2(C)C)/C(=C\\C=C1)/CO...       [M-H2O+H]+   \n87   C[C@@]\\1(CC[C@@]2([C@H](CC2(C)C)/C(=C\\C=C1)/CO...       [M-H2O+H]+   \n559  C[C@@]\\1(CC[C@@]2([C@H](CC2(C)C)/C(=C\\C=C1)/CO...       [M-H2O+H]+   \n..                                                 ...              ...   \n72   C([C@@H]1[C@H]([C@@H]([C@H]([C@H](O1)OC[C@@H]2...           [M+H]+   \n5           C1[C@@H]([C@H](O[C@H]1N2C=CC(=O)NC2=O)CO)O           [M+H]+   \n63      C1[C@H]([C@H](O[C@H]1N2C=NC3=C(N=CN=C32)N)CO)O           [M+H]+   \n64      C1[C@H]([C@H](O[C@H]1N2C=NC3=C(N=CN=C32)N)CO)O           [M+H]+   \n70      C1[C@H]([C@H](O[C@H]1N2C=NC3=C(N=CN=C32)N)CO)O           [M+H]+   \n\n     reference_precursor_mz  \n714                309.1297  \n39                 235.1693  \n75                 235.1693  \n87                 235.1693  \n559                235.1693  \n..                      ...  \n72                 343.1235  \n5                  391.1352  \n63                 414.1624  \n64                 414.1624  \n70                 414.1624  \n\n[1593 rows x 16 columns]",
      "text/html": "<div>\n<style scoped>\n    .dataframe tbody tr th:only-of-type {\n        vertical-align: middle;\n    }\n\n    .dataframe tbody tr th {\n        vertical-align: top;\n    }\n\n    .dataframe thead th {\n        text-align: right;\n    }\n</style>\n<table border=\"1\" class=\"dataframe\">\n  <thead>\n    <tr style=\"text-align: right;\">\n      <th></th>\n      <th>scan_number</th>\n      <th>precursor_mz</th>\n      <th>charge</th>\n      <th>ms1_intensity_ratio</th>\n      <th>ms1_precursor_intensity</th>\n      <th>retention_time</th>\n      <th>peaks</th>\n      <th>ms1_index</th>\n      <th>query_idx</th>\n      <th>reference_Mix</th>\n      <th>reference_Name</th>\n      <th>reference_Formula</th>\n      <th>reference_inchikey</th>\n      <th>reference_smiles</th>\n      <th>reference_adduct</th>\n      <th>reference_precursor_mz</th>\n    </tr>\n  </thead>\n  <tbody>\n    <tr>\n      <th>714</th>\n      <td>2902</td>\n      <td>309.132446</td>\n      <td>1</td>\n      <td>0.754273</td>\n      <td>229004.0</td>\n      <td>5.754795</td>\n      <td>54.4532509\\t0.0782516226\\n60.8560219\\t0.077488...</td>\n      <td>580</td>\n      <td>2320</td>\n      <td>1</td>\n      <td>Glutamine (L)_glycoside</td>\n      <td>C5H10N2O3</td>\n      <td>ZDXPYRJPNDTMRX-VKHMYHEASA-N</td>\n      <td>C(CC(=O)N)[C@@H](C(=O)O)N</td>\n      <td>[M+H]+</td>\n      <td>309.1297</td>\n    </tr>\n    <tr>\n      <th>39</th>\n      <td>315</td>\n      <td>235.166414</td>\n      <td>1</td>\n      <td>0.976972</td>\n      <td>5003663.0</td>\n      <td>0.625264</td>\n      <td>53.024212\\t0.010527247\\n56.049976\\t0.02042501\\...</td>\n      <td>63</td>\n      <td>251</td>\n      <td>1</td>\n      <td>Punctaporonin B</td>\n      <td>C15H24O3</td>\n      <td>FCUGGFFHQXNXJN-MNRPPXDRSA-N</td>\n      <td>C[C@@]\\1(CC[C@@]2([C@H](CC2(C)C)/C(=C\\C=C1)/CO...</td>\n      <td>[M-H2O+H]+</td>\n      <td>235.1693</td>\n    </tr>\n    <tr>\n      <th>75</th>\n      <td>384</td>\n      <td>235.166308</td>\n      <td>1</td>\n      <td>0.949520</td>\n      <td>184503584.0</td>\n      <td>0.760591</td>\n      <td>58.065536\\t0.08439751\\n59.073524\\t0.094898134\\...</td>\n      <td>77</td>\n      <td>306</td>\n      <td>1</td>\n      <td>Punctaporonin B</td>\n      <td>C15H24O3</td>\n      <td>FCUGGFFHQXNXJN-MNRPPXDRSA-N</td>\n      <td>C[C@@]\\1(CC[C@@]2([C@H](CC2(C)C)/C(=C\\C=C1)/CO...</td>\n      <td>[M-H2O+H]+</td>\n      <td>235.1693</td>\n    </tr>\n    <tr>\n      <th>87</th>\n      <td>417</td>\n      <td>235.166351</td>\n      <td>1</td>\n      <td>0.708066</td>\n      <td>54856968.0</td>\n      <td>0.824673</td>\n      <td>58.06562\\t0.055201776\\n59.07346\\t0.065020993\\n...</td>\n      <td>83</td>\n      <td>332</td>\n      <td>1</td>\n      <td>Punctaporonin B</td>\n      <td>C15H24O3</td>\n      <td>FCUGGFFHQXNXJN-MNRPPXDRSA-N</td>\n      <td>C[C@@]\\1(CC[C@@]2([C@H](CC2(C)C)/C(=C\\C=C1)/CO...</td>\n      <td>[M-H2O+H]+</td>\n      <td>235.1693</td>\n    </tr>\n    <tr>\n      <th>559</th>\n      <td>2394</td>\n      <td>235.170367</td>\n      <td>1</td>\n      <td>0.972644</td>\n      <td>33296404.0</td>\n      <td>4.740038</td>\n      <td>53.039066\\t0.011861505\\n55.047352\\t0.024573449...</td>\n      <td>479</td>\n      <td>1914</td>\n      <td>1</td>\n      <td>Punctaporonin B</td>\n      <td>C15H24O3</td>\n      <td>FCUGGFFHQXNXJN-MNRPPXDRSA-N</td>\n      <td>C[C@@]\\1(CC[C@@]2([C@H](CC2(C)C)/C(=C\\C=C1)/CO...</td>\n      <td>[M-H2O+H]+</td>\n      <td>235.1693</td>\n    </tr>\n    <tr>\n      <th>...</th>\n      <td>...</td>\n      <td>...</td>\n      <td>...</td>\n      <td>...</td>\n      <td>...</td>\n      <td>...</td>\n      <td>...</td>\n      <td>...</td>\n      <td>...</td>\n      <td>...</td>\n      <td>...</td>\n      <td>...</td>\n      <td>...</td>\n      <td>...</td>\n      <td>...</td>\n      <td>...</td>\n    </tr>\n    <tr>\n      <th>72</th>\n      <td>1763</td>\n      <td>343.122498</td>\n      <td>1</td>\n      <td>0.476687</td>\n      <td>220577.0</td>\n      <td>9.297420</td>\n      <td>66.7437897\\t0.037596602\\n70.0651169\\t0.1083217...</td>\n      <td>1477</td>\n      <td>285</td>\n      <td>15</td>\n      <td>Isomaltulose</td>\n      <td>C12H22O11</td>\n      <td>PVXPPJIGRGXGCY-TZLCEDOOSA-N</td>\n      <td>C([C@@H]1[C@H]([C@@H]([C@H]([C@H](O1)OC[C@@H]2...</td>\n      <td>[M+H]+</td>\n      <td>343.1235</td>\n    </tr>\n    <tr>\n      <th>5</th>\n      <td>197</td>\n      <td>391.137421</td>\n      <td>1</td>\n      <td>0.021722</td>\n      <td>57614.0</td>\n      <td>1.142228</td>\n      <td>57.070114\\t0.038028698\\n65.038757\\t0.008740983...</td>\n      <td>183</td>\n      <td>13</td>\n      <td>15</td>\n      <td>Deoxyuridine_glycoside</td>\n      <td>C9H12N2O5</td>\n      <td>MXHRCPNRJAMMIM-SHYZEUOFSA-N</td>\n      <td>C1[C@@H]([C@H](O[C@H]1N2C=CC(=O)NC2=O)CO)O</td>\n      <td>[M+H]+</td>\n      <td>391.1352</td>\n    </tr>\n    <tr>\n      <th>63</th>\n      <td>1551</td>\n      <td>414.160714</td>\n      <td>1</td>\n      <td>1.000000</td>\n      <td>2858969.0</td>\n      <td>8.132979</td>\n      <td>56.049717\\t0.031137727\\n57.033817\\t0.050027881...</td>\n      <td>1291</td>\n      <td>259</td>\n      <td>15</td>\n      <td>2'-deoxyadenosine_glycoside</td>\n      <td>C10H13N5O3</td>\n      <td>OLXZPDWKRNYJJZ-FSDSQADBSA-N</td>\n      <td>C1[C@H]([C@H](O[C@H]1N2C=NC3=C(N=CN=C32)N)CO)O</td>\n      <td>[M+H]+</td>\n      <td>414.1624</td>\n    </tr>\n    <tr>\n      <th>64</th>\n      <td>1584</td>\n      <td>414.160649</td>\n      <td>1</td>\n      <td>0.861566</td>\n      <td>663741.0</td>\n      <td>8.301914</td>\n      <td>56.049889\\t0.042369954\\n57.033775\\t0.058208793...</td>\n      <td>1318</td>\n      <td>265</td>\n      <td>15</td>\n      <td>2'-deoxyadenosine_glycoside</td>\n      <td>C10H13N5O3</td>\n      <td>OLXZPDWKRNYJJZ-FSDSQADBSA-N</td>\n      <td>C1[C@H]([C@H](O[C@H]1N2C=NC3=C(N=CN=C32)N)CO)O</td>\n      <td>[M+H]+</td>\n      <td>414.1624</td>\n    </tr>\n    <tr>\n      <th>70</th>\n      <td>1673</td>\n      <td>414.161774</td>\n      <td>1</td>\n      <td>0.132787</td>\n      <td>109296.0</td>\n      <td>8.795334</td>\n      <td>56.049881\\t0.013537148\\n56.5870819\\t0.00495347...</td>\n      <td>1397</td>\n      <td>275</td>\n      <td>15</td>\n      <td>2'-deoxyadenosine_glycoside</td>\n      <td>C10H13N5O3</td>\n      <td>OLXZPDWKRNYJJZ-FSDSQADBSA-N</td>\n      <td>C1[C@H]([C@H](O[C@H]1N2C=NC3=C(N=CN=C32)N)CO)O</td>\n      <td>[M+H]+</td>\n      <td>414.1624</td>\n    </tr>\n  </tbody>\n</table>\n<p>1593 rows × 16 columns</p>\n</div>"
     },
     "execution_count": 41,
     "metadata": {},
     "output_type": "execute_result"
    }
   ],
   "source": [
    "nc_matched"
   ],
   "metadata": {
    "collapsed": false,
    "pycharm": {
     "name": "#%%\n"
    }
   }
  },
  {
   "cell_type": "code",
   "execution_count": 42,
   "outputs": [
    {
     "name": "stderr",
     "output_type": "stream",
     "text": [
      "100%|██████████| 1593/1593 [00:01<00:00, 954.05it/s]\n"
     ]
    }
   ],
   "source": [
    "RT_matched = pd.DataFrame()\n",
    "RT_unmatched = pd.DataFrame()\n",
    "matched_rt = []\n",
    "unmatched_rt = []\n",
    "for index, row in tqdm(nc_matched.iterrows(), total=len(nc_matched)):\n",
    "    data_temp = string_search(rt_list_checked, 'Substrate Name', row['reference_Name'])\n",
    "    if len(data_temp)>0:\n",
    "        rt = data_temp.iloc[0]['RT']\n",
    "        if abs(row['retention_time']-rt)<=20/60:\n",
    "            RT_matched=RT_matched.append(row)\n",
    "            matched_rt.append(rt)\n",
    "        else:\n",
    "            RT_unmatched=RT_unmatched.append(row)\n",
    "            unmatched_rt.append(rt)\n",
    "    else:\n",
    "        RT_matched=RT_matched.append(row)\n",
    "        matched_rt.append('RT not found in list')\n",
    "RT_matched['reference_RT']=matched_rt\n",
    "RT_unmatched['reference_RT']=unmatched_rt"
   ],
   "metadata": {
    "collapsed": false,
    "pycharm": {
     "name": "#%%\n"
    }
   }
  },
  {
   "cell_type": "code",
   "execution_count": 51,
   "outputs": [
    {
     "data": {
      "text/plain": "     scan_number  precursor_mz  charge  ms1_intensity_ratio  \\\n714         2902    309.132446       1             0.754273   \n39           315    235.166414       1             0.976972   \n75           384    235.166308       1             0.949520   \n87           417    235.166351       1             0.708066   \n559         2394    235.170367       1             0.972644   \n..           ...           ...     ...                  ...   \n72          1763    343.122498       1             0.476687   \n5            197    391.137421       1             0.021722   \n63          1551    414.160714       1             1.000000   \n64          1584    414.160649       1             0.861566   \n70          1673    414.161774       1             0.132787   \n\n     ms1_precursor_intensity  retention_time  \\\n714                 229004.0        5.754795   \n39                 5003663.0        0.625264   \n75               184503584.0        0.760591   \n87                54856968.0        0.824673   \n559               33296404.0        4.740038   \n..                       ...             ...   \n72                  220577.0        9.297420   \n5                    57614.0        1.142228   \n63                 2858969.0        8.132979   \n64                  663741.0        8.301914   \n70                  109296.0        8.795334   \n\n                                                 peaks  ms1_index  query_idx  \\\n714  54.4532509\\t0.0782516226\\n60.8560219\\t0.077488...        580       2320   \n39   53.024212\\t0.010527247\\n56.049976\\t0.02042501\\...         63        251   \n75   58.065536\\t0.08439751\\n59.073524\\t0.094898134\\...         77        306   \n87   58.06562\\t0.055201776\\n59.07346\\t0.065020993\\n...         83        332   \n559  53.039066\\t0.011861505\\n55.047352\\t0.024573449...        479       1914   \n..                                                 ...        ...        ...   \n72   66.7437897\\t0.037596602\\n70.0651169\\t0.1083217...       1477        285   \n5    57.070114\\t0.038028698\\n65.038757\\t0.008740983...        183         13   \n63   56.049717\\t0.031137727\\n57.033817\\t0.050027881...       1291        259   \n64   56.049889\\t0.042369954\\n57.033775\\t0.058208793...       1318        265   \n70   56.049881\\t0.013537148\\n56.5870819\\t0.00495347...       1397        275   \n\n     reference_Mix               reference_Name reference_Formula  \\\n714              1      Glutamine (L)_glycoside         C5H10N2O3   \n39               1              Punctaporonin B          C15H24O3   \n75               1              Punctaporonin B          C15H24O3   \n87               1              Punctaporonin B          C15H24O3   \n559              1              Punctaporonin B          C15H24O3   \n..             ...                          ...               ...   \n72              15                 Isomaltulose         C12H22O11   \n5               15       Deoxyuridine_glycoside         C9H12N2O5   \n63              15  2'-deoxyadenosine_glycoside        C10H13N5O3   \n64              15  2'-deoxyadenosine_glycoside        C10H13N5O3   \n70              15  2'-deoxyadenosine_glycoside        C10H13N5O3   \n\n                reference_inchikey  \\\n714    ZDXPYRJPNDTMRX-VKHMYHEASA-N   \n39     FCUGGFFHQXNXJN-MNRPPXDRSA-N   \n75     FCUGGFFHQXNXJN-MNRPPXDRSA-N   \n87     FCUGGFFHQXNXJN-MNRPPXDRSA-N   \n559    FCUGGFFHQXNXJN-MNRPPXDRSA-N   \n..                             ...   \n72     PVXPPJIGRGXGCY-TZLCEDOOSA-N   \n5      MXHRCPNRJAMMIM-SHYZEUOFSA-N   \n63   OLXZPDWKRNYJJZ-FSDSQADBSA-N     \n64   OLXZPDWKRNYJJZ-FSDSQADBSA-N     \n70   OLXZPDWKRNYJJZ-FSDSQADBSA-N     \n\n                                      reference_smiles reference_adduct  \\\n714                          C(CC(=O)N)[C@@H](C(=O)O)N           [M+H]+   \n39   C[C@@]\\1(CC[C@@]2([C@H](CC2(C)C)/C(=C\\C=C1)/CO...       [M-H2O+H]+   \n75   C[C@@]\\1(CC[C@@]2([C@H](CC2(C)C)/C(=C\\C=C1)/CO...       [M-H2O+H]+   \n87   C[C@@]\\1(CC[C@@]2([C@H](CC2(C)C)/C(=C\\C=C1)/CO...       [M-H2O+H]+   \n559  C[C@@]\\1(CC[C@@]2([C@H](CC2(C)C)/C(=C\\C=C1)/CO...       [M-H2O+H]+   \n..                                                 ...              ...   \n72   C([C@@H]1[C@H]([C@@H]([C@H]([C@H](O1)OC[C@@H]2...           [M+H]+   \n5           C1[C@@H]([C@H](O[C@H]1N2C=CC(=O)NC2=O)CO)O           [M+H]+   \n63      C1[C@H]([C@H](O[C@H]1N2C=NC3=C(N=CN=C32)N)CO)O           [M+H]+   \n64      C1[C@H]([C@H](O[C@H]1N2C=NC3=C(N=CN=C32)N)CO)O           [M+H]+   \n70      C1[C@H]([C@H](O[C@H]1N2C=NC3=C(N=CN=C32)N)CO)O           [M+H]+   \n\n     reference_precursor_mz  \n714                309.1297  \n39                 235.1693  \n75                 235.1693  \n87                 235.1693  \n559                235.1693  \n..                      ...  \n72                 343.1235  \n5                  391.1352  \n63                 414.1624  \n64                 414.1624  \n70                 414.1624  \n\n[1593 rows x 16 columns]",
      "text/html": "<div>\n<style scoped>\n    .dataframe tbody tr th:only-of-type {\n        vertical-align: middle;\n    }\n\n    .dataframe tbody tr th {\n        vertical-align: top;\n    }\n\n    .dataframe thead th {\n        text-align: right;\n    }\n</style>\n<table border=\"1\" class=\"dataframe\">\n  <thead>\n    <tr style=\"text-align: right;\">\n      <th></th>\n      <th>scan_number</th>\n      <th>precursor_mz</th>\n      <th>charge</th>\n      <th>ms1_intensity_ratio</th>\n      <th>ms1_precursor_intensity</th>\n      <th>retention_time</th>\n      <th>peaks</th>\n      <th>ms1_index</th>\n      <th>query_idx</th>\n      <th>reference_Mix</th>\n      <th>reference_Name</th>\n      <th>reference_Formula</th>\n      <th>reference_inchikey</th>\n      <th>reference_smiles</th>\n      <th>reference_adduct</th>\n      <th>reference_precursor_mz</th>\n    </tr>\n  </thead>\n  <tbody>\n    <tr>\n      <th>714</th>\n      <td>2902</td>\n      <td>309.132446</td>\n      <td>1</td>\n      <td>0.754273</td>\n      <td>229004.0</td>\n      <td>5.754795</td>\n      <td>54.4532509\\t0.0782516226\\n60.8560219\\t0.077488...</td>\n      <td>580</td>\n      <td>2320</td>\n      <td>1</td>\n      <td>Glutamine (L)_glycoside</td>\n      <td>C5H10N2O3</td>\n      <td>ZDXPYRJPNDTMRX-VKHMYHEASA-N</td>\n      <td>C(CC(=O)N)[C@@H](C(=O)O)N</td>\n      <td>[M+H]+</td>\n      <td>309.1297</td>\n    </tr>\n    <tr>\n      <th>39</th>\n      <td>315</td>\n      <td>235.166414</td>\n      <td>1</td>\n      <td>0.976972</td>\n      <td>5003663.0</td>\n      <td>0.625264</td>\n      <td>53.024212\\t0.010527247\\n56.049976\\t0.02042501\\...</td>\n      <td>63</td>\n      <td>251</td>\n      <td>1</td>\n      <td>Punctaporonin B</td>\n      <td>C15H24O3</td>\n      <td>FCUGGFFHQXNXJN-MNRPPXDRSA-N</td>\n      <td>C[C@@]\\1(CC[C@@]2([C@H](CC2(C)C)/C(=C\\C=C1)/CO...</td>\n      <td>[M-H2O+H]+</td>\n      <td>235.1693</td>\n    </tr>\n    <tr>\n      <th>75</th>\n      <td>384</td>\n      <td>235.166308</td>\n      <td>1</td>\n      <td>0.949520</td>\n      <td>184503584.0</td>\n      <td>0.760591</td>\n      <td>58.065536\\t0.08439751\\n59.073524\\t0.094898134\\...</td>\n      <td>77</td>\n      <td>306</td>\n      <td>1</td>\n      <td>Punctaporonin B</td>\n      <td>C15H24O3</td>\n      <td>FCUGGFFHQXNXJN-MNRPPXDRSA-N</td>\n      <td>C[C@@]\\1(CC[C@@]2([C@H](CC2(C)C)/C(=C\\C=C1)/CO...</td>\n      <td>[M-H2O+H]+</td>\n      <td>235.1693</td>\n    </tr>\n    <tr>\n      <th>87</th>\n      <td>417</td>\n      <td>235.166351</td>\n      <td>1</td>\n      <td>0.708066</td>\n      <td>54856968.0</td>\n      <td>0.824673</td>\n      <td>58.06562\\t0.055201776\\n59.07346\\t0.065020993\\n...</td>\n      <td>83</td>\n      <td>332</td>\n      <td>1</td>\n      <td>Punctaporonin B</td>\n      <td>C15H24O3</td>\n      <td>FCUGGFFHQXNXJN-MNRPPXDRSA-N</td>\n      <td>C[C@@]\\1(CC[C@@]2([C@H](CC2(C)C)/C(=C\\C=C1)/CO...</td>\n      <td>[M-H2O+H]+</td>\n      <td>235.1693</td>\n    </tr>\n    <tr>\n      <th>559</th>\n      <td>2394</td>\n      <td>235.170367</td>\n      <td>1</td>\n      <td>0.972644</td>\n      <td>33296404.0</td>\n      <td>4.740038</td>\n      <td>53.039066\\t0.011861505\\n55.047352\\t0.024573449...</td>\n      <td>479</td>\n      <td>1914</td>\n      <td>1</td>\n      <td>Punctaporonin B</td>\n      <td>C15H24O3</td>\n      <td>FCUGGFFHQXNXJN-MNRPPXDRSA-N</td>\n      <td>C[C@@]\\1(CC[C@@]2([C@H](CC2(C)C)/C(=C\\C=C1)/CO...</td>\n      <td>[M-H2O+H]+</td>\n      <td>235.1693</td>\n    </tr>\n    <tr>\n      <th>...</th>\n      <td>...</td>\n      <td>...</td>\n      <td>...</td>\n      <td>...</td>\n      <td>...</td>\n      <td>...</td>\n      <td>...</td>\n      <td>...</td>\n      <td>...</td>\n      <td>...</td>\n      <td>...</td>\n      <td>...</td>\n      <td>...</td>\n      <td>...</td>\n      <td>...</td>\n      <td>...</td>\n    </tr>\n    <tr>\n      <th>72</th>\n      <td>1763</td>\n      <td>343.122498</td>\n      <td>1</td>\n      <td>0.476687</td>\n      <td>220577.0</td>\n      <td>9.297420</td>\n      <td>66.7437897\\t0.037596602\\n70.0651169\\t0.1083217...</td>\n      <td>1477</td>\n      <td>285</td>\n      <td>15</td>\n      <td>Isomaltulose</td>\n      <td>C12H22O11</td>\n      <td>PVXPPJIGRGXGCY-TZLCEDOOSA-N</td>\n      <td>C([C@@H]1[C@H]([C@@H]([C@H]([C@H](O1)OC[C@@H]2...</td>\n      <td>[M+H]+</td>\n      <td>343.1235</td>\n    </tr>\n    <tr>\n      <th>5</th>\n      <td>197</td>\n      <td>391.137421</td>\n      <td>1</td>\n      <td>0.021722</td>\n      <td>57614.0</td>\n      <td>1.142228</td>\n      <td>57.070114\\t0.038028698\\n65.038757\\t0.008740983...</td>\n      <td>183</td>\n      <td>13</td>\n      <td>15</td>\n      <td>Deoxyuridine_glycoside</td>\n      <td>C9H12N2O5</td>\n      <td>MXHRCPNRJAMMIM-SHYZEUOFSA-N</td>\n      <td>C1[C@@H]([C@H](O[C@H]1N2C=CC(=O)NC2=O)CO)O</td>\n      <td>[M+H]+</td>\n      <td>391.1352</td>\n    </tr>\n    <tr>\n      <th>63</th>\n      <td>1551</td>\n      <td>414.160714</td>\n      <td>1</td>\n      <td>1.000000</td>\n      <td>2858969.0</td>\n      <td>8.132979</td>\n      <td>56.049717\\t0.031137727\\n57.033817\\t0.050027881...</td>\n      <td>1291</td>\n      <td>259</td>\n      <td>15</td>\n      <td>2'-deoxyadenosine_glycoside</td>\n      <td>C10H13N5O3</td>\n      <td>OLXZPDWKRNYJJZ-FSDSQADBSA-N</td>\n      <td>C1[C@H]([C@H](O[C@H]1N2C=NC3=C(N=CN=C32)N)CO)O</td>\n      <td>[M+H]+</td>\n      <td>414.1624</td>\n    </tr>\n    <tr>\n      <th>64</th>\n      <td>1584</td>\n      <td>414.160649</td>\n      <td>1</td>\n      <td>0.861566</td>\n      <td>663741.0</td>\n      <td>8.301914</td>\n      <td>56.049889\\t0.042369954\\n57.033775\\t0.058208793...</td>\n      <td>1318</td>\n      <td>265</td>\n      <td>15</td>\n      <td>2'-deoxyadenosine_glycoside</td>\n      <td>C10H13N5O3</td>\n      <td>OLXZPDWKRNYJJZ-FSDSQADBSA-N</td>\n      <td>C1[C@H]([C@H](O[C@H]1N2C=NC3=C(N=CN=C32)N)CO)O</td>\n      <td>[M+H]+</td>\n      <td>414.1624</td>\n    </tr>\n    <tr>\n      <th>70</th>\n      <td>1673</td>\n      <td>414.161774</td>\n      <td>1</td>\n      <td>0.132787</td>\n      <td>109296.0</td>\n      <td>8.795334</td>\n      <td>56.049881\\t0.013537148\\n56.5870819\\t0.00495347...</td>\n      <td>1397</td>\n      <td>275</td>\n      <td>15</td>\n      <td>2'-deoxyadenosine_glycoside</td>\n      <td>C10H13N5O3</td>\n      <td>OLXZPDWKRNYJJZ-FSDSQADBSA-N</td>\n      <td>C1[C@H]([C@H](O[C@H]1N2C=NC3=C(N=CN=C32)N)CO)O</td>\n      <td>[M+H]+</td>\n      <td>414.1624</td>\n    </tr>\n  </tbody>\n</table>\n<p>1593 rows × 16 columns</p>\n</div>"
     },
     "execution_count": 51,
     "metadata": {},
     "output_type": "execute_result"
    }
   ],
   "source": [
    "nc_matched"
   ],
   "metadata": {
    "collapsed": false,
    "pycharm": {
     "name": "#%%\n"
    }
   }
  },
  {
   "cell_type": "code",
   "execution_count": 45,
   "outputs": [],
   "source": [
    "file = pd.read_csv(os.path.join(source_dir, 'pet28.csv'))"
   ],
   "metadata": {
    "collapsed": false,
    "pycharm": {
     "name": "#%%\n"
    }
   }
  },
  {
   "cell_type": "code",
   "execution_count": 55,
   "outputs": [
    {
     "data": {
      "text/plain": "     scan_number  precursor_mz  charge  ms1_intensity_ratio  \\\n122          552    170.154631       1              0.96996   \n\n     ms1_precursor_intensity  retention_time  \\\n122              270588064.0         1.08379   \n\n                                                 peaks  ms1_index  query_idx  \\\n122  55.0547752\\t0.00632058876\\n56.384407\\t0.005840...        110        440   \n\n     reference_Mix reference_Name reference_Formula  \\\n122              1       Lupinine          C10H19NO   \n\n              reference_inchikey            reference_smiles reference_adduct  \\\n122  HDVAWXXJVMJBAR-VHSXEESVSA-N  C1CCN2CCC[C@H]([C@H]2C1)CO           [M+H]+   \n\n     reference_precursor_mz  \n122                170.1539  ",
      "text/html": "<div>\n<style scoped>\n    .dataframe tbody tr th:only-of-type {\n        vertical-align: middle;\n    }\n\n    .dataframe tbody tr th {\n        vertical-align: top;\n    }\n\n    .dataframe thead th {\n        text-align: right;\n    }\n</style>\n<table border=\"1\" class=\"dataframe\">\n  <thead>\n    <tr style=\"text-align: right;\">\n      <th></th>\n      <th>scan_number</th>\n      <th>precursor_mz</th>\n      <th>charge</th>\n      <th>ms1_intensity_ratio</th>\n      <th>ms1_precursor_intensity</th>\n      <th>retention_time</th>\n      <th>peaks</th>\n      <th>ms1_index</th>\n      <th>query_idx</th>\n      <th>reference_Mix</th>\n      <th>reference_Name</th>\n      <th>reference_Formula</th>\n      <th>reference_inchikey</th>\n      <th>reference_smiles</th>\n      <th>reference_adduct</th>\n      <th>reference_precursor_mz</th>\n    </tr>\n  </thead>\n  <tbody>\n    <tr>\n      <th>122</th>\n      <td>552</td>\n      <td>170.154631</td>\n      <td>1</td>\n      <td>0.96996</td>\n      <td>270588064.0</td>\n      <td>1.08379</td>\n      <td>55.0547752\\t0.00632058876\\n56.384407\\t0.005840...</td>\n      <td>110</td>\n      <td>440</td>\n      <td>1</td>\n      <td>Lupinine</td>\n      <td>C10H19NO</td>\n      <td>HDVAWXXJVMJBAR-VHSXEESVSA-N</td>\n      <td>C1CCN2CCC[C@H]([C@H]2C1)CO</td>\n      <td>[M+H]+</td>\n      <td>170.1539</td>\n    </tr>\n  </tbody>\n</table>\n</div>"
     },
     "execution_count": 55,
     "metadata": {},
     "output_type": "execute_result"
    }
   ],
   "source": [
    "string_search(nc_matched, 'reference_precursor_mz', 170.1539)"
   ],
   "metadata": {
    "collapsed": false,
    "pycharm": {
     "name": "#%%\n"
    }
   }
  },
  {
   "cell_type": "code",
   "execution_count": 56,
   "outputs": [],
   "source": [
    "RT_matched_read = pd.read_csv(os.path.join(source_dir, \"nc_matched_rt.csv\"))"
   ],
   "metadata": {
    "collapsed": false,
    "pycharm": {
     "name": "#%%\n"
    }
   }
  },
  {
   "cell_type": "code",
   "execution_count": 61,
   "outputs": [
    {
     "data": {
      "text/plain": "   Count  index  reference_mix  scan_number  precursor_mz  \\\n0      1      1              1         1085    170.153781   \n1      2      2              1         1265    170.153814   \n2      3      3              1         1865    170.153832   \n3      4      4              1         1955    170.153857   \n4      5      5              1         2285    170.153796   \n5      6      6              1         2836    170.153850   \n6      7      7              1         2896    170.153869   \n7      8      8              1         3618    170.153807   \n8      9      9              1         9928    170.153788   \n9     10     13              1         3183    481.315743   \n\n   ms1_precursor_intensity  retention_time  reference_substrate_name  \\\n0                349071584        2.123019                       NaN   \n1                148055440        2.477551                       NaN   \n2                  6775184        3.660821                       NaN   \n3                  4366263        3.838859                       NaN   \n4                  3362243        4.492678                       NaN   \n5                  1990898        5.583856                       NaN   \n6                  1747917        5.703223                       NaN   \n7                  1573242        7.129379                       NaN   \n8                  1058385       19.721604                       NaN   \n9                  2684411        6.270718                       NaN   \n\n                                    reference_smiles  \\\n0                         C1CCN2CCC[C@H]([C@H]2C1)CO   \n1                         C1CCN2CCC[C@H]([C@H]2C1)CO   \n2                         C1CCN2CCC[C@H]([C@H]2C1)CO   \n3                         C1CCN2CCC[C@H]([C@H]2C1)CO   \n4                         C1CCN2CCC[C@H]([C@H]2C1)CO   \n5                         C1CCN2CCC[C@H]([C@H]2C1)CO   \n6                         C1CCN2CCC[C@H]([C@H]2C1)CO   \n7                         C1CCN2CCC[C@H]([C@H]2C1)CO   \n8                         C1CCN2CCC[C@H]([C@H]2C1)CO   \n9  C[C@]12CC[C@H]3C(=CC(=O)[C@H]4[C@@]3(C[C@@H]([...   \n\n            reference_inchikey  ...  reference_adduct reference_mix_enzyme  \\\n0  HDVAWXXJVMJBAR-VHSXEESVSA-N  ...            [M+H]+                  NaN   \n1  HDVAWXXJVMJBAR-VHSXEESVSA-N  ...            [M+H]+                  NaN   \n2  HDVAWXXJVMJBAR-VHSXEESVSA-N  ...            [M+H]+                  NaN   \n3  HDVAWXXJVMJBAR-VHSXEESVSA-N  ...            [M+H]+                  NaN   \n4  HDVAWXXJVMJBAR-VHSXEESVSA-N  ...            [M+H]+                  NaN   \n5  HDVAWXXJVMJBAR-VHSXEESVSA-N  ...            [M+H]+                  NaN   \n6  HDVAWXXJVMJBAR-VHSXEESVSA-N  ...            [M+H]+                  NaN   \n7  HDVAWXXJVMJBAR-VHSXEESVSA-N  ...            [M+H]+                  NaN   \n8  HDVAWXXJVMJBAR-VHSXEESVSA-N  ...            [M+H]+                  NaN   \n9  NKDFYOWSKOHCCO-YPVLXUMRSA-N  ...            [M+H]+                  NaN   \n\n   library-db         library-id library-precursor_mz  library-adduct  \\\n0        mona  VF-NPL-QEHF025268            170.15394          [M+H]+   \n1        mona  VF-NPL-QEHF025268            170.15394          [M+H]+   \n2        mona           NA000361            170.15394          [M+H]+   \n3        mona           NA000330            170.15394          [M+H]+   \n4        mona           NA000390            170.15394          [M+H]+   \n5        mona           NA000390            170.15394          [M+H]+   \n6        mona           NA000300            170.15394          [M+H]+   \n7        mona           NA000390            170.15394          [M+H]+   \n8        mona           NA000390            170.15394          [M+H]+   \n9        mona  VF-NPL-QEHF014043            481.31598          [M+H]+   \n\n  library-charge  library-inchikey library-identity_score  \\\n0              1    HDVAWXXJVMJBAR               0.969917   \n1              1    HDVAWXXJVMJBAR               0.998418   \n2              1    HDVAWXXJVMJBAR               0.782017   \n3              1    HDVAWXXJVMJBAR               0.854183   \n4              1    HDVAWXXJVMJBAR               0.784294   \n5              1    HDVAWXXJVMJBAR               0.688898   \n6              1    HDVAWXXJVMJBAR               0.613377   \n7              1    HDVAWXXJVMJBAR               0.517842   \n8              1    HDVAWXXJVMJBAR               0.548402   \n9              1    NKDFYOWSKOHCCO               0.778138   \n\n   library-sugar_loss_intensity  \n0                           0.0  \n1                           0.0  \n2                           0.0  \n3                           0.0  \n4                           0.0  \n5                           0.0  \n6                           0.0  \n7                           0.0  \n8                           0.0  \n9                           0.0  \n\n[10 rows x 21 columns]",
      "text/html": "<div>\n<style scoped>\n    .dataframe tbody tr th:only-of-type {\n        vertical-align: middle;\n    }\n\n    .dataframe tbody tr th {\n        vertical-align: top;\n    }\n\n    .dataframe thead th {\n        text-align: right;\n    }\n</style>\n<table border=\"1\" class=\"dataframe\">\n  <thead>\n    <tr style=\"text-align: right;\">\n      <th></th>\n      <th>Count</th>\n      <th>index</th>\n      <th>reference_mix</th>\n      <th>scan_number</th>\n      <th>precursor_mz</th>\n      <th>ms1_precursor_intensity</th>\n      <th>retention_time</th>\n      <th>reference_substrate_name</th>\n      <th>reference_smiles</th>\n      <th>reference_inchikey</th>\n      <th>...</th>\n      <th>reference_adduct</th>\n      <th>reference_mix_enzyme</th>\n      <th>library-db</th>\n      <th>library-id</th>\n      <th>library-precursor_mz</th>\n      <th>library-adduct</th>\n      <th>library-charge</th>\n      <th>library-inchikey</th>\n      <th>library-identity_score</th>\n      <th>library-sugar_loss_intensity</th>\n    </tr>\n  </thead>\n  <tbody>\n    <tr>\n      <th>0</th>\n      <td>1</td>\n      <td>1</td>\n      <td>1</td>\n      <td>1085</td>\n      <td>170.153781</td>\n      <td>349071584</td>\n      <td>2.123019</td>\n      <td>NaN</td>\n      <td>C1CCN2CCC[C@H]([C@H]2C1)CO</td>\n      <td>HDVAWXXJVMJBAR-VHSXEESVSA-N</td>\n      <td>...</td>\n      <td>[M+H]+</td>\n      <td>NaN</td>\n      <td>mona</td>\n      <td>VF-NPL-QEHF025268</td>\n      <td>170.15394</td>\n      <td>[M+H]+</td>\n      <td>1</td>\n      <td>HDVAWXXJVMJBAR</td>\n      <td>0.969917</td>\n      <td>0.0</td>\n    </tr>\n    <tr>\n      <th>1</th>\n      <td>2</td>\n      <td>2</td>\n      <td>1</td>\n      <td>1265</td>\n      <td>170.153814</td>\n      <td>148055440</td>\n      <td>2.477551</td>\n      <td>NaN</td>\n      <td>C1CCN2CCC[C@H]([C@H]2C1)CO</td>\n      <td>HDVAWXXJVMJBAR-VHSXEESVSA-N</td>\n      <td>...</td>\n      <td>[M+H]+</td>\n      <td>NaN</td>\n      <td>mona</td>\n      <td>VF-NPL-QEHF025268</td>\n      <td>170.15394</td>\n      <td>[M+H]+</td>\n      <td>1</td>\n      <td>HDVAWXXJVMJBAR</td>\n      <td>0.998418</td>\n      <td>0.0</td>\n    </tr>\n    <tr>\n      <th>2</th>\n      <td>3</td>\n      <td>3</td>\n      <td>1</td>\n      <td>1865</td>\n      <td>170.153832</td>\n      <td>6775184</td>\n      <td>3.660821</td>\n      <td>NaN</td>\n      <td>C1CCN2CCC[C@H]([C@H]2C1)CO</td>\n      <td>HDVAWXXJVMJBAR-VHSXEESVSA-N</td>\n      <td>...</td>\n      <td>[M+H]+</td>\n      <td>NaN</td>\n      <td>mona</td>\n      <td>NA000361</td>\n      <td>170.15394</td>\n      <td>[M+H]+</td>\n      <td>1</td>\n      <td>HDVAWXXJVMJBAR</td>\n      <td>0.782017</td>\n      <td>0.0</td>\n    </tr>\n    <tr>\n      <th>3</th>\n      <td>4</td>\n      <td>4</td>\n      <td>1</td>\n      <td>1955</td>\n      <td>170.153857</td>\n      <td>4366263</td>\n      <td>3.838859</td>\n      <td>NaN</td>\n      <td>C1CCN2CCC[C@H]([C@H]2C1)CO</td>\n      <td>HDVAWXXJVMJBAR-VHSXEESVSA-N</td>\n      <td>...</td>\n      <td>[M+H]+</td>\n      <td>NaN</td>\n      <td>mona</td>\n      <td>NA000330</td>\n      <td>170.15394</td>\n      <td>[M+H]+</td>\n      <td>1</td>\n      <td>HDVAWXXJVMJBAR</td>\n      <td>0.854183</td>\n      <td>0.0</td>\n    </tr>\n    <tr>\n      <th>4</th>\n      <td>5</td>\n      <td>5</td>\n      <td>1</td>\n      <td>2285</td>\n      <td>170.153796</td>\n      <td>3362243</td>\n      <td>4.492678</td>\n      <td>NaN</td>\n      <td>C1CCN2CCC[C@H]([C@H]2C1)CO</td>\n      <td>HDVAWXXJVMJBAR-VHSXEESVSA-N</td>\n      <td>...</td>\n      <td>[M+H]+</td>\n      <td>NaN</td>\n      <td>mona</td>\n      <td>NA000390</td>\n      <td>170.15394</td>\n      <td>[M+H]+</td>\n      <td>1</td>\n      <td>HDVAWXXJVMJBAR</td>\n      <td>0.784294</td>\n      <td>0.0</td>\n    </tr>\n    <tr>\n      <th>5</th>\n      <td>6</td>\n      <td>6</td>\n      <td>1</td>\n      <td>2836</td>\n      <td>170.153850</td>\n      <td>1990898</td>\n      <td>5.583856</td>\n      <td>NaN</td>\n      <td>C1CCN2CCC[C@H]([C@H]2C1)CO</td>\n      <td>HDVAWXXJVMJBAR-VHSXEESVSA-N</td>\n      <td>...</td>\n      <td>[M+H]+</td>\n      <td>NaN</td>\n      <td>mona</td>\n      <td>NA000390</td>\n      <td>170.15394</td>\n      <td>[M+H]+</td>\n      <td>1</td>\n      <td>HDVAWXXJVMJBAR</td>\n      <td>0.688898</td>\n      <td>0.0</td>\n    </tr>\n    <tr>\n      <th>6</th>\n      <td>7</td>\n      <td>7</td>\n      <td>1</td>\n      <td>2896</td>\n      <td>170.153869</td>\n      <td>1747917</td>\n      <td>5.703223</td>\n      <td>NaN</td>\n      <td>C1CCN2CCC[C@H]([C@H]2C1)CO</td>\n      <td>HDVAWXXJVMJBAR-VHSXEESVSA-N</td>\n      <td>...</td>\n      <td>[M+H]+</td>\n      <td>NaN</td>\n      <td>mona</td>\n      <td>NA000300</td>\n      <td>170.15394</td>\n      <td>[M+H]+</td>\n      <td>1</td>\n      <td>HDVAWXXJVMJBAR</td>\n      <td>0.613377</td>\n      <td>0.0</td>\n    </tr>\n    <tr>\n      <th>7</th>\n      <td>8</td>\n      <td>8</td>\n      <td>1</td>\n      <td>3618</td>\n      <td>170.153807</td>\n      <td>1573242</td>\n      <td>7.129379</td>\n      <td>NaN</td>\n      <td>C1CCN2CCC[C@H]([C@H]2C1)CO</td>\n      <td>HDVAWXXJVMJBAR-VHSXEESVSA-N</td>\n      <td>...</td>\n      <td>[M+H]+</td>\n      <td>NaN</td>\n      <td>mona</td>\n      <td>NA000390</td>\n      <td>170.15394</td>\n      <td>[M+H]+</td>\n      <td>1</td>\n      <td>HDVAWXXJVMJBAR</td>\n      <td>0.517842</td>\n      <td>0.0</td>\n    </tr>\n    <tr>\n      <th>8</th>\n      <td>9</td>\n      <td>9</td>\n      <td>1</td>\n      <td>9928</td>\n      <td>170.153788</td>\n      <td>1058385</td>\n      <td>19.721604</td>\n      <td>NaN</td>\n      <td>C1CCN2CCC[C@H]([C@H]2C1)CO</td>\n      <td>HDVAWXXJVMJBAR-VHSXEESVSA-N</td>\n      <td>...</td>\n      <td>[M+H]+</td>\n      <td>NaN</td>\n      <td>mona</td>\n      <td>NA000390</td>\n      <td>170.15394</td>\n      <td>[M+H]+</td>\n      <td>1</td>\n      <td>HDVAWXXJVMJBAR</td>\n      <td>0.548402</td>\n      <td>0.0</td>\n    </tr>\n    <tr>\n      <th>9</th>\n      <td>10</td>\n      <td>13</td>\n      <td>1</td>\n      <td>3183</td>\n      <td>481.315743</td>\n      <td>2684411</td>\n      <td>6.270718</td>\n      <td>NaN</td>\n      <td>C[C@]12CC[C@H]3C(=CC(=O)[C@H]4[C@@]3(C[C@@H]([...</td>\n      <td>NKDFYOWSKOHCCO-YPVLXUMRSA-N</td>\n      <td>...</td>\n      <td>[M+H]+</td>\n      <td>NaN</td>\n      <td>mona</td>\n      <td>VF-NPL-QEHF014043</td>\n      <td>481.31598</td>\n      <td>[M+H]+</td>\n      <td>1</td>\n      <td>NKDFYOWSKOHCCO</td>\n      <td>0.778138</td>\n      <td>0.0</td>\n    </tr>\n  </tbody>\n</table>\n<p>10 rows × 21 columns</p>\n</div>"
     },
     "execution_count": 61,
     "metadata": {},
     "output_type": "execute_result"
    }
   ],
   "source": [
    "file.head(10)"
   ],
   "metadata": {
    "collapsed": false,
    "pycharm": {
     "name": "#%%\n"
    }
   }
  },
  {
   "cell_type": "code",
   "execution_count": 60,
   "outputs": [
    {
     "data": {
      "text/plain": "   scan_number  precursor_mz  charge  ms1_intensity_ratio  \\\n1         2158    354.191101       1             0.878139   \n\n   ms1_precursor_intensity  retention_time  \\\n1                1386332.0        4.269993   \n\n                                               peaks  ms1_index  query_idx  \\\n1  51.204578\\t0.0071129836\\n53.402023\\t0.00679022...        432       1725   \n\n   reference_Mix      reference_Name reference_Formula  \\\n1              1  Lupinine_glycoside          C10H19NO   \n\n            reference_inchikey            reference_smiles reference_adduct  \\\n1  HDVAWXXJVMJBAR-VHSXEESVSA-N  C1CCN2CCC[C@H]([C@H]2C1)CO          [M+Na]+   \n\n   reference_precursor_mz          reference_RT  \n1                354.1892  RT not found in list  ",
      "text/html": "<div>\n<style scoped>\n    .dataframe tbody tr th:only-of-type {\n        vertical-align: middle;\n    }\n\n    .dataframe tbody tr th {\n        vertical-align: top;\n    }\n\n    .dataframe thead th {\n        text-align: right;\n    }\n</style>\n<table border=\"1\" class=\"dataframe\">\n  <thead>\n    <tr style=\"text-align: right;\">\n      <th></th>\n      <th>scan_number</th>\n      <th>precursor_mz</th>\n      <th>charge</th>\n      <th>ms1_intensity_ratio</th>\n      <th>ms1_precursor_intensity</th>\n      <th>retention_time</th>\n      <th>peaks</th>\n      <th>ms1_index</th>\n      <th>query_idx</th>\n      <th>reference_Mix</th>\n      <th>reference_Name</th>\n      <th>reference_Formula</th>\n      <th>reference_inchikey</th>\n      <th>reference_smiles</th>\n      <th>reference_adduct</th>\n      <th>reference_precursor_mz</th>\n      <th>reference_RT</th>\n    </tr>\n  </thead>\n  <tbody>\n    <tr>\n      <th>1</th>\n      <td>2158</td>\n      <td>354.191101</td>\n      <td>1</td>\n      <td>0.878139</td>\n      <td>1386332.0</td>\n      <td>4.269993</td>\n      <td>51.204578\\t0.0071129836\\n53.402023\\t0.00679022...</td>\n      <td>432</td>\n      <td>1725</td>\n      <td>1</td>\n      <td>Lupinine_glycoside</td>\n      <td>C10H19NO</td>\n      <td>HDVAWXXJVMJBAR-VHSXEESVSA-N</td>\n      <td>C1CCN2CCC[C@H]([C@H]2C1)CO</td>\n      <td>[M+Na]+</td>\n      <td>354.1892</td>\n      <td>RT not found in list</td>\n    </tr>\n  </tbody>\n</table>\n</div>"
     },
     "execution_count": 60,
     "metadata": {},
     "output_type": "execute_result"
    }
   ],
   "source": [
    "string_search(RT_matched_read, 'reference_inchikey', 'HDVAWXXJVMJBAR-VHSXEESVSA-N')"
   ],
   "metadata": {
    "collapsed": false,
    "pycharm": {
     "name": "#%%\n"
    }
   }
  },
  {
   "cell_type": "code",
   "execution_count": 57,
   "outputs": [
    {
     "data": {
      "text/plain": "     scan_number  precursor_mz  charge  ms1_intensity_ratio  \\\n0           2902    309.132446       1             0.754273   \n1           2158    354.191101       1             0.878139   \n2           3427    451.101688       1             0.926871   \n3           2109    643.369202       1             0.523223   \n4           3203    505.245479       1             0.959315   \n..           ...           ...     ...                  ...   \n308         1237    300.143989       1             0.649006   \n309         1269    300.144228       1             0.817279   \n310         1304    300.144226       1             0.708576   \n311         1551    414.160714       1             1.000000   \n312         1584    414.160649       1             0.861566   \n\n     ms1_precursor_intensity  retention_time  \\\n0                   229004.0        5.754795   \n1                  1386332.0        4.269993   \n2                  2411171.0        6.806105   \n3                   148181.0        4.171581   \n4                  1897799.0        6.358225   \n..                       ...             ...   \n308                2300005.0        6.444129   \n309                3535120.0        6.609112   \n310               12851130.0        6.778391   \n311                2858969.0        8.132979   \n312                 663741.0        8.301914   \n\n                                                 peaks  ms1_index  query_idx  \\\n0    54.4532509\\t0.0782516226\\n60.8560219\\t0.077488...        580       2320   \n1    51.204578\\t0.0071129836\\n53.402023\\t0.00679022...        432       1725   \n2    50.634056\\t0.11018493\\n70.00631\\t0.13219266\\n7...        685       2740   \n3    70.0655289\\t0.353958696\\n74.8802719\\t0.0423589...        422       1686   \n4    50.3740997\\t0.0131859099\\n52.0901489\\t0.016589...        641       2561   \n..                                                 ...        ...        ...   \n308  53.03899\\t0.0155733433\\n56.0497131\\t0.00721621...       1020        215   \n309  53.038933\\t0.019467197\\n69.054306\\t0.006381815...       1047        221   \n310  53.038963\\t0.019324495\\n69.033516\\t0.006680520...       1074        229   \n311  56.049717\\t0.031137727\\n57.033817\\t0.050027881...       1291        259   \n312  56.049889\\t0.042369954\\n57.033775\\t0.058208793...       1318        265   \n\n     reference_Mix               reference_Name reference_Formula  \\\n0                1      Glutamine (L)_glycoside         C5H10N2O3   \n1                1           Lupinine_glycoside          C10H19NO   \n2                1                Rutilantinone          C22H20O9   \n3                1      CRUSTECDYSONE_glycoside          C27H44O7   \n4                1          Cortisone_glycoside          C21H28O5   \n..             ...                          ...               ...   \n308             15           TYRAMINE_glycoside           C8H11NO   \n309             15           TYRAMINE_glycoside           C8H11NO   \n310             15           TYRAMINE_glycoside           C8H11NO   \n311             15  2'-deoxyadenosine_glycoside        C10H13N5O3   \n312             15  2'-deoxyadenosine_glycoside        C10H13N5O3   \n\n                 reference_inchikey  \\\n0       ZDXPYRJPNDTMRX-VKHMYHEASA-N   \n1       HDVAWXXJVMJBAR-VHSXEESVSA-N   \n2     RWCVSDKDFSVZNF-KRYGIPSASA-N     \n3       NKDFYOWSKOHCCO-YPVLXUMRSA-N   \n4       MFYSYFVPBJMHGN-ZPOLXVRWSA-N   \n..                              ...   \n308     DZGWFCGJZKJUFP-UHFFFAOYSA-N   \n309     DZGWFCGJZKJUFP-UHFFFAOYSA-N   \n310     DZGWFCGJZKJUFP-UHFFFAOYSA-N   \n311   OLXZPDWKRNYJJZ-FSDSQADBSA-N     \n312   OLXZPDWKRNYJJZ-FSDSQADBSA-N     \n\n                                      reference_smiles reference_adduct  \\\n0                            C(CC(=O)N)[C@@H](C(=O)O)N           [M+H]+   \n1                           C1CCN2CCC[C@H]([C@H]2C1)CO          [M+Na]+   \n2    CC[C@]1(C[C@@H](C2=C(C3=C(C=C2[C@H]1C(=O)OC)C(...          [M+Na]+   \n3    C[C@]12CC[C@H]3C(=CC(=O)[C@H]4[C@@]3(C[C@@H]([...           [M+H]+   \n4    C[C@]12CCC(=O)C=C1CC[C@@H]3[C@@H]2C(=O)C[C@]4(...       [M-H2O+H]+   \n..                                                 ...              ...   \n308                                  C1=CC(=CC=C1CCN)O           [M+H]+   \n309                                  C1=CC(=CC=C1CCN)O           [M+H]+   \n310                                  C1=CC(=CC=C1CCN)O           [M+H]+   \n311     C1[C@H]([C@H](O[C@H]1N2C=NC3=C(N=CN=C32)N)CO)O           [M+H]+   \n312     C1[C@H]([C@H](O[C@H]1N2C=NC3=C(N=CN=C32)N)CO)O           [M+H]+   \n\n     reference_precursor_mz          reference_RT  \n0                  309.1297  RT not found in list  \n1                  354.1892  RT not found in list  \n2                  451.1000  RT not found in list  \n3                  643.3693  RT not found in list  \n4                  505.2437  RT not found in list  \n..                      ...                   ...  \n308                300.1446  RT not found in list  \n309                300.1446  RT not found in list  \n310                300.1446  RT not found in list  \n311                414.1624  RT not found in list  \n312                414.1624  RT not found in list  \n\n[313 rows x 17 columns]",
      "text/html": "<div>\n<style scoped>\n    .dataframe tbody tr th:only-of-type {\n        vertical-align: middle;\n    }\n\n    .dataframe tbody tr th {\n        vertical-align: top;\n    }\n\n    .dataframe thead th {\n        text-align: right;\n    }\n</style>\n<table border=\"1\" class=\"dataframe\">\n  <thead>\n    <tr style=\"text-align: right;\">\n      <th></th>\n      <th>scan_number</th>\n      <th>precursor_mz</th>\n      <th>charge</th>\n      <th>ms1_intensity_ratio</th>\n      <th>ms1_precursor_intensity</th>\n      <th>retention_time</th>\n      <th>peaks</th>\n      <th>ms1_index</th>\n      <th>query_idx</th>\n      <th>reference_Mix</th>\n      <th>reference_Name</th>\n      <th>reference_Formula</th>\n      <th>reference_inchikey</th>\n      <th>reference_smiles</th>\n      <th>reference_adduct</th>\n      <th>reference_precursor_mz</th>\n      <th>reference_RT</th>\n    </tr>\n  </thead>\n  <tbody>\n    <tr>\n      <th>0</th>\n      <td>2902</td>\n      <td>309.132446</td>\n      <td>1</td>\n      <td>0.754273</td>\n      <td>229004.0</td>\n      <td>5.754795</td>\n      <td>54.4532509\\t0.0782516226\\n60.8560219\\t0.077488...</td>\n      <td>580</td>\n      <td>2320</td>\n      <td>1</td>\n      <td>Glutamine (L)_glycoside</td>\n      <td>C5H10N2O3</td>\n      <td>ZDXPYRJPNDTMRX-VKHMYHEASA-N</td>\n      <td>C(CC(=O)N)[C@@H](C(=O)O)N</td>\n      <td>[M+H]+</td>\n      <td>309.1297</td>\n      <td>RT not found in list</td>\n    </tr>\n    <tr>\n      <th>1</th>\n      <td>2158</td>\n      <td>354.191101</td>\n      <td>1</td>\n      <td>0.878139</td>\n      <td>1386332.0</td>\n      <td>4.269993</td>\n      <td>51.204578\\t0.0071129836\\n53.402023\\t0.00679022...</td>\n      <td>432</td>\n      <td>1725</td>\n      <td>1</td>\n      <td>Lupinine_glycoside</td>\n      <td>C10H19NO</td>\n      <td>HDVAWXXJVMJBAR-VHSXEESVSA-N</td>\n      <td>C1CCN2CCC[C@H]([C@H]2C1)CO</td>\n      <td>[M+Na]+</td>\n      <td>354.1892</td>\n      <td>RT not found in list</td>\n    </tr>\n    <tr>\n      <th>2</th>\n      <td>3427</td>\n      <td>451.101688</td>\n      <td>1</td>\n      <td>0.926871</td>\n      <td>2411171.0</td>\n      <td>6.806105</td>\n      <td>50.634056\\t0.11018493\\n70.00631\\t0.13219266\\n7...</td>\n      <td>685</td>\n      <td>2740</td>\n      <td>1</td>\n      <td>Rutilantinone</td>\n      <td>C22H20O9</td>\n      <td>RWCVSDKDFSVZNF-KRYGIPSASA-N</td>\n      <td>CC[C@]1(C[C@@H](C2=C(C3=C(C=C2[C@H]1C(=O)OC)C(...</td>\n      <td>[M+Na]+</td>\n      <td>451.1000</td>\n      <td>RT not found in list</td>\n    </tr>\n    <tr>\n      <th>3</th>\n      <td>2109</td>\n      <td>643.369202</td>\n      <td>1</td>\n      <td>0.523223</td>\n      <td>148181.0</td>\n      <td>4.171581</td>\n      <td>70.0655289\\t0.353958696\\n74.8802719\\t0.0423589...</td>\n      <td>422</td>\n      <td>1686</td>\n      <td>1</td>\n      <td>CRUSTECDYSONE_glycoside</td>\n      <td>C27H44O7</td>\n      <td>NKDFYOWSKOHCCO-YPVLXUMRSA-N</td>\n      <td>C[C@]12CC[C@H]3C(=CC(=O)[C@H]4[C@@]3(C[C@@H]([...</td>\n      <td>[M+H]+</td>\n      <td>643.3693</td>\n      <td>RT not found in list</td>\n    </tr>\n    <tr>\n      <th>4</th>\n      <td>3203</td>\n      <td>505.245479</td>\n      <td>1</td>\n      <td>0.959315</td>\n      <td>1897799.0</td>\n      <td>6.358225</td>\n      <td>50.3740997\\t0.0131859099\\n52.0901489\\t0.016589...</td>\n      <td>641</td>\n      <td>2561</td>\n      <td>1</td>\n      <td>Cortisone_glycoside</td>\n      <td>C21H28O5</td>\n      <td>MFYSYFVPBJMHGN-ZPOLXVRWSA-N</td>\n      <td>C[C@]12CCC(=O)C=C1CC[C@@H]3[C@@H]2C(=O)C[C@]4(...</td>\n      <td>[M-H2O+H]+</td>\n      <td>505.2437</td>\n      <td>RT not found in list</td>\n    </tr>\n    <tr>\n      <th>...</th>\n      <td>...</td>\n      <td>...</td>\n      <td>...</td>\n      <td>...</td>\n      <td>...</td>\n      <td>...</td>\n      <td>...</td>\n      <td>...</td>\n      <td>...</td>\n      <td>...</td>\n      <td>...</td>\n      <td>...</td>\n      <td>...</td>\n      <td>...</td>\n      <td>...</td>\n      <td>...</td>\n      <td>...</td>\n    </tr>\n    <tr>\n      <th>308</th>\n      <td>1237</td>\n      <td>300.143989</td>\n      <td>1</td>\n      <td>0.649006</td>\n      <td>2300005.0</td>\n      <td>6.444129</td>\n      <td>53.03899\\t0.0155733433\\n56.0497131\\t0.00721621...</td>\n      <td>1020</td>\n      <td>215</td>\n      <td>15</td>\n      <td>TYRAMINE_glycoside</td>\n      <td>C8H11NO</td>\n      <td>DZGWFCGJZKJUFP-UHFFFAOYSA-N</td>\n      <td>C1=CC(=CC=C1CCN)O</td>\n      <td>[M+H]+</td>\n      <td>300.1446</td>\n      <td>RT not found in list</td>\n    </tr>\n    <tr>\n      <th>309</th>\n      <td>1269</td>\n      <td>300.144228</td>\n      <td>1</td>\n      <td>0.817279</td>\n      <td>3535120.0</td>\n      <td>6.609112</td>\n      <td>53.038933\\t0.019467197\\n69.054306\\t0.006381815...</td>\n      <td>1047</td>\n      <td>221</td>\n      <td>15</td>\n      <td>TYRAMINE_glycoside</td>\n      <td>C8H11NO</td>\n      <td>DZGWFCGJZKJUFP-UHFFFAOYSA-N</td>\n      <td>C1=CC(=CC=C1CCN)O</td>\n      <td>[M+H]+</td>\n      <td>300.1446</td>\n      <td>RT not found in list</td>\n    </tr>\n    <tr>\n      <th>310</th>\n      <td>1304</td>\n      <td>300.144226</td>\n      <td>1</td>\n      <td>0.708576</td>\n      <td>12851130.0</td>\n      <td>6.778391</td>\n      <td>53.038963\\t0.019324495\\n69.033516\\t0.006680520...</td>\n      <td>1074</td>\n      <td>229</td>\n      <td>15</td>\n      <td>TYRAMINE_glycoside</td>\n      <td>C8H11NO</td>\n      <td>DZGWFCGJZKJUFP-UHFFFAOYSA-N</td>\n      <td>C1=CC(=CC=C1CCN)O</td>\n      <td>[M+H]+</td>\n      <td>300.1446</td>\n      <td>RT not found in list</td>\n    </tr>\n    <tr>\n      <th>311</th>\n      <td>1551</td>\n      <td>414.160714</td>\n      <td>1</td>\n      <td>1.000000</td>\n      <td>2858969.0</td>\n      <td>8.132979</td>\n      <td>56.049717\\t0.031137727\\n57.033817\\t0.050027881...</td>\n      <td>1291</td>\n      <td>259</td>\n      <td>15</td>\n      <td>2'-deoxyadenosine_glycoside</td>\n      <td>C10H13N5O3</td>\n      <td>OLXZPDWKRNYJJZ-FSDSQADBSA-N</td>\n      <td>C1[C@H]([C@H](O[C@H]1N2C=NC3=C(N=CN=C32)N)CO)O</td>\n      <td>[M+H]+</td>\n      <td>414.1624</td>\n      <td>RT not found in list</td>\n    </tr>\n    <tr>\n      <th>312</th>\n      <td>1584</td>\n      <td>414.160649</td>\n      <td>1</td>\n      <td>0.861566</td>\n      <td>663741.0</td>\n      <td>8.301914</td>\n      <td>56.049889\\t0.042369954\\n57.033775\\t0.058208793...</td>\n      <td>1318</td>\n      <td>265</td>\n      <td>15</td>\n      <td>2'-deoxyadenosine_glycoside</td>\n      <td>C10H13N5O3</td>\n      <td>OLXZPDWKRNYJJZ-FSDSQADBSA-N</td>\n      <td>C1[C@H]([C@H](O[C@H]1N2C=NC3=C(N=CN=C32)N)CO)O</td>\n      <td>[M+H]+</td>\n      <td>414.1624</td>\n      <td>RT not found in list</td>\n    </tr>\n  </tbody>\n</table>\n<p>313 rows × 17 columns</p>\n</div>"
     },
     "execution_count": 57,
     "metadata": {},
     "output_type": "execute_result"
    }
   ],
   "source": [
    "RT_matched_read"
   ],
   "metadata": {
    "collapsed": false,
    "pycharm": {
     "name": "#%%\n"
    }
   }
  },
  {
   "cell_type": "code",
   "execution_count": 24,
   "outputs": [],
   "source": [
    "RT_matched.to_csv(os.path.join(source_dir, \"nc_matched_rt.csv\"), index= False)\n",
    "RT_unmatched.to_csv(os.path.join(source_dir, \"nc_unmatched_rt.csv\"), index= False)"
   ],
   "metadata": {
    "collapsed": false,
    "pycharm": {
     "name": "#%%\n"
    }
   }
  },
  {
   "cell_type": "code",
   "execution_count": 86,
   "outputs": [],
   "source": [
    "nc_matched.to_csv(os.path.join(source_dir, 'pet_matched.csv'), index=False)"
   ],
   "metadata": {
    "collapsed": false,
    "pycharm": {
     "name": "#%%\n"
    }
   }
  },
  {
   "cell_type": "code",
   "execution_count": 58,
   "outputs": [
    {
     "data": {
      "text/plain": "385"
     },
     "execution_count": 58,
     "metadata": {},
     "output_type": "execute_result"
    }
   ],
   "source": [
    "len(substrate_matched['reference_smiles'].unique())"
   ],
   "metadata": {
    "collapsed": false,
    "pycharm": {
     "name": "#%%\n"
    }
   }
  },
  {
   "cell_type": "markdown",
   "source": [
    "# deduplication for msms matched files"
   ],
   "metadata": {
    "collapsed": false,
    "pycharm": {
     "name": "#%% md\n"
    }
   }
  },
  {
   "cell_type": "code",
   "execution_count": 3,
   "outputs": [],
   "source": [
    "from toolsets.deduplication import _find_seed_rt\n",
    "def iterative_find_rt_match(compound):\n",
    "    seed = _find_seed_rt(compound,rt_tolerance = 10/60, iterative=True)\n",
    "    rt_matched = string_search(compound,'rt_match_id',seed).iloc[0]['retention_time']\n",
    "    matched = num_search(compound,'retention_time', rt_matched, direction='between', step = 10/60, inclusion=True)\n",
    "    matched['seed_found']=seed\n",
    "    unmatched = compound[~compound['rt_match_id'].isin(matched['rt_match_id'])]\n",
    "    return (matched,unmatched)\n",
    "def find_unique(data):\n",
    "    data['rt_match_id']= np.arange(len(data))\n",
    "    matched_all = pd.DataFrame()\n",
    "    for mix in tqdm(data['File name'].unique()):\n",
    "        data_mix = string_search(data, 'File name',mix)\n",
    "        for product in data_mix['Product name'].unique():\n",
    "            compound = string_search(data_mix,'Product name',product)\n",
    "            while len(compound)>=1:\n",
    "                matched, compound = iterative_find_rt_match(compound)\n",
    "                matched_all=matched_all.append(matched)\n",
    "            # return (matched)\n",
    "            # return (compound)\n",
    "            # if len(compound)>0:\n",
    "            #     compound['seed_found']=compound.iloc[0]['rt_match_id']\n",
    "            #     matched_all=matched_all.append(compound)\n",
    "    return (matched_all)\n",
    "            # if len(compound)>3:\n",
    "            #     return (compound)"
   ],
   "metadata": {
    "collapsed": false,
    "pycharm": {
     "name": "#%%\n"
    }
   }
  },
  {
   "cell_type": "code",
   "execution_count": 6,
   "outputs": [],
   "source": [
    "data = pd.read_csv(os.path.join(source_dir, 'data_only.csv'))\n",
    "data_true = string_search(data, 'Library match', True)\n",
    "data_true.reset_index(inplace=True, drop=True)\n",
    "data_false = string_search(data, 'Library match', False)\n",
    "data_false.reset_index(inplace=True, drop=True)"
   ],
   "metadata": {
    "collapsed": false,
    "pycharm": {
     "name": "#%%\n"
    }
   }
  },
  {
   "cell_type": "code",
   "execution_count": 7,
   "outputs": [
    {
     "data": {
      "text/plain": "  Output type  precursor_mz  ms1_precursor_intensity  retention_time  \\\n0   162 shift      317.1242                7120000.0            3.42   \n1   162 shift      419.1334               16000000.0            5.67   \n2   162 shift      437.1438                5130000.0            5.55   \n3   162 shift      537.3416               10000000.0            7.70   \n4   162 shift      555.3520               38300000.0            7.67   \n\n                                        Product name  \\\n0           2,6-Dihydroxy-4-Methoxytoluene_glycoside   \n1  3,4-Didesmethyl-5-Deshydroxy-3'-Ethoxyscleroin...   \n2  3,4-Didesmethyl-5-Deshydroxy-3'-Ethoxyscleroin...   \n3            Alpha-Hydroxydeoxycholic Acid_glycoside   \n4            Alpha-Hydroxydeoxycholic Acid_glycoside   \n\n                                    Aglycone name Aglycone RT  \\\n0                  2,6-Dihydroxy-4-Methoxytoluene         4.4   \n1  3,4-Didesmethyl-5-Deshydroxy-3'-Ethoxyscleroin        8.47   \n2  3,4-Didesmethyl-5-Deshydroxy-3'-Ethoxyscleroin        8.47   \n3                   Alpha-Hydroxydeoxycholic Acid       15.91   \n4                   Alpha-Hydroxydeoxycholic Acid       15.91   \n\n  RT shift (product-substrate)RP or (substrate-product)NP  \\\n0                                              -0.98        \n1                                               -2.8        \n2                                              -2.92        \n3                                              -8.21        \n4                                              -8.24        \n\n                                     Aglycone smiles  \\\n0                               CC1=C(C=C(C=C1O)OC)O   \n1          CCOC1=CC=CC(=C1)C(=O)C2=C(C(=C(C=C2)O)O)O   \n2          CCOC1=CC=CC(=C1)C(=O)C2=C(C(=C(C=C2)O)O)O   \n3  C[C@H](CCC(=O)O)[C@H]1CC[C@@H]2[C@@]1(CC[C@H]3...   \n4  C[C@H](CCC(=O)O)[C@H]1CC[C@@H]2[C@@]1(CC[C@H]3...   \n\n             Aglycone InChikey  ... library-inchikey  \\\n0  YPIDZFLQKNEKRA-UHFFFAOYSA-N  ...   XQDNFAMOIPNVES   \n1   IPLQLQEWXCSIX-UHFFFAOYSA-N  ...   DXDRHHKMWQZJHT   \n2   IPLQLQEWXCSIX-UHFFFAOYSA-N  ...   VYIBOCHDJVESIU   \n3  DGABKXLVXPYZII-SIBKNCMHSA-N  ...   KIQFUORWRVZTHT   \n4  DGABKXLVXPYZII-SIBKNCMHSA-N  ...   KXGVEGMKQFWNSR   \n\n                             library-name library-identity_score  \\\n0                     3,5-DIMETHOXYPHENOL               0.445285   \n1                       isoliquiritigenin             0.36066824   \n2  2,3,4-TRIHYDROXY-4'-ETHOXYBENZOPHENONE             0.70524913   \n3                     3-Ketocholanic Acid              0.6399134   \n4                        Deoxycholic Acid              0.7789851   \n\n   Product ion intensity (-120.042 loss)  \\\n0                                    0.0   \n1                                    0.0   \n2                                    0.0   \n3                                    0.0   \n4                                    0.0   \n\n  Product ion intensity (-162.0533 loss)  \\\n0                               0.192825   \n1                               0.013065   \n2                               0.000000   \n3                               0.000000   \n4                               0.000000   \n\n  Product ion intensity (-324.1066 loss) Product ion intensity (-90.032 loss)  \\\n0                                    0.0                                  0.0   \n1                                    0.0                                  0.0   \n2                                    0.0                                  0.0   \n3                                    0.0                                  0.0   \n4                                    0.0                                  0.0   \n\n         inchikey                                             smiles  \\\n0  XQDNFAMOIPNVES                               COC1=CC(=CC(=C1)O)OC   \n1  DXDRHHKMWQZJHT            C1=CC(=CC=C1C=CC(=O)C2=C(C=C(C=C2)O)O)O   \n2  VYIBOCHDJVESIU          CCOC1=CC=C(C=C1)C(=O)C2=C(C(=C(C=C2)O)O)O   \n3  KIQFUORWRVZTHT    CC(CCC(=O)O)C1CCC2C1(CCC3C2CCC4C3(CCC(=O)C4)C)C   \n4  KXGVEGMKQFWNSR  CC(CCC(=O)O)C1CCC2C1(C(CC3C2CCC4C3(CCC(C4)O)C)O)C   \n\n  bond_difference  \n0             1.0  \n1             3.5  \n2             1.0  \n3             1.5  \n4             1.0  \n\n[5 rows x 31 columns]",
      "text/html": "<div>\n<style scoped>\n    .dataframe tbody tr th:only-of-type {\n        vertical-align: middle;\n    }\n\n    .dataframe tbody tr th {\n        vertical-align: top;\n    }\n\n    .dataframe thead th {\n        text-align: right;\n    }\n</style>\n<table border=\"1\" class=\"dataframe\">\n  <thead>\n    <tr style=\"text-align: right;\">\n      <th></th>\n      <th>Output type</th>\n      <th>precursor_mz</th>\n      <th>ms1_precursor_intensity</th>\n      <th>retention_time</th>\n      <th>Product name</th>\n      <th>Aglycone name</th>\n      <th>Aglycone RT</th>\n      <th>RT shift (product-substrate)RP or (substrate-product)NP</th>\n      <th>Aglycone smiles</th>\n      <th>Aglycone InChikey</th>\n      <th>...</th>\n      <th>library-inchikey</th>\n      <th>library-name</th>\n      <th>library-identity_score</th>\n      <th>Product ion intensity (-120.042 loss)</th>\n      <th>Product ion intensity (-162.0533 loss)</th>\n      <th>Product ion intensity (-324.1066 loss)</th>\n      <th>Product ion intensity (-90.032 loss)</th>\n      <th>inchikey</th>\n      <th>smiles</th>\n      <th>bond_difference</th>\n    </tr>\n  </thead>\n  <tbody>\n    <tr>\n      <th>0</th>\n      <td>162 shift</td>\n      <td>317.1242</td>\n      <td>7120000.0</td>\n      <td>3.42</td>\n      <td>2,6-Dihydroxy-4-Methoxytoluene_glycoside</td>\n      <td>2,6-Dihydroxy-4-Methoxytoluene</td>\n      <td>4.4</td>\n      <td>-0.98</td>\n      <td>CC1=C(C=C(C=C1O)OC)O</td>\n      <td>YPIDZFLQKNEKRA-UHFFFAOYSA-N</td>\n      <td>...</td>\n      <td>XQDNFAMOIPNVES</td>\n      <td>3,5-DIMETHOXYPHENOL</td>\n      <td>0.445285</td>\n      <td>0.0</td>\n      <td>0.192825</td>\n      <td>0.0</td>\n      <td>0.0</td>\n      <td>XQDNFAMOIPNVES</td>\n      <td>COC1=CC(=CC(=C1)O)OC</td>\n      <td>1.0</td>\n    </tr>\n    <tr>\n      <th>1</th>\n      <td>162 shift</td>\n      <td>419.1334</td>\n      <td>16000000.0</td>\n      <td>5.67</td>\n      <td>3,4-Didesmethyl-5-Deshydroxy-3'-Ethoxyscleroin...</td>\n      <td>3,4-Didesmethyl-5-Deshydroxy-3'-Ethoxyscleroin</td>\n      <td>8.47</td>\n      <td>-2.8</td>\n      <td>CCOC1=CC=CC(=C1)C(=O)C2=C(C(=C(C=C2)O)O)O</td>\n      <td>IPLQLQEWXCSIX-UHFFFAOYSA-N</td>\n      <td>...</td>\n      <td>DXDRHHKMWQZJHT</td>\n      <td>isoliquiritigenin</td>\n      <td>0.36066824</td>\n      <td>0.0</td>\n      <td>0.013065</td>\n      <td>0.0</td>\n      <td>0.0</td>\n      <td>DXDRHHKMWQZJHT</td>\n      <td>C1=CC(=CC=C1C=CC(=O)C2=C(C=C(C=C2)O)O)O</td>\n      <td>3.5</td>\n    </tr>\n    <tr>\n      <th>2</th>\n      <td>162 shift</td>\n      <td>437.1438</td>\n      <td>5130000.0</td>\n      <td>5.55</td>\n      <td>3,4-Didesmethyl-5-Deshydroxy-3'-Ethoxyscleroin...</td>\n      <td>3,4-Didesmethyl-5-Deshydroxy-3'-Ethoxyscleroin</td>\n      <td>8.47</td>\n      <td>-2.92</td>\n      <td>CCOC1=CC=CC(=C1)C(=O)C2=C(C(=C(C=C2)O)O)O</td>\n      <td>IPLQLQEWXCSIX-UHFFFAOYSA-N</td>\n      <td>...</td>\n      <td>VYIBOCHDJVESIU</td>\n      <td>2,3,4-TRIHYDROXY-4'-ETHOXYBENZOPHENONE</td>\n      <td>0.70524913</td>\n      <td>0.0</td>\n      <td>0.000000</td>\n      <td>0.0</td>\n      <td>0.0</td>\n      <td>VYIBOCHDJVESIU</td>\n      <td>CCOC1=CC=C(C=C1)C(=O)C2=C(C(=C(C=C2)O)O)O</td>\n      <td>1.0</td>\n    </tr>\n    <tr>\n      <th>3</th>\n      <td>162 shift</td>\n      <td>537.3416</td>\n      <td>10000000.0</td>\n      <td>7.70</td>\n      <td>Alpha-Hydroxydeoxycholic Acid_glycoside</td>\n      <td>Alpha-Hydroxydeoxycholic Acid</td>\n      <td>15.91</td>\n      <td>-8.21</td>\n      <td>C[C@H](CCC(=O)O)[C@H]1CC[C@@H]2[C@@]1(CC[C@H]3...</td>\n      <td>DGABKXLVXPYZII-SIBKNCMHSA-N</td>\n      <td>...</td>\n      <td>KIQFUORWRVZTHT</td>\n      <td>3-Ketocholanic Acid</td>\n      <td>0.6399134</td>\n      <td>0.0</td>\n      <td>0.000000</td>\n      <td>0.0</td>\n      <td>0.0</td>\n      <td>KIQFUORWRVZTHT</td>\n      <td>CC(CCC(=O)O)C1CCC2C1(CCC3C2CCC4C3(CCC(=O)C4)C)C</td>\n      <td>1.5</td>\n    </tr>\n    <tr>\n      <th>4</th>\n      <td>162 shift</td>\n      <td>555.3520</td>\n      <td>38300000.0</td>\n      <td>7.67</td>\n      <td>Alpha-Hydroxydeoxycholic Acid_glycoside</td>\n      <td>Alpha-Hydroxydeoxycholic Acid</td>\n      <td>15.91</td>\n      <td>-8.24</td>\n      <td>C[C@H](CCC(=O)O)[C@H]1CC[C@@H]2[C@@]1(CC[C@H]3...</td>\n      <td>DGABKXLVXPYZII-SIBKNCMHSA-N</td>\n      <td>...</td>\n      <td>KXGVEGMKQFWNSR</td>\n      <td>Deoxycholic Acid</td>\n      <td>0.7789851</td>\n      <td>0.0</td>\n      <td>0.000000</td>\n      <td>0.0</td>\n      <td>0.0</td>\n      <td>KXGVEGMKQFWNSR</td>\n      <td>CC(CCC(=O)O)C1CCC2C1(C(CC3C2CCC4C3(CCC(C4)O)C)O)C</td>\n      <td>1.0</td>\n    </tr>\n  </tbody>\n</table>\n<p>5 rows × 31 columns</p>\n</div>"
     },
     "execution_count": 7,
     "metadata": {},
     "output_type": "execute_result"
    }
   ],
   "source": [
    "data.head()"
   ],
   "metadata": {
    "collapsed": false,
    "pycharm": {
     "name": "#%%\n"
    }
   }
  },
  {
   "cell_type": "code",
   "execution_count": 8,
   "outputs": [
    {
     "name": "stderr",
     "output_type": "stream",
     "text": [
      "100%|██████████| 1331/1331 [00:19<00:00, 68.17it/s] \n",
      "100%|██████████| 1182/1182 [00:13<00:00, 89.42it/s] \n"
     ]
    }
   ],
   "source": [
    "data_true_seed = find_unique(data_true)\n",
    "data_false_seed = find_unique(data_false)"
   ],
   "metadata": {
    "collapsed": false,
    "pycharm": {
     "name": "#%%\n"
    }
   }
  },
  {
   "cell_type": "code",
   "execution_count": 9,
   "outputs": [
    {
     "data": {
      "text/plain": "     Output type  precursor_mz  ms1_precursor_intensity  retention_time  \\\n0      162 shift      470.3108                5610000.0            8.20   \n1      162 shift      453.2844                 677000.0            8.15   \n2977   324 shift      632.3634                3520000.0            7.92   \n2978   324 shift      632.3633               17400000.0            7.29   \n3749   162 shift      468.2584                8780000.0            8.17   \n\n                  Product name Aglycone name Aglycone RT  \\\n0       Androsterone_glycoside  Androsterone       10.21   \n1       Androsterone_glycoside  Androsterone       10.21   \n2977  Androsterone_diglycoside  Androsterone       10.21   \n2978  Androsterone_diglycoside  Androsterone       10.21   \n3749       CAPSAICIN_glycoside     CAPSAICIN        9.75   \n\n     RT shift (product-substrate)RP or (substrate-product)NP  \\\n0                                                 -2.01        \n1                                                 -2.06        \n2977                                              -2.29        \n2978                                              -2.92        \n3749                                              -1.58        \n\n                                        Aglycone smiles  \\\n0     C[C@]12CC[C@H](C[C@@H]1CC[C@@H]3[C@@H]2CC[C@]4...   \n1     C[C@]12CC[C@H](C[C@@H]1CC[C@@H]3[C@@H]2CC[C@]4...   \n2977  C[C@]12CC[C@H](C[C@@H]1CC[C@@H]3[C@@H]2CC[C@]4...   \n2978  C[C@]12CC[C@H](C[C@@H]1CC[C@@H]3[C@@H]2CC[C@]4...   \n3749            CC(C)/C=C/CCCCC(=O)NCC1=CC(=C(C=C1)O)OC   \n\n                Aglycone InChikey  ... Product ion intensity (-120.042 loss)  \\\n0     QGXBDMJGAMFCBF-HLUDHZFRSA-N  ...                                   0.0   \n1     QGXBDMJGAMFCBF-HLUDHZFRSA-N  ...                                   0.0   \n2977  QGXBDMJGAMFCBF-HLUDHZFRSA-N  ...                                   0.0   \n2978  QGXBDMJGAMFCBF-HLUDHZFRSA-N  ...                                   0.0   \n3749  YKPUWZUDDOIDPM-SOFGYWHQSA-N  ...                                   0.0   \n\n     Product ion intensity (-162.0533 loss)  \\\n0                                       0.0   \n1                                       0.0   \n2977                                    0.0   \n2978                                    0.0   \n3749                                    0.0   \n\n     Product ion intensity (-324.1066 loss)  \\\n0                                       0.0   \n1                                       0.0   \n2977                                    0.0   \n2978                                    0.0   \n3749                                    0.0   \n\n      Product ion intensity (-90.032 loss)        inchikey  \\\n0                                      0.0  QGXBDMJGAMFCBF   \n1                                      0.0  QGXBDMJGAMFCBF   \n2977                                   0.0  QGXBDMJGAMFCBF   \n2978                                   0.0  QGXBDMJGAMFCBF   \n3749                                   0.0  YKPUWZUDDOIDPM   \n\n                                     smiles bond_difference rt_match_id  \\\n0        CC12CCC(CC1CCC3C2CCC4(C3CCC4=O)C)O             0.0           0   \n1        CC12CCC(CC1CCC3C2CCC4(C3CCC4=O)C)O             0.0           1   \n2977     CC12CCC(CC1CCC3C2CCC4(C3CCC4=O)C)O             0.0        2977   \n2978     CC12CCC(CC1CCC3C2CCC4(C3CCC4=O)C)O             0.0        2978   \n3749  CC(C)C=CCCCCC(=O)NCC1=CC(=C(C=C1)O)OC             0.0        3749   \n\n      hits_rt seed_found  \n0           1          0  \n1           1          0  \n2977        0       2977  \n2978        0       2978  \n3749        0       3749  \n\n[5 rows x 34 columns]",
      "text/html": "<div>\n<style scoped>\n    .dataframe tbody tr th:only-of-type {\n        vertical-align: middle;\n    }\n\n    .dataframe tbody tr th {\n        vertical-align: top;\n    }\n\n    .dataframe thead th {\n        text-align: right;\n    }\n</style>\n<table border=\"1\" class=\"dataframe\">\n  <thead>\n    <tr style=\"text-align: right;\">\n      <th></th>\n      <th>Output type</th>\n      <th>precursor_mz</th>\n      <th>ms1_precursor_intensity</th>\n      <th>retention_time</th>\n      <th>Product name</th>\n      <th>Aglycone name</th>\n      <th>Aglycone RT</th>\n      <th>RT shift (product-substrate)RP or (substrate-product)NP</th>\n      <th>Aglycone smiles</th>\n      <th>Aglycone InChikey</th>\n      <th>...</th>\n      <th>Product ion intensity (-120.042 loss)</th>\n      <th>Product ion intensity (-162.0533 loss)</th>\n      <th>Product ion intensity (-324.1066 loss)</th>\n      <th>Product ion intensity (-90.032 loss)</th>\n      <th>inchikey</th>\n      <th>smiles</th>\n      <th>bond_difference</th>\n      <th>rt_match_id</th>\n      <th>hits_rt</th>\n      <th>seed_found</th>\n    </tr>\n  </thead>\n  <tbody>\n    <tr>\n      <th>0</th>\n      <td>162 shift</td>\n      <td>470.3108</td>\n      <td>5610000.0</td>\n      <td>8.20</td>\n      <td>Androsterone_glycoside</td>\n      <td>Androsterone</td>\n      <td>10.21</td>\n      <td>-2.01</td>\n      <td>C[C@]12CC[C@H](C[C@@H]1CC[C@@H]3[C@@H]2CC[C@]4...</td>\n      <td>QGXBDMJGAMFCBF-HLUDHZFRSA-N</td>\n      <td>...</td>\n      <td>0.0</td>\n      <td>0.0</td>\n      <td>0.0</td>\n      <td>0.0</td>\n      <td>QGXBDMJGAMFCBF</td>\n      <td>CC12CCC(CC1CCC3C2CCC4(C3CCC4=O)C)O</td>\n      <td>0.0</td>\n      <td>0</td>\n      <td>1</td>\n      <td>0</td>\n    </tr>\n    <tr>\n      <th>1</th>\n      <td>162 shift</td>\n      <td>453.2844</td>\n      <td>677000.0</td>\n      <td>8.15</td>\n      <td>Androsterone_glycoside</td>\n      <td>Androsterone</td>\n      <td>10.21</td>\n      <td>-2.06</td>\n      <td>C[C@]12CC[C@H](C[C@@H]1CC[C@@H]3[C@@H]2CC[C@]4...</td>\n      <td>QGXBDMJGAMFCBF-HLUDHZFRSA-N</td>\n      <td>...</td>\n      <td>0.0</td>\n      <td>0.0</td>\n      <td>0.0</td>\n      <td>0.0</td>\n      <td>QGXBDMJGAMFCBF</td>\n      <td>CC12CCC(CC1CCC3C2CCC4(C3CCC4=O)C)O</td>\n      <td>0.0</td>\n      <td>1</td>\n      <td>1</td>\n      <td>0</td>\n    </tr>\n    <tr>\n      <th>2977</th>\n      <td>324 shift</td>\n      <td>632.3634</td>\n      <td>3520000.0</td>\n      <td>7.92</td>\n      <td>Androsterone_diglycoside</td>\n      <td>Androsterone</td>\n      <td>10.21</td>\n      <td>-2.29</td>\n      <td>C[C@]12CC[C@H](C[C@@H]1CC[C@@H]3[C@@H]2CC[C@]4...</td>\n      <td>QGXBDMJGAMFCBF-HLUDHZFRSA-N</td>\n      <td>...</td>\n      <td>0.0</td>\n      <td>0.0</td>\n      <td>0.0</td>\n      <td>0.0</td>\n      <td>QGXBDMJGAMFCBF</td>\n      <td>CC12CCC(CC1CCC3C2CCC4(C3CCC4=O)C)O</td>\n      <td>0.0</td>\n      <td>2977</td>\n      <td>0</td>\n      <td>2977</td>\n    </tr>\n    <tr>\n      <th>2978</th>\n      <td>324 shift</td>\n      <td>632.3633</td>\n      <td>17400000.0</td>\n      <td>7.29</td>\n      <td>Androsterone_diglycoside</td>\n      <td>Androsterone</td>\n      <td>10.21</td>\n      <td>-2.92</td>\n      <td>C[C@]12CC[C@H](C[C@@H]1CC[C@@H]3[C@@H]2CC[C@]4...</td>\n      <td>QGXBDMJGAMFCBF-HLUDHZFRSA-N</td>\n      <td>...</td>\n      <td>0.0</td>\n      <td>0.0</td>\n      <td>0.0</td>\n      <td>0.0</td>\n      <td>QGXBDMJGAMFCBF</td>\n      <td>CC12CCC(CC1CCC3C2CCC4(C3CCC4=O)C)O</td>\n      <td>0.0</td>\n      <td>2978</td>\n      <td>0</td>\n      <td>2978</td>\n    </tr>\n    <tr>\n      <th>3749</th>\n      <td>162 shift</td>\n      <td>468.2584</td>\n      <td>8780000.0</td>\n      <td>8.17</td>\n      <td>CAPSAICIN_glycoside</td>\n      <td>CAPSAICIN</td>\n      <td>9.75</td>\n      <td>-1.58</td>\n      <td>CC(C)/C=C/CCCCC(=O)NCC1=CC(=C(C=C1)O)OC</td>\n      <td>YKPUWZUDDOIDPM-SOFGYWHQSA-N</td>\n      <td>...</td>\n      <td>0.0</td>\n      <td>0.0</td>\n      <td>0.0</td>\n      <td>0.0</td>\n      <td>YKPUWZUDDOIDPM</td>\n      <td>CC(C)C=CCCCCC(=O)NCC1=CC(=C(C=C1)O)OC</td>\n      <td>0.0</td>\n      <td>3749</td>\n      <td>0</td>\n      <td>3749</td>\n    </tr>\n  </tbody>\n</table>\n<p>5 rows × 34 columns</p>\n</div>"
     },
     "execution_count": 9,
     "metadata": {},
     "output_type": "execute_result"
    }
   ],
   "source": [
    "data_true_seed.head()"
   ],
   "metadata": {
    "collapsed": false,
    "pycharm": {
     "name": "#%%\n"
    }
   }
  },
  {
   "cell_type": "code",
   "execution_count": 180,
   "outputs": [
    {
     "name": "stderr",
     "output_type": "stream",
     "text": [
      "100%|██████████| 1331/1331 [00:20<00:00, 64.77it/s] \n",
      "100%|██████████| 1182/1182 [00:12<00:00, 91.15it/s] \n"
     ]
    }
   ],
   "source": [
    "# data_true_seed = find_unique(data_true)\n",
    "# data_false_seed = find_unique(data_false)"
   ],
   "metadata": {
    "collapsed": false,
    "pycharm": {
     "name": "#%%\n"
    }
   }
  },
  {
   "cell_type": "code",
   "execution_count": 10,
   "outputs": [],
   "source": [
    "from toolsets.spectra_operations import weighted_average_spectra\n",
    "for dataset in [data_true_seed,data_false_seed]:\n",
    "    # wa_spctra = []\n",
    "    # wa_rts = []\n",
    "    dataset['key']=dataset['seed_found'].astype(str)+dataset['Expected precursor_adduct']\n",
    "    dataset.sort_values(by = ['key','ms1_precursor_intensity'], ascending=False, inplace=True)\n",
    "    dataset.drop_duplicates('key', keep='first', inplace=True)\n"
   ],
   "metadata": {
    "collapsed": false,
    "pycharm": {
     "name": "#%%\n"
    }
   }
  },
  {
   "cell_type": "markdown",
   "source": [],
   "metadata": {
    "collapsed": false,
    "pycharm": {
     "name": "#%% md\n"
    }
   }
  },
  {
   "cell_type": "code",
   "execution_count": 12,
   "outputs": [],
   "source": [
    "data_true_seed.reset_index(inplace=True, drop=True)\n",
    "data_false_seed.reset_index(inplace=True, drop=True)"
   ],
   "metadata": {
    "collapsed": false,
    "pycharm": {
     "name": "#%%\n"
    }
   }
  },
  {
   "cell_type": "code",
   "execution_count": 13,
   "outputs": [],
   "source": [
    "data_true_seed.to_csv(os.path.join(source_dir, 'msms_matched_deduplicated.csv'), index = False)\n",
    "data_false_seed.to_csv(os.path.join(source_dir, 'msms_unmatched_deduplicated.csv'), index = False)"
   ],
   "metadata": {
    "collapsed": false,
    "pycharm": {
     "name": "#%%\n"
    }
   }
  },
  {
   "cell_type": "code",
   "execution_count": 188,
   "outputs": [],
   "source": [
    "# from toolsets.helpers import split_unique_duplicates\n",
    "# # print(\"first round of unique keys confirming...\")\n",
    "# matched_confirmed, matched_unconfirmed = split_unique_duplicates(matched)\n",
    "# len(matched['reference_Substrate Name'].unique())\n",
    "# len(matched)\n",
    "# from toolsets.helpers import match_by_rt\n",
    "# print(\"second round of confirming via rt...\")\n",
    "# matched_confirmed_rt, matched_unconfirmed_rt =match_by_rt(matched_confirmed, matched_unconfirmed)\n",
    "# from toolsets.helpers import deduplicate\n",
    "# print(\"start deduplicating of unconfirmed matches...\")\n",
    "# deduplicated = deduplicate(matched_unconfirmed_rt)\n",
    "# print(\"deduplicating of unconfirmed matches done\")\n",
    "# result = pd.concat([matched_confirmed_rt, deduplicated], axis=0)\n",
    "# result.reset_index(inplace=True, drop= True)\n",
    "# len(result['reference_Substrate Name'].unique())\n",
    "# len(matched['reference_Substrate Name'].unique())\n",
    "# result.to_csv(os.path.join(source_dir, \"deduplicated_result.csv\"), index = False)"
   ],
   "metadata": {
    "collapsed": false,
    "pycharm": {
     "name": "#%%\n"
    }
   }
  }
 ],
 "metadata": {
  "kernelspec": {
   "name": "alphapept_env",
   "language": "python",
   "display_name": "alphapept_env"
  },
  "language_info": {
   "codemirror_mode": {
    "name": "ipython",
    "version": 2
   },
   "file_extension": ".py",
   "mimetype": "text/x-python",
   "name": "python",
   "nbconvert_exporter": "python",
   "pygments_lexer": "ipython2",
   "version": "2.7.6"
  }
 },
 "nbformat": 4,
 "nbformat_minor": 0
}