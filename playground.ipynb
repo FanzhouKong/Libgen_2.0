{
 "cells": [
  {
   "cell_type": "markdown",
   "source": [
    "# test for psa functionality"
   ],
   "metadata": {
    "collapsed": false,
    "pycharm": {
     "name": "#%% md\n"
    }
   }
  },
  {
   "cell_type": "code",
   "execution_count": 2,
   "outputs": [],
   "source": [
    "import os\n",
    "\n",
    "import pandas as pd\n",
    "from rdkit import Chem\n",
    "import collections\n",
    "\n",
    "# Some place to store the pattern defintions\n",
    "Pattern = collections.namedtuple(\"Pattern\", [\"value\", \"subsearch\"])\n",
    "patterns = []\n",
    "\n",
    "# Get the patterns from the tpsa.tab file, ignoring the header line\n",
    "# for line in open(\"tpsa.tab\").readlines()[1:]:\n",
    "#     # Extract the fields\n",
    "#     value, smarts, comment = line.split(\"\\t\")\n",
    "#\n",
    "#     # Use the SMARTS to define a subsearch object\n",
    "#     subsearch = Chem.MolFromSmarts(smarts)\n",
    "#\n",
    "#     # Store for later use\n",
    "#     patterns.append( Pattern(float(value), subsearch) )\n",
    "\n",
    "# Helper function to count how many times a substructure matches\n",
    "def count_matches(subsearch, mol):\n",
    "    return len(mol.GetSubstructMatches(subsearch))\n",
    "\n",
    "def TPSA(mol):\n",
    "    \"Compute the topological polar surface area of a molecule\"\n",
    "    return sum(count_matches(pattern.subsearch, mol)*pattern.value\n",
    "                   for pattern in patterns)\n",
    "\n",
    "# Test it with the reference structure\n"
   ],
   "metadata": {
    "collapsed": false,
    "pycharm": {
     "name": "#%%\n"
    }
   }
  },
  {
   "cell_type": "code",
   "execution_count": 5,
   "outputs": [
    {
     "ename": "AttributeError",
     "evalue": "module 'rdkit.Chem' has no attribute 'Descriptors'",
     "output_type": "error",
     "traceback": [
      "\u001B[0;31m---------------------------------------------------------------------------\u001B[0m",
      "\u001B[0;31mAttributeError\u001B[0m                            Traceback (most recent call last)",
      "Input \u001B[0;32mIn [5]\u001B[0m, in \u001B[0;36m<cell line: 2>\u001B[0;34m()\u001B[0m\n\u001B[1;32m      1\u001B[0m mol \u001B[38;5;241m=\u001B[39m Chem\u001B[38;5;241m.\u001B[39mMolFromSmiles(\u001B[38;5;124m\"\u001B[39m\u001B[38;5;124mCN2C(=O)N(C)C(=O)C1=C2N=CN1C\u001B[39m\u001B[38;5;124m\"\u001B[39m)\n\u001B[0;32m----> 2\u001B[0m \u001B[43mChem\u001B[49m\u001B[38;5;241;43m.\u001B[39;49m\u001B[43mDescriptors\u001B[49m\u001B[38;5;241m.\u001B[39mCalcTPSA(mol)\n",
      "\u001B[0;31mAttributeError\u001B[0m: module 'rdkit.Chem' has no attribute 'Descriptors'"
     ]
    }
   ],
   "source": [
    "mol = Chem.MolFromSmiles(\"CN2C(=O)N(C)C(=O)C1=C2N=CN1C\")\n",
    "Chem.Descriptors.CalcTPSA(mol)"
   ],
   "metadata": {
    "collapsed": false,
    "pycharm": {
     "name": "#%%\n"
    }
   }
  },
  {
   "cell_type": "code",
   "execution_count": 9,
   "outputs": [],
   "source": [
    "import rdkit"
   ],
   "metadata": {
    "collapsed": false,
    "pycharm": {
     "name": "#%%\n"
    }
   }
  },
  {
   "cell_type": "code",
   "execution_count": 12,
   "outputs": [
    {
     "data": {
      "text/plain": "61.82"
     },
     "execution_count": 12,
     "metadata": {},
     "output_type": "execute_result"
    }
   ],
   "source": [
    "from rdkit.Chem import rdMolDescriptors\n",
    "rdMolDescriptors.CalcTPSA(mol)"
   ],
   "metadata": {
    "collapsed": false,
    "pycharm": {
     "name": "#%%\n"
    }
   }
  },
  {
   "cell_type": "markdown",
   "source": [
    "# test for finding MS1 peak"
   ],
   "metadata": {
    "collapsed": false,
    "pycharm": {
     "name": "#%% md\n"
    }
   }
  },
  {
   "cell_type": "code",
   "execution_count": 49,
   "outputs": [],
   "source": [
    "from toolsets.ms2_spectra_plotter import ms2_plot, head_to_tail_plot\n",
    "def chop_msms(msms, lowest_allowed, highest_allowed):\n",
    "    import bisect\n",
    "    import toolsets.spectra_operations as so\n",
    "    msms = so.sort_spectra(msms)\n",
    "    mass, intensity = so.break_spectra(msms)\n",
    "    upper_allowed = bisect.bisect_right(mass, highest_allowed)\n",
    "    lower_allowed = bisect.bisect_left(mass, lowest_allowed)\n",
    "    # pep_index = mass.index(parention)\n",
    "    mass_choppped = mass[lower_allowed:upper_allowed]\n",
    "    intensity_chopped = intensity[lower_allowed:upper_allowed]\n",
    "    if len(mass_choppped)>0 and len(intensity_chopped)>0:\n",
    "        return(so.pack_spectra(mass_choppped, intensity_chopped))\n",
    "    else:\n",
    "        return(so.pack_spectra([0],[0]))\n",
    "from toolsets.search import string_search, num_search\n",
    "from mimas.external.features_by_alphapept.load_mzml_data import load_mzml_data\n",
    "def base_peak_finder(msms):\n",
    "    import toolsets.spectra_operations as so\n",
    "    mass, intensity = so.break_spectra(msms)\n",
    "    max_idx = np.argmax(intensity)\n",
    "    return (mass[max_idx], intensity[max_idx])\n",
    "def _extract_MS1(mzml, scan_number):\n",
    "    from toolsets.spectra_operations import pack_spectra\n",
    "    ms1_1 = pack_spectra(mzml['mass_list_ms1'][mzml['indices_ms1'][scan_number]:mzml['indices_ms1'][scan_number+1]],\n",
    "                     mzml['int_list_ms1'][mzml['indices_ms1'][scan_number]:mzml['indices_ms1'][scan_number+1]])\n",
    "    return (ms1_1)"
   ],
   "metadata": {
    "collapsed": false,
    "pycharm": {
     "name": "#%%\n"
    }
   }
  },
  {
   "cell_type": "code",
   "execution_count": 54,
   "outputs": [],
   "source": [
    "test_mzml = load_mzml_data(\"/Volumes/Samsung_T5/EAD/EAD_mzml/PFPpos_P N 3_EAD.mzML\")"
   ],
   "metadata": {
    "collapsed": false,
    "pycharm": {
     "name": "#%%\n"
    }
   }
  },
  {
   "cell_type": "code",
   "execution_count": 55,
   "outputs": [],
   "source": [
    "from toolsets.file_io import read_in_alphapept\n",
    "test_feature = read_in_alphapept(\"/Volumes/Samsung_T5/EAD/output_with_ms1int/PFPpos_P N 3_EAD.csv\")"
   ],
   "metadata": {
    "collapsed": false,
    "pycharm": {
     "name": "#%%\n"
    }
   }
  },
  {
   "cell_type": "code",
   "execution_count": 56,
   "outputs": [],
   "source": [
    "test_library = pd.read_csv(\"/Users/fanzhoukong/Documents/GitHub/Libgen_data/EAD/pfp_matched.csv\")"
   ],
   "metadata": {
    "collapsed": false,
    "pycharm": {
     "name": "#%%\n"
    }
   }
  },
  {
   "cell_type": "code",
   "execution_count": 58,
   "outputs": [],
   "source": [
    "test_library=string_search(test_library, 'reference_Mix',  'PFPpos_P N 3_EAD')"
   ],
   "metadata": {
    "collapsed": false,
    "pycharm": {
     "name": "#%%\n"
    }
   }
  },
  {
   "cell_type": "code",
   "execution_count": 62,
   "outputs": [
    {
     "data": {
      "text/plain": "scan_number                                                                  143\nprecursor_mz                                                          501.158001\ncharge                                                                         1\nms1_intensity_ratio                                                     0.999287\nms1_precursor_intensity                                                  58872.0\nretention_time                                                          0.399333\npeaks                          115.054207\\t12.218229\\n126.032028\\t4.835021\\n1...\nms1_index                                                                     96\nquery_idx                                                                     46\nreference_Name                 (2R,3S,4S,5R,6S)-2-[(3,4,5-trihydroxyoxan-2-yl...\nreference_InChIKey                                   GGIDHIBVLYVTAU-QGPLIYBISA-N\nreference_Mix                                                   PFPpos_P N 3_EAD\nreference_Formula                                                      C20H30O13\nreference_Monoisotopic mass                                           478.168641\nreference_column                                                             PFP\nreference_adduct                                                         [M+Na]+\nreference_precursor_mz                                                  501.1579\nkey                                           GGIDHIBVLYVTAU-QGPLIYBISA-N[M+Na]+\nName: 491, dtype: object"
     },
     "execution_count": 62,
     "metadata": {},
     "output_type": "execute_result"
    }
   ],
   "source": [
    "test_library.iloc[2]"
   ],
   "metadata": {
    "collapsed": false,
    "pycharm": {
     "name": "#%%\n"
    }
   }
  },
  {
   "cell_type": "code",
   "execution_count": 61,
   "outputs": [],
   "source": [
    "ms1 = _extract_MS1(test_mzml, 96)"
   ],
   "metadata": {
    "collapsed": false,
    "pycharm": {
     "name": "#%%\n"
    }
   }
  },
  {
   "cell_type": "code",
   "execution_count": 140,
   "outputs": [],
   "source": [
    "from toolsets.alphapept_helper import centroid_data"
   ],
   "metadata": {
    "collapsed": false,
    "pycharm": {
     "name": "#%%\n"
    }
   }
  },
  {
   "cell_type": "code",
   "execution_count": 141,
   "outputs": [],
   "source": [
    "mass_centroid, intensity_centroid = centroid_data(mass_ms1, intensity_ms1)"
   ],
   "metadata": {
    "collapsed": false,
    "pycharm": {
     "name": "#%%\n"
    }
   }
  },
  {
   "cell_type": "code",
   "execution_count": 130,
   "outputs": [
    {
     "data": {
      "text/plain": "20213"
     },
     "execution_count": 130,
     "metadata": {},
     "output_type": "execute_result"
    }
   ],
   "source": [],
   "metadata": {
    "collapsed": false,
    "pycharm": {
     "name": "#%%\n"
    }
   }
  },
  {
   "cell_type": "code",
   "execution_count": 129,
   "outputs": [
    {
     "data": {
      "text/plain": "3499"
     },
     "execution_count": 129,
     "metadata": {},
     "output_type": "execute_result"
    }
   ],
   "source": [
    "len(mass_centroid)"
   ],
   "metadata": {
    "collapsed": false,
    "pycharm": {
     "name": "#%%\n"
    }
   }
  },
  {
   "cell_type": "code",
   "execution_count": 132,
   "outputs": [],
   "source": [
    "import toolsets.spectra_operations as so\n",
    "mass, intensity = so.break_spectra(chop_msms(so.pack_spectra(mass_centroid, intensity_centroid), 501.158001-2, 501.158001+2))"
   ],
   "metadata": {
    "collapsed": false,
    "pycharm": {
     "name": "#%%\n"
    }
   }
  },
  {
   "cell_type": "code",
   "execution_count": 133,
   "outputs": [
    {
     "data": {
      "text/plain": "[499.17302748065254,\n 499.1912606096775,\n 499.208443308014,\n 499.2231895360347,\n 499.5048680517138,\n 499.6504495806763,\n 499.655898553262,\n 499.66822569918526,\n 500.1347974188183,\n 500.1397527302294,\n 500.14648161233015,\n 500.16230745052576,\n 500.17459485296285,\n 500.1823191119079,\n 500.21179346848896,\n 500.64691600106266,\n 501.10293662694494,\n 501.13363241275954,\n 501.157657249956,\n 501.19597218949883,\n 501.63505097980453,\n 502.12105266386476,\n 502.129015371816,\n 502.14141441967166,\n 502.1617908426446,\n 502.1875733617258,\n 502.2087706035046,\n 502.2253234849047,\n 503.07978020845025,\n 503.09584289010553,\n 503.1037847300145,\n 503.11356745505924,\n 503.1224406506439,\n 503.1325330449125,\n 503.13926471870684]"
     },
     "execution_count": 133,
     "metadata": {},
     "output_type": "execute_result"
    }
   ],
   "source": [
    "mass"
   ],
   "metadata": {
    "collapsed": false,
    "pycharm": {
     "name": "#%%\n"
    }
   }
  },
  {
   "cell_type": "code",
   "execution_count": 175,
   "outputs": [],
   "source": [
    "chopped_msms = chop_msms(so.pack_spectra(mass_centroid, intensity_centroid), 501.158001-2, 501.158001+3)"
   ],
   "metadata": {
    "collapsed": false,
    "pycharm": {
     "name": "#%%\n"
    }
   }
  },
  {
   "cell_type": "code",
   "execution_count": 164,
   "outputs": [
    {
     "data": {
      "text/plain": "<module 'matplotlib.pyplot' from '/opt/homebrew/Caskroom/miniforge/base/envs/alphapept_env/lib/python3.8/site-packages/matplotlib/pyplot.py'>"
     },
     "execution_count": 164,
     "metadata": {},
     "output_type": "execute_result"
    },
    {
     "data": {
      "text/plain": "<Figure size 700x500 with 1 Axes>",
      "image/png": "[encoded data removed]"
     },
     "metadata": {},
     "output_type": "display_data"
    }
   ],
   "source": [
    "ms2_plot(so.pack_spectra(mass_the, intensity_the))"
   ],
   "metadata": {
    "collapsed": false,
    "pycharm": {
     "name": "#%%\n"
    }
   }
  },
  {
   "cell_type": "code",
   "execution_count": 165,
   "outputs": [
    {
     "data": {
      "text/plain": "<module 'matplotlib.pyplot' from '/opt/homebrew/Caskroom/miniforge/base/envs/alphapept_env/lib/python3.8/site-packages/matplotlib/pyplot.py'>"
     },
     "execution_count": 165,
     "metadata": {},
     "output_type": "execute_result"
    },
    {
     "data": {
      "text/plain": "<Figure size 700x500 with 1 Axes>",
      "image/png": "[encoded data removed]"
     },
     "metadata": {},
     "output_type": "display_data"
    }
   ],
   "source": [
    "ms2_plot(chopped_msms)"
   ],
   "metadata": {
    "collapsed": false,
    "pycharm": {
     "name": "#%%\n"
    }
   }
  },
  {
   "cell_type": "code",
   "execution_count": 174,
   "outputs": [
    {
     "data": {
      "text/plain": "502.16028760530634"
     },
     "execution_count": 174,
     "metadata": {},
     "output_type": "execute_result"
    }
   ],
   "source": [
    "mass_sorted[-2]"
   ],
   "metadata": {
    "collapsed": false,
    "pycharm": {
     "name": "#%%\n"
    }
   }
  },
  {
   "cell_type": "code",
   "execution_count": 209,
   "outputs": [
    {
     "name": "stdout",
     "output_type": "stream",
     "text": [
      "0.3500820276980816\n",
      "3.5637000368667264\n"
     ]
    }
   ],
   "source": [
    "mass_emp, intensity_emp = so.break_spectra(chopped_msms)\n",
    "intensity_sorted,mass_sorted = zip(*sorted(zip(intensity_emp,mass_emp  )))\n",
    "instance_mol = Formula('C20H30O13')\n",
    "mass_the = []\n",
    "intensity_the = []\n",
    "for i in instance_mol.spectrum():\n",
    "    mass_the.append(instance_mol.spectrum()[i][0]+22.989218)\n",
    "    intensity_the.append(instance_mol.spectrum()[i][1])\n",
    "print(intensity_sorted[-1]/intensity_sorted[-2]-intensity_the[0]/intensity_the[1])\n",
    "print(intensity_sorted[-2]/intensity_sorted[-3]-intensity_the[1]/intensity_the[2])"
   ],
   "metadata": {
    "collapsed": false,
    "pycharm": {
     "name": "#%%\n"
    }
   }
  },
  {
   "cell_type": "code",
   "execution_count": null,
   "outputs": [],
   "source": [
    "instance_mol."
   ],
   "metadata": {
    "collapsed": false,
    "pycharm": {
     "name": "#%%\n"
    }
   }
  },
  {
   "cell_type": "code",
   "execution_count": 228,
   "outputs": [
    {
     "data": {
      "text/plain": "(6274.0, 50116.0, 240563.0)"
     },
     "execution_count": 228,
     "metadata": {},
     "output_type": "execute_result"
    }
   ],
   "source": [
    "intensity_sorted[-3:]"
   ],
   "metadata": {
    "collapsed": false,
    "pycharm": {
     "name": "#%%\n"
    }
   }
  },
  {
   "cell_type": "code",
   "execution_count": 229,
   "outputs": [
    {
     "data": {
      "text/plain": "(503.16188078706125, 502.1617908426446, 501.157657249956)"
     },
     "execution_count": 229,
     "metadata": {},
     "output_type": "execute_result"
    }
   ],
   "source": [
    "mass_sorted[-3:]"
   ],
   "metadata": {
    "collapsed": false,
    "pycharm": {
     "name": "#%%\n"
    }
   }
  },
  {
   "cell_type": "code",
   "execution_count": 220,
   "outputs": [],
   "source": [
    "instance_mol = Formula('K23I22')"
   ],
   "metadata": {
    "collapsed": false,
    "pycharm": {
     "name": "#%%\n"
    }
   }
  },
  {
   "cell_type": "code",
   "execution_count": null,
   "outputs": [],
   "source": [
    "instance_mol"
   ],
   "metadata": {
    "collapsed": false,
    "pycharm": {
     "name": "#%%\n"
    }
   }
  },
  {
   "cell_type": "code",
   "execution_count": 226,
   "outputs": [],
   "source": [
    "mass_the = []\n",
    "intensity_the = []\n",
    "for i in instance_mol.spectrum():\n",
    "    mass_the.append(instance_mol.spectrum()[i][0])\n",
    "    intensity_the.append(instance_mol.spectrum()[i][1])"
   ],
   "metadata": {
    "collapsed": false,
    "pycharm": {
     "name": "#%%\n"
    }
   }
  },
  {
   "cell_type": "code",
   "execution_count": 227,
   "outputs": [
    {
     "data": {
      "text/plain": "<module 'matplotlib.pyplot' from '/opt/homebrew/Caskroom/miniforge/base/envs/alphapept_env/lib/python3.8/site-packages/matplotlib/pyplot.py'>"
     },
     "execution_count": 227,
     "metadata": {},
     "output_type": "execute_result"
    },
    {
     "data": {
      "text/plain": "<Figure size 700x500 with 1 Axes>",
      "image/png": "[encoded data removed]"
     },
     "metadata": {},
     "output_type": "display_data"
    }
   ],
   "source": [
    "ms2_plot(so.pack_spectra(mass_the, intensity_the))"
   ],
   "metadata": {
    "collapsed": false,
    "pycharm": {
     "name": "#%%\n"
    }
   }
  },
  {
   "cell_type": "code",
   "execution_count": null,
   "outputs": [],
   "source": [],
   "metadata": {
    "collapsed": false,
    "pycharm": {
     "name": "#%%\n"
    }
   }
  },
  {
   "cell_type": "code",
   "execution_count": 219,
   "outputs": [
    {
     "name": "stdout",
     "output_type": "stream",
     "text": [
      "0.770500516709502\n",
      "2.821217471888498\n",
      "C21H26N4O9\n"
     ]
    }
   ],
   "source": [
    "# this is wrong\n",
    "instance_mol = Formula('C21H26N4O9')\n",
    "mass_the = []\n",
    "intensity_the = []\n",
    "for i in instance_mol.spectrum():\n",
    "    mass_the.append(instance_mol.spectrum()[i][0]+22.989218)\n",
    "    intensity_the.append(instance_mol.spectrum()[i][1])\n",
    "print(intensity_sorted[-1]/intensity_sorted[-2]-intensity_the[0]/intensity_the[1])\n",
    "print(intensity_sorted[-2]/intensity_sorted[-3]-intensity_the[1]/intensity_the[2])\n",
    "print(instance_mol.formula)"
   ],
   "metadata": {
    "collapsed": false,
    "pycharm": {
     "name": "#%%\n"
    }
   }
  },
  {
   "cell_type": "code",
   "execution_count": 197,
   "outputs": [
    {
     "data": {
      "text/plain": "-3.78061982580211"
     },
     "execution_count": 197,
     "metadata": {},
     "output_type": "execute_result"
    }
   ],
   "source": [],
   "metadata": {
    "collapsed": false,
    "pycharm": {
     "name": "#%%\n"
    }
   }
  },
  {
   "cell_type": "code",
   "execution_count": 160,
   "outputs": [
    {
     "data": {
      "text/plain": "(501.15785902130966, 502.1612777229302)"
     },
     "execution_count": 160,
     "metadata": {},
     "output_type": "execute_result"
    }
   ],
   "source": [
    "mass_the[0], mass_the[1]"
   ],
   "metadata": {
    "collapsed": false,
    "pycharm": {
     "name": "#%%\n"
    }
   }
  },
  {
   "cell_type": "code",
   "execution_count": 163,
   "outputs": [
    {
     "data": {
      "text/plain": "4.424186478912681"
     },
     "execution_count": 163,
     "metadata": {},
     "output_type": "execute_result"
    }
   ],
   "source": [
    "intensity_the[1]/intensity_the[2]"
   ],
   "metadata": {
    "collapsed": false,
    "pycharm": {
     "name": "#%%\n"
    }
   }
  },
  {
   "cell_type": "code",
   "execution_count": 156,
   "outputs": [
    {
     "data": {
      "text/plain": "0.17496921423238215"
     },
     "execution_count": 156,
     "metadata": {},
     "output_type": "execute_result"
    }
   ],
   "source": [
    "intensity_the[1]"
   ],
   "metadata": {
    "collapsed": false,
    "pycharm": {
     "name": "#%%\n"
    }
   }
  },
  {
   "cell_type": "code",
   "execution_count": null,
   "outputs": [],
   "source": [],
   "metadata": {
    "collapsed": false,
    "pycharm": {
     "name": "#%%\n"
    }
   }
  },
  {
   "cell_type": "code",
   "execution_count": 116,
   "outputs": [],
   "source": [
    "mass_chopped, intensity_chopped = break_spectra(chopped_ms1)"
   ],
   "metadata": {
    "collapsed": false,
    "pycharm": {
     "name": "#%%\n"
    }
   }
  },
  {
   "cell_type": "code",
   "execution_count": 122,
   "outputs": [],
   "source": [
    "from toolsets.mzml_plot import EIC"
   ],
   "metadata": {
    "collapsed": false,
    "pycharm": {
     "name": "#%%\n"
    }
   }
  },
  {
   "cell_type": "code",
   "execution_count": 127,
   "outputs": [
    {
     "data": {
      "text/plain": "dict_keys(['scan_list_ms1', 'rt_list_ms1', 'mass_list_ms1', 'int_list_ms1', 'ms_list_ms1', 'scan_list_ms2', 'rt_list_ms2', 'mass_list_ms2', 'int_list_ms2', 'ms_list_ms2', 'prec_mass_list2', 'mono_mzs2', 'charge2', 'select_windows_ms2', 'indices_ms1'])"
     },
     "execution_count": 127,
     "metadata": {},
     "output_type": "execute_result"
    }
   ],
   "source": [
    "test_mzml.keys()"
   ],
   "metadata": {
    "collapsed": false,
    "pycharm": {
     "name": "#%%\n"
    }
   }
  },
  {
   "cell_type": "code",
   "execution_count": 147,
   "outputs": [],
   "source": [],
   "metadata": {
    "collapsed": false,
    "pycharm": {
     "name": "#%%\n"
    }
   }
  },
  {
   "cell_type": "code",
   "execution_count": 140,
   "outputs": [],
   "source": [
    "from tqdm import tqdm"
   ],
   "metadata": {
    "collapsed": false,
    "pycharm": {
     "name": "#%%\n"
    }
   }
  },
  {
   "cell_type": "code",
   "execution_count": 152,
   "outputs": [
    {
     "name": "stderr",
     "output_type": "stream",
     "text": [
      "100%|██████████| 2015/2015 [00:06<00:00, 293.53it/s]\n"
     ]
    }
   ],
   "source": [
    "# ms1s = []\n",
    "EIC_intensity = []\n",
    "for i in tqdm(range(0, len(test_mzml['rt_list_ms1']))):\n",
    "    # ms1s.append(_extract_MS1(test_mzml, i))\n",
    "    chopped_ms1_temp = chop_msms(_extract_MS1(test_mzml, i),143.039474-0.01, 143.039474+0.01)\n",
    "    mass_chopped, intensity_chopped = break_spectra(chopped_ms1_temp)\n",
    "    EIC_intensity.append(np.sum(intensity_chopped) )\n",
    "\n",
    "# for i in tqdm(range(0, len(ms1s))):\n",
    "#     # mass_temp, intensity_temp = break_spectra(ms1s[i])\n",
    "#     chopped_ms1_temp = chop_msms(ms1s[i],143.039474-0.01, 143.039474+0.01)\n",
    "#     mass_chopped, intensity_chopped = break_spectra(chopped_ms1_temp)\n",
    "\n",
    "    # ms1_intensity_sum = chopped_ms1_temp\n",
    "    # break"
   ],
   "metadata": {
    "collapsed": false,
    "pycharm": {
     "name": "#%%\n"
    }
   }
  },
  {
   "cell_type": "code",
   "execution_count": 153,
   "outputs": [
    {
     "data": {
      "text/plain": "<AxesSubplot:>"
     },
     "execution_count": 153,
     "metadata": {},
     "output_type": "execute_result"
    },
    {
     "data": {
      "text/plain": "<Figure size 640x480 with 1 Axes>",
      "image/png": "[encoded data removed]"
     },
     "metadata": {},
     "output_type": "display_data"
    }
   ],
   "source": [
    "sns.scatterplot(x = test_mzml['rt_list_ms1'],y = EIC_intensity)"
   ],
   "metadata": {
    "collapsed": false,
    "pycharm": {
     "name": "#%%\n"
    }
   }
  },
  {
   "cell_type": "code",
   "execution_count": 143,
   "outputs": [],
   "source": [
    "import seaborn as sns"
   ],
   "metadata": {
    "collapsed": false,
    "pycharm": {
     "name": "#%%\n"
    }
   }
  },
  {
   "cell_type": "code",
   "execution_count": 138,
   "outputs": [
    {
     "data": {
      "text/plain": "0.0"
     },
     "execution_count": 138,
     "metadata": {},
     "output_type": "execute_result"
    }
   ],
   "source": [
    "np.sum(intensity_chopped)"
   ],
   "metadata": {
    "collapsed": false,
    "pycharm": {
     "name": "#%%\n"
    }
   }
  },
  {
   "cell_type": "code",
   "execution_count": 132,
   "outputs": [
    {
     "data": {
      "text/plain": "'100.01392364501953\\t23845.298828125\\n100.024169921875\\t28359.962890625\\n100.07556915283203\\t9982.9755859375\\n100.5097885131836\\t12087.935546875\\n101.00305938720703\\t2728468.25\\n101.0307388305664\\t119802.296875\\n101.09601593017578\\t47317.765625\\n102.00255584716797\\t26389.87890625\\n102.0064926147461\\t60947.5\\n102.01287078857422\\t387276.5\\n102.02947235107422\\t16541.109375\\n102.03375244140625\\t17891.033203125\\n102.05472564697266\\t11159.12109375\\n102.09114837646484\\t55439.8671875\\n102.97007751464844\\t53255.21484375\\n102.99881744384766\\t189810.640625\\n103.00563049316406\\t17217.755859375\\n103.95530700683594\\t13281.4453125\\n104.00857543945312\\t21448.8046875\\n104.0704574584961\\t317790.8125\\n104.10685729980469\\t31508.373046875\\n104.1850814819336\\t10916.34765625\\n105.49755859375\\t23650.666015625\\n106.00779724121094\\t44851.39453125\\n106.04964447021484\\t16964.267578125\\n106.51663970947266\\t17975.48828125\\n106.9918212890625\\t146116.46875\\n106.99978637695312\\t48330.00390625\\n107.95025634765625\\t139356.640625\\n107.96662902832031\\t11832.11328125\\n108.00037384033203\\t12690.16015625\\n108.01625061035156\\t26844.92578125\\n108.04428100585938\\t14748.822265625\\n108.08061218261719\\t14673.9970703125\\n109.01417541503906\\t9942.716796875\\n109.0194091796875\\t237758.0625\\n109.06462097167969\\t20833.203125\\n109.07569122314453\\t19713.20703125\\n109.10107421875\\t42624.46484375\\n110.0085678100586\\t126005.5546875\\n110.01707458496094\\t17884.525390625\\n110.01981353759766\\t22446.72265625\\n110.0598373413086\\t35993.55078125\\n111.00931549072266\\t26919.923828125\\n111.02023315429688\\t24839.947265625\\n111.03901672363281\\t14789.7919921875\\n111.04393005371094\\t52951.2578125\\n111.05519104003906\\t39186.328125\\n111.08016967773438\\t23509.169921875\\n111.11666107177734\\t27880.322265625\\n111.50907135009766\\t12782.2802734375\\n111.52175903320312\\t11331.33203125\\n111.96817016601562\\t70960.6328125\\n111.9842758178711\\t21172.21484375\\n112.01777648925781\\t10575.626953125\\n112.03915405273438\\t38119.578125\\n112.07550048828125\\t76791.3125\\n112.11210632324219\\t17022.826171875\\n112.53851318359375\\t87531.4921875\\n112.95560455322266\\t20021.21875\\n112.9665756225586\\t13109.5126953125\\n112.98206329345703\\t15720.5234375\\n113.02310180664062\\t41480.89453125\\n113.03437042236328\\t478713.3125\\n113.05945587158203\\t45014.5703125\\n113.07076263427734\\t18412.302734375\\n113.1070785522461\\t14411.9951171875\\n113.53736114501953\\t13917.5810546875\\n113.96067810058594\\t14612.052734375\\n113.9612045288086\\t12918.771484375\\n113.96355438232422\\t828193.1875\\n114.0377426147461\\t22109.23828125\\n114.05486297607422\\t89126.328125\\n114.0732192993164\\t187075.796875\\n114.09123992919922\\t169947.1875\\n114.12757873535156\\t18089.44140625\\n114.96714782714844\\t14443.3876953125\\n114.97123718261719\\t52981.984375\\n115.03884887695312\\t37339.671875\\n115.05001831054688\\t26503.91015625\\n115.07515716552734\\t23074.66796875\\n115.08649444580078\\t14917.5166015625\\n115.11170959472656\\t12853.6533203125\\n115.95742797851562\\t23215.619140625\\n115.9639663696289\\t72469.9296875\\n115.9699478149414\\t19163.638671875\\n116.00508117675781\\t441107.84375\\n116.07032012939453\\t77234.3203125\\n116.10692596435547\\t18884.0390625\\n116.50675201416016\\t22965.564453125\\n116.90901184082031\\t11877.140625\\n116.96597290039062\\t218924.265625\\n116.9716567993164\\t87919.515625\\n116.97557067871094\\t20007.50390625\\n116.97728729248047\\t10964.1318359375\\n117.00313568115234\\t33123.18359375\\n117.00553131103516\\t109241.625\\n117.0906753540039\\t13316.87890625\\n117.10208892822266\\t12027.328125\\n117.93426513671875\\t57288.265625\\n117.95938873291016\\t32187.6875\\n117.96592712402344\\t22710.62109375\\n118.0015640258789\\t11217.7353515625\\n118.00569152832031\\t32754.259765625\\n118.02461242675781\\t85250.0\\n118.06495666503906\\t32966.36328125\\n118.0683822631836\\t23338.193359375\\n118.08609008789062\\t829166.25\\n118.12239837646484\\t56006.06640625\\n118.94271087646484\\t19139.359375\\n118.96307373046875\\t19286.689453125\\n118.9674072265625\\t19505.736328125\\n119.00102233886719\\t14283.001953125\\n119.0037612915039\\t12947.0380859375\\n119.02265930175781\\t12462.0390625\\n119.03949737548828\\t28270.955078125\\n119.0491943359375\\t9769.564453125\\n119.06027221679688\\t38045.19921875\\n119.08544158935547\\t20624.583984375\\n119.08951568603516\\t37646.640625\\n119.38169860839844\\t11191.6962890625\\n119.52436065673828\\t168308.09375\\n119.95050811767578\\t11429.1171875\\n120.02347564697266\\t1807329.0\\n120.04434204101562\\t11224.5126953125\\n120.0477294921875\\t68284.7890625\\n120.05542755126953\\t99594.6640625\\n120.06536865234375\\t31636.873046875\\n120.0805892944336\\t43449.66796875\\n120.52294158935547\\t17773.736328125\\n120.52735900878906\\t43152.11328125\\n120.9252700805664\\t13046.3916015625\\n120.98062896728516\\t18370.703125\\n121.0075454711914\\t46664.82421875\\n121.02682495117188\\t36114.56640625\\n121.03501892089844\\t11409.9892578125\\n121.03966522216797\\t30805.837890625\\n121.06472778320312\\t29628.640625\\n121.96602630615234\\t77578.578125\\n122.01909637451172\\t324527.0\\n122.03670501708984\\t13214.859375\\n122.05988311767578\\t56500.3671875\\n122.08100891113281\\t3797005.5\\n122.0961685180664\\t18498.048828125\\n122.9406967163086\\t12439.365234375\\n123.0401382446289\\t36096.98046875\\n123.04389190673828\\t54732.09765625\\n123.05509948730469\\t26380.15234375\\n123.07807922363281\\t22083.86328125\\n123.08026885986328\\t50313.10546875\\n123.08430480957031\\t144486.0625\\n123.09153747558594\\t19270.5625\\n123.11660766601562\\t28894.46875\\n123.96404266357422\\t11427.306640625\\n124.0185317993164\\t23127.896484375\\n124.03923797607422\\t79814.3515625\\n124.07549285888672\\t29256.25390625\\n124.08696746826172\\t22779.73828125\\n125.00235748291016\\t110319.078125\\n125.01036834716797\\t56052.59765625\\n125.03213500976562\\t13123.6181640625\\n125.03790283203125\\t11303.6357421875\\n125.05966186523438\\t31450.3046875\\n125.07079315185547\\t221892.15625\\n125.09601593017578\\t31444.20703125\\n125.107177734375\\t27435.623046875\\n125.91649627685547\\t10069.2197265625\\n125.96089172363281\\t92769.96875\\n125.98613739013672\\t685505.25\\n126.05477142333984\\t76419.1796875\\n126.0661392211914\\t12168.2939453125\\n126.12763214111328\\t12511.4306640625\\n126.95527648925781\\t47834.09375\\n126.97200012207031\\t18750.912109375\\n126.98957824707031\\t19855.16015625\\n127.03884887695312\\t92999.5390625\\n127.0500717163086\\t48506.796875\\n127.07271575927734\\t11775.607421875\\n127.07522583007812\\t35812.4296875\\n127.09123992919922\\t25228.33984375\\n127.51307678222656\\t201243.140625\\n127.98905181884766\\t14212.28125\\n128.01260375976562\\t12124.6806640625\\n128.01913452148438\\t281714.90625\\n128.07040405273438\\t57478.45703125\\n128.10702514648438\\t15887.75390625\\n128.5110321044922\\t26391.701171875\\n128.5136260986328\\t16812.35546875\\n128.6488037109375\\t10548.5009765625\\n128.9325714111328\\t56179.39453125\\n128.9480438232422\\t14331.16796875\\n128.95062255859375\\t926126.1875\\n128.9708251953125\\t59068.25\\n128.97373962402344\\t30529.25\\n129.01992797851562\\t36211.29296875\\n129.02232360839844\\t18800.8125\\n129.05215454101562\\t25853.365234375\\n129.0543975830078\\t15068.6025390625\\n129.0655517578125\\t24418.076171875\\n129.0907440185547\\t17357.09765625\\n129.10202026367188\\t18651.517578125\\n129.53282165527344\\t22596.83203125\\n129.95118713378906\\t27465.640625\\n129.9788818359375\\t22076.771484375\\n130.0078582763672\\t1259606.125\\n130.01670837402344\\t43224.6875\\n130.04981994628906\\t44186.58984375\\n130.0862579345703\\t77309.171875\\n130.1223907470703\\t13357.140625\\n130.15890502929688\\t36793.89453125\\n130.96371459960938\\t21974.318359375\\n130.96630859375\\t1049304.5\\n131.01126098632812\\t48310.49609375\\n131.03221130371094\\t14675.0234375\\n131.06027221679688\\t11454.4716796875\\n131.07028198242188\\t16261.9140625\\n131.0816192626953\\t28199.05078125\\n131.08949279785156\\t9806.8994140625\\n131.11778259277344\\t14865.9208984375\\n131.92958068847656\\t69032.1484375\\n131.9502716064453\\t20296.232421875\\n131.9696044921875\\t11208.015625\\n131.97415161132812\\t190511.4375\\n132.00352478027344\\t144252.640625\\n132.060302734375\\t32747.744140625\\n132.06539916992188\\t6929279.0\\n132.0719757080078\\t19540.3203125\\n132.10174560546875\\t470396.625\\n132.95826721191406\\t20394.193359375\\n133.06246948242188\\t14498.095703125\\n133.0687255859375\\t325711.28125\\n133.0790557861328\\t13145.69921875\\n133.1051025390625\\t30304.90234375\\n133.9265594482422\\t31596.8828125\\n133.94793701171875\\t20433.33203125\\n133.97457885742188\\t17101.939453125\\n134.00277709960938\\t63019.66796875\\n134.05979919433594\\t18576.1015625\\n134.06956481933594\\t22097.859375\\n134.08102416992188\\t446878.09375\\n134.91943359375\\t17782.119140625\\n134.95587158203125\\t67358.953125\\n134.9611053466797\\t15738.7578125\\n134.97848510742188\\t16006.3935546875\\n134.9866180419922\\t52303.953125\\n135.04396057128906\\t27701.505859375\\n135.08432006835938\\t22527.841796875\\n135.11668395996094\\t29235.810546875\\n135.49929809570312\\t22989.494140625\\n135.92774963378906\\t20038.3671875\\n135.94515991210938\\t154668.65625\\n136.0214080810547\\t127410.75\\n136.06173706054688\\t40385.5625\\n136.07565307617188\\t47492.30078125\\n136.09677124023438\\t116611.9921875\\n136.1201629638672\\t14052.1513671875\\n136.5182647705078\\t12356.2314453125\\n136.93113708496094\\t14958.44140625\\n137.0015869140625\\t19013.546875\\n137.0115509033203\\t75798.7578125\\n137.020263671875\\t13281.2080078125\\n137.04574584960938\\t32772.05859375\\n137.0596160888672\\t21088.6328125\\n137.07081604003906\\t43409.26171875\\n137.09619140625\\t17811.78125\\n137.13241577148438\\t283297.25\\n137.98672485351562\\t59461.25390625\\n137.98941040039062\\t14737.830078125\\n138.01795959472656\\t68332.96875\\n138.0340576171875\\t84191.4453125\\n138.054931640625\\t39505.23046875\\n138.05792236328125\\t12982.0859375\\n138.0661163330078\\t15187.546875\\n138.10232543945312\\t15312.6005859375\\n138.1358642578125\\t22394.1953125\\n138.9063720703125\\t41436.26171875\\n138.98590087890625\\t32715.748046875\\n139.00025939941406\\t216472.84375\\n139.0179443359375\\t33399.8984375\\n139.0209197998047\\t22268.44921875\\n139.02940368652344\\t14608.494140625\\n139.0390625\\t12633.236328125\\n139.05026245117188\\t49459.8359375\\n139.0533447265625\\t13289.6201171875\\n139.07528686523438\\t22638.447265625\\n139.0863800048828\\t30191.0625\\n139.111572265625\\t20776.03515625\\n139.92391967773438\\t20173.88671875\\n139.9630126953125\\t27352.240234375\\n139.98204040527344\\t426979.25\\n139.98773193359375\\t83243.328125\\n140.001953125\\t14326.978515625\\n140.029541015625\\t14370.80859375\\n140.0472869873047\\t63870.98046875\\n140.06797790527344\\t42296.3359375\\n140.07046508789062\\t16003.98046875\\n140.9512481689453\\t19316.111328125\\n140.9614715576172\\t16460.107421875\\n140.97146606445312\\t22169.2734375\\n140.98207092285156\\t30271.4765625\\n140.98536682128906\\t15258.513671875\\n140.99557495117188\\t51895.27734375\\n141.00047302246094\\t14278.0\\n141.05079650878906\\t18609.14453125\\n141.05433654785156\\t15904.0986328125\\n141.06564331054688\\t41814.41796875\\n141.09104919433594\\t27091.47265625\\n141.12742614746094\\t17441.875\\n141.92068481445312\\t19964.98828125\\n141.95852661132812\\t584299.125\\n141.97886657714844\\t31168.392578125\\n141.98342895507812\\t19183.564453125\\n142.0183868408203\\t25913.79296875\\n142.02960205078125\\t33351.08203125\\n142.04420471191406\\t23295.072265625\\n142.08633422851562\\t38870.5546875\\n142.93838500976562\\t28734.568359375\\n142.94793701171875\\t60551.01171875\\n142.95042419433594\\t24776.462890625\\n142.9590606689453\\t24124.95703125\\n142.96173095703125\\t16069.2861328125\\n142.96673583984375\\t28047.65625\\n143.00357055664062\\t13911.048828125\\n143.0336456298828\\t19172.41015625\\n143.0394744873047\\t767924.75\\n143.07012939453125\\t17970.009765625\\n143.10626220703125\\t14749.189453125\\n143.91954040527344\\t15819.5087890625\\n143.95880126953125\\t71927.1953125\\n143.99668884277344\\t276271.65625\\n144.01556396484375\\t15963.88671875\\n144.02352905273438\\t100267.375\\n144.04278564453125\\t38638.1171875\\n144.06295776367188\\t109319.2109375\\n144.06549072265625\\t50537.578125\\n144.0808868408203\\t15130.4609375\\n144.10162353515625\\t72179.8828125\\n144.9470977783203\\t19167.1484375\\n144.96571350097656\\t10941.7509765625\\n144.9820098876953\\t121595.6484375\\n144.98789978027344\\t27717.421875\\n145.0000762939453\\t13182.4189453125\\n145.03515625\\t274319.5\\n145.04954528808594\\t44017.8984375\\n145.0970001220703\\t13661.1865234375\\n145.10824584960938\\t10594.54296875\\n145.9298095703125\\t22439.552734375\\n145.95416259765625\\t22677.15234375\\n145.9569854736328\\t17305.3203125\\n145.96571350097656\\t10743.7548828125\\n146.00680541992188\\t208296.296875\\n146.01902770996094\\t24444.0546875\\n146.02976989746094\\t27618.5546875\\n146.03863525390625\\t14359.4462890625\\n146.05990600585938\\t38991.96484375\\n146.0810546875\\t1629105.25\\n146.0840301513672\\t32405.998046875\\n146.09230041503906\\t18777.9140625\\n146.117431640625\\t56403.02734375\\n146.16493225097656\\t16173.3388671875\\n146.9611358642578\\t165930.453125\\n146.98068237304688\\t50700.6328125\\n146.99591064453125\\t68584.9609375\\n147.00454711914062\\t58443.24609375\\n147.08444213867188\\t117208.171875\\n147.1126251220703\\t30097.22265625\\n148.0183563232422\\t660807.5625\\n148.03909301757812\\t25604.375\\n148.06011962890625\\t79737.9609375\\n148.0967254638672\\t115143.203125\\n148.1119384765625\\t14116.6669921875\\n148.9324493408203\\t75136.8125\\n148.95571899414062\\t12873.5625\\n148.97689819335938\\t1047909.8125\\n149.0023956298828\\t36273.7734375\\n149.0232696533203\\t247547.984375\\n149.04452514648438\\t14730.2421875\\n149.0708465576172\\t13214.19921875\\n149.0958709716797\\t27795.55859375\\n149.13223266601562\\t22786.88671875\\n149.52618408203125\\t15617.5703125\\n149.94009399414062\\t57708.65625\\n149.95265197753906\\t130488.9921875\\n149.96092224121094\\t41671.578125\\n149.97714233398438\\t27884.921875\\n150.0140838623047\\t256315.71875\\n150.02679443359375\\t19593.041015625\\n150.03152465820312\\t220804.796875\\n150.05517578125\\t16332.2685546875\\n150.07598876953125\\t2968479.0\\n150.1123809814453\\t389567.8125\\n150.929443359375\\t25105.15234375\\n150.95094299316406\\t152582.015625\\n151.01708984375\\t13729.8720703125\\n151.03506469726562\\t219866.375\\n151.03880310058594\\t114468.8046875\\n151.0605926513672\\t70642.9453125\\n151.07632446289062\\t17081.125\\n151.0792999267578\\t158840.609375\\n151.0865936279297\\t11681.474609375\\n151.0962371826172\\t53319.7265625\\n151.1118927001953\\t16076.896484375\\n151.11570739746094\\t33233.4921875\\n151.93746948242188\\t14754.5732421875\\n151.94039916992188\\t19505.505859375\\n151.94931030273438\\t68370.859375\\n151.9542999267578\\t13423.2685546875\\n151.9586944580078\\t48614.21484375\\n152.02859497070312\\t70071.875\\n152.035888671875\\t19476.2890625\\n152.07044982910156\\t42712.69140625\\n152.0801239013672\\t15924.7529296875\\n152.14317321777344\\t82593.921875\\n152.9442138671875\\t12304.439453125\\n152.947021484375\\t52637.93359375\\n152.95066833496094\\t17847.28125\\n152.9665985107422\\t31204.392578125\\n152.9971160888672\\t12969.3037109375\\n153.03260803222656\\t26990.775390625\\n153.0546417236328\\t52506.5\\n153.06561279296875\\t33748.35546875\\n153.09083557128906\\t24130.560546875\\n153.10198974609375\\t17562.568359375\\n153.12738037109375\\t28498.978515625\\n153.14646911621094\\t26704.369140625\\n153.93807983398438\\t25627.919921875\\n153.94837951660156\\t50619.4453125\\n153.95571899414062\\t34787.16015625\\n153.9588165283203\\t17311.44921875\\n154.04722595214844\\t106880.09375\\n154.08607482910156\\t20424.95703125\\n154.12257385253906\\t14304.1640625\\n154.96670532226562\\t40345.5859375\\n154.97787475585938\\t15864.576171875\\n154.99014282226562\\t102798.8671875\\n155.02207946777344\\t26408.697265625\\n155.0701141357422\\t22857.576171875\\n155.08145141601562\\t35123.9296875\\n155.1064453125\\t20763.75390625\\n155.97434997558594\\t40042.3671875\\n155.99351501464844\\t11083.9111328125\\n156.02676391601562\\t18168.02734375\\n156.04220581054688\\t17954.92578125\\n156.0654754638672\\t18775.716796875\\n156.10186767578125\\t13305.9794921875\\n156.9660186767578\\t222874.046875\\n156.96885681152344\\t14146.5947265625\\n156.97447204589844\\t33810.58984375\\n156.9814910888672\\t13592.6484375\\n156.99057006835938\\t24998.5\\n157.00762939453125\\t26792.783203125\\n157.01104736328125\\t1597910.625\\n157.0244140625\\t30526.611328125\\n157.02622985839844\\t18831.521484375\\n157.0283203125\\t93493.5859375\\n157.0350341796875\\t15819596.0\\n157.0418701171875\\t105997.4375\\n157.04371643066406\\t54482.12109375\\n157.0970458984375\\t12668.232421875\\n157.1334991455078\\t19051.625\\n157.51449584960938\\t18375.677734375\\n157.97393798828125\\t16466.765625\\n157.9932098388672\\t20617.07421875\\n157.99600219726562\\t13561.455078125\\n158.00270080566406\\t3097060.75\\n158.0095672607422\\t27324.58203125\\n158.01422119140625\\t24640.384765625\\n158.0344696044922\\t228317.5625\\n158.03836059570312\\t659104.1875\\n158.041259765625\\t30564.77734375\\n158.08103942871094\\t110035.6640625\\n158.0965576171875\\t13809.544921875\\n158.1174774169922\\t27525.197265625\\n158.1539306640625\\t22524.6171875\\n158.95404052734375\\t52705.6484375\\n158.96116638183594\\t4074326.75\\n158.9680938720703\\t26329.150390625\\n158.97198486328125\\t17302.298828125\\n159.0063934326172\\t489298.34375\\n159.03073120117188\\t1589168.125\\n159.03903198242188\\t55970.41796875\\n159.07627868652344\\t25726.478515625\\n159.08425903320312\\t14884.1181640625\\n159.1127166748047\\t18281.24609375\\n159.11654663085938\\t16448.392578125\\n159.95497131347656\\t10700.3798828125\\n159.95860290527344\\t15797.4091796875\\n159.96156311035156\\t60823.26953125\\n159.96453857421875\\t108729.1171875\\n159.96893310546875\\t328725.0625\\n160.0068817138672\\t22603.185546875\\n160.02752685546875\\t15135.9658203125\\n160.03407287597656\\t67641.96875\\n160.06024169921875\\t1098449.625\\n160.0753173828125\\t12162.9501953125\\n160.09669494628906\\t135262.84375\\n160.13314819335938\\t35346.390625\\n160.96531677246094\\t13018.8095703125\\n160.96926879882812\\t16010.146484375\\n161.00250244140625\\t29063.166015625\\n161.026611328125\\t30183.46484375\\n161.0500030517578\\t99712.0234375\\n161.0637969970703\\t52789.40234375\\n161.09194946289062\\t13218.5693359375\\n161.0957794189453\\t17789.642578125\\n161.10006713867188\\t11315.56640625\\n161.96942138671875\\t78851.71875\\n162.00160217285156\\t16034.4794921875\\n162.00704956054688\\t30983.265625\\n162.033935546875\\t75100.734375\\n162.05471801757812\\t10179.6923828125\\n162.07582092285156\\t192640.5\\n162.11251831054688\\t17941.095703125\\n162.96820068359375\\t14865.03515625\\n162.97341918945312\\t804986.9375\\n162.99790954589844\\t174181.828125\\n163.01824951171875\\t13665.30859375\\n163.03883361816406\\t21222.26953125\\n163.0459442138672\\t11627.935546875\\n163.07510375976562\\t20960.56640625\\n163.08709716796875\\t12308.326171875\\n163.11166381835938\\t36277.57421875\\n163.1483154296875\\t11491.9091796875\\n163.93995666503906\\t101142.28125\\n163.96473693847656\\t32075.904296875\\n163.97665405273438\\t23790.509765625\\n164.02964782714844\\t56198.1015625\\n164.07041931152344\\t20510.927734375\\n164.09164428710938\\t253966.203125\\n164.106689453125\\t11596.3369140625\\n164.9204559326172\\t61539.703125\\n164.929931640625\\t104556.453125\\n164.96922302246094\\t38308.78515625\\n164.9948272705078\\t17264.52734375\\n165.00648498535156\\t320190.4375\\n165.06552124023438\\t21189.193359375\\n165.09130859375\\t22919.333984375\\n165.094970703125\\t13723.5810546875\\n165.1274871826172\\t14096.28515625\\n165.9379119873047\\t16227.978515625\\n165.95823669433594\\t25607.37109375\\n165.96229553222656\\t15822.64453125\\n165.98294067382812\\t20458.33203125\\n166.0071563720703\\t34042.67578125\\n166.0103302001953\\t11418.2900390625\\n166.02891540527344\\t44870.8828125\\n166.06227111816406\\t12616.3828125\\n166.0861358642578\\t49303.015625\\n166.12234497070312\\t13205.4990234375\\n166.9429168701172\\t132312.703125\\n166.9664764404297\\t21601.484375\\n166.9951934814453\\t1611400.375\\n167.00372314453125\\t38428.57421875\\n167.0127716064453\\t104786.4921875\\n167.05532836914062\\t13896.705078125\\n167.07032775878906\\t31187.5078125\\n167.0813751220703\\t20405.19140625\\n167.10638427734375\\t29421.619140625\\n167.95358276367188\\t227022.671875\\n167.95706176757812\\t20295.763671875\\n167.96340942382812\\t77803.359375\\n167.9768829345703\\t51639.5\\n167.9984893798828\\t43372.0234375\\n168.04205322265625\\t160003.9375\\n168.06517028808594\\t18224.6171875\\n168.1385040283203\\t12427.322265625\\n168.9169158935547\\t35287.82421875\\n168.94007873535156\\t41109.96875\\n168.9538116455078\\t13288.0009765625\\n168.96145629882812\\t42172.8515625\\n168.96620178222656\\t101848.2734375\\n168.9907684326172\\t175934.109375\\n169.04563903808594\\t30363.197265625\\n169.04904174804688\\t20485.12890625\\n169.08580017089844\\t53956.38671875\\n169.94923400878906\\t29473.685546875\\n169.95994567871094\\t33025.8671875\\n169.97720336914062\\t147788.109375\\n169.9974365234375\\t24605.697265625\\n170.0388641357422\\t80048.3203125\\n170.08079528808594\\t25764.85546875\\n170.0961456298828\\t111500.6171875\\n170.15374755859375\\t930728.8125\\n170.9573516845703\\t30735.2890625\\n170.96156311035156\\t36725.84765625\\n170.98106384277344\\t24245.984375\\n171.03421020507812\\t54832.17578125\\n171.06211853027344\\t20235.529296875\\n171.06553649902344\\t16008.998046875\\n171.13760375976562\\t16150.9345703125\\n171.14903259277344\\t349999.0\\n171.15696716308594\\t80006.90625\\n171.95870971679688\\t25341.09765625\\n171.99278259277344\\t545098.1875\\n172.01832580566406\\t263874.78125\\n172.05776977539062\\t191672.4375\\n172.09707641601562\\t62483.80078125\\n172.15252685546875\\t26542.224609375\\n172.9521942138672\\t34278.72265625\\n172.95611572265625\\t91165.265625\\n172.9768524169922\\t333212.21875\\n172.99301147460938\\t20090.244140625\\n172.99632263183594\\t27797.33984375\\n173.0215606689453\\t13797.79296875\\n173.0301513671875\\t55730.90234375\\n173.07810974121094\\t183535.125\\n173.09219360351562\\t14371.6064453125\\n173.98451232910156\\t26408.943359375\\n174.0009002685547\\t17425.583984375\\n174.07594299316406\\t578801.1875\\n174.11236572265625\\t47849.32421875\\n174.95326232910156\\t30638.095703125\\n174.956787109375\\t26563.53515625\\n174.97702026367188\\t90054.3671875\\n174.9849090576172\\t124458.5703125\\n175.07968139648438\\t21651.08984375\\n175.1077880859375\\t12938.708984375\\n175.11131286621094\\t15657.794921875\\n175.97329711914062\\t32356.126953125\\n176.0087890625\\t15325.7080078125\\n176.0132598876953\\t594413.0\\n176.09152221679688\\t197791.8125\\n176.1280059814453\\t34307.125\\n176.92709350585938\\t57915.70703125\\n176.9718780517578\\t917540.6875\\n176.9801788330078\\t24202.92578125\\n177.006591796875\\t15195.2548828125\\n177.0166015625\\t23689.03515625\\n177.09085083007812\\t13717.453125\\n177.094482421875\\t19697.1171875\\n177.13453674316406\\t28116.27734375\\n177.94894409179688\\t20652.9375\\n177.95553588867188\\t30038.361328125\\n177.96890258789062\\t15741.6220703125\\n177.9751434326172\\t37133.0390625\\n178.07077026367188\\t134922.796875\\n178.10728454589844\\t20424.671875\\n178.14358520507812\\t14555.271484375\\n178.90802001953125\\t16520.015625\\n178.92416381835938\\t16308.3984375\\n178.94580078125\\t292691.8125\\n178.96583557128906\\t12613.65234375\\n178.99276733398438\\t35814.44140625\\n178.9969024658203\\t11188.353515625\\n179.0168914794922\\t621250.75\\n179.06375122070312\\t16710.32421875\\n179.07041931152344\\t15904.98046875\\n179.0740966796875\\t16762.71484375\\n179.1062774658203\\t21651.150390625\\n179.95367431640625\\t17715.220703125\\n179.99037170410156\\t42941.921875\\n180.02052307128906\\t19273.08984375\\n180.02679443359375\\t577599.75\\n180.94618225097656\\t38275.84375\\n180.9840087890625\\t532085.1875\\n180.98837280273438\\t24404.873046875\\n181.01060485839844\\t162310.859375\\n181.02560424804688\\t18392.6875\\n181.03271484375\\t13891.86328125\\n181.07179260253906\\t18973.0625\\n181.1224365234375\\t11478.1669921875\\n181.9505157470703\\t17998.4609375\\n181.96958923339844\\t40483.82421875\\n181.97915649414062\\t15592.9130859375\\n181.98765563964844\\t18744.703125\\n182.0223846435547\\t266338.0625\\n182.0284881591797\\t68766.71875\\n182.0420684814453\\t22212.89453125\\n182.94171142578125\\t17125.298828125\\n182.9615478515625\\t14623.4111328125\\n182.98023986816406\\t17632.49609375\\n182.9849395751953\\t270301.03125\\n183.00643920898438\\t26850.173828125\\n183.0168914794922\\t17757.091796875\\n183.06504821777344\\t273340.46875\\n183.1013641357422\\t37308.03515625\\n183.9447784423828\\t17178.640625\\n183.96844482421875\\t25494.609375\\n183.98501586914062\\t19893.65625\\n184.01773071289062\\t19065.85546875\\n184.021728515625\\t16984.265625\\n184.06874084472656\\t26581.3203125\\n184.0965576171875\\t12643.890625\\n184.90895080566406\\t13246.716796875\\n184.9607391357422\\t61520.23828125\\n184.96897888183594\\t80095.03125\\n184.98545837402344\\t185595.84375\\n185.0057373046875\\t687986.0\\n185.09188842773438\\t17409.75390625\\n185.1536865234375\\t18166.423828125\\n185.9195098876953\\t16397.583984375\\n185.94036865234375\\t17729.369140625\\n185.96421813964844\\t275020.5625\\n185.98416137695312\\t36397.96484375\\n186.0093231201172\\t16987.607421875\\n186.07589721679688\\t31489.6796875\\n186.11212158203125\\t20171.560546875\\n186.14849853515625\\t12969.5625\\n186.92771911621094\\t40437.39453125\\n186.93995666503906\\t62632.81640625\\n186.95603942871094\\t1017717.5625\\n186.9674835205078\\t15168.5673828125\\n186.9807891845703\\t69023.578125\\n187.00140380859375\\t152476.90625\\n187.10765075683594\\t18443.009765625\\n187.12635803222656\\t33826.22265625\\n187.95950317382812\\t37409.81640625\\n188.0224609375\\t179254.25\\n188.05545043945312\\t73773.9765625\\n188.09158325195312\\t229687.8125\\n188.92449951171875\\t18997.814453125\\n188.93690490722656\\t41171.34375\\n189.0228271484375\\t18446.41796875\\n189.0948028564453\\t22001.587890625\\n189.958740234375\\t106412.5\\n189.9796600341797\\t23931.62109375\\n190.00331115722656\\t41634.890625\\n190.0292205810547\\t25729.71484375\\n190.06532287597656\\t13073.3076171875\\n190.07080078125\\t32109.703125\\n190.10723876953125\\t44499.2109375\\n190.14373779296875\\t32198.27734375\\n190.9356231689453\\t38880.38671875\\n190.94371032714844\\t18489.40625\\n190.97933959960938\\t65496.4140625\\n190.98741149902344\\t74357.2734375\\n190.99261474609375\\t40594.41796875\\n191.10633850097656\\t19155.5234375\\n191.9557342529297\\t40982.6796875\\n191.9776153564453\\t26627.546875\\n192.04454040527344\\t12206.484375\\n192.08636474609375\\t100231.7890625\\n192.10147094726562\\t20234.07421875\\n192.12310791015625\\t14490.4404296875\\n192.15931701660156\\t97723.8125\\n192.97621154785156\\t67158.5546875\\n193.04959106445312\\t14257.5712890625\\n193.12205505371094\\t16334.1982421875\\n193.9531707763672\\t138989.078125\\n194.11732482910156\\t118040.921875\\n194.9378204345703\\t18578.5703125\\n194.9659423828125\\t39969.0078125\\n194.97508239746094\\t27670.765625\\n194.98272705078125\\t29123.671875\\n194.98541259765625\\t13234.7958984375\\n194.99009704589844\\t1117386.75\\n195.07614135742188\\t24116.037109375\\n195.08746337890625\\t30900.818359375\\n195.11280822753906\\t23989.453125\\n195.1221923828125\\t89800.8828125\\n195.13775634765625\\t40566.8671875\\n195.94859313964844\\t2496835.5\\n195.95823669433594\\t34847.81640625\\n195.96728515625\\t13269.1494140625\\n195.9931640625\\t66501.4453125\\n196.05804443359375\\t27733.451171875\\n196.8654022216797\\t16405.427734375\\n196.9482421875\\t57728.7578125\\n196.9520721435547\\t43751.26171875\\n196.95640563964844\\t110262.234375\\n196.96124267578125\\t348192.65625\\n196.98582458496094\\t48080.4921875\\n197.08059692382812\\t23650.560546875\\n197.11700439453125\\t26018.328125\\n197.12823486328125\\t43871.3046875\\n197.9441375732422\\t118378.953125\\n197.95237731933594\\t18252.056640625\\n197.9927215576172\\t49434.80078125\\n198.00074768066406\\t189140.0625\\n198.03732299804688\\t198584.3125\\n198.07608032226562\\t25721.20703125\\n198.11239624023438\\t18353.515625\\n198.1316680908203\\t18718.814453125\\n198.95680236816406\\t82548.7890625\\n198.97671508789062\\t12662.71875\\n198.99452209472656\\t35442.5078125\\n199.0214080810547\\t39056.4609375\\n199.0290069580078\\t71369.5234375\\n199.1075439453125\\t24823.064453125\\n199.16908264160156\\t43738.40234375\\n199.1802520751953\\t131503.484375\\n199.9551239013672\\t13431.1279296875\\n199.9878692626953\\t312973.9375\\n199.99659729003906\\t36211.47265625\\n200.03297424316406\\t32018.4921875\\n200.0526885986328\\t23530.53125\\n200.0915985107422\\t74744.984375\\n200.87657165527344\\t14015.3974609375\\n200.95237731933594\\t16813.5703125\\n200.97186279296875\\t183322.875\\n200.99127197265625\\t16908.25390625\\n201.00811767578125\\t179418.015625\\n201.01693725585938\\t17368.169921875\\n201.07313537597656\\t46012.9609375\\n201.0865478515625\\t22513.533203125\\n201.12322998046875\\t13659.001953125\\n202.0284881591797\\t18339.384765625\\n202.07083129882812\\t57494.546875\\n202.1072540283203\\t81154.578125\\n202.9512481689453\\t19716.85546875\\n202.97116088867188\\t12605.9619140625\\n203.05242919921875\\t17675.076171875\\n203.22299194335938\\t131180.703125\\n203.9300994873047\\t77487.6796875\\n203.9380645751953\\t14998.7744140625\\n204.00006103515625\\t169853.234375\\n204.08665466308594\\t66954.515625\\n204.92822265625\\t14370.0283203125\\n204.9508514404297\\t54013.33203125\\n204.95680236816406\\t19585.037109375\\n204.9671630859375\\t109893.0703125\\n205.04945373535156\\t82122.53125\\n205.086181640625\\t19388.203125\\n205.15841674804688\\t13694.361328125\\n205.1948699951172\\t37737.7734375\\n205.92745971679688\\t30820.919921875\\n206.03326416015625\\t38779.45703125\\n206.06629943847656\\t17808.474609375\\n206.1020965576172\\t50233.140625\\n206.89390563964844\\t37110.8359375\\n206.95120239257812\\t27260.787109375\\n206.96388244628906\\t22615.765625\\n206.9881591796875\\t59777.56640625\\n207.0321044921875\\t55160.87109375\\n207.96871948242188\\t15318.0390625\\n207.98516845703125\\t108204.265625\\n208.02101135253906\\t12901.6025390625\\n208.89132690429688\\t15713.2236328125\\n208.9434356689453\\t27875.4453125\\n208.95445251464844\\t57787.703125\\n208.9799346923828\\t152709.984375\\n208.98887634277344\\t17068.068359375\\n209.00550842285156\\t142842.4375\\n209.09178161621094\\t15335.19140625\\n209.94322204589844\\t28285.509765625\\n209.9642791748047\\t190218.09375\\n209.9807891845703\\t14076.7998046875\\n210.01730346679688\\t20258.896484375\\n210.0240020751953\\t16551.6328125\\n210.90553283691406\\t20785.4765625\\n210.93251037597656\\t24004.365234375\\n210.95033264160156\\t18135.5390625\\n211.13323974609375\\t12467.9150390625\\n211.14401245117188\\t43412.0390625\\n211.9403076171875\\t25571.966796875\\n211.9641876220703\\t26448.6171875\\n212.09140014648438\\t36090.84765625\\n212.10301208496094\\t16405.34375\\n212.931884765625\\t21905.447265625\\n213.00048828125\\t78881.3359375\\n213.14834594726562\\t44636.28515625\\n213.15943908691406\\t17729.248046875\\n213.91477966308594\\t42309.734375\\n213.92239379882812\\t71980.75\\n213.95909118652344\\t477055.71875\\n214.00335693359375\\t17849.0\\n214.06832885742188\\t16899.728515625\\n214.08946228027344\\t145359.859375\\n214.10702514648438\\t19146.751953125\\n214.9825897216797\\t18526.3359375\\n215.0883026123047\\t21159.984375\\n215.10255432128906\\t29082.255859375\\n215.8860626220703\\t16112.9501953125\\n215.9117431640625\\t42225.23046875\\n215.9547576904297\\t32401.033203125\\n215.9932403564453\\t29291.908203125\\n216.08656311035156\\t32519.677734375\\n216.92262268066406\\t80224.6640625\\n216.94781494140625\\t17207.814453125\\n216.97793579101562\\t32718.958984375\\n217.01422119140625\\t1230303.875\\n217.0198516845703\\t23920.826171875\\n217.04969787597656\\t20625.482421875\\n217.10414123535156\\t146474.328125\\n217.15838623046875\\t65824.6328125\\n217.9984588623047\\t24452.640625\\n218.01760864257812\\t39415.45703125\\n218.1022491455078\\t25849.12890625\\n218.1387176513672\\t20252.28515625\\n218.1622772216797\\t25598.177734375\\n218.9198760986328\\t29135.73828125\\n218.96621704101562\\t15104.541015625\\n218.97540283203125\\t16788.029296875\\n219.010009765625\\t316049.96875\\n219.0191192626953\\t66158.4609375\\n219.04727172851562\\t13348.16015625\\n219.17428588867188\\t52707.1796875\\n219.8975372314453\\t18451.345703125\\n219.97232055664062\\t90145.1640625\\n220.03924560546875\\t21457.494140625\\n220.93438720703125\\t40269.51953125\\n221.00564575195312\\t32858.19140625\\n221.0839385986328\\t34628.34765625\\n221.94845581054688\\t66371.6171875\\n221.97280883789062\\t68765.6015625\\n222.01046752929688\\t15098.7275390625\\n222.8888702392578\\t14809.9033203125\\n222.9613037109375\\t68900.59375\\n222.9713134765625\\t14646.09375\\n223.01278686523438\\t13464.4677734375\\n223.06350708007812\\t6366109.0\\n223.07485961914062\\t40055.57421875\\n223.89352416992188\\t23880.212890625\\n223.91941833496094\\t63864.12890625\\n223.9434356689453\\t1232522.625\\n223.96783447265625\\t28355.83203125\\n223.98831176757812\\t78813.953125\\n224.06304931640625\\t835846.375\\n224.06695556640625\\t194923.015625\\n224.9272003173828\\t13699.7685546875\\n224.947265625\\t25079.8671875\\n224.95599365234375\\t169660.71875\\n225.00982666015625\\t186474.6875\\n225.04273986816406\\t439545.125\\n225.06031799316406\\t597441.125\\n225.06686401367188\\t40384.34765625\\n225.148681640625\\t14766.66015625\\n225.91468811035156\\t124563.859375\\n225.93954467773438\\t48601.88671875\\n225.99563598632812\\t34461.56640625\\n226.01083374023438\\t30206.68359375\\n226.04173278808594\\t56967.765625\\n226.0591278076172\\t54337.1015625\\n226.92156982421875\\t18260.65625\\n226.94606018066406\\t41428.80078125\\n226.95162963867188\\t61253.02734375\\n226.9663543701172\\t24790.751953125\\n226.990478515625\\t13475.7431640625\\n227.00762939453125\\t27521.94140625\\n227.01641845703125\\t20430.9296875\\n227.02178955078125\\t160729.953125\\n227.03988647460938\\t39126.61328125\\n227.05731201171875\\t23731.783203125\\n227.96641540527344\\t29261.146484375\\n227.9747314453125\\t18272.958984375\\n227.9801025390625\\t12355.10546875\\n227.9831085205078\\t17019.83984375\\n228.02151489257812\\t23591.046875\\n228.23208618164062\\t37750.33984375\\n228.94332885742188\\t35434.03515625\\n229.00120544433594\\t80795.9453125\\n229.92745971679688\\t15896.19921875\\n229.96339416503906\\t23459.77734375\\n230.10202026367188\\t32184.08984375\\n230.96072387695312\\t40892.30078125\\n231.97064208984375\\t50835.91796875\\n232.92807006835938\\t21690.04296875\\n233.92190551757812\\t20650.935546875\\n233.9593505859375\\t27137.3359375\\n233.9668426513672\\t14972.62890625\\n234.98167419433594\\t94876.7578125\\n234.98829650878906\\t110967.4296875\\n235.11871337890625\\t22630.50390625\\n235.16896057128906\\t90135.609375\\n235.99258422851562\\t15254.5927734375\\n236.01654052734375\\t19219.865234375\\n236.9069366455078\\t17210.68359375\\n236.93849182128906\\t82218.6484375\\n236.97511291503906\\t210099.265625\\n236.9841766357422\\t39125.984375\\n237.18492126464844\\t16224.125\\n237.22120666503906\\t21010.162109375\\n237.9080047607422\\t64598.8125\\n237.95901489257812\\t195455.8125\\n237.99546813964844\\t35932.64453125\\n238.92832946777344\\t20622.89453125\\n238.97215270996094\\t20135.921875\\n238.9788360595703\\t12992.6123046875\\n239.08880615234375\\t32022.93359375\\n239.09446716308594\\t26320.93359375\\n239.14903259277344\\t35961.55859375\\n240.92710876464844\\t31548.09765625\\n240.98733520507812\\t386174.09375\\n241.8853302001953\\t68565.703125\\n241.95391845703125\\t69310.8828125\\n242.91937255859375\\t17715.7890625\\n242.9248809814453\\t25889.107421875\\n242.9838409423828\\t23171.568359375\\n243.8812713623047\\t50423.7421875\\n244.91390991210938\\t20911.232421875\\n244.9470672607422\\t29279.923828125\\n244.97279357910156\\t37006.453125\\n245.00918579101562\\t144445.328125\\n245.09915161132812\\t20303.33203125\\n245.12840270996094\\t18968.134765625\\n245.96737670898438\\t156597.828125\\n245.99148559570312\\t13853.8974609375\\n246.0970916748047\\t24421.0234375\\n246.93072509765625\\t18942.990234375\\n246.9434814453125\\t35067.22265625\\n247.00489807128906\\t42528.58203125\\n247.0596160888672\\t16498.85546875\\n248.05848693847656\\t23181.28515625\\n248.11227416992188\\t15095.0927734375\\n248.93214416503906\\t29898.62109375\\n248.93917846679688\\t27552.68359375\\n249.14794921875\\t23120.609375\\n249.19635009765625\\t25188.0546875\\n250.95571899414062\\t41854.3046875\\n250.97093200683594\\t18153.033203125\\n251.9140625\\t95101.6328125\\n251.97361755371094\\t17234.431640625\\n252.04833984375\\t17526.376953125\\n252.9562530517578\\t16160.1201171875\\n252.9736328125\\t41831.78515625\\n252.98057556152344\\t45330.3828125\\n253.90939331054688\\t151120.265625\\n254.82354736328125\\t15079.0859375\\n254.9487762451172\\t62554.77734375\\n254.9857177734375\\t92683.0859375\\n255.1011962890625\\t13082.90234375\\n255.1591796875\\t10947.212890625\\n255.19581604003906\\t14355.4658203125\\n255.2315673828125\\t24779.439453125\\n255.87425231933594\\t19032.69921875\\n256.26300048828125\\t27775.87109375\\n256.8205261230469\\t16577.12890625\\n256.93963623046875\\t36411.19921875\\n256.9596862792969\\t104065.2578125\\n257.8710632324219\\t12363.7333984375\\n257.967529296875\\t15315.6396484375\\n258.1329040527344\\t16536.103515625\\n258.9313049316406\\t16994.037109375\\n258.9599609375\\t19263.923828125\\n259.128173828125\\t20721.73828125\\n259.8515930175781\\t15116.4755859375\\n260.9245300292969\\t32365.25\\n260.9554748535156\\t18671.93359375\\n260.9755554199219\\t13314.8779296875\\n261.0769958496094\\t16203.755859375\\n261.1119689941406\\t265237.15625\\n261.1309509277344\\t45152.6015625\\n261.8905334472656\\t12779.69921875\\n262.1154479980469\\t37821.01953125\\n262.913330078125\\t26189.578125\\n262.9771728515625\\t18535.0078125\\n262.98333740234375\\t39809.20703125\\n263.0914001464844\\t161511.546875\\n263.8997497558594\\t22185.35546875\\n263.934814453125\\t57829.390625\\n263.9419250488281\\t16824.908203125\\n263.9545593261719\\t15585.298828125\\n264.0950927734375\\t12590.2939453125\\n264.9104309082031\\t15770.029296875\\n264.94696044921875\\t14429.73828125\\n264.9539794921875\\t34264.578125\\n264.9676208496094\\t93534.328125\\n265.8630676269531\\t27226.0078125\\n265.9034729003906\\t46924.125\\n265.9303894042969\\t27439.166015625\\n265.9398498535156\\t17441.767578125\\n266.9246520996094\\t25003.486328125\\n266.95098876953125\\t36414.39453125\\n266.965087890625\\t18182.44140625\\n267.15838623046875\\t14498.3330078125\\n267.17755126953125\\t13268.7919921875\\n267.8596496582031\\t15458.6083984375\\n267.8840026855469\\t18127.3984375\\n267.93359375\\t16319.25\\n268.9580993652344\\t62299.79296875\\n269.881103515625\\t56094.9375\\n269.88702392578125\\t13646.81640625\\n270.95440673828125\\t17610.466796875\\n271.059814453125\\t34114.0859375\\n271.8752136230469\\t15447.966796875\\n271.8821105957031\\t17768.17578125\\n271.9671325683594\\t39779.0703125\\n272.94384765625\\t38040.71484375\\n273.00421142578125\\t48797.58203125\\n273.8960876464844\\t27820.96875\\n273.926025390625\\t57531.98046875\\n273.96246337890625\\t614237.875\\n274.9310607910156\\t14470.9736328125\\n274.93804931640625\\t57729.4296875\\n274.9659729003906\\t15186.5390625\\n274.9754333496094\\t17562.013671875\\n274.9985046386719\\t24606.91015625\\n275.8902587890625\\t63825.796875\\n275.9147033691406\\t18758.833984375\\n275.9584045410156\\t41098.13671875\\n276.8966369628906\\t12403.119140625\\n276.92730712890625\\t14772.2509765625\\n276.9420471191406\\t14455.2353515625\\n277.1066589355469\\t27208.0\\n277.9663391113281\\t16187.7314453125\\n278.8924560546875\\t46631.21875\\n279.1589660644531\\t135892.90625\\n279.9093017578125\\t66442.7109375\\n280.1626892089844\\t13406.5283203125\\n281.0006408691406\\t13779.7041015625\\n281.050048828125\\t175701.65625\\n281.8751220703125\\t18480.87109375\\n281.9046325683594\\t21007.185546875\\n281.9339599609375\\t15403.322265625\\n282.0499267578125\\t29616.103515625\\n283.0303955078125\\t54581.60546875\\n283.89654541015625\\t22284.35546875\\n283.92291259765625\\t52934.4453125\\n283.9316101074219\\t12081.1796875\\n284.2660827636719\\t14871.724609375\\n284.91021728515625\\t26297.583984375\\n284.9352722167969\\t36001.42578125\\n284.9647216796875\\t25134.439453125\\n285.07415771484375\\t14815.78125\\n286.8791809082031\\t12875.296875\\n286.924560546875\\t16800.423828125\\n286.9601745605469\\t15647.626953125\\n287.8699035644531\\t18946.8359375\\n287.8846435546875\\t15702.6826171875\\n287.9778747558594\\t20252.51171875\\n288.9220275878906\\t80242.2890625\\n289.9259033203125\\t17919.416015625\\n291.92950439453125\\t43336.13671875\\n291.93670654296875\\t15853.1533203125\\n292.92572021484375\\t18575.296875\\n293.8548583984375\\t77008.4765625\\n293.86297607421875\\t24543.81640625\\n293.9255065917969\\t29750.2890625\\n294.8655090332031\\t16551.16796875\\n294.96356201171875\\t16907.11328125\\n294.9914855957031\\t22634.775390625\\n295.1805725097656\\t14622.0078125\\n295.85205078125\\t48056.27734375\\n297.082275390625\\t2736668.25\\n297.9110412597656\\t44632.33984375\\n298.0812072753906\\t461730.09375\\n299.0615539550781\\t849674.875\\n299.0786437988281\\t338138.5\\n299.9626770019531\\t14060.314453125\\n300.0613708496094\\t125009.0859375\\n300.07794189453125\\t20472.90625\\n300.9747314453125\\t23549.251953125\\n301.0578308105469\\t86218.703125\\n301.0669860839844\\t16617.123046875\\n301.0763854980469\\t88961.8671875\\n301.1408996582031\\t37017.4453125\\n301.1793212890625\\t62244.8359375\\n301.8885803222656\\t24908.6953125\\n301.95733642578125\\t437381.375\\n302.183349609375\\t20776.521484375\\n302.93267822265625\\t12345.37890625\\n302.9610900878906\\t23424.279296875\\n303.8588562011719\\t23113.505859375\\n303.8837585449219\\t111142.890625\\n303.8921203613281\\t36885.38671875\\n303.9532165527344\\t50759.01953125\\n304.89337158203125\\t16112.248046875\\n304.9242858886719\\t12824.8134765625\\n305.00872802734375\\t85239.1953125\\n305.1506042480469\\t16322.69140625\\n307.00653076171875\\t57391.390625\\n308.8573303222656\\t18564.611328125\\n309.2038269042969\\t37065.78125\\n311.0741271972656\\t13731.6298828125\\n311.8674011230469\\t26855.64453125\\n311.9173889160156\\t62015.4453125\\n312.8759765625\\t26758.267578125\\n315.25250244140625\\t27510.53125\\n315.87786865234375\\t27064.69140625\\n317.1022644042969\\t12422.189453125\\n317.8744812011719\\t20353.283203125\\n319.0003967285156\\t16013.8388671875\\n319.899658203125\\t16732.181640625\\n321.8258972167969\\t13636.1787109375\\n321.85797119140625\\t16592.74609375\\n321.8939514160156\\t21290.29296875\\n322.0775146484375\\t35006.0625\\n322.66473388671875\\t12378.869140625\\n323.01947021484375\\t77050.046875\\n323.8221435546875\\t17013.2890625\\n323.9292297363281\\t13063.9248046875\\n325.0164489746094\\t40201.51171875\\n325.9063415527344\\t30141.896484375\\n327.0078125\\t86632.2578125\\n329.0046081542969\\t66988.9296875\\n329.9280700683594\\t16603.6796875\\n330.8432312011719\\t43348.94921875\\n330.9874267578125\\t16619.9921875\\n331.00238037109375\\t25441.322265625\\n331.85357666015625\\t24495.001953125\\n332.83831787109375\\t22049.939453125\\n336.5367431640625\\t22491.341796875\\n336.8520812988281\\t14919.8408203125\\n337.190673828125\\t192318.140625\\n337.8631896972656\\t13067.111328125\\n338.1941223144531\\t33483.94921875\\n338.8484191894531\\t14896.4931640625\\n338.877197265625\\t13542.32421875\\n339.8630676269531\\t16112.5703125\\n340.8710021972656\\t65448.44921875\\n341.8848876953125\\t13809.5810546875\\n341.9129638671875\\t14292.873046875\\n345.2052917480469\\t17635.83203125\\n351.8724670410156\\t14675.513671875\\n351.93865966796875\\t22861.939453125\\n352.8984375\\t14528.021484375\\n353.1861267089844\\t27331.06640625\\n353.86822509765625\\t14745.2353515625\\n353.9043884277344\\t17171.779296875\\n355.19140625\\t26698.623046875\\n355.2012634277344\\t897319.125\\n356.2048645019531\\t205251.765625\\n357.20733642578125\\t23567.82421875\\n361.2005920410156\\t25605.048828125\\n365.1054992675781\\t19380.6796875\\n369.20648193359375\\t21436.857421875\\n391.2838134765625\\t15299.72265625\\n393.7887878417969\\t13615.330078125\\n397.127685546875\\t70427.421875\\n397.8079528808594\\t14252.4091796875\\n398.1315612792969\\t14859.5087890625\\n415.1385498046875\\t75340.796875\\n416.14129638671875\\t23391.419921875\\n419.8713684082031\\t12866.953125\\n432.1650390625\\t36890.46875\\n432.88616943359375\\t15961.064453125\\n433.22119140625\\t16866.146484375\\n445.8243408203125\\t13556.03515625\\n447.2373046875\\t35193.9140625\\n473.25213623046875\\t32329.9140625\\n474.85113525390625\\t13431.8583984375\\n497.7251892089844\\t15094.0458984375\\n695.7514038085938\\t13231.2705078125\\n737.0849609375\\t16506.50390625\\n774.869140625\\t12913.1826171875\\n793.3270874023438\\t13138.2802734375\\n925.1453247070312\\t16758.2265625\\n942.8626708984375\\t15003.4306640625\\n995.3081665039062\\t14750.0634765625\\n1129.91650390625\\t12926.8095703125\\n1202.107666015625\\t11639.7119140625\\n1312.94921875\\t16468.728515625\\n1486.5955810546875\\t15342.8623046875'"
     },
     "execution_count": 132,
     "metadata": {},
     "output_type": "execute_result"
    }
   ],
   "source": [
    "+_extract_MS1(test_mzml,2014)"
   ],
   "metadata": {
    "collapsed": false,
    "pycharm": {
     "name": "#%%\n"
    }
   }
  },
  {
   "cell_type": "code",
   "execution_count": 129,
   "outputs": [
    {
     "data": {
      "text/plain": "array([7.3312508e-03, 2.0227117e-02, 3.1039618e-02, ..., 1.9979996e+01,\n       1.9989775e+01, 1.9999636e+01])"
     },
     "execution_count": 129,
     "metadata": {},
     "output_type": "execute_result"
    }
   ],
   "source": [
    "test_mzml['rt_list_ms1']"
   ],
   "metadata": {
    "collapsed": false,
    "pycharm": {
     "name": "#%%\n"
    }
   }
  },
  {
   "cell_type": "code",
   "execution_count": 128,
   "outputs": [
    {
     "data": {
      "text/plain": "array([      0,     362,     785, ..., 2383971, 2385216, 2386449])"
     },
     "execution_count": 128,
     "metadata": {},
     "output_type": "execute_result"
    }
   ],
   "source": [
    "test_mzml['indices_ms1']"
   ],
   "metadata": {
    "collapsed": false,
    "pycharm": {
     "name": "#%%\n"
    }
   }
  },
  {
   "cell_type": "code",
   "execution_count": 124,
   "outputs": [
    {
     "name": "stderr",
     "output_type": "stream",
     "text": [
      "100%|██████████| 10071/10071 [01:40<00:00, 100.16it/s]\n",
      "/opt/homebrew/Caskroom/miniforge/base/envs/alphapept_env/lib/python3.8/site-packages/seaborn/_decorators.py:36: FutureWarning: Pass the following variables as keyword args: x, y. From version 0.12, the only valid positional argument will be `data`, and passing other arguments without an explicit keyword will result in an error or misinterpretation.\n",
      "  warnings.warn(\n"
     ]
    },
    {
     "data": {
      "text/plain": "<Figure size 900x500 with 1 Axes>",
      "image/png": "[encoded data removed]"
     },
     "metadata": {},
     "output_type": "display_data"
    }
   ],
   "source": [
    "EIC(\"/Volumes/Samsung_T5/nc_mzml/CSH_Mix_1.mzML\", 143.039474)"
   ],
   "metadata": {
    "collapsed": false,
    "pycharm": {
     "name": "#%%\n"
    }
   }
  },
  {
   "cell_type": "markdown",
   "source": [
    "# Guess molecular formula"
   ],
   "metadata": {
    "collapsed": false,
    "pycharm": {
     "name": "#%% md\n"
    }
   }
  },
  {
   "cell_type": "code",
   "execution_count": 1,
   "outputs": [],
   "source": [
    "from toolsets.isotope import isotope_distribution"
   ],
   "metadata": {
    "collapsed": false,
    "pycharm": {
     "name": "#%%\n"
    }
   }
  },
  {
   "cell_type": "code",
   "execution_count": 17,
   "outputs": [],
   "source": [
    "from molmass import Formula"
   ],
   "metadata": {
    "collapsed": false,
    "pycharm": {
     "name": "#%%\n"
    }
   }
  },
  {
   "cell_type": "code",
   "execution_count": 35,
   "outputs": [],
   "source": [
    "test =Formula('C')"
   ],
   "metadata": {
    "collapsed": false,
    "pycharm": {
     "name": "#%%\n"
    }
   }
  },
  {
   "cell_type": "code",
   "execution_count": 36,
   "outputs": [
    {
     "data": {
      "text/plain": "{12: [12.0, 0.9893], 13: [13.00335483507, 0.0107]}"
     },
     "execution_count": 36,
     "metadata": {},
     "output_type": "execute_result"
    }
   ],
   "source": [
    "test.spectrum()"
   ],
   "metadata": {
    "collapsed": false,
    "pycharm": {
     "name": "#%%\n"
    }
   }
  },
  {
   "cell_type": "code",
   "execution_count": 15,
   "outputs": [],
   "source": [
    "moleclue = molmass.from_string(\"C2H5OH\")"
   ],
   "metadata": {
    "collapsed": false,
    "pycharm": {
     "name": "#%%\n"
    }
   }
  },
  {
   "cell_type": "code",
   "execution_count": 16,
   "outputs": [
    {
     "data": {
      "text/plain": "'C2H5OH'"
     },
     "execution_count": 16,
     "metadata": {},
     "output_type": "execute_result"
    }
   ],
   "source": [
    "moleclue."
   ],
   "metadata": {
    "collapsed": false,
    "pycharm": {
     "name": "#%%\n"
    }
   }
  },
  {
   "cell_type": "code",
   "execution_count": 13,
   "outputs": [
    {
     "data": {
      "text/plain": "array([0.00011501, 0.        , 0.        , 0.        ], dtype=float32)"
     },
     "execution_count": 13,
     "metadata": {},
     "output_type": "execute_result"
    }
   ],
   "source": [
    "isotope_distribution[1]"
   ],
   "metadata": {
    "collapsed": false,
    "pycharm": {
     "name": "#%%\n"
    }
   }
  },
  {
   "cell_type": "markdown",
   "source": [
    "# fitting guassain peaks"
   ],
   "metadata": {
    "collapsed": false,
    "pycharm": {
     "name": "#%% md\n"
    }
   }
  },
  {
   "cell_type": "code",
   "execution_count": 5,
   "outputs": [],
   "source": [
    "import matplotlib\n",
    "import matplotlib.pyplot as plt\n",
    "import numpy as np\n",
    "import scipy as scipy\n",
    "from scipy import optimize\n",
    "from matplotlib.ticker import AutoMinorLocator\n",
    "from matplotlib import gridspec\n",
    "import matplotlib.ticker as ticker\n",
    "%matplotlib inline"
   ],
   "metadata": {
    "collapsed": false,
    "pycharm": {
     "name": "#%%\n"
    }
   }
  },
  {
   "cell_type": "code",
   "execution_count": 27,
   "outputs": [],
   "source": [
    "import os"
   ],
   "metadata": {
    "collapsed": false,
    "pycharm": {
     "name": "#%%\n"
    }
   }
  },
  {
   "cell_type": "code",
   "execution_count": 25,
   "outputs": [],
   "source": [
    "figure_dir = '/Users/fanzhoukong/Library/CloudStorage/OneDrive-Personal/Desktop/UCDAVIS_Phd/Libgen/manuscript/figures'"
   ],
   "metadata": {
    "collapsed": false,
    "pycharm": {
     "name": "#%%\n"
    }
   }
  },
  {
   "cell_type": "code",
   "execution_count": 9,
   "outputs": [],
   "source": [
    "def _2gaussian(x, amp1,cen1,sigma1, amp2,cen2,sigma2):\n",
    "    return amp1*(1/(sigma1*(np.sqrt(2*np.pi))))*(np.exp((-1.0/2.0)*(((x_array-cen1)/sigma1)**2))) + \\\n",
    "            amp2*(1/(sigma2*(np.sqrt(2*np.pi))))*(np.exp((-1.0/2.0)*(((x_array-cen2)/sigma2)**2)))"
   ],
   "metadata": {
    "collapsed": false,
    "pycharm": {
     "name": "#%%\n"
    }
   }
  },
  {
   "cell_type": "markdown",
   "source": [],
   "metadata": {
    "collapsed": false,
    "pycharm": {
     "name": "#%% md\n"
    }
   }
  },
  {
   "cell_type": "code",
   "execution_count": 7,
   "outputs": [],
   "source": [
    "# linearly spaced x-axis of 10 values between 1 and 10\n",
    "x_array = np.linspace(1,100,50)\n",
    "\n",
    "amp1 = 100\n",
    "sigma1 = 10\n",
    "cen1 = 50\n",
    "y_array_gauss = amp1*(1/(sigma1*(np.sqrt(2*np.pi))))*(np.exp((-1.0/2.0)*(((x_array-cen1)/sigma1)**2)))\n",
    "\n",
    "# creating some noise to add the the y-axis data\n",
    "y_noise_gauss = (np.exp((np.random.ranf(50))))/5\n",
    "y_array_gauss += y_noise_gauss"
   ],
   "metadata": {
    "collapsed": false,
    "pycharm": {
     "name": "#%%\n"
    }
   }
  },
  {
   "cell_type": "code",
   "execution_count": 11,
   "outputs": [],
   "source": [
    "\n",
    "def _1gaussian(x, amp1,cen1,sigma1):\n",
    "    return amp1*(1/(sigma1*(np.sqrt(2*np.pi))))*(np.exp((-1.0/2.0)*(((x_array-cen1)/sigma1)**2)))"
   ],
   "metadata": {
    "collapsed": false,
    "pycharm": {
     "name": "#%%\n"
    }
   }
  },
  {
   "cell_type": "code",
   "execution_count": 8,
   "outputs": [],
   "source": [
    "amp1 = 100\n",
    "sigma1 = 10\n",
    "cen1 = 40\n",
    "\n",
    "amp2 = 75\n",
    "sigma2 = 5\n",
    "cen2 = 65\n",
    "\n",
    "y_array_2gauss = amp1*(1/(sigma1*(np.sqrt(2*np.pi))))*(np.exp((-1.0/2.0)*(((x_array-cen1)/sigma1)**2))) + \\\n",
    "                amp2*(1/(sigma2*(np.sqrt(2*np.pi))))*(np.exp((-1.0/2.0)*(((x_array-cen2)/sigma2)**2)))\n",
    "\n",
    "# creating some noise to add the the y-axis data\n",
    "y_noise_2gauss = (np.exp((np.random.ranf(50))))/5\n",
    "y_array_2gauss += y_noise_2gauss"
   ],
   "metadata": {
    "collapsed": false,
    "pycharm": {
     "name": "#%%\n"
    }
   }
  },
  {
   "cell_type": "code",
   "execution_count": 34,
   "outputs": [
    {
     "data": {
      "text/plain": "<Figure size 400x300 with 1 Axes>",
      "image/png": "[encoded data removed]"
     },
     "metadata": {},
     "output_type": "display_data"
    }
   ],
   "source": [],
   "metadata": {
    "collapsed": false,
    "pycharm": {
     "name": "#%%\n"
    }
   }
  },
  {
   "cell_type": "code",
   "execution_count": 12,
   "outputs": [],
   "source": [
    "popt_2gauss, pcov_2gauss = scipy.optimize.curve_fit(_2gaussian, x_array, y_array_2gauss, p0=[amp1, cen1, sigma1, \\\n",
    "                                                                                          amp2, cen2, sigma2])\n",
    "\n",
    "perr_2gauss = np.sqrt(np.diag(pcov_2gauss))\n",
    "\n",
    "pars_1 = popt_2gauss[0:3]\n",
    "pars_2 = popt_2gauss[3:6]\n",
    "gauss_peak_1 = _1gaussian(x_array, *pars_1)\n",
    "gauss_peak_2 = _1gaussian(x_array, *pars_2)"
   ],
   "metadata": {
    "collapsed": false,
    "pycharm": {
     "name": "#%%\n"
    }
   }
  },
  {
   "cell_type": "code",
   "execution_count": 38,
   "outputs": [],
   "source": [
    "gauss_peak_1 = _1gaussian(x_array, *pars_1)"
   ],
   "metadata": {
    "collapsed": false,
    "pycharm": {
     "name": "#%%\n"
    }
   }
  },
  {
   "cell_type": "code",
   "execution_count": 43,
   "outputs": [
    {
     "data": {
      "text/plain": "<Figure size 400x300 with 1 Axes>",
      "image/png": "[encoded data removed]"
     },
     "metadata": {},
     "output_type": "display_data"
    }
   ],
   "source": [
    "fig = plt.figure(figsize=(4,3))\n",
    "gs = gridspec.GridSpec(1,1)\n",
    "ax1 = fig.add_subplot(gs[0])\n",
    "\n",
    "ax1.plot(x_array, y_array_gauss, \"ro\")\n",
    "ax1.fill_between(x_array, y_array_gauss, facecolor=\"green\", alpha=0.5)\n",
    "# ax1.plot(x_array, gauss_peak_1, \"g\")\n",
    "ax1.set(xlabel=None, ylabel=None)\n",
    "ax1.set(xticklabels=[], yticklabels=[])\n",
    "# ax1.set_xlim(-5,105)\n",
    "# ax1.set_ylim(-0.5,5)\n",
    "\n",
    "# ax1.set_xlabel(\"x_array\",family=\"serif\",  fontsize=12)\n",
    "# ax1.set_ylabel(\"y_array\",family=\"serif\",  fontsize=12)\n",
    "#\n",
    "# ax1.xaxis.set_major_locator(ticker.MultipleLocator(20))\n",
    "# #ax1.yaxis.set_major_locator(ticker.MultipleLocator(50))\n",
    "#\n",
    "# ax1.xaxis.set_minor_locator(AutoMinorLocator(2))\n",
    "# ax1.yaxis.set_minor_locator(AutoMinorLocator(2))\n",
    "\n",
    "# ax1.tick_params(axis='both',which='major', direction=\"out\", top=\"on\", right=\"on\", bottom=\"on\", length=8, labelsize=8)\n",
    "# ax1.tick_params(axis='both',which='minor', direction=\"out\", top=\"on\", right=\"on\", bottom=\"on\", length=5, labelsize=8)\n",
    "ax1.grid(False)\n",
    "fig.tight_layout()\n",
    "fig.savefig(os.path.join(figure_dir,'single_peak.png'), format=\"png\",dpi=1000)"
   ],
   "metadata": {
    "collapsed": false,
    "pycharm": {
     "name": "#%%\n"
    }
   }
  },
  {
   "cell_type": "code",
   "execution_count": 60,
   "outputs": [
    {
     "data": {
      "text/plain": "<Figure size 400x300 with 1 Axes>",
      "image/png": "[encoded data removed]"
     },
     "metadata": {},
     "output_type": "display_data"
    }
   ],
   "source": [
    "fig = plt.figure(figsize=(4,3))\n",
    "# gs = gridspec.GridSpec(1,1)\n",
    "ax1 = fig.add_subplot(gs[0])\n",
    "\n",
    "ax1.plot(x_array, y_array_2gauss, \"ro\")\n",
    "\n",
    "# ax1.plot(x_array, _2gaussian(x_array, *popt_2gauss), 'k--')#,\\\n",
    "         #label=\"y= %0.2f$e^{%0.2fx}$ + %0.2f\" % (popt_exponential[0], popt_exponential[1], popt_exponential[2]))\n",
    "\n",
    "# peak 1\n",
    "ax1.plot(x_array, gauss_peak_1, \"g\")\n",
    "ax1.fill_between(x_array, gauss_peak_1.min(), gauss_peak_1, facecolor=\"green\", alpha=0.5)\n",
    "\n",
    "# peak 2\n",
    "ax1.plot(x_array, gauss_peak_2, \"y\")\n",
    "ax1.fill_between(x_array, gauss_peak_2.min(), gauss_peak_2, facecolor=\"yellow\", alpha=0.5)\n",
    "\n",
    "# ax1.set_xlim(-5,105)\n",
    "# ax1.set_ylim(-0.5,8)\n",
    "ax1.set(xlabel=None, ylabel=None)\n",
    "ax1.set(xticklabels=[], yticklabels=[])\n",
    "# ax1.set_xlabel(\"\",family=\"serif\",  fontsize=12)\n",
    "# ax1.set_ylabel(\"y_array\",family=\"serif\",  fontsize=12)\n",
    "ax1.spines['right'].set_visible(False)\n",
    "ax1.spines['top'].set_visible(False)\n",
    "ax1.spines['bottom'].set_visible(False)\n",
    "ax1.spines['left'].set_visible(False)\n",
    "# ax1.spines['left'].set(color = 'grey', linewidth = 2)\n",
    "# ax1.legend(loc=\"best\")\n",
    "\n",
    "# ax1.xaxis.set_major_locator(ticker.MultipleLocator(20))\n",
    "#ax1.yaxis.set_major_locator(ticker.MultipleLocator(50))\n",
    "\n",
    "# ax1.xaxis.set_minor_locator(AutoMinorLocator(2))\n",
    "# ax1.yaxis.set_minor_locator(AutoMinorLocator(2))\n",
    "\n",
    "# ax1.tick_params(axis='both',which='major', direction=\"out\", top=\"on\", right=\"on\", bottom=\"on\", length=8, labelsize=8)\n",
    "# ax1.tick_params(axis='both',which='minor', direction=\"out\", top=\"on\", right=\"on\", bottom=\"on\", length=5, labelsize=8)\n",
    "\n",
    "fig.tight_layout()\n",
    "ax1.grid(False)\n",
    "fig.savefig(os.path.join(figure_dir,'feature_finding.png'), format=\"png\",dpi=1000)"
   ],
   "metadata": {
    "collapsed": false,
    "pycharm": {
     "name": "#%%\n"
    }
   }
  },
  {
   "cell_type": "markdown",
   "source": [
    "# linear regression plot"
   ],
   "metadata": {
    "collapsed": false,
    "pycharm": {
     "name": "#%% md\n"
    }
   }
  },
  {
   "cell_type": "code",
   "execution_count": 59,
   "outputs": [
    {
     "name": "stdout",
     "output_type": "stream",
     "text": [
      "Coefficients: \n",
      " [938.23786125]\n",
      "Mean squared error: 2548.07\n",
      "Coefficient of determination: 0.47\n"
     ]
    },
    {
     "name": "stderr",
     "output_type": "stream",
     "text": [
      "/var/folders/sq/fc0hszxn0q1_1cc187d_zjm80000gn/T/ipykernel_29526/3596581769.py:55: MatplotlibDeprecationWarning: savefig() got unexpected keyword argument \"edge_color\" which is no longer supported as of 3.3 and will become an error in 3.6\n",
      "  plt.savefig(os.path.join(figure_dir,'recalibration.tiff'),dpi = 300,transparent=True, edge_color = 'none')\n"
     ]
    },
    {
     "data": {
      "text/plain": "<Figure size 700x500 with 1 Axes>",
      "image/png": "[encoded data removed]"
     },
     "metadata": {},
     "output_type": "display_data"
    }
   ],
   "source": [
    "import matplotlib.pyplot as plt\n",
    "import numpy as np\n",
    "from sklearn import datasets, linear_model\n",
    "from sklearn.metrics import mean_squared_error, r2_score\n",
    "\n",
    "# Load the diabetes dataset\n",
    "diabetes_X, diabetes_y = datasets.load_diabetes(return_X_y=True)\n",
    "\n",
    "# Use only one feature\n",
    "diabetes_X = diabetes_X[:, np.newaxis, 2]\n",
    "\n",
    "# Split the data into training/testing sets\n",
    "diabetes_X_train = diabetes_X[:-20]\n",
    "diabetes_X_test = diabetes_X[-20:]\n",
    "\n",
    "# Split the targets into training/testing sets\n",
    "diabetes_y_train = diabetes_y[:-20]\n",
    "diabetes_y_test = diabetes_y[-20:]\n",
    "\n",
    "# Create linear regression object\n",
    "regr = linear_model.LinearRegression()\n",
    "\n",
    "# Train the model using the training sets\n",
    "regr.fit(diabetes_X_train, diabetes_y_train)\n",
    "\n",
    "# Make predictions using the testing set\n",
    "diabetes_y_pred = regr.predict(diabetes_X_test)\n",
    "\n",
    "# The coefficients\n",
    "print(\"Coefficients: \\n\", regr.coef_)\n",
    "# The mean squared error\n",
    "print(\"Mean squared error: %.2f\" % mean_squared_error(diabetes_y_test, diabetes_y_pred))\n",
    "# The coefficient of determination: 1 is perfect prediction\n",
    "print(\"Coefficient of determination: %.2f\" % r2_score(diabetes_y_test, diabetes_y_pred))\n",
    "\n",
    "# Plot outputs\n",
    "fig = plt.figure(figsize = (7, 5),facecolor=\"white\")\n",
    "ax = fig.subplots()\n",
    "plt.scatter(diabetes_X_test, diabetes_y_test, color=\"black\", s = 10)\n",
    "plt.plot(diabetes_X_test, diabetes_y_pred, color=\"red\", linewidth=3)\n",
    "# ax.set_ylim(0, 100)\n",
    "ax.set(xticklabels=[])\n",
    "ax.set(yticklabels=[])\n",
    "ax.spines['top'].set_visible(False)\n",
    "\n",
    "ax.spines['right'].set_visible(False)\n",
    "ax.spines['bottom'].set_visible(True)\n",
    "ax.spines['bottom'].set(color = 'grey', linewidth =2)\n",
    "ax.spines['left'].set_visible(True)\n",
    "ax.spines['left'].set(color = 'grey', linewidth = 2)\n",
    "plt.xticks(())\n",
    "plt.yticks(())\n",
    "\n",
    "# plt.show()\n",
    "plt.savefig(os.path.join(figure_dir,'recalibration.tiff'),dpi = 300,transparent=True, edge_color = 'none')"
   ],
   "metadata": {
    "collapsed": false,
    "pycharm": {
     "name": "#%%\n"
    }
   }
  },
  {
   "cell_type": "markdown",
   "source": [
    "# deduplication for GT data"
   ],
   "metadata": {
    "collapsed": false,
    "pycharm": {
     "name": "#%% md\n"
    }
   }
  },
  {
   "cell_type": "code",
   "execution_count": 13,
   "outputs": [],
   "source": [
    "import numpy as np\n",
    "import pandas as pd\n",
    "from toolsets.search import string_search, num_search\n",
    "def deduplication_adduct(matched_dup):\n",
    "    output = pd.DataFrame()\n",
    "    for mix in matched_dup['File name'].unique():\n",
    "        data_temp =string_search(matched_dup,'File name', mix)\n",
    "        for index, row in data_temp.iterrows():\n",
    "            name_filtered =find_neighbor_adducts(data_temp, row['Product name'], row['retention_time'])\n",
    "            output = pd.concat([output, name_filtered], axis = 0)\n",
    "    output.drop_duplicates('spectra_id', keep='first', inplace=True)\n",
    "    return (output)\n",
    "def find_neighbor_adducts(data_temp, compound_name, rt):\n",
    "    rt_filtered = num_search(data_temp, 'retention_time',number = rt,  direction='between', step=10/60, inclusion=True)\n",
    "    name_filtered = string_search(rt_filtered, 'Product name', compound_name)\n",
    "    name_filtered.reset_index(inplace=True, drop=True)\n",
    "    name_filtered_copy = name_filtered.copy()\n",
    "    if len(name_filtered)>1:\n",
    "        name_filtered_copy.sort_values(by=['confidence_level_num'], ascending=True, inplace=True, ignore_index=True)\n",
    "        name_filtered_copy.drop_duplicates('Product name', keep='first', inplace=True)\n",
    "        return(name_filtered_copy)\n",
    "    else:\n",
    "        return(name_filtered_copy)\n"
   ],
   "metadata": {
    "collapsed": false,
    "pycharm": {
     "name": "#%%\n"
    }
   }
  },
  {
   "cell_type": "code",
   "execution_count": 10,
   "outputs": [],
   "source": [
    "matched_dup = pd.read_csv('/Users/fanzhoukong/Documents/GitHub/Libgen_data/GT/msms_matched_deduplicated.csv')\n",
    "unmatched_dup = pd.read_csv('/Users/fanzhoukong/Documents/GitHub/Libgen_data/GT/msms_unmatched_deduplicated.csv')"
   ],
   "metadata": {
    "collapsed": false,
    "pycharm": {
     "name": "#%%\n"
    }
   }
  },
  {
   "cell_type": "code",
   "execution_count": 11,
   "outputs": [],
   "source": [
    "matched_dup.reset_index(inplace=True, drop=True)\n",
    "unmatched_dup.reset_index(inplace=True, drop=True)"
   ],
   "metadata": {
    "collapsed": false,
    "pycharm": {
     "name": "#%%\n"
    }
   }
  },
  {
   "cell_type": "code",
   "execution_count": 14,
   "outputs": [],
   "source": [
    "unmatched_dup['spectra_id']= np.arange(len(unmatched_dup))\n",
    "matched_dup['spectra_id']= np.arange(len(matched_dup))\n",
    "matched_dup['confidence_level_num']=matched_dup['Confidence Level '].str[-1]\n",
    "unmatched_dup['confidence_level_num']=unmatched_dup['Confidence Level '].str[-1]"
   ],
   "metadata": {
    "collapsed": false,
    "pycharm": {
     "name": "#%%\n"
    }
   }
  },
  {
   "cell_type": "code",
   "execution_count": 15,
   "outputs": [],
   "source": [
    "matched_deduplicated = deduplication_adduct(matched_dup)\n",
    "unmatched_deduplicated = deduplication_adduct(unmatched_dup)"
   ],
   "metadata": {
    "collapsed": false,
    "pycharm": {
     "name": "#%%\n"
    }
   }
  },
  {
   "cell_type": "code",
   "execution_count": 16,
   "outputs": [
    {
     "data": {
      "text/plain": "  Output type  precursor_mz  ms1_precursor_intensity  retention_time  \\\n0   162 shift      633.4020               12200000.0            9.84   \n0   324 shift      795.4551                4390000.0            8.09   \n0   162 shift      355.1040                2020000.0            4.08   \n0   162 shift      435.1304                5440000.0            5.72   \n0   162 shift      317.1978                 763000.0           10.59   \n\n                              Product name                Aglycone name  \\\n0    18Alpha-Glycyrrhetinic Acid_glycoside  18Alpha-Glycyrrhetinic Acid   \n0  18Alpha-Glycyrrhetinic Acid_diglycoside  18Alpha-Glycyrrhetinic Acid   \n0                     Scopoletin_glycoside                   Scopoletin   \n0                     Naringenin_glycoside                   Naringenin   \n0                   Linalool (+)_glycoside                 Linalool (+)   \n\n  Aglycone RT RT shift (product-substrate)RP or (substrate-product)NP  \\\n0       11.99                                              -2.15        \n0       11.99                                               -3.9        \n0        5.23                                              -1.15        \n0        7.27                                              -1.55        \n0           -                                            #VALUE!        \n\n                                     Aglycone smiles  \\\n0  C[C@]12CC[C@](C[C@@H]1C3=CC(=O)[C@@H]4[C@]5(CC...   \n0  C[C@]12CC[C@](C[C@@H]1C3=CC(=O)[C@@H]4[C@]5(CC...   \n0                      COC1=C(C=C2C(=C1)C=CC(=O)O2)O   \n0      C1[C@H](OC2=CC(=CC(=C2C1=O)O)O)C3=CC=C(C=C3)O   \n0                             CC(=CCC[C@](C)(C=C)O)C   \n\n             Aglycone InChikey  ... Product ion intensity (-90.032 loss)  \\\n0  MPDGHEJMBKOTSU-PMTKVOBESA-N  ...                                  0.0   \n0  MPDGHEJMBKOTSU-PMTKVOBESA-N  ...                                  0.0   \n0  RODXRVNMMDRFIK-UHFFFAOYSA-N  ...                                  0.0   \n0  FTVWIRXFELQLPI-ZDUSSCGKSA-N  ...                                  0.0   \n0  CDOSHBSSFJOMGT-JTQLQIEISA-N  ...                                  0.0   \n\n         inchikey                                             smiles  \\\n0  MPDGHEJMBKOTSU  CC1(C2CCC3(C(C2(CCC1O)C)C(=O)C=C4C3(CCC5(C4CC(...   \n0  MPDGHEJMBKOTSU  CC1(C2CCC3(C(C2(CCC1O)C)C(=O)C=C4C3(CCC5(C4CC(...   \n0  RODXRVNMMDRFIK                      COC1=C(C=C2C(=C1)C=CC(=O)O2)O   \n0  FTVWIRXFELQLPI          C1C(OC2=CC(=CC(=C2C1=O)O)O)C3=CC=C(C=C3)O   \n0  CDOSHBSSFJOMGT                                CC(=CCCC(C)(C=C)O)C   \n\n   bond_difference rt_match_id hits_rt seed_found         key  spectra_id  \\\n0              0.0          99       0         99    99[M+H]+           0   \n0              0.0          98       0         98    98[M+H]+          11   \n0              0.0        9380       0       9380  9380[M+H]+         578   \n0              0.0        7587       0       7587  7587[M+H]+        2570   \n0              0.0        7357       0       7357  7357[M+H]+        2825   \n\n  confidence_level_num  \n0                    1  \n0                    1  \n0                    1  \n0                    1  \n0                    2  \n\n[5 rows x 37 columns]",
      "text/html": "<div>\n<style scoped>\n    .dataframe tbody tr th:only-of-type {\n        vertical-align: middle;\n    }\n\n    .dataframe tbody tr th {\n        vertical-align: top;\n    }\n\n    .dataframe thead th {\n        text-align: right;\n    }\n</style>\n<table border=\"1\" class=\"dataframe\">\n  <thead>\n    <tr style=\"text-align: right;\">\n      <th></th>\n      <th>Output type</th>\n      <th>precursor_mz</th>\n      <th>ms1_precursor_intensity</th>\n      <th>retention_time</th>\n      <th>Product name</th>\n      <th>Aglycone name</th>\n      <th>Aglycone RT</th>\n      <th>RT shift (product-substrate)RP or (substrate-product)NP</th>\n      <th>Aglycone smiles</th>\n      <th>Aglycone InChikey</th>\n      <th>...</th>\n      <th>Product ion intensity (-90.032 loss)</th>\n      <th>inchikey</th>\n      <th>smiles</th>\n      <th>bond_difference</th>\n      <th>rt_match_id</th>\n      <th>hits_rt</th>\n      <th>seed_found</th>\n      <th>key</th>\n      <th>spectra_id</th>\n      <th>confidence_level_num</th>\n    </tr>\n  </thead>\n  <tbody>\n    <tr>\n      <th>0</th>\n      <td>162 shift</td>\n      <td>633.4020</td>\n      <td>12200000.0</td>\n      <td>9.84</td>\n      <td>18Alpha-Glycyrrhetinic Acid_glycoside</td>\n      <td>18Alpha-Glycyrrhetinic Acid</td>\n      <td>11.99</td>\n      <td>-2.15</td>\n      <td>C[C@]12CC[C@](C[C@@H]1C3=CC(=O)[C@@H]4[C@]5(CC...</td>\n      <td>MPDGHEJMBKOTSU-PMTKVOBESA-N</td>\n      <td>...</td>\n      <td>0.0</td>\n      <td>MPDGHEJMBKOTSU</td>\n      <td>CC1(C2CCC3(C(C2(CCC1O)C)C(=O)C=C4C3(CCC5(C4CC(...</td>\n      <td>0.0</td>\n      <td>99</td>\n      <td>0</td>\n      <td>99</td>\n      <td>99[M+H]+</td>\n      <td>0</td>\n      <td>1</td>\n    </tr>\n    <tr>\n      <th>0</th>\n      <td>324 shift</td>\n      <td>795.4551</td>\n      <td>4390000.0</td>\n      <td>8.09</td>\n      <td>18Alpha-Glycyrrhetinic Acid_diglycoside</td>\n      <td>18Alpha-Glycyrrhetinic Acid</td>\n      <td>11.99</td>\n      <td>-3.9</td>\n      <td>C[C@]12CC[C@](C[C@@H]1C3=CC(=O)[C@@H]4[C@]5(CC...</td>\n      <td>MPDGHEJMBKOTSU-PMTKVOBESA-N</td>\n      <td>...</td>\n      <td>0.0</td>\n      <td>MPDGHEJMBKOTSU</td>\n      <td>CC1(C2CCC3(C(C2(CCC1O)C)C(=O)C=C4C3(CCC5(C4CC(...</td>\n      <td>0.0</td>\n      <td>98</td>\n      <td>0</td>\n      <td>98</td>\n      <td>98[M+H]+</td>\n      <td>11</td>\n      <td>1</td>\n    </tr>\n    <tr>\n      <th>0</th>\n      <td>162 shift</td>\n      <td>355.1040</td>\n      <td>2020000.0</td>\n      <td>4.08</td>\n      <td>Scopoletin_glycoside</td>\n      <td>Scopoletin</td>\n      <td>5.23</td>\n      <td>-1.15</td>\n      <td>COC1=C(C=C2C(=C1)C=CC(=O)O2)O</td>\n      <td>RODXRVNMMDRFIK-UHFFFAOYSA-N</td>\n      <td>...</td>\n      <td>0.0</td>\n      <td>RODXRVNMMDRFIK</td>\n      <td>COC1=C(C=C2C(=C1)C=CC(=O)O2)O</td>\n      <td>0.0</td>\n      <td>9380</td>\n      <td>0</td>\n      <td>9380</td>\n      <td>9380[M+H]+</td>\n      <td>578</td>\n      <td>1</td>\n    </tr>\n    <tr>\n      <th>0</th>\n      <td>162 shift</td>\n      <td>435.1304</td>\n      <td>5440000.0</td>\n      <td>5.72</td>\n      <td>Naringenin_glycoside</td>\n      <td>Naringenin</td>\n      <td>7.27</td>\n      <td>-1.55</td>\n      <td>C1[C@H](OC2=CC(=CC(=C2C1=O)O)O)C3=CC=C(C=C3)O</td>\n      <td>FTVWIRXFELQLPI-ZDUSSCGKSA-N</td>\n      <td>...</td>\n      <td>0.0</td>\n      <td>FTVWIRXFELQLPI</td>\n      <td>C1C(OC2=CC(=CC(=C2C1=O)O)O)C3=CC=C(C=C3)O</td>\n      <td>0.0</td>\n      <td>7587</td>\n      <td>0</td>\n      <td>7587</td>\n      <td>7587[M+H]+</td>\n      <td>2570</td>\n      <td>1</td>\n    </tr>\n    <tr>\n      <th>0</th>\n      <td>162 shift</td>\n      <td>317.1978</td>\n      <td>763000.0</td>\n      <td>10.59</td>\n      <td>Linalool (+)_glycoside</td>\n      <td>Linalool (+)</td>\n      <td>-</td>\n      <td>#VALUE!</td>\n      <td>CC(=CCC[C@](C)(C=C)O)C</td>\n      <td>CDOSHBSSFJOMGT-JTQLQIEISA-N</td>\n      <td>...</td>\n      <td>0.0</td>\n      <td>CDOSHBSSFJOMGT</td>\n      <td>CC(=CCCC(C)(C=C)O)C</td>\n      <td>0.0</td>\n      <td>7357</td>\n      <td>0</td>\n      <td>7357</td>\n      <td>7357[M+H]+</td>\n      <td>2825</td>\n      <td>2</td>\n    </tr>\n  </tbody>\n</table>\n<p>5 rows × 37 columns</p>\n</div>"
     },
     "execution_count": 16,
     "metadata": {},
     "output_type": "execute_result"
    }
   ],
   "source": [
    "matched_deduplicated.head()"
   ],
   "metadata": {
    "collapsed": false,
    "pycharm": {
     "name": "#%%\n"
    }
   }
  },
  {
   "cell_type": "code",
   "execution_count": 17,
   "outputs": [],
   "source": [
    "matched_deduplicated.to_csv('/Users/fanzhoukong/Documents/GitHub/Libgen_data/GT/msms_matched_de_deduplicated.csv', index= False)"
   ],
   "metadata": {
    "collapsed": false,
    "pycharm": {
     "name": "#%%\n"
    }
   }
  },
  {
   "cell_type": "code",
   "execution_count": 18,
   "outputs": [],
   "source": [
    "unmatched_deduplicated.to_csv('/Users/fanzhoukong/Documents/GitHub/Libgen_data/GT/msms_unmatched_de_deduplicated.csv', index= False)"
   ],
   "metadata": {
    "collapsed": false,
    "pycharm": {
     "name": "#%%\n"
    }
   }
  }
 ],
 "metadata": {
  "kernelspec": {
   "name": "alphapept_env",
   "language": "python",
   "display_name": "alphapept_env"
  },
  "language_info": {
   "codemirror_mode": {
    "name": "ipython",
    "version": 2
   },
   "file_extension": ".py",
   "mimetype": "text/x-python",
   "name": "python",
   "nbconvert_exporter": "python",
   "pygments_lexer": "ipython2",
   "version": "2.7.6"
  }
 },
 "nbformat": 4,
 "nbformat_minor": 0
}