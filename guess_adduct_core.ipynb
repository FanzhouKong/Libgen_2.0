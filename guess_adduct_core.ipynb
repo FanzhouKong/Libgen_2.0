{
 "cells": [
  {
   "cell_type": "code",
   "execution_count": 8,
   "metadata": {
    "collapsed": true,
    "pycharm": {
     "name": "#%%\n"
    }
   },
   "outputs": [
    {
     "name": "stdout",
     "output_type": "stream",
     "text": [
      "The autoreload extension is already loaded. To reload it, use:\n",
      "  %reload_ext autoreload\n"
     ]
    }
   ],
   "source": [
    "import time\n",
    "import os\n",
    "import seaborn as sns\n",
    "import numpy as np\n",
    "import pandas as pd\n",
    "import sys\n",
    "%load_ext autoreload\n",
    "%autoreload 2\n",
    "from mimas.tools.spectral_file.extract_ms1_feature import process_mzml_file, extract_ms2_spectra, find_features\n",
    "import logging\n",
    "from toolsets.spectra_operations import entropy_similarity_default\n",
    "from toolsets.std_list_prep import complete_adducts, complete_formula\n",
    "# from toolsets.API_gets import complete_smiles\n",
    "from toolsets.search import string_search, num_search\n",
    "import toolsets.spectra_operations as so\n",
    "from tqdm import tqdm\n",
    "from toolsets.features_by_alphapept import find_features_alphapept\n",
    "import matplotlib.pyplot as plt\n",
    "import seaborn as sns\n",
    "from rdkit import Chem\n",
    "from toolsets.file_io import parse_file_name\n",
    "from rdkit.Chem.rdMolDescriptors import CalcMolFormula\n",
    "from rdkit.Chem.Descriptors import ExactMolWt\n",
    "from toolsets.file_io import parse_file_name\n",
    "from toolsets.std_list_prep import all_adduct_neg, all_adduct_pos, calculate_precursormz\n",
    "source_dir = '/Users/fanzhoukong/Documents/GitHub/Libgen_data/core_data'"
   ]
  },
  {
   "cell_type": "code",
   "execution_count": 3,
   "outputs": [],
   "source": [
    "def guess_method(data):\n",
    "    methods=data.iloc[0]['method'].split('|')\n",
    "    if methods[-1].strip() =='negative':\n",
    "        return(-1)\n",
    "    elif methods[-1].strip() =='positive':\n",
    "        return(1)\n",
    "    else:\n",
    "        return(0)\n",
    "def guess_adduct(input):\n",
    "    from toolsets.std_list_prep import all_adduct_neg, all_adduct_pos\n",
    "    adduct_guess = []\n",
    "    calculated_precursor =[]\n",
    "    mz_offset = []\n",
    "\n",
    "    mode = guess_method(input)\n",
    "    if mode ==-1:\n",
    "        all_adduct = all_adduct_neg\n",
    "    elif mode ==1:\n",
    "        all_adduct = all_adduct_pos\n",
    "    else:\n",
    "        all_adduct = []\n",
    "    for index, row in input.iterrows():\n",
    "        premz_list = []\n",
    "        for adduct in all_adduct:\n",
    "            try:\n",
    "                premz_list.append(calculate_precursormz(row['smiles'], adduct))\n",
    "            except:\n",
    "                break\n",
    "        if len(premz_list)>0:\n",
    "            premz_diff = ([abs(x - float(row['precursor_mass'])) for x in premz_list])\n",
    "            index_min = np.argmin(premz_diff)\n",
    "            if premz_diff[index_min]<0.01:\n",
    "                adduct_guess.append(all_adduct[index_min])\n",
    "                calculated_precursor.append(premz_list[index_min])\n",
    "                mz_offset.append(premz_list[index_min]-float(row['precursor_mass']))\n",
    "            else:\n",
    "                adduct_guess.append('no_valid_adduct_found')\n",
    "                calculated_precursor.append(np.NAN)\n",
    "                mz_offset.append(np.NAN)\n",
    "        else:\n",
    "             adduct_guess.append('smile_parsing_error')\n",
    "             mz_offset.append(np.NAN)\n",
    "             calculated_precursor.append(np.NAN)\n",
    "    input['adduct_guess']=adduct_guess\n",
    "    input['calculated_precursor']=calculated_precursor\n",
    "    input['mz_offset']=mz_offset\n",
    "    return(input)"
   ],
   "metadata": {
    "collapsed": false,
    "pycharm": {
     "name": "#%%\n"
    }
   }
  },
  {
   "cell_type": "code",
   "execution_count": 2,
   "outputs": [],
   "source": [
    "# source_dir = '/Users/fanzhoukong/Documents/GitHub/Libgen_data/core_data'\n",
    "# filename = '5m_hilic_orbitrap_beh_amide_negative_12-2022 for core mzrt list.csv'\n",
    "#\n",
    "# files= find_files(source_dir, '.csv')\n",
    "# files"
   ],
   "metadata": {
    "collapsed": false,
    "pycharm": {
     "name": "#%%\n"
    }
   }
  },
  {
   "cell_type": "code",
   "execution_count": 11,
   "outputs": [],
   "source": [
    "file_name =  '5m_splash_one_orbitrap_beh_c18_positive_12-08-2022 for core mz rt list_with int stds.csv'\n",
    "input = pd.read_csv(os.path.join(source_dir, '5m_splash_one_orbitrap_beh_c18_positive_12-08-2022 for core mz rt list_with int stds.csv'))\n",
    "input.dropna(how='all', inplace=True,axis=1)"
   ],
   "metadata": {
    "collapsed": false,
    "pycharm": {
     "name": "#%%\n"
    }
   }
  },
  {
   "cell_type": "code",
   "execution_count": 10,
   "outputs": [
    {
     "data": {
      "text/plain": "                                            splash                       name  \\\n0    splash10-00kr-9116000000-314987c24cb5ab7397c9    1_CAR 10:0-d3 iSTD [M]+   \n1    splash10-000i-9013000000-c5bb3d70211dc8040d65    1_CAR 12:0-d3 iSTD [M]+   \n2    splash10-000i-9001300000-ab75b83b8573f2895d96    1_CAR 18:0-d3 iSTD [M]+   \n3    splash10-0a59-9848004000-8ba348ffcbd381238970  1_CE 18:1-d7 iSTD [M+Na]+   \n4    splash10-004i-0103000900-e702fa7ca9a7f684a43e     1_CE 22:1 iSTD [M+Na]+   \n..                                             ...                        ...   \n981  splash10-0079-1900000000-25d7c9d9b8bdc820e06e              urocanic acid   \n982  splash10-03di-0900000000-2af1e8792fceeb2eab68              valerophenone   \n983  splash10-004i-6890000000-9ceecadc5c1c9b711c9d                 vitamin K1   \n984  splash10-001i-3900000000-d4dd4121bd9e6cb8e4c2   w-hydroxydodecanoic acid   \n985  splash10-066s-2910010000-7d30552f12dfb4e8afe8                 zeaxanthin   \n\n     retention_index  precursor_mass  pre_cursors_intensity adduct  \\\n0                 13         319.268                    NaN    NaN   \n1                 17         347.299                    NaN    NaN   \n2                 66         431.393                    NaN    NaN   \n3                258         680.633                    NaN    NaN   \n4                270         729.652                    NaN    NaN   \n..               ...             ...                    ...    ...   \n981              271         139.050              2000000.0    M+H   \n982              170         163.112             10000000.0    M+H   \n983               79         226.181              2000000.0    NaN   \n984               78         181.159               500000.0    NaN   \n985               85         568.430              2000000.0    NaN   \n\n                                            method  \\\n0    5m splash one | orbitrap | beh c18 | positive   \n1    5m splash one | orbitrap | beh c18 | positive   \n2    5m splash one | orbitrap | beh c18 | positive   \n3    5m splash one | orbitrap | beh c18 | positive   \n4    5m splash one | orbitrap | beh c18 | positive   \n..                                             ...   \n981  5m splash one | orbitrap | beh c18 | positive   \n982  5m splash one | orbitrap | beh c18 | positive   \n983  5m splash one | orbitrap | beh c18 | positive   \n984  5m splash one | orbitrap | beh c18 | positive   \n985  5m splash one | orbitrap | beh c18 | positive   \n\n                       inchi_key  PubChem CID  \\\n0                            NaN          NaN   \n1                            NaN          NaN   \n2                            NaN          NaN   \n3                            NaN          NaN   \n4                            NaN          NaN   \n..                           ...          ...   \n981  LOIYMIARKYCTBW-OWOJBTEDSA-N     736715.0   \n982  XKGLSKVNOSHTAD-UHFFFAOYSA-N      66093.0   \n983  MBWXNTAXLNYFJB-UHFFFAOYSA-N       4812.0   \n984  ZDHCZVWCTKTBRY-UHFFFAOYSA-N      79034.0   \n985  JKQXZKUSFCKOGQ-UHFFFAOYSA-N     534748.0   \n\n                                                smiles  \n0                                                  NaN  \n1                                                  NaN  \n2                                                  NaN  \n3                                                  NaN  \n4                                                  NaN  \n..                                                 ...  \n981                             C1=C(NC=N1)/C=C/C(=O)O  \n982                               CCCCC(=O)C1=CC=CC=C1  \n983  CC(=CCC1=C(C)C(=O)c2ccccc2C1=O)CCCC(C)CCCC(C)C...  \n984                               C(CCCCCC(=O)O)CCCCCO  \n985  CC(C=CC=C(C)C=CC1=C(C)CC(O)CC1(C)C)=CC=CC=C(C)...  \n\n[986 rows x 10 columns]",
      "text/html": "<div>\n<style scoped>\n    .dataframe tbody tr th:only-of-type {\n        vertical-align: middle;\n    }\n\n    .dataframe tbody tr th {\n        vertical-align: top;\n    }\n\n    .dataframe thead th {\n        text-align: right;\n    }\n</style>\n<table border=\"1\" class=\"dataframe\">\n  <thead>\n    <tr style=\"text-align: right;\">\n      <th></th>\n      <th>splash</th>\n      <th>name</th>\n      <th>retention_index</th>\n      <th>precursor_mass</th>\n      <th>pre_cursors_intensity</th>\n      <th>adduct</th>\n      <th>method</th>\n      <th>inchi_key</th>\n      <th>PubChem CID</th>\n      <th>smiles</th>\n    </tr>\n  </thead>\n  <tbody>\n    <tr>\n      <th>0</th>\n      <td>splash10-00kr-9116000000-314987c24cb5ab7397c9</td>\n      <td>1_CAR 10:0-d3 iSTD [M]+</td>\n      <td>13</td>\n      <td>319.268</td>\n      <td>NaN</td>\n      <td>NaN</td>\n      <td>5m splash one | orbitrap | beh c18 | positive</td>\n      <td>NaN</td>\n      <td>NaN</td>\n      <td>NaN</td>\n    </tr>\n    <tr>\n      <th>1</th>\n      <td>splash10-000i-9013000000-c5bb3d70211dc8040d65</td>\n      <td>1_CAR 12:0-d3 iSTD [M]+</td>\n      <td>17</td>\n      <td>347.299</td>\n      <td>NaN</td>\n      <td>NaN</td>\n      <td>5m splash one | orbitrap | beh c18 | positive</td>\n      <td>NaN</td>\n      <td>NaN</td>\n      <td>NaN</td>\n    </tr>\n    <tr>\n      <th>2</th>\n      <td>splash10-000i-9001300000-ab75b83b8573f2895d96</td>\n      <td>1_CAR 18:0-d3 iSTD [M]+</td>\n      <td>66</td>\n      <td>431.393</td>\n      <td>NaN</td>\n      <td>NaN</td>\n      <td>5m splash one | orbitrap | beh c18 | positive</td>\n      <td>NaN</td>\n      <td>NaN</td>\n      <td>NaN</td>\n    </tr>\n    <tr>\n      <th>3</th>\n      <td>splash10-0a59-9848004000-8ba348ffcbd381238970</td>\n      <td>1_CE 18:1-d7 iSTD [M+Na]+</td>\n      <td>258</td>\n      <td>680.633</td>\n      <td>NaN</td>\n      <td>NaN</td>\n      <td>5m splash one | orbitrap | beh c18 | positive</td>\n      <td>NaN</td>\n      <td>NaN</td>\n      <td>NaN</td>\n    </tr>\n    <tr>\n      <th>4</th>\n      <td>splash10-004i-0103000900-e702fa7ca9a7f684a43e</td>\n      <td>1_CE 22:1 iSTD [M+Na]+</td>\n      <td>270</td>\n      <td>729.652</td>\n      <td>NaN</td>\n      <td>NaN</td>\n      <td>5m splash one | orbitrap | beh c18 | positive</td>\n      <td>NaN</td>\n      <td>NaN</td>\n      <td>NaN</td>\n    </tr>\n    <tr>\n      <th>...</th>\n      <td>...</td>\n      <td>...</td>\n      <td>...</td>\n      <td>...</td>\n      <td>...</td>\n      <td>...</td>\n      <td>...</td>\n      <td>...</td>\n      <td>...</td>\n      <td>...</td>\n    </tr>\n    <tr>\n      <th>981</th>\n      <td>splash10-0079-1900000000-25d7c9d9b8bdc820e06e</td>\n      <td>urocanic acid</td>\n      <td>271</td>\n      <td>139.050</td>\n      <td>2000000.0</td>\n      <td>M+H</td>\n      <td>5m splash one | orbitrap | beh c18 | positive</td>\n      <td>LOIYMIARKYCTBW-OWOJBTEDSA-N</td>\n      <td>736715.0</td>\n      <td>C1=C(NC=N1)/C=C/C(=O)O</td>\n    </tr>\n    <tr>\n      <th>982</th>\n      <td>splash10-03di-0900000000-2af1e8792fceeb2eab68</td>\n      <td>valerophenone</td>\n      <td>170</td>\n      <td>163.112</td>\n      <td>10000000.0</td>\n      <td>M+H</td>\n      <td>5m splash one | orbitrap | beh c18 | positive</td>\n      <td>XKGLSKVNOSHTAD-UHFFFAOYSA-N</td>\n      <td>66093.0</td>\n      <td>CCCCC(=O)C1=CC=CC=C1</td>\n    </tr>\n    <tr>\n      <th>983</th>\n      <td>splash10-004i-6890000000-9ceecadc5c1c9b711c9d</td>\n      <td>vitamin K1</td>\n      <td>79</td>\n      <td>226.181</td>\n      <td>2000000.0</td>\n      <td>NaN</td>\n      <td>5m splash one | orbitrap | beh c18 | positive</td>\n      <td>MBWXNTAXLNYFJB-UHFFFAOYSA-N</td>\n      <td>4812.0</td>\n      <td>CC(=CCC1=C(C)C(=O)c2ccccc2C1=O)CCCC(C)CCCC(C)C...</td>\n    </tr>\n    <tr>\n      <th>984</th>\n      <td>splash10-001i-3900000000-d4dd4121bd9e6cb8e4c2</td>\n      <td>w-hydroxydodecanoic acid</td>\n      <td>78</td>\n      <td>181.159</td>\n      <td>500000.0</td>\n      <td>NaN</td>\n      <td>5m splash one | orbitrap | beh c18 | positive</td>\n      <td>ZDHCZVWCTKTBRY-UHFFFAOYSA-N</td>\n      <td>79034.0</td>\n      <td>C(CCCCCC(=O)O)CCCCCO</td>\n    </tr>\n    <tr>\n      <th>985</th>\n      <td>splash10-066s-2910010000-7d30552f12dfb4e8afe8</td>\n      <td>zeaxanthin</td>\n      <td>85</td>\n      <td>568.430</td>\n      <td>2000000.0</td>\n      <td>NaN</td>\n      <td>5m splash one | orbitrap | beh c18 | positive</td>\n      <td>JKQXZKUSFCKOGQ-UHFFFAOYSA-N</td>\n      <td>534748.0</td>\n      <td>CC(C=CC=C(C)C=CC1=C(C)CC(O)CC1(C)C)=CC=CC=C(C)...</td>\n    </tr>\n  </tbody>\n</table>\n<p>986 rows × 10 columns</p>\n</div>"
     },
     "execution_count": 10,
     "metadata": {},
     "output_type": "execute_result"
    }
   ],
   "source": [
    "input"
   ],
   "metadata": {
    "collapsed": false,
    "pycharm": {
     "name": "#%%\n"
    }
   }
  },
  {
   "cell_type": "code",
   "execution_count": 12,
   "outputs": [],
   "source": [
    "input_return = guess_adduct(input)\n",
    "input_return.to_csv(os.path.join(source_dir,file_name.split('.')[0]+'_completed'+'.csv'))"
   ],
   "metadata": {
    "collapsed": false,
    "pycharm": {
     "name": "#%%\n"
    }
   }
  },
  {
   "cell_type": "code",
   "execution_count": 77,
   "outputs": [
    {
     "name": "stderr",
     "output_type": "stream",
     "text": [
      "[14:13:43] SMILES Parse Error: syntax error while parsing: na\n",
      "[14:13:43] SMILES Parse Error: Failed parsing SMILES 'na' for input: 'na'\n",
      "[14:13:43] WARNING: not removing hydrogen atom without neighbors\n",
      "[14:13:43] WARNING: not removing hydrogen atom without neighbors\n",
      "[14:13:43] WARNING: not removing hydrogen atom without neighbors\n",
      "[14:13:43] WARNING: not removing hydrogen atom without neighbors\n",
      "[14:13:43] WARNING: not removing hydrogen atom without neighbors\n",
      "[14:13:43] WARNING: not removing hydrogen atom without neighbors\n",
      "[14:13:43] WARNING: not removing hydrogen atom without neighbors\n",
      "[14:13:43] WARNING: not removing hydrogen atom without neighbors\n"
     ]
    }
   ],
   "source": [
    "# from toolsets.file_io import find_files\n",
    "# files= find_files(source_dir, '.csv')\n",
    "# for file in files:\n",
    "#     input = pd.read_csv(os.path.join(source_dir, file))\n",
    "#     input.dropna(how='all', inplace=True,axis=1)\n",
    "#     input_return = guess_adduct(input)\n",
    "#     input_return.to_csv(os.path.join(source_dir,file.split('.')[0]+'_completed'+'.csv'))"
   ],
   "metadata": {
    "collapsed": false,
    "pycharm": {
     "name": "#%%\n"
    }
   }
  },
  {
   "cell_type": "code",
   "execution_count": 4,
   "outputs": [],
   "source": [
    "input = pd.read_csv(os.path.join(source_dir, filename))"
   ],
   "metadata": {
    "collapsed": false,
    "pycharm": {
     "name": "#%%\n"
    }
   }
  },
  {
   "cell_type": "code",
   "execution_count": 59,
   "outputs": [],
   "source": [],
   "metadata": {
    "collapsed": false,
    "pycharm": {
     "name": "#%%\n"
    }
   }
  }
 ],
 "metadata": {
  "kernelspec": {
   "name": "alphapept_env",
   "language": "python",
   "display_name": "alphapept_env"
  },
  "language_info": {
   "codemirror_mode": {
    "name": "ipython",
    "version": 2
   },
   "file_extension": ".py",
   "mimetype": "text/x-python",
   "name": "python",
   "nbconvert_exporter": "python",
   "pygments_lexer": "ipython2",
   "version": "2.7.6"
  }
 },
 "nbformat": 4,
 "nbformat_minor": 0
}